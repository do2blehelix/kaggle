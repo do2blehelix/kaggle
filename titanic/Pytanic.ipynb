{
 "cells": [
  {
   "cell_type": "markdown",
   "metadata": {
    "colab_type": "text",
    "id": "_o2pZjNJdm6r"
   },
   "source": [
    "# Pytanic - Exploring the Titanic through Python\n",
    "\n",
    "Hello and Welcome to my Guide to predict the survivability of the famous Kaggle competition.\n",
    "\n",
    "The Basic Stages of the notebook are as follows:\n",
    "1. Objective\n",
    "2. Data Understanding\n",
    "3. Data Preparation\n",
    "4. Model Building\n",
    "  * 4a. Instantiate\n",
    "  * 4b. Fit\n",
    "  * 4c. Predict\n",
    "  * 4d. Score\n",
    "5. Results/Model Evaluation"
   ]
  },
  {
   "cell_type": "markdown",
   "metadata": {},
   "source": [
    "> ## Objective\n",
    "To Predict the Survivability of travellers on the RMS Titanic. The dataset is broken into training and test datasets. We need to use the `train` dataset and apply ML techniques to predict the Survived variable `(0=Did not Survive ; 1=Survived)` on the `test` data.\n",
    "Things to Check:\n",
    "* Q> Are Females more prone to Surviving?\n",
    "* Q> Are kids more prone to surviving?\n",
    "* Q> Is there any relationship beteen the class of the passenger and surviving?"
   ]
  },
  {
   "cell_type": "markdown",
   "metadata": {
    "colab_type": "text",
    "id": "50q-LGVFdm6s"
   },
   "source": [
    "## 2. Data Understanding"
   ]
  },
  {
   "cell_type": "markdown",
   "metadata": {},
   "source": [
    "### Load the Data"
   ]
  },
  {
   "cell_type": "code",
   "execution_count": 387,
   "metadata": {
    "colab": {},
    "colab_type": "code",
    "id": "0adIL0JYdm6s"
   },
   "outputs": [],
   "source": [
    "# Import all the necessary packages. Packages loaded later in code as well as and when required\n",
    "\n",
    "import pandas as pd\n",
    "import numpy as np\n",
    "import matplotlib.pyplot as plt\n",
    "import seaborn as sns\n",
    "sns.set_style('whitegrid')\n",
    "\n",
    "%matplotlib inline"
   ]
  },
  {
   "cell_type": "code",
   "execution_count": 388,
   "metadata": {
    "colab": {
     "base_uri": "https://localhost:8080/",
     "height": 195
    },
    "colab_type": "code",
    "executionInfo": {
     "elapsed": 1068,
     "status": "ok",
     "timestamp": 1568902749428,
     "user": {
      "displayName": "Ayan Banerjee",
      "photoUrl": "https://lh3.googleusercontent.com/a-/AAuE7mCnFLXMhFHDZllhPnKiYWaLaQhFxrMp-Q_Gzh2Ud38=s64",
      "userId": "01243998261015692645"
     },
     "user_tz": -330
    },
    "id": "6oxwr7rfdm6v",
    "outputId": "8f1ef546-9ab3-4905-b3bc-fe93037dfd5b"
   },
   "outputs": [
    {
     "data": {
      "text/html": [
       "<div>\n",
       "<style scoped>\n",
       "    .dataframe tbody tr th:only-of-type {\n",
       "        vertical-align: middle;\n",
       "    }\n",
       "\n",
       "    .dataframe tbody tr th {\n",
       "        vertical-align: top;\n",
       "    }\n",
       "\n",
       "    .dataframe thead th {\n",
       "        text-align: right;\n",
       "    }\n",
       "</style>\n",
       "<table border=\"1\" class=\"dataframe\">\n",
       "  <thead>\n",
       "    <tr style=\"text-align: right;\">\n",
       "      <th></th>\n",
       "      <th>PassengerId</th>\n",
       "      <th>Survived</th>\n",
       "      <th>Pclass</th>\n",
       "      <th>Name</th>\n",
       "      <th>Sex</th>\n",
       "      <th>Age</th>\n",
       "      <th>SibSp</th>\n",
       "      <th>Parch</th>\n",
       "      <th>Ticket</th>\n",
       "      <th>Fare</th>\n",
       "      <th>Cabin</th>\n",
       "      <th>Embarked</th>\n",
       "    </tr>\n",
       "  </thead>\n",
       "  <tbody>\n",
       "    <tr>\n",
       "      <th>0</th>\n",
       "      <td>1</td>\n",
       "      <td>0</td>\n",
       "      <td>3</td>\n",
       "      <td>Braund, Mr. Owen Harris</td>\n",
       "      <td>male</td>\n",
       "      <td>22.0</td>\n",
       "      <td>1</td>\n",
       "      <td>0</td>\n",
       "      <td>A/5 21171</td>\n",
       "      <td>7.2500</td>\n",
       "      <td>NaN</td>\n",
       "      <td>S</td>\n",
       "    </tr>\n",
       "    <tr>\n",
       "      <th>1</th>\n",
       "      <td>2</td>\n",
       "      <td>1</td>\n",
       "      <td>1</td>\n",
       "      <td>Cumings, Mrs. John Bradley (Florence Briggs Th...</td>\n",
       "      <td>female</td>\n",
       "      <td>38.0</td>\n",
       "      <td>1</td>\n",
       "      <td>0</td>\n",
       "      <td>PC 17599</td>\n",
       "      <td>71.2833</td>\n",
       "      <td>C85</td>\n",
       "      <td>C</td>\n",
       "    </tr>\n",
       "    <tr>\n",
       "      <th>2</th>\n",
       "      <td>3</td>\n",
       "      <td>1</td>\n",
       "      <td>3</td>\n",
       "      <td>Heikkinen, Miss. Laina</td>\n",
       "      <td>female</td>\n",
       "      <td>26.0</td>\n",
       "      <td>0</td>\n",
       "      <td>0</td>\n",
       "      <td>STON/O2. 3101282</td>\n",
       "      <td>7.9250</td>\n",
       "      <td>NaN</td>\n",
       "      <td>S</td>\n",
       "    </tr>\n",
       "    <tr>\n",
       "      <th>3</th>\n",
       "      <td>4</td>\n",
       "      <td>1</td>\n",
       "      <td>1</td>\n",
       "      <td>Futrelle, Mrs. Jacques Heath (Lily May Peel)</td>\n",
       "      <td>female</td>\n",
       "      <td>35.0</td>\n",
       "      <td>1</td>\n",
       "      <td>0</td>\n",
       "      <td>113803</td>\n",
       "      <td>53.1000</td>\n",
       "      <td>C123</td>\n",
       "      <td>S</td>\n",
       "    </tr>\n",
       "    <tr>\n",
       "      <th>4</th>\n",
       "      <td>5</td>\n",
       "      <td>0</td>\n",
       "      <td>3</td>\n",
       "      <td>Allen, Mr. William Henry</td>\n",
       "      <td>male</td>\n",
       "      <td>35.0</td>\n",
       "      <td>0</td>\n",
       "      <td>0</td>\n",
       "      <td>373450</td>\n",
       "      <td>8.0500</td>\n",
       "      <td>NaN</td>\n",
       "      <td>S</td>\n",
       "    </tr>\n",
       "  </tbody>\n",
       "</table>\n",
       "</div>"
      ],
      "text/plain": [
       "   PassengerId  Survived  Pclass  \\\n",
       "0            1         0       3   \n",
       "1            2         1       1   \n",
       "2            3         1       3   \n",
       "3            4         1       1   \n",
       "4            5         0       3   \n",
       "\n",
       "                                                Name     Sex   Age  SibSp  \\\n",
       "0                            Braund, Mr. Owen Harris    male  22.0      1   \n",
       "1  Cumings, Mrs. John Bradley (Florence Briggs Th...  female  38.0      1   \n",
       "2                             Heikkinen, Miss. Laina  female  26.0      0   \n",
       "3       Futrelle, Mrs. Jacques Heath (Lily May Peel)  female  35.0      1   \n",
       "4                           Allen, Mr. William Henry    male  35.0      0   \n",
       "\n",
       "   Parch            Ticket     Fare Cabin Embarked  \n",
       "0      0         A/5 21171   7.2500   NaN        S  \n",
       "1      0          PC 17599  71.2833   C85        C  \n",
       "2      0  STON/O2. 3101282   7.9250   NaN        S  \n",
       "3      0            113803  53.1000  C123        S  \n",
       "4      0            373450   8.0500   NaN        S  "
      ]
     },
     "execution_count": 388,
     "metadata": {},
     "output_type": "execute_result"
    }
   ],
   "source": [
    "# Import the DataSets\n",
    "\n",
    "df_train=pd.read_csv(\"train.csv\")\n",
    "df_test=pd.read_csv(\"test.csv\")\n",
    "df_train.head()"
   ]
  },
  {
   "cell_type": "markdown",
   "metadata": {},
   "source": [
    "### Explore the Data"
   ]
  },
  {
   "cell_type": "code",
   "execution_count": 389,
   "metadata": {},
   "outputs": [
    {
     "data": {
      "text/html": [
       "<div>\n",
       "<style scoped>\n",
       "    .dataframe tbody tr th:only-of-type {\n",
       "        vertical-align: middle;\n",
       "    }\n",
       "\n",
       "    .dataframe tbody tr th {\n",
       "        vertical-align: top;\n",
       "    }\n",
       "\n",
       "    .dataframe thead th {\n",
       "        text-align: right;\n",
       "    }\n",
       "</style>\n",
       "<table border=\"1\" class=\"dataframe\">\n",
       "  <thead>\n",
       "    <tr style=\"text-align: right;\">\n",
       "      <th></th>\n",
       "      <th>PassengerId</th>\n",
       "      <th>Survived</th>\n",
       "      <th>Pclass</th>\n",
       "      <th>Age</th>\n",
       "      <th>SibSp</th>\n",
       "      <th>Parch</th>\n",
       "      <th>Fare</th>\n",
       "    </tr>\n",
       "  </thead>\n",
       "  <tbody>\n",
       "    <tr>\n",
       "      <th>count</th>\n",
       "      <td>891.000000</td>\n",
       "      <td>891.000000</td>\n",
       "      <td>891.000000</td>\n",
       "      <td>714.000000</td>\n",
       "      <td>891.000000</td>\n",
       "      <td>891.000000</td>\n",
       "      <td>891.000000</td>\n",
       "    </tr>\n",
       "    <tr>\n",
       "      <th>mean</th>\n",
       "      <td>446.000000</td>\n",
       "      <td>0.383838</td>\n",
       "      <td>2.308642</td>\n",
       "      <td>29.699118</td>\n",
       "      <td>0.523008</td>\n",
       "      <td>0.381594</td>\n",
       "      <td>32.204208</td>\n",
       "    </tr>\n",
       "    <tr>\n",
       "      <th>std</th>\n",
       "      <td>257.353842</td>\n",
       "      <td>0.486592</td>\n",
       "      <td>0.836071</td>\n",
       "      <td>14.526497</td>\n",
       "      <td>1.102743</td>\n",
       "      <td>0.806057</td>\n",
       "      <td>49.693429</td>\n",
       "    </tr>\n",
       "    <tr>\n",
       "      <th>min</th>\n",
       "      <td>1.000000</td>\n",
       "      <td>0.000000</td>\n",
       "      <td>1.000000</td>\n",
       "      <td>0.420000</td>\n",
       "      <td>0.000000</td>\n",
       "      <td>0.000000</td>\n",
       "      <td>0.000000</td>\n",
       "    </tr>\n",
       "    <tr>\n",
       "      <th>25%</th>\n",
       "      <td>223.500000</td>\n",
       "      <td>0.000000</td>\n",
       "      <td>2.000000</td>\n",
       "      <td>20.125000</td>\n",
       "      <td>0.000000</td>\n",
       "      <td>0.000000</td>\n",
       "      <td>7.910400</td>\n",
       "    </tr>\n",
       "    <tr>\n",
       "      <th>50%</th>\n",
       "      <td>446.000000</td>\n",
       "      <td>0.000000</td>\n",
       "      <td>3.000000</td>\n",
       "      <td>28.000000</td>\n",
       "      <td>0.000000</td>\n",
       "      <td>0.000000</td>\n",
       "      <td>14.454200</td>\n",
       "    </tr>\n",
       "    <tr>\n",
       "      <th>75%</th>\n",
       "      <td>668.500000</td>\n",
       "      <td>1.000000</td>\n",
       "      <td>3.000000</td>\n",
       "      <td>38.000000</td>\n",
       "      <td>1.000000</td>\n",
       "      <td>0.000000</td>\n",
       "      <td>31.000000</td>\n",
       "    </tr>\n",
       "    <tr>\n",
       "      <th>max</th>\n",
       "      <td>891.000000</td>\n",
       "      <td>1.000000</td>\n",
       "      <td>3.000000</td>\n",
       "      <td>80.000000</td>\n",
       "      <td>8.000000</td>\n",
       "      <td>6.000000</td>\n",
       "      <td>512.329200</td>\n",
       "    </tr>\n",
       "  </tbody>\n",
       "</table>\n",
       "</div>"
      ],
      "text/plain": [
       "       PassengerId    Survived      Pclass         Age       SibSp  \\\n",
       "count   891.000000  891.000000  891.000000  714.000000  891.000000   \n",
       "mean    446.000000    0.383838    2.308642   29.699118    0.523008   \n",
       "std     257.353842    0.486592    0.836071   14.526497    1.102743   \n",
       "min       1.000000    0.000000    1.000000    0.420000    0.000000   \n",
       "25%     223.500000    0.000000    2.000000   20.125000    0.000000   \n",
       "50%     446.000000    0.000000    3.000000   28.000000    0.000000   \n",
       "75%     668.500000    1.000000    3.000000   38.000000    1.000000   \n",
       "max     891.000000    1.000000    3.000000   80.000000    8.000000   \n",
       "\n",
       "            Parch        Fare  \n",
       "count  891.000000  891.000000  \n",
       "mean     0.381594   32.204208  \n",
       "std      0.806057   49.693429  \n",
       "min      0.000000    0.000000  \n",
       "25%      0.000000    7.910400  \n",
       "50%      0.000000   14.454200  \n",
       "75%      0.000000   31.000000  \n",
       "max      6.000000  512.329200  "
      ]
     },
     "execution_count": 389,
     "metadata": {},
     "output_type": "execute_result"
    }
   ],
   "source": [
    "# Checking Distributions\n",
    "\n",
    "df_train.describe()"
   ]
  },
  {
   "cell_type": "code",
   "execution_count": 390,
   "metadata": {
    "colab": {
     "base_uri": "https://localhost:8080/",
     "height": 286
    },
    "colab_type": "code",
    "executionInfo": {
     "elapsed": 1373,
     "status": "ok",
     "timestamp": 1568902749851,
     "user": {
      "displayName": "Ayan Banerjee",
      "photoUrl": "https://lh3.googleusercontent.com/a-/AAuE7mCnFLXMhFHDZllhPnKiYWaLaQhFxrMp-Q_Gzh2Ud38=s64",
      "userId": "01243998261015692645"
     },
     "user_tz": -330
    },
    "id": "J7dANZlBdm6x",
    "outputId": "1a316ece-05d9-4aae-a630-6c12be0c5ebf"
   },
   "outputs": [
    {
     "data": {
      "text/plain": [
       "'Categorical Variables'"
      ]
     },
     "metadata": {},
     "output_type": "display_data"
    },
    {
     "data": {
      "text/plain": [
       "Name        object\n",
       "Sex         object\n",
       "Ticket      object\n",
       "Cabin       object\n",
       "Embarked    object\n",
       "dtype: object"
      ]
     },
     "metadata": {},
     "output_type": "display_data"
    },
    {
     "data": {
      "text/plain": [
       "'Continuous Variables'"
      ]
     },
     "metadata": {},
     "output_type": "display_data"
    },
    {
     "data": {
      "text/plain": [
       "PassengerId      int64\n",
       "Survived         int64\n",
       "Pclass           int64\n",
       "Age            float64\n",
       "SibSp            int64\n",
       "Parch            int64\n",
       "Fare           float64\n",
       "dtype: object"
      ]
     },
     "metadata": {},
     "output_type": "display_data"
    }
   ],
   "source": [
    "# Separating the Vairable Types\n",
    "\n",
    "display(\"Categorical Variables\", df_train.dtypes[(df_train.dtypes == object)])\n",
    "display(\"Continuous Variables\", df_train.dtypes[(df_train.dtypes != object)])"
   ]
  },
  {
   "cell_type": "code",
   "execution_count": 391,
   "metadata": {
    "colab": {
     "base_uri": "https://localhost:8080/",
     "height": 84
    },
    "colab_type": "code",
    "executionInfo": {
     "elapsed": 1226,
     "status": "ok",
     "timestamp": 1568902749854,
     "user": {
      "displayName": "Ayan Banerjee",
      "photoUrl": "https://lh3.googleusercontent.com/a-/AAuE7mCnFLXMhFHDZllhPnKiYWaLaQhFxrMp-Q_Gzh2Ud38=s64",
      "userId": "01243998261015692645"
     },
     "user_tz": -330
    },
    "id": "r3KovosBdm60",
    "outputId": "603ae513-6e39-4184-fa1c-ccf1f17d4b20"
   },
   "outputs": [
    {
     "data": {
      "text/plain": [
       "Age         177\n",
       "Cabin       687\n",
       "Embarked      2\n",
       "dtype: int64"
      ]
     },
     "metadata": {},
     "output_type": "display_data"
    },
    {
     "data": {
      "text/plain": [
       "Age       86\n",
       "Fare       1\n",
       "Cabin    327\n",
       "dtype: int64"
      ]
     },
     "metadata": {},
     "output_type": "display_data"
    },
    {
     "name": "stdout",
     "output_type": "stream",
     "text": [
      "total rows =  1309\n"
     ]
    }
   ],
   "source": [
    "# Show the columns with missing values\n",
    "\n",
    "display(df_train.isnull().sum()[(df_train.isnull().sum() > 0)]);\n",
    "display(df_test.isnull().sum()[(df_test.isnull().sum() > 0)])\n",
    "print(\"total rows = \", df_train.shape[0]+df_test.shape[0])"
   ]
  },
  {
   "cell_type": "code",
   "execution_count": 392,
   "metadata": {
    "colab": {
     "base_uri": "https://localhost:8080/",
     "height": 320
    },
    "colab_type": "code",
    "executionInfo": {
     "elapsed": 1804,
     "status": "ok",
     "timestamp": 1568902750593,
     "user": {
      "displayName": "Ayan Banerjee",
      "photoUrl": "https://lh3.googleusercontent.com/a-/AAuE7mCnFLXMhFHDZllhPnKiYWaLaQhFxrMp-Q_Gzh2Ud38=s64",
      "userId": "01243998261015692645"
     },
     "user_tz": -330
    },
    "id": "GRVoJUpJdm61",
    "outputId": "29d13f46-3a97-4d03-eafa-beca966c2e09"
   },
   "outputs": [
    {
     "data": {
      "image/png": "[encoded data removed]",
      "text/plain": [
       "<Figure size 432x288 with 2 Axes>"
      ]
     },
     "metadata": {
      "needs_background": "light"
     },
     "output_type": "display_data"
    }
   ],
   "source": [
    "# Check visual correlation plot\n",
    "\n",
    "#plt.figure(figsize = (12,8))\n",
    "sns.heatmap(df_train.corr(), annot=True, linewidths=.5);"
   ]
  },
  {
   "cell_type": "markdown",
   "metadata": {
    "colab_type": "text",
    "id": "fhuo6N1Tdm63"
   },
   "source": [
    "> **Notable Features from this correlation plot**\n",
    "* ***Survived***, the DV has strong -ve correlation with ***Pclass***\n",
    "* ***Survived*** is positively correlated to ***Fare***\n",
    "* ***Fare*** and ***Pclass*** are nevatively correlated, which explains the above points\n",
    "* ***Pclass*** also has a negative correlation with ***Age*** which says that older people preferred 1st class\n",
    "* ***Age*** is inversely related to ***Sibling/Spouse*** :: Lower aged has more siblings/spouse\n",
    "* ***Parent/Children*** also has a direct correlation with ***Siblings/Spouse***. Says that they prefer travelling with family."
   ]
  },
  {
   "cell_type": "markdown",
   "metadata": {
    "colab_type": "text",
    "id": "PXgfku7ddm64"
   },
   "source": [
    "### Univariate and Bivariate Explorations"
   ]
  },
  {
   "cell_type": "markdown",
   "metadata": {},
   "source": [
    "#### Exploring Pclass"
   ]
  },
  {
   "cell_type": "code",
   "execution_count": 393,
   "metadata": {
    "colab": {},
    "colab_type": "code",
    "id": "EeyIOUJkdm7H",
    "outputId": "95ea3181-1c7a-491c-a92c-de0fba89209a"
   },
   "outputs": [
    {
     "data": {
      "image/png": "[encoded data removed]",
      "text/plain": [
       "<Figure size 432x216 with 2 Axes>"
      ]
     },
     "metadata": {
      "needs_background": "light"
     },
     "output_type": "display_data"
    }
   ],
   "source": [
    "# Survived vs Pclass\n",
    "g= sns.FacetGrid(df_train,col='Survived')\n",
    "g.map(sns.distplot,'Pclass');"
   ]
  },
  {
   "cell_type": "code",
   "execution_count": 394,
   "metadata": {
    "colab": {
     "base_uri": "https://localhost:8080/",
     "height": 283
    },
    "colab_type": "code",
    "executionInfo": {
     "elapsed": 1751,
     "status": "ok",
     "timestamp": 1568902750994,
     "user": {
      "displayName": "Ayan Banerjee",
      "photoUrl": "https://lh3.googleusercontent.com/a-/AAuE7mCnFLXMhFHDZllhPnKiYWaLaQhFxrMp-Q_Gzh2Ud38=s64",
      "userId": "01243998261015692645"
     },
     "user_tz": -330
    },
    "id": "nHqJa6lvdm64",
    "outputId": "d9b85dad-e6dd-4fe1-8f8a-ccbdd2d16244"
   },
   "outputs": [
    {
     "data": {
      "image/png": "[encoded data removed]",
      "text/plain": [
       "<Figure size 432x288 with 1 Axes>"
      ]
     },
     "metadata": {
      "needs_background": "light"
     },
     "output_type": "display_data"
    }
   ],
   "source": [
    "# Pclass vs Fare\n",
    "sns.scatterplot(x='Pclass',y='Fare',data=df_train,palette='summer');"
   ]
  },
  {
   "cell_type": "code",
   "execution_count": 395,
   "metadata": {
    "colab": {},
    "colab_type": "code",
    "id": "iNFArWakdm7C",
    "outputId": "41215603-0e11-406f-dc2b-8917e023d3fc"
   },
   "outputs": [
    {
     "data": {
      "image/png": "[encoded data removed]",
      "text/plain": [
       "<Figure size 432x288 with 1 Axes>"
      ]
     },
     "metadata": {
      "needs_background": "light"
     },
     "output_type": "display_data"
    }
   ],
   "source": [
    "# Pclass vs age\n",
    "sns.boxplot(x='Pclass',y='Age',data=df_train,palette='winter');"
   ]
  },
  {
   "cell_type": "markdown",
   "metadata": {},
   "source": [
    "#### Exploring Age"
   ]
  },
  {
   "cell_type": "code",
   "execution_count": 396,
   "metadata": {
    "colab": {},
    "colab_type": "code",
    "id": "D5bAtbmHdm7E",
    "outputId": "b1def175-c851-4478-e77b-4fcbc2c7706a"
   },
   "outputs": [
    {
     "data": {
      "image/png": "[encoded data removed]",
      "text/plain": [
       "<Figure size 432x216 with 2 Axes>"
      ]
     },
     "metadata": {
      "needs_background": "light"
     },
     "output_type": "display_data"
    }
   ],
   "source": [
    "# Survived vs Age\n",
    "g= sns.FacetGrid(df_train,col='Survived')\n",
    "g.map(sns.distplot,'Age');"
   ]
  },
  {
   "cell_type": "markdown",
   "metadata": {},
   "source": [
    "#### Exploring Fare"
   ]
  },
  {
   "cell_type": "code",
   "execution_count": 397,
   "metadata": {
    "colab": {},
    "colab_type": "code",
    "id": "3yr-SQjMdm7F",
    "outputId": "b79c82da-7445-4c0e-9449-7b41669b3ece"
   },
   "outputs": [
    {
     "data": {
      "image/png": "[encoded data removed]",
      "text/plain": [
       "<Figure size 432x216 with 2 Axes>"
      ]
     },
     "metadata": {
      "needs_background": "light"
     },
     "output_type": "display_data"
    }
   ],
   "source": [
    "# Survived vs Fare\n",
    "g= sns.FacetGrid(df_train,col='Survived')\n",
    "g.map(sns.distplot,'Fare');"
   ]
  },
  {
   "cell_type": "markdown",
   "metadata": {},
   "source": [
    "#### Exploring SibSp"
   ]
  },
  {
   "cell_type": "code",
   "execution_count": 398,
   "metadata": {
    "colab": {},
    "colab_type": "code",
    "id": "_My2WN88dm7N",
    "outputId": "6d09e204-df17-4128-8d60-4094a307e13d"
   },
   "outputs": [
    {
     "data": {
      "image/png": "[encoded data removed]",
      "text/plain": [
       "<Figure size 432x216 with 2 Axes>"
      ]
     },
     "metadata": {
      "needs_background": "light"
     },
     "output_type": "display_data"
    }
   ],
   "source": [
    "# Survived vs Sibsp\n",
    "g= sns.FacetGrid(df_train,col='Survived')\n",
    "g.map(sns.distplot,'SibSp');"
   ]
  },
  {
   "cell_type": "markdown",
   "metadata": {},
   "source": [
    "### Multivariate Analysis"
   ]
  },
  {
   "cell_type": "code",
   "execution_count": 399,
   "metadata": {
    "colab": {},
    "colab_type": "code",
    "id": "uhFM45dBdm7I",
    "outputId": "e2683d07-28e7-4c47-e73e-5a7a0abcbe4c"
   },
   "outputs": [
    {
     "data": {
      "image/png": "[encoded data removed]",
      "text/plain": [
       "<Figure size 648x540 with 6 Axes>"
      ]
     },
     "metadata": {
      "needs_background": "light"
     },
     "output_type": "display_data"
    }
   ],
   "source": [
    "# Survived vs Pclass vs Age\n",
    "\n",
    "g = sns.FacetGrid(df_train, col='Survived', row='Pclass', height=2.5, aspect=1.8)\n",
    "g.map(plt.hist, 'Age', alpha=.5, bins=20);"
   ]
  },
  {
   "cell_type": "code",
   "execution_count": 400,
   "metadata": {
    "colab": {
     "base_uri": "https://localhost:8080/",
     "height": 508
    },
    "colab_type": "code",
    "executionInfo": {
     "elapsed": 1760,
     "status": "ok",
     "timestamp": 1568902872897,
     "user": {
      "displayName": "Ayan Banerjee",
      "photoUrl": "https://lh3.googleusercontent.com/a-/AAuE7mCnFLXMhFHDZllhPnKiYWaLaQhFxrMp-Q_Gzh2Ud38=s64",
      "userId": "01243998261015692645"
     },
     "user_tz": -330
    },
    "id": "9-OJaL0odm7K",
    "outputId": "a9df0031-5d91-456a-9088-0de3643b28f1"
   },
   "outputs": [
    {
     "name": "stderr",
     "output_type": "stream",
     "text": [
      "C:\\Anaconda3\\lib\\site-packages\\seaborn\\axisgrid.py:715: UserWarning: Using the barplot function without specifying `order` is likely to produce an incorrect plot.\n",
      "  warnings.warn(warning)\n"
     ]
    },
    {
     "data": {
      "image/png": "[encoded data removed]",
      "text/plain": [
       "<Figure size 460.8x432 with 6 Axes>"
      ]
     },
     "metadata": {
      "needs_background": "light"
     },
     "output_type": "display_data"
    }
   ],
   "source": [
    "# Survived vs Fare vs Embarked\n",
    "\n",
    "g = sns.FacetGrid(df_train, row='Embarked', col='Survived', height=2, aspect=1.6)\n",
    "g.map(sns.barplot, 'Sex', 'Fare', alpha=.5, ci=None);"
   ]
  },
  {
   "cell_type": "code",
   "execution_count": 401,
   "metadata": {
    "colab": {},
    "colab_type": "code",
    "id": "KI_bGPoXdm7L",
    "outputId": "12459f85-d3df-4930-9b98-5809e41c51d5"
   },
   "outputs": [
    {
     "data": {
      "image/png": "[encoded data removed]",
      "text/plain": [
       "<Figure size 432x324 with 3 Axes>"
      ]
     },
     "metadata": {
      "needs_background": "light"
     },
     "output_type": "display_data"
    }
   ],
   "source": [
    "# Survived vs Pclass vs Fare\n",
    "g = sns.catplot(x=\"Fare\", y=\"Survived\", row=\"Pclass\", kind=\"box\", orient=\"h\", height=1.5, aspect=4, data=df_train.query(\"Fare > 0\"))\n",
    "g.set(xscale=\"log\");"
   ]
  },
  {
   "cell_type": "markdown",
   "metadata": {},
   "source": [
    "### Survived vs other variables"
   ]
  },
  {
   "cell_type": "code",
   "execution_count": 402,
   "metadata": {},
   "outputs": [
    {
     "data": {
      "image/png": "[encoded data removed]",
      "text/plain": [
       "<Figure size 432x288 with 3 Axes>"
      ]
     },
     "metadata": {},
     "output_type": "display_data"
    }
   ],
   "source": [
    "# Pclass\n",
    "pd.crosstab(df_train['Survived'], df_train['Pclass']).plot(kind='pie', subplots=True, autopct='%.0f',legend=False);"
   ]
  },
  {
   "cell_type": "code",
   "execution_count": 414,
   "metadata": {},
   "outputs": [
    {
     "data": {
      "image/png": "[encoded data removed]",
      "text/plain": [
       "<Figure size 900x360 with 1 Axes>"
      ]
     },
     "metadata": {
      "needs_background": "light"
     },
     "output_type": "display_data"
    }
   ],
   "source": [
    "# Parch\n",
    "sns.factorplot('Parch','Survived', data=df_train, aspect = 2.5);"
   ]
  },
  {
   "cell_type": "code",
   "execution_count": 404,
   "metadata": {},
   "outputs": [
    {
     "data": {
      "image/png": "[encoded data removed]",
      "text/plain": [
       "<Figure size 900x360 with 1 Axes>"
      ]
     },
     "metadata": {
      "needs_background": "light"
     },
     "output_type": "display_data"
    }
   ],
   "source": [
    "# SibSp\n",
    "sns.factorplot('SibSp', 'Survived',data=df_train, aspect = 2.5);"
   ]
  },
  {
   "cell_type": "code",
   "execution_count": 405,
   "metadata": {},
   "outputs": [
    {
     "data": {
      "image/png": "[encoded data removed]",
      "text/plain": [
       "<Figure size 432x288 with 7 Axes>"
      ]
     },
     "metadata": {},
     "output_type": "display_data"
    }
   ],
   "source": [
    "pd.crosstab(df_train['Survived'], df_train['SibSp']).plot(kind='pie', subplots=True, legend=False);"
   ]
  },
  {
   "cell_type": "code",
   "execution_count": 406,
   "metadata": {},
   "outputs": [
    {
     "data": {
      "text/plain": [
       "Survived\n",
       "0    22.117887\n",
       "1    48.395408\n",
       "Name: Fare, dtype: float64"
      ]
     },
     "execution_count": 406,
     "metadata": {},
     "output_type": "execute_result"
    }
   ],
   "source": [
    "# Fare\n",
    "df_train.groupby('Survived').Fare.mean()"
   ]
  },
  {
   "cell_type": "markdown",
   "metadata": {},
   "source": [
    "> Key Findings:\n",
    "* Yes, women are more prone to survival, the graphical plots show the same\n",
    "* Yes, children are more prone to survival\n",
    "* Yes, the pclass is differentiator between survival"
   ]
  },
  {
   "cell_type": "markdown",
   "metadata": {
    "colab_type": "text",
    "id": "AEzpdh5Ydm7P"
   },
   "source": [
    "## 3. Data Preparation"
   ]
  },
  {
   "cell_type": "markdown",
   "metadata": {},
   "source": [
    "### Cleaning Data"
   ]
  },
  {
   "cell_type": "code",
   "execution_count": 407,
   "metadata": {
    "colab": {},
    "colab_type": "code",
    "id": "QpQSFsDZdm7Q",
    "outputId": "280bb294-77d6-4b5b-d9d3-d7b67a4e7826"
   },
   "outputs": [
    {
     "data": {
      "text/plain": [
       "(891, 12)"
      ]
     },
     "execution_count": 407,
     "metadata": {},
     "output_type": "execute_result"
    }
   ],
   "source": [
    "# creating copy dataset of train\n",
    "df_train_clean = df_train.copy()\n",
    "df_train_clean.shape"
   ]
  },
  {
   "cell_type": "markdown",
   "metadata": {},
   "source": [
    "#### Removing Outliers"
   ]
  },
  {
   "cell_type": "code",
   "execution_count": 408,
   "metadata": {
    "colab": {},
    "colab_type": "code",
    "id": "UsiH9sYRdm7S",
    "outputId": "521ab887-86b5-49de-cd69-324bbd193048"
   },
   "outputs": [
    {
     "data": {
      "text/plain": [
       "(884, 12)"
      ]
     },
     "execution_count": 408,
     "metadata": {},
     "output_type": "execute_result"
    }
   ],
   "source": [
    "df_train_clean = df_train_clean[df_train_clean['SibSp'] < 8]\n",
    "df_train_clean.shape"
   ]
  },
  {
   "cell_type": "code",
   "execution_count": 409,
   "metadata": {
    "colab": {},
    "colab_type": "code",
    "id": "UQz7knykdm7V",
    "outputId": "8e1d6fe5-2d2e-44c7-b0c2-de8b31dfe119"
   },
   "outputs": [
    {
     "name": "stderr",
     "output_type": "stream",
     "text": [
      "C:\\Anaconda3\\lib\\site-packages\\ipykernel_launcher.py:1: UserWarning: Boolean Series key will be reindexed to match DataFrame index.\n",
      "  \"\"\"Entry point for launching an IPython kernel.\n"
     ]
    },
    {
     "data": {
      "text/plain": [
       "(881, 12)"
      ]
     },
     "execution_count": 409,
     "metadata": {},
     "output_type": "execute_result"
    }
   ],
   "source": [
    "df_train_clean = df_train_clean[df_train['Fare'] < 500];\n",
    "df_train_clean.shape"
   ]
  },
  {
   "cell_type": "markdown",
   "metadata": {
    "colab_type": "text",
    "id": "6hx8d9B1dm7W"
   },
   "source": [
    "### Merging Test and Train (*to impute values in both*)"
   ]
  },
  {
   "cell_type": "code",
   "execution_count": 410,
   "metadata": {
    "colab": {},
    "colab_type": "code",
    "id": "nOgL1Yzqdm7X",
    "outputId": "c7631776-a19c-49d8-ea38-d3094d0bb345"
   },
   "outputs": [
    {
     "name": "stdout",
     "output_type": "stream",
     "text": [
      "(1299, 11)\n"
     ]
    },
    {
     "data": {
      "text/html": [
       "<div>\n",
       "<style scoped>\n",
       "    .dataframe tbody tr th:only-of-type {\n",
       "        vertical-align: middle;\n",
       "    }\n",
       "\n",
       "    .dataframe tbody tr th {\n",
       "        vertical-align: top;\n",
       "    }\n",
       "\n",
       "    .dataframe thead th {\n",
       "        text-align: right;\n",
       "    }\n",
       "</style>\n",
       "<table border=\"1\" class=\"dataframe\">\n",
       "  <thead>\n",
       "    <tr style=\"text-align: right;\">\n",
       "      <th></th>\n",
       "      <th>Survived</th>\n",
       "      <th>Pclass</th>\n",
       "      <th>Name</th>\n",
       "      <th>Sex</th>\n",
       "      <th>Age</th>\n",
       "      <th>SibSp</th>\n",
       "      <th>Parch</th>\n",
       "      <th>Ticket</th>\n",
       "      <th>Fare</th>\n",
       "      <th>Cabin</th>\n",
       "      <th>Embarked</th>\n",
       "    </tr>\n",
       "    <tr>\n",
       "      <th>PassengerId</th>\n",
       "      <th></th>\n",
       "      <th></th>\n",
       "      <th></th>\n",
       "      <th></th>\n",
       "      <th></th>\n",
       "      <th></th>\n",
       "      <th></th>\n",
       "      <th></th>\n",
       "      <th></th>\n",
       "      <th></th>\n",
       "      <th></th>\n",
       "    </tr>\n",
       "  </thead>\n",
       "  <tbody>\n",
       "    <tr>\n",
       "      <th>1</th>\n",
       "      <td>0.0</td>\n",
       "      <td>3</td>\n",
       "      <td>Braund, Mr. Owen Harris</td>\n",
       "      <td>male</td>\n",
       "      <td>22.0</td>\n",
       "      <td>1</td>\n",
       "      <td>0</td>\n",
       "      <td>A/5 21171</td>\n",
       "      <td>7.2500</td>\n",
       "      <td>NaN</td>\n",
       "      <td>S</td>\n",
       "    </tr>\n",
       "    <tr>\n",
       "      <th>2</th>\n",
       "      <td>1.0</td>\n",
       "      <td>1</td>\n",
       "      <td>Cumings, Mrs. John Bradley (Florence Briggs Th...</td>\n",
       "      <td>female</td>\n",
       "      <td>38.0</td>\n",
       "      <td>1</td>\n",
       "      <td>0</td>\n",
       "      <td>PC 17599</td>\n",
       "      <td>71.2833</td>\n",
       "      <td>C85</td>\n",
       "      <td>C</td>\n",
       "    </tr>\n",
       "    <tr>\n",
       "      <th>3</th>\n",
       "      <td>1.0</td>\n",
       "      <td>3</td>\n",
       "      <td>Heikkinen, Miss. Laina</td>\n",
       "      <td>female</td>\n",
       "      <td>26.0</td>\n",
       "      <td>0</td>\n",
       "      <td>0</td>\n",
       "      <td>STON/O2. 3101282</td>\n",
       "      <td>7.9250</td>\n",
       "      <td>NaN</td>\n",
       "      <td>S</td>\n",
       "    </tr>\n",
       "    <tr>\n",
       "      <th>4</th>\n",
       "      <td>1.0</td>\n",
       "      <td>1</td>\n",
       "      <td>Futrelle, Mrs. Jacques Heath (Lily May Peel)</td>\n",
       "      <td>female</td>\n",
       "      <td>35.0</td>\n",
       "      <td>1</td>\n",
       "      <td>0</td>\n",
       "      <td>113803</td>\n",
       "      <td>53.1000</td>\n",
       "      <td>C123</td>\n",
       "      <td>S</td>\n",
       "    </tr>\n",
       "    <tr>\n",
       "      <th>5</th>\n",
       "      <td>0.0</td>\n",
       "      <td>3</td>\n",
       "      <td>Allen, Mr. William Henry</td>\n",
       "      <td>male</td>\n",
       "      <td>35.0</td>\n",
       "      <td>0</td>\n",
       "      <td>0</td>\n",
       "      <td>373450</td>\n",
       "      <td>8.0500</td>\n",
       "      <td>NaN</td>\n",
       "      <td>S</td>\n",
       "    </tr>\n",
       "  </tbody>\n",
       "</table>\n",
       "</div>"
      ],
      "text/plain": [
       "             Survived  Pclass  \\\n",
       "PassengerId                     \n",
       "1                 0.0       3   \n",
       "2                 1.0       1   \n",
       "3                 1.0       3   \n",
       "4                 1.0       1   \n",
       "5                 0.0       3   \n",
       "\n",
       "                                                          Name     Sex   Age  \\\n",
       "PassengerId                                                                    \n",
       "1                                      Braund, Mr. Owen Harris    male  22.0   \n",
       "2            Cumings, Mrs. John Bradley (Florence Briggs Th...  female  38.0   \n",
       "3                                       Heikkinen, Miss. Laina  female  26.0   \n",
       "4                 Futrelle, Mrs. Jacques Heath (Lily May Peel)  female  35.0   \n",
       "5                                     Allen, Mr. William Henry    male  35.0   \n",
       "\n",
       "             SibSp  Parch            Ticket     Fare Cabin Embarked  \n",
       "PassengerId                                                          \n",
       "1                1      0         A/5 21171   7.2500   NaN        S  \n",
       "2                1      0          PC 17599  71.2833   C85        C  \n",
       "3                0      0  STON/O2. 3101282   7.9250   NaN        S  \n",
       "4                1      0            113803  53.1000  C123        S  \n",
       "5                0      0            373450   8.0500   NaN        S  "
      ]
     },
     "execution_count": 410,
     "metadata": {},
     "output_type": "execute_result"
    }
   ],
   "source": [
    "df = pd.concat([df_train_clean, df_test], ignore_index=True, sort=False)\n",
    "df.set_index('PassengerId', inplace=True)\n",
    "\n",
    "print(df.shape)\n",
    "df.head()"
   ]
  },
  {
   "cell_type": "code",
   "execution_count": 380,
   "metadata": {
    "colab": {},
    "colab_type": "code",
    "id": "_c_zZVd4dm7Y",
    "outputId": "4f0e01be-a25b-45d0-cb1d-1b93630ece16"
   },
   "outputs": [
    {
     "data": {
      "text/plain": [
       "Survived     418\n",
       "Age          256\n",
       "Fare           1\n",
       "Cabin       1006\n",
       "Embarked       2\n",
       "Ticketid     418\n",
       "dtype: int64"
      ]
     },
     "execution_count": 380,
     "metadata": {},
     "output_type": "execute_result"
    }
   ],
   "source": [
    "df.isnull().sum()[(df.isnull().sum() > 0)]"
   ]
  },
  {
   "cell_type": "markdown",
   "metadata": {},
   "source": [
    "### Featurizing (Creating Additional Columns)"
   ]
  },
  {
   "cell_type": "markdown",
   "metadata": {},
   "source": [
    "#### Fare"
   ]
  },
  {
   "cell_type": "code",
   "execution_count": null,
   "metadata": {},
   "outputs": [],
   "source": []
  },
  {
   "cell_type": "code",
   "execution_count": null,
   "metadata": {},
   "outputs": [],
   "source": []
  },
  {
   "cell_type": "markdown",
   "metadata": {},
   "source": [
    "#### Familia = Total Family = Parents + Children + Siblings + Spouse"
   ]
  },
  {
   "cell_type": "code",
   "execution_count": 344,
   "metadata": {},
   "outputs": [],
   "source": [
    "# Creating total Family Variable\n",
    "\n",
    "df['Familia'] = df.Parch + df.SibSp"
   ]
  },
  {
   "cell_type": "code",
   "execution_count": 345,
   "metadata": {},
   "outputs": [
    {
     "data": {
      "image/png": "[encoded data removed]",
      "text/plain": [
       "<Figure size 900x360 with 1 Axes>"
      ]
     },
     "metadata": {
      "needs_background": "light"
     },
     "output_type": "display_data"
    }
   ],
   "source": [
    "# Check Familia with Survived from Training Set only\n",
    "sns.factorplot('Familia','Survived', data=df[df.index.isin(df_train.index)], aspect = 2.5);"
   ]
  },
  {
   "cell_type": "markdown",
   "metadata": {},
   "source": [
    "#### Title and Name"
   ]
  },
  {
   "cell_type": "code",
   "execution_count": 346,
   "metadata": {},
   "outputs": [
    {
     "name": "stdout",
     "output_type": "stream",
     "text": [
      "Missing Values in Title 0\n"
     ]
    },
    {
     "data": {
      "text/html": [
       "<div>\n",
       "<style scoped>\n",
       "    .dataframe tbody tr th:only-of-type {\n",
       "        vertical-align: middle;\n",
       "    }\n",
       "\n",
       "    .dataframe tbody tr th {\n",
       "        vertical-align: top;\n",
       "    }\n",
       "\n",
       "    .dataframe thead th {\n",
       "        text-align: right;\n",
       "    }\n",
       "</style>\n",
       "<table border=\"1\" class=\"dataframe\">\n",
       "  <thead>\n",
       "    <tr style=\"text-align: right;\">\n",
       "      <th>Title</th>\n",
       "      <th>Capt</th>\n",
       "      <th>Col</th>\n",
       "      <th>Don</th>\n",
       "      <th>Dona</th>\n",
       "      <th>Dr</th>\n",
       "      <th>Jonkheer</th>\n",
       "      <th>Lady</th>\n",
       "      <th>Major</th>\n",
       "      <th>Master</th>\n",
       "      <th>Miss</th>\n",
       "      <th>Mlle</th>\n",
       "      <th>Mme</th>\n",
       "      <th>Mr</th>\n",
       "      <th>Mrs</th>\n",
       "      <th>Ms</th>\n",
       "      <th>Rev</th>\n",
       "      <th>Sir</th>\n",
       "      <th>the Countess</th>\n",
       "    </tr>\n",
       "    <tr>\n",
       "      <th>Sex</th>\n",
       "      <th></th>\n",
       "      <th></th>\n",
       "      <th></th>\n",
       "      <th></th>\n",
       "      <th></th>\n",
       "      <th></th>\n",
       "      <th></th>\n",
       "      <th></th>\n",
       "      <th></th>\n",
       "      <th></th>\n",
       "      <th></th>\n",
       "      <th></th>\n",
       "      <th></th>\n",
       "      <th></th>\n",
       "      <th></th>\n",
       "      <th></th>\n",
       "      <th></th>\n",
       "      <th></th>\n",
       "    </tr>\n",
       "  </thead>\n",
       "  <tbody>\n",
       "    <tr>\n",
       "      <th>female</th>\n",
       "      <td>0</td>\n",
       "      <td>0</td>\n",
       "      <td>0</td>\n",
       "      <td>1</td>\n",
       "      <td>1</td>\n",
       "      <td>0</td>\n",
       "      <td>1</td>\n",
       "      <td>0</td>\n",
       "      <td>0</td>\n",
       "      <td>256</td>\n",
       "      <td>2</td>\n",
       "      <td>1</td>\n",
       "      <td>0</td>\n",
       "      <td>197</td>\n",
       "      <td>2</td>\n",
       "      <td>0</td>\n",
       "      <td>0</td>\n",
       "      <td>1</td>\n",
       "    </tr>\n",
       "    <tr>\n",
       "      <th>male</th>\n",
       "      <td>1</td>\n",
       "      <td>4</td>\n",
       "      <td>1</td>\n",
       "      <td>0</td>\n",
       "      <td>7</td>\n",
       "      <td>1</td>\n",
       "      <td>0</td>\n",
       "      <td>2</td>\n",
       "      <td>60</td>\n",
       "      <td>0</td>\n",
       "      <td>0</td>\n",
       "      <td>0</td>\n",
       "      <td>752</td>\n",
       "      <td>0</td>\n",
       "      <td>0</td>\n",
       "      <td>8</td>\n",
       "      <td>1</td>\n",
       "      <td>0</td>\n",
       "    </tr>\n",
       "  </tbody>\n",
       "</table>\n",
       "</div>"
      ],
      "text/plain": [
       "Title   Capt  Col  Don  Dona  Dr  Jonkheer  Lady  Major  Master  Miss  Mlle  \\\n",
       "Sex                                                                           \n",
       "female     0    0    0     1   1         0     1      0       0   256     2   \n",
       "male       1    4    1     0   7         1     0      2      60     0     0   \n",
       "\n",
       "Title   Mme   Mr  Mrs  Ms  Rev  Sir  the Countess  \n",
       "Sex                                                \n",
       "female    1    0  197   2    0    0             1  \n",
       "male      0  752    0   0    8    1             0  "
      ]
     },
     "execution_count": 346,
     "metadata": {},
     "output_type": "execute_result"
    }
   ],
   "source": [
    "# Create Title Column by extracting the Title from Name\n",
    "\n",
    "df['Title'] = df.Name.apply(lambda name: name.split(',')[1].split('.')[0].strip())\n",
    "print(\"Missing Values in Title\", df.Title.isnull().sum())\n",
    "pd.crosstab(df['Sex'], df['Title'])"
   ]
  },
  {
   "cell_type": "code",
   "execution_count": 347,
   "metadata": {},
   "outputs": [
    {
     "data": {
      "image/png": "[encoded data removed]",
      "text/plain": [
       "<Figure size 900x360 with 1 Axes>"
      ]
     },
     "metadata": {
      "needs_background": "light"
     },
     "output_type": "display_data"
    }
   ],
   "source": [
    "sns.factorplot('Title','Survived', data=df[df.index.isin(df_train.index)], aspect = 2.5);"
   ]
  },
  {
   "cell_type": "code",
   "execution_count": 348,
   "metadata": {},
   "outputs": [],
   "source": [
    "# Grouping Titles\n",
    "\n",
    "title_replace = {\n",
    "    'Don': 0,\n",
    "    'Rev': 0,\n",
    "    'Jonkheer': 0,\n",
    "    'Capt': 0,\n",
    "    'Mr': 1,\n",
    "    'Dr': 2,\n",
    "    'Col': 3,\n",
    "    'Major': 3,\n",
    "    'Master': 4,\n",
    "    'Miss': 5,\n",
    "    'Mrs': 6,\n",
    "    'Mme': 7,\n",
    "    'Ms': 7,\n",
    "    'Mlle': 7,\n",
    "    'Sir': 7,\n",
    "    'Lady': 7,\n",
    "    'the Countess': 7\n",
    "}\n",
    "\n",
    "df['Title_Flag'] = df['Title'].apply(lambda x: title_replace.get(x))"
   ]
  },
  {
   "cell_type": "code",
   "execution_count": 349,
   "metadata": {},
   "outputs": [],
   "source": [
    "# Gathering Name Length and dropping Name\n",
    "\n",
    "df['NameLen'] = df['Name'].apply(lambda x: len(x))\n",
    "df.drop(['Name'], axis=1, inplace=True)"
   ]
  },
  {
   "cell_type": "code",
   "execution_count": 350,
   "metadata": {},
   "outputs": [
    {
     "data": {
      "image/png": "[encoded data removed]",
      "text/plain": [
       "<Figure size 1080x576 with 1 Axes>"
      ]
     },
     "metadata": {
      "needs_background": "light"
     },
     "output_type": "display_data"
    }
   ],
   "source": [
    "sns.pointplot(x='NameLen',y='Survived', data=df[df.index.isin(df_train.index)]);"
   ]
  },
  {
   "cell_type": "markdown",
   "metadata": {},
   "source": [
    "#### Cabin ID from Cabin"
   ]
  },
  {
   "cell_type": "code",
   "execution_count": 358,
   "metadata": {},
   "outputs": [
    {
     "data": {
      "text/plain": [
       "CabinID\n",
       "A     41.244314\n",
       "B    110.003837\n",
       "C    107.926598\n",
       "D     53.007339\n",
       "E     54.564634\n",
       "F     18.079367\n",
       "G     14.205000\n",
       "T     35.500000\n",
       "X     18.290799\n",
       "Name: Fare, dtype: float64"
      ]
     },
     "execution_count": 358,
     "metadata": {},
     "output_type": "execute_result"
    }
   ],
   "source": [
    "# Cabin vs Fare\n",
    "\n",
    "df.groupby('CabinID').Fare.mean()"
   ]
  },
  {
   "cell_type": "code",
   "execution_count": 362,
   "metadata": {},
   "outputs": [
    {
     "data": {
      "text/html": [
       "<div>\n",
       "<style scoped>\n",
       "    .dataframe tbody tr th:only-of-type {\n",
       "        vertical-align: middle;\n",
       "    }\n",
       "\n",
       "    .dataframe tbody tr th {\n",
       "        vertical-align: top;\n",
       "    }\n",
       "\n",
       "    .dataframe thead th {\n",
       "        text-align: right;\n",
       "    }\n",
       "</style>\n",
       "<table border=\"1\" class=\"dataframe\">\n",
       "  <thead>\n",
       "    <tr style=\"text-align: right;\">\n",
       "      <th>Pclass</th>\n",
       "      <th>1</th>\n",
       "      <th>2</th>\n",
       "      <th>3</th>\n",
       "    </tr>\n",
       "    <tr>\n",
       "      <th>CabinID</th>\n",
       "      <th></th>\n",
       "      <th></th>\n",
       "      <th></th>\n",
       "    </tr>\n",
       "  </thead>\n",
       "  <tbody>\n",
       "    <tr>\n",
       "      <th>A</th>\n",
       "      <td>22</td>\n",
       "      <td>0</td>\n",
       "      <td>0</td>\n",
       "    </tr>\n",
       "    <tr>\n",
       "      <th>B</th>\n",
       "      <td>63</td>\n",
       "      <td>0</td>\n",
       "      <td>0</td>\n",
       "    </tr>\n",
       "    <tr>\n",
       "      <th>C</th>\n",
       "      <td>94</td>\n",
       "      <td>0</td>\n",
       "      <td>0</td>\n",
       "    </tr>\n",
       "    <tr>\n",
       "      <th>D</th>\n",
       "      <td>40</td>\n",
       "      <td>6</td>\n",
       "      <td>0</td>\n",
       "    </tr>\n",
       "    <tr>\n",
       "      <th>E</th>\n",
       "      <td>34</td>\n",
       "      <td>4</td>\n",
       "      <td>3</td>\n",
       "    </tr>\n",
       "    <tr>\n",
       "      <th>F</th>\n",
       "      <td>0</td>\n",
       "      <td>13</td>\n",
       "      <td>8</td>\n",
       "    </tr>\n",
       "    <tr>\n",
       "      <th>G</th>\n",
       "      <td>0</td>\n",
       "      <td>0</td>\n",
       "      <td>5</td>\n",
       "    </tr>\n",
       "    <tr>\n",
       "      <th>T</th>\n",
       "      <td>1</td>\n",
       "      <td>0</td>\n",
       "      <td>0</td>\n",
       "    </tr>\n",
       "    <tr>\n",
       "      <th>X</th>\n",
       "      <td>66</td>\n",
       "      <td>254</td>\n",
       "      <td>686</td>\n",
       "    </tr>\n",
       "  </tbody>\n",
       "</table>\n",
       "</div>"
      ],
      "text/plain": [
       "Pclass    1    2    3\n",
       "CabinID              \n",
       "A        22    0    0\n",
       "B        63    0    0\n",
       "C        94    0    0\n",
       "D        40    6    0\n",
       "E        34    4    3\n",
       "F         0   13    8\n",
       "G         0    0    5\n",
       "T         1    0    0\n",
       "X        66  254  686"
      ]
     },
     "execution_count": 362,
     "metadata": {},
     "output_type": "execute_result"
    }
   ],
   "source": [
    "# Cabin vs Class\n",
    "\n",
    "pd.crosstab(df['CabinID'], df['Pclass'])"
   ]
  },
  {
   "cell_type": "code",
   "execution_count": null,
   "metadata": {},
   "outputs": [],
   "source": []
  },
  {
   "cell_type": "code",
   "execution_count": 370,
   "metadata": {},
   "outputs": [
    {
     "data": {
      "text/html": [
       "<div>\n",
       "<style scoped>\n",
       "    .dataframe tbody tr th:only-of-type {\n",
       "        vertical-align: middle;\n",
       "    }\n",
       "\n",
       "    .dataframe tbody tr th {\n",
       "        vertical-align: top;\n",
       "    }\n",
       "\n",
       "    .dataframe thead th {\n",
       "        text-align: right;\n",
       "    }\n",
       "</style>\n",
       "<table border=\"1\" class=\"dataframe\">\n",
       "  <thead>\n",
       "    <tr style=\"text-align: right;\">\n",
       "      <th></th>\n",
       "      <th>Survived</th>\n",
       "      <th>Pclass</th>\n",
       "      <th>Sex</th>\n",
       "      <th>Age</th>\n",
       "      <th>SibSp</th>\n",
       "      <th>Parch</th>\n",
       "      <th>Ticket</th>\n",
       "      <th>Fare</th>\n",
       "      <th>Cabin</th>\n",
       "      <th>Embarked</th>\n",
       "      <th>Familia</th>\n",
       "      <th>Title</th>\n",
       "      <th>Title_Flag</th>\n",
       "      <th>NameLen</th>\n",
       "      <th>CabinID</th>\n",
       "      <th>Cabin_Flag</th>\n",
       "      <th>Ticketid</th>\n",
       "    </tr>\n",
       "    <tr>\n",
       "      <th>PassengerId</th>\n",
       "      <th></th>\n",
       "      <th></th>\n",
       "      <th></th>\n",
       "      <th></th>\n",
       "      <th></th>\n",
       "      <th></th>\n",
       "      <th></th>\n",
       "      <th></th>\n",
       "      <th></th>\n",
       "      <th></th>\n",
       "      <th></th>\n",
       "      <th></th>\n",
       "      <th></th>\n",
       "      <th></th>\n",
       "      <th></th>\n",
       "      <th></th>\n",
       "      <th></th>\n",
       "    </tr>\n",
       "  </thead>\n",
       "  <tbody>\n",
       "    <tr>\n",
       "      <th>180</th>\n",
       "      <td>0.0</td>\n",
       "      <td>3</td>\n",
       "      <td>male</td>\n",
       "      <td>36.0</td>\n",
       "      <td>0</td>\n",
       "      <td>0</td>\n",
       "      <td>LINE</td>\n",
       "      <td>0.0</td>\n",
       "      <td>X</td>\n",
       "      <td>S</td>\n",
       "      <td>0</td>\n",
       "      <td>Mr</td>\n",
       "      <td>1.0</td>\n",
       "      <td>19</td>\n",
       "      <td>X</td>\n",
       "      <td>1</td>\n",
       "      <td></td>\n",
       "    </tr>\n",
       "    <tr>\n",
       "      <th>272</th>\n",
       "      <td>1.0</td>\n",
       "      <td>3</td>\n",
       "      <td>male</td>\n",
       "      <td>25.0</td>\n",
       "      <td>0</td>\n",
       "      <td>0</td>\n",
       "      <td>LINE</td>\n",
       "      <td>0.0</td>\n",
       "      <td>X</td>\n",
       "      <td>S</td>\n",
       "      <td>0</td>\n",
       "      <td>Mr</td>\n",
       "      <td>1.0</td>\n",
       "      <td>28</td>\n",
       "      <td>X</td>\n",
       "      <td>1</td>\n",
       "      <td></td>\n",
       "    </tr>\n",
       "    <tr>\n",
       "      <th>303</th>\n",
       "      <td>0.0</td>\n",
       "      <td>3</td>\n",
       "      <td>male</td>\n",
       "      <td>19.0</td>\n",
       "      <td>0</td>\n",
       "      <td>0</td>\n",
       "      <td>LINE</td>\n",
       "      <td>0.0</td>\n",
       "      <td>X</td>\n",
       "      <td>S</td>\n",
       "      <td>0</td>\n",
       "      <td>Mr</td>\n",
       "      <td>1.0</td>\n",
       "      <td>31</td>\n",
       "      <td>X</td>\n",
       "      <td>1</td>\n",
       "      <td></td>\n",
       "    </tr>\n",
       "    <tr>\n",
       "      <th>598</th>\n",
       "      <td>0.0</td>\n",
       "      <td>3</td>\n",
       "      <td>male</td>\n",
       "      <td>49.0</td>\n",
       "      <td>0</td>\n",
       "      <td>0</td>\n",
       "      <td>LINE</td>\n",
       "      <td>0.0</td>\n",
       "      <td>X</td>\n",
       "      <td>S</td>\n",
       "      <td>0</td>\n",
       "      <td>Mr</td>\n",
       "      <td>1.0</td>\n",
       "      <td>19</td>\n",
       "      <td>X</td>\n",
       "      <td>1</td>\n",
       "      <td></td>\n",
       "    </tr>\n",
       "  </tbody>\n",
       "</table>\n",
       "</div>"
      ],
      "text/plain": [
       "             Survived  Pclass   Sex   Age  SibSp  Parch Ticket  Fare Cabin  \\\n",
       "PassengerId                                                                  \n",
       "180               0.0       3  male  36.0      0      0   LINE   0.0     X   \n",
       "272               1.0       3  male  25.0      0      0   LINE   0.0     X   \n",
       "303               0.0       3  male  19.0      0      0   LINE   0.0     X   \n",
       "598               0.0       3  male  49.0      0      0   LINE   0.0     X   \n",
       "\n",
       "            Embarked  Familia Title  Title_Flag  NameLen CabinID  Cabin_Flag  \\\n",
       "PassengerId                                                                    \n",
       "180                S        0    Mr         1.0       19       X           1   \n",
       "272                S        0    Mr         1.0       28       X           1   \n",
       "303                S        0    Mr         1.0       31       X           1   \n",
       "598                S        0    Mr         1.0       19       X           1   \n",
       "\n",
       "            Ticketid  \n",
       "PassengerId           \n",
       "180                   \n",
       "272                   \n",
       "303                   \n",
       "598                   "
      ]
     },
     "execution_count": 370,
     "metadata": {},
     "output_type": "execute_result"
    }
   ],
   "source": [
    "df[df.Ticket == 'LINE']"
   ]
  },
  {
   "cell_type": "code",
   "execution_count": 371,
   "metadata": {},
   "outputs": [
    {
     "data": {
      "text/plain": [
       "63.57026212121215"
      ]
     },
     "execution_count": 371,
     "metadata": {},
     "output_type": "execute_result"
    }
   ],
   "source": [
    "df[(df['Pclass'] == 1) & (df['CabinID'] == 'X')].Fare.mean()"
   ]
  },
  {
   "cell_type": "code",
   "execution_count": 351,
   "metadata": {},
   "outputs": [
    {
     "data": {
      "text/plain": [
       "X    1006\n",
       "C      94\n",
       "B      63\n",
       "D      46\n",
       "E      41\n",
       "A      22\n",
       "F      21\n",
       "G       5\n",
       "T       1\n",
       "Name: CabinID, dtype: int64"
      ]
     },
     "execution_count": 351,
     "metadata": {},
     "output_type": "execute_result"
    }
   ],
   "source": [
    "# Creating a CabinID Flag. Filling in missing Cabin as X\n",
    "\n",
    "df['Cabin'].fillna('X', inplace=True)\n",
    "df['CabinID'] = df['Cabin'].apply(lambda x: x[0])\n",
    "df.CabinID.value_counts()"
   ]
  },
  {
   "cell_type": "code",
   "execution_count": 352,
   "metadata": {},
   "outputs": [
    {
     "data": {
      "image/png": "[encoded data removed]",
      "text/plain": [
       "<Figure size 900x360 with 1 Axes>"
      ]
     },
     "metadata": {
      "needs_background": "light"
     },
     "output_type": "display_data"
    }
   ],
   "source": [
    "sns.factorplot('CabinID','Survived', data=df[df.index.isin(df_train.index)], aspect = 2.5);"
   ]
  },
  {
   "cell_type": "code",
   "execution_count": 355,
   "metadata": {},
   "outputs": [],
   "source": [
    "cabin_replace = {\n",
    "    'T': 0,\n",
    "    'X': 1,\n",
    "    'A': 2,\n",
    "    'G': 3,\n",
    "    'C': 4,\n",
    "    'F': 5,\n",
    "    'B': 6,\n",
    "    'E': 7,\n",
    "    'D': 8\n",
    "}\n",
    "\n",
    "df['Cabin_Flag'] = df['CabinID'].apply(lambda x: cabin_replace.get(x))"
   ]
  },
  {
   "cell_type": "code",
   "execution_count": 356,
   "metadata": {},
   "outputs": [
    {
     "data": {
      "text/html": [
       "<div>\n",
       "<style scoped>\n",
       "    .dataframe tbody tr th:only-of-type {\n",
       "        vertical-align: middle;\n",
       "    }\n",
       "\n",
       "    .dataframe tbody tr th {\n",
       "        vertical-align: top;\n",
       "    }\n",
       "\n",
       "    .dataframe thead th {\n",
       "        text-align: right;\n",
       "    }\n",
       "</style>\n",
       "<table border=\"1\" class=\"dataframe\">\n",
       "  <thead>\n",
       "    <tr style=\"text-align: right;\">\n",
       "      <th></th>\n",
       "      <th>Survived</th>\n",
       "      <th>Pclass</th>\n",
       "      <th>Sex</th>\n",
       "      <th>Age</th>\n",
       "      <th>SibSp</th>\n",
       "      <th>Parch</th>\n",
       "      <th>Ticket</th>\n",
       "      <th>Fare</th>\n",
       "      <th>Cabin</th>\n",
       "      <th>Embarked</th>\n",
       "      <th>Familia</th>\n",
       "      <th>Title</th>\n",
       "      <th>Title_Flag</th>\n",
       "      <th>NameLen</th>\n",
       "      <th>CabinID</th>\n",
       "      <th>Cabin_Flag</th>\n",
       "    </tr>\n",
       "    <tr>\n",
       "      <th>PassengerId</th>\n",
       "      <th></th>\n",
       "      <th></th>\n",
       "      <th></th>\n",
       "      <th></th>\n",
       "      <th></th>\n",
       "      <th></th>\n",
       "      <th></th>\n",
       "      <th></th>\n",
       "      <th></th>\n",
       "      <th></th>\n",
       "      <th></th>\n",
       "      <th></th>\n",
       "      <th></th>\n",
       "      <th></th>\n",
       "      <th></th>\n",
       "      <th></th>\n",
       "    </tr>\n",
       "  </thead>\n",
       "  <tbody>\n",
       "    <tr>\n",
       "      <th>1</th>\n",
       "      <td>0.0</td>\n",
       "      <td>3</td>\n",
       "      <td>male</td>\n",
       "      <td>22.0</td>\n",
       "      <td>1</td>\n",
       "      <td>0</td>\n",
       "      <td>A/5 21171</td>\n",
       "      <td>7.2500</td>\n",
       "      <td>X</td>\n",
       "      <td>S</td>\n",
       "      <td>1</td>\n",
       "      <td>Mr</td>\n",
       "      <td>1.0</td>\n",
       "      <td>23</td>\n",
       "      <td>X</td>\n",
       "      <td>1</td>\n",
       "    </tr>\n",
       "    <tr>\n",
       "      <th>2</th>\n",
       "      <td>1.0</td>\n",
       "      <td>1</td>\n",
       "      <td>female</td>\n",
       "      <td>38.0</td>\n",
       "      <td>1</td>\n",
       "      <td>0</td>\n",
       "      <td>PC 17599</td>\n",
       "      <td>71.2833</td>\n",
       "      <td>C85</td>\n",
       "      <td>C</td>\n",
       "      <td>1</td>\n",
       "      <td>Mrs</td>\n",
       "      <td>6.0</td>\n",
       "      <td>51</td>\n",
       "      <td>C</td>\n",
       "      <td>4</td>\n",
       "    </tr>\n",
       "    <tr>\n",
       "      <th>3</th>\n",
       "      <td>1.0</td>\n",
       "      <td>3</td>\n",
       "      <td>female</td>\n",
       "      <td>26.0</td>\n",
       "      <td>0</td>\n",
       "      <td>0</td>\n",
       "      <td>STON/O2. 3101282</td>\n",
       "      <td>7.9250</td>\n",
       "      <td>X</td>\n",
       "      <td>S</td>\n",
       "      <td>0</td>\n",
       "      <td>Miss</td>\n",
       "      <td>5.0</td>\n",
       "      <td>22</td>\n",
       "      <td>X</td>\n",
       "      <td>1</td>\n",
       "    </tr>\n",
       "    <tr>\n",
       "      <th>4</th>\n",
       "      <td>1.0</td>\n",
       "      <td>1</td>\n",
       "      <td>female</td>\n",
       "      <td>35.0</td>\n",
       "      <td>1</td>\n",
       "      <td>0</td>\n",
       "      <td>113803</td>\n",
       "      <td>53.1000</td>\n",
       "      <td>C123</td>\n",
       "      <td>S</td>\n",
       "      <td>1</td>\n",
       "      <td>Mrs</td>\n",
       "      <td>6.0</td>\n",
       "      <td>44</td>\n",
       "      <td>C</td>\n",
       "      <td>4</td>\n",
       "    </tr>\n",
       "    <tr>\n",
       "      <th>5</th>\n",
       "      <td>0.0</td>\n",
       "      <td>3</td>\n",
       "      <td>male</td>\n",
       "      <td>35.0</td>\n",
       "      <td>0</td>\n",
       "      <td>0</td>\n",
       "      <td>373450</td>\n",
       "      <td>8.0500</td>\n",
       "      <td>X</td>\n",
       "      <td>S</td>\n",
       "      <td>0</td>\n",
       "      <td>Mr</td>\n",
       "      <td>1.0</td>\n",
       "      <td>24</td>\n",
       "      <td>X</td>\n",
       "      <td>1</td>\n",
       "    </tr>\n",
       "    <tr>\n",
       "      <th>6</th>\n",
       "      <td>0.0</td>\n",
       "      <td>3</td>\n",
       "      <td>male</td>\n",
       "      <td>NaN</td>\n",
       "      <td>0</td>\n",
       "      <td>0</td>\n",
       "      <td>330877</td>\n",
       "      <td>8.4583</td>\n",
       "      <td>X</td>\n",
       "      <td>Q</td>\n",
       "      <td>0</td>\n",
       "      <td>Mr</td>\n",
       "      <td>1.0</td>\n",
       "      <td>16</td>\n",
       "      <td>X</td>\n",
       "      <td>1</td>\n",
       "    </tr>\n",
       "    <tr>\n",
       "      <th>7</th>\n",
       "      <td>0.0</td>\n",
       "      <td>1</td>\n",
       "      <td>male</td>\n",
       "      <td>54.0</td>\n",
       "      <td>0</td>\n",
       "      <td>0</td>\n",
       "      <td>17463</td>\n",
       "      <td>51.8625</td>\n",
       "      <td>E46</td>\n",
       "      <td>S</td>\n",
       "      <td>0</td>\n",
       "      <td>Mr</td>\n",
       "      <td>1.0</td>\n",
       "      <td>23</td>\n",
       "      <td>E</td>\n",
       "      <td>7</td>\n",
       "    </tr>\n",
       "    <tr>\n",
       "      <th>8</th>\n",
       "      <td>0.0</td>\n",
       "      <td>3</td>\n",
       "      <td>male</td>\n",
       "      <td>2.0</td>\n",
       "      <td>3</td>\n",
       "      <td>1</td>\n",
       "      <td>349909</td>\n",
       "      <td>21.0750</td>\n",
       "      <td>X</td>\n",
       "      <td>S</td>\n",
       "      <td>4</td>\n",
       "      <td>Master</td>\n",
       "      <td>4.0</td>\n",
       "      <td>30</td>\n",
       "      <td>X</td>\n",
       "      <td>1</td>\n",
       "    </tr>\n",
       "    <tr>\n",
       "      <th>9</th>\n",
       "      <td>1.0</td>\n",
       "      <td>3</td>\n",
       "      <td>female</td>\n",
       "      <td>27.0</td>\n",
       "      <td>0</td>\n",
       "      <td>2</td>\n",
       "      <td>347742</td>\n",
       "      <td>11.1333</td>\n",
       "      <td>X</td>\n",
       "      <td>S</td>\n",
       "      <td>2</td>\n",
       "      <td>Mrs</td>\n",
       "      <td>6.0</td>\n",
       "      <td>49</td>\n",
       "      <td>X</td>\n",
       "      <td>1</td>\n",
       "    </tr>\n",
       "    <tr>\n",
       "      <th>10</th>\n",
       "      <td>1.0</td>\n",
       "      <td>2</td>\n",
       "      <td>female</td>\n",
       "      <td>14.0</td>\n",
       "      <td>1</td>\n",
       "      <td>0</td>\n",
       "      <td>237736</td>\n",
       "      <td>30.0708</td>\n",
       "      <td>X</td>\n",
       "      <td>C</td>\n",
       "      <td>1</td>\n",
       "      <td>Mrs</td>\n",
       "      <td>6.0</td>\n",
       "      <td>35</td>\n",
       "      <td>X</td>\n",
       "      <td>1</td>\n",
       "    </tr>\n",
       "    <tr>\n",
       "      <th>11</th>\n",
       "      <td>1.0</td>\n",
       "      <td>3</td>\n",
       "      <td>female</td>\n",
       "      <td>4.0</td>\n",
       "      <td>1</td>\n",
       "      <td>1</td>\n",
       "      <td>PP 9549</td>\n",
       "      <td>16.7000</td>\n",
       "      <td>G6</td>\n",
       "      <td>S</td>\n",
       "      <td>2</td>\n",
       "      <td>Miss</td>\n",
       "      <td>5.0</td>\n",
       "      <td>31</td>\n",
       "      <td>G</td>\n",
       "      <td>3</td>\n",
       "    </tr>\n",
       "    <tr>\n",
       "      <th>12</th>\n",
       "      <td>1.0</td>\n",
       "      <td>1</td>\n",
       "      <td>female</td>\n",
       "      <td>58.0</td>\n",
       "      <td>0</td>\n",
       "      <td>0</td>\n",
       "      <td>113783</td>\n",
       "      <td>26.5500</td>\n",
       "      <td>C103</td>\n",
       "      <td>S</td>\n",
       "      <td>0</td>\n",
       "      <td>Miss</td>\n",
       "      <td>5.0</td>\n",
       "      <td>24</td>\n",
       "      <td>C</td>\n",
       "      <td>4</td>\n",
       "    </tr>\n",
       "    <tr>\n",
       "      <th>13</th>\n",
       "      <td>0.0</td>\n",
       "      <td>3</td>\n",
       "      <td>male</td>\n",
       "      <td>20.0</td>\n",
       "      <td>0</td>\n",
       "      <td>0</td>\n",
       "      <td>A/5. 2151</td>\n",
       "      <td>8.0500</td>\n",
       "      <td>X</td>\n",
       "      <td>S</td>\n",
       "      <td>0</td>\n",
       "      <td>Mr</td>\n",
       "      <td>1.0</td>\n",
       "      <td>30</td>\n",
       "      <td>X</td>\n",
       "      <td>1</td>\n",
       "    </tr>\n",
       "    <tr>\n",
       "      <th>14</th>\n",
       "      <td>0.0</td>\n",
       "      <td>3</td>\n",
       "      <td>male</td>\n",
       "      <td>39.0</td>\n",
       "      <td>1</td>\n",
       "      <td>5</td>\n",
       "      <td>347082</td>\n",
       "      <td>31.2750</td>\n",
       "      <td>X</td>\n",
       "      <td>S</td>\n",
       "      <td>6</td>\n",
       "      <td>Mr</td>\n",
       "      <td>1.0</td>\n",
       "      <td>27</td>\n",
       "      <td>X</td>\n",
       "      <td>1</td>\n",
       "    </tr>\n",
       "    <tr>\n",
       "      <th>15</th>\n",
       "      <td>0.0</td>\n",
       "      <td>3</td>\n",
       "      <td>female</td>\n",
       "      <td>14.0</td>\n",
       "      <td>0</td>\n",
       "      <td>0</td>\n",
       "      <td>350406</td>\n",
       "      <td>7.8542</td>\n",
       "      <td>X</td>\n",
       "      <td>S</td>\n",
       "      <td>0</td>\n",
       "      <td>Miss</td>\n",
       "      <td>5.0</td>\n",
       "      <td>36</td>\n",
       "      <td>X</td>\n",
       "      <td>1</td>\n",
       "    </tr>\n",
       "    <tr>\n",
       "      <th>16</th>\n",
       "      <td>1.0</td>\n",
       "      <td>2</td>\n",
       "      <td>female</td>\n",
       "      <td>55.0</td>\n",
       "      <td>0</td>\n",
       "      <td>0</td>\n",
       "      <td>248706</td>\n",
       "      <td>16.0000</td>\n",
       "      <td>X</td>\n",
       "      <td>S</td>\n",
       "      <td>0</td>\n",
       "      <td>Mrs</td>\n",
       "      <td>6.0</td>\n",
       "      <td>32</td>\n",
       "      <td>X</td>\n",
       "      <td>1</td>\n",
       "    </tr>\n",
       "    <tr>\n",
       "      <th>17</th>\n",
       "      <td>0.0</td>\n",
       "      <td>3</td>\n",
       "      <td>male</td>\n",
       "      <td>2.0</td>\n",
       "      <td>4</td>\n",
       "      <td>1</td>\n",
       "      <td>382652</td>\n",
       "      <td>29.1250</td>\n",
       "      <td>X</td>\n",
       "      <td>Q</td>\n",
       "      <td>5</td>\n",
       "      <td>Master</td>\n",
       "      <td>4.0</td>\n",
       "      <td>20</td>\n",
       "      <td>X</td>\n",
       "      <td>1</td>\n",
       "    </tr>\n",
       "    <tr>\n",
       "      <th>18</th>\n",
       "      <td>1.0</td>\n",
       "      <td>2</td>\n",
       "      <td>male</td>\n",
       "      <td>NaN</td>\n",
       "      <td>0</td>\n",
       "      <td>0</td>\n",
       "      <td>244373</td>\n",
       "      <td>13.0000</td>\n",
       "      <td>X</td>\n",
       "      <td>S</td>\n",
       "      <td>0</td>\n",
       "      <td>Mr</td>\n",
       "      <td>1.0</td>\n",
       "      <td>28</td>\n",
       "      <td>X</td>\n",
       "      <td>1</td>\n",
       "    </tr>\n",
       "    <tr>\n",
       "      <th>19</th>\n",
       "      <td>0.0</td>\n",
       "      <td>3</td>\n",
       "      <td>female</td>\n",
       "      <td>31.0</td>\n",
       "      <td>1</td>\n",
       "      <td>0</td>\n",
       "      <td>345763</td>\n",
       "      <td>18.0000</td>\n",
       "      <td>X</td>\n",
       "      <td>S</td>\n",
       "      <td>1</td>\n",
       "      <td>Mrs</td>\n",
       "      <td>6.0</td>\n",
       "      <td>55</td>\n",
       "      <td>X</td>\n",
       "      <td>1</td>\n",
       "    </tr>\n",
       "    <tr>\n",
       "      <th>20</th>\n",
       "      <td>1.0</td>\n",
       "      <td>3</td>\n",
       "      <td>female</td>\n",
       "      <td>NaN</td>\n",
       "      <td>0</td>\n",
       "      <td>0</td>\n",
       "      <td>2649</td>\n",
       "      <td>7.2250</td>\n",
       "      <td>X</td>\n",
       "      <td>C</td>\n",
       "      <td>0</td>\n",
       "      <td>Mrs</td>\n",
       "      <td>6.0</td>\n",
       "      <td>23</td>\n",
       "      <td>X</td>\n",
       "      <td>1</td>\n",
       "    </tr>\n",
       "    <tr>\n",
       "      <th>21</th>\n",
       "      <td>0.0</td>\n",
       "      <td>2</td>\n",
       "      <td>male</td>\n",
       "      <td>35.0</td>\n",
       "      <td>0</td>\n",
       "      <td>0</td>\n",
       "      <td>239865</td>\n",
       "      <td>26.0000</td>\n",
       "      <td>X</td>\n",
       "      <td>S</td>\n",
       "      <td>0</td>\n",
       "      <td>Mr</td>\n",
       "      <td>1.0</td>\n",
       "      <td>20</td>\n",
       "      <td>X</td>\n",
       "      <td>1</td>\n",
       "    </tr>\n",
       "    <tr>\n",
       "      <th>22</th>\n",
       "      <td>1.0</td>\n",
       "      <td>2</td>\n",
       "      <td>male</td>\n",
       "      <td>34.0</td>\n",
       "      <td>0</td>\n",
       "      <td>0</td>\n",
       "      <td>248698</td>\n",
       "      <td>13.0000</td>\n",
       "      <td>D56</td>\n",
       "      <td>S</td>\n",
       "      <td>0</td>\n",
       "      <td>Mr</td>\n",
       "      <td>1.0</td>\n",
       "      <td>21</td>\n",
       "      <td>D</td>\n",
       "      <td>8</td>\n",
       "    </tr>\n",
       "    <tr>\n",
       "      <th>23</th>\n",
       "      <td>1.0</td>\n",
       "      <td>3</td>\n",
       "      <td>female</td>\n",
       "      <td>15.0</td>\n",
       "      <td>0</td>\n",
       "      <td>0</td>\n",
       "      <td>330923</td>\n",
       "      <td>8.0292</td>\n",
       "      <td>X</td>\n",
       "      <td>Q</td>\n",
       "      <td>0</td>\n",
       "      <td>Miss</td>\n",
       "      <td>5.0</td>\n",
       "      <td>27</td>\n",
       "      <td>X</td>\n",
       "      <td>1</td>\n",
       "    </tr>\n",
       "    <tr>\n",
       "      <th>24</th>\n",
       "      <td>1.0</td>\n",
       "      <td>1</td>\n",
       "      <td>male</td>\n",
       "      <td>28.0</td>\n",
       "      <td>0</td>\n",
       "      <td>0</td>\n",
       "      <td>113788</td>\n",
       "      <td>35.5000</td>\n",
       "      <td>A6</td>\n",
       "      <td>S</td>\n",
       "      <td>0</td>\n",
       "      <td>Mr</td>\n",
       "      <td>1.0</td>\n",
       "      <td>28</td>\n",
       "      <td>A</td>\n",
       "      <td>2</td>\n",
       "    </tr>\n",
       "    <tr>\n",
       "      <th>25</th>\n",
       "      <td>0.0</td>\n",
       "      <td>3</td>\n",
       "      <td>female</td>\n",
       "      <td>8.0</td>\n",
       "      <td>3</td>\n",
       "      <td>1</td>\n",
       "      <td>349909</td>\n",
       "      <td>21.0750</td>\n",
       "      <td>X</td>\n",
       "      <td>S</td>\n",
       "      <td>4</td>\n",
       "      <td>Miss</td>\n",
       "      <td>5.0</td>\n",
       "      <td>29</td>\n",
       "      <td>X</td>\n",
       "      <td>1</td>\n",
       "    </tr>\n",
       "    <tr>\n",
       "      <th>26</th>\n",
       "      <td>1.0</td>\n",
       "      <td>3</td>\n",
       "      <td>female</td>\n",
       "      <td>38.0</td>\n",
       "      <td>1</td>\n",
       "      <td>5</td>\n",
       "      <td>347077</td>\n",
       "      <td>31.3875</td>\n",
       "      <td>X</td>\n",
       "      <td>S</td>\n",
       "      <td>6</td>\n",
       "      <td>Mrs</td>\n",
       "      <td>6.0</td>\n",
       "      <td>57</td>\n",
       "      <td>X</td>\n",
       "      <td>1</td>\n",
       "    </tr>\n",
       "    <tr>\n",
       "      <th>27</th>\n",
       "      <td>0.0</td>\n",
       "      <td>3</td>\n",
       "      <td>male</td>\n",
       "      <td>NaN</td>\n",
       "      <td>0</td>\n",
       "      <td>0</td>\n",
       "      <td>2631</td>\n",
       "      <td>7.2250</td>\n",
       "      <td>X</td>\n",
       "      <td>C</td>\n",
       "      <td>0</td>\n",
       "      <td>Mr</td>\n",
       "      <td>1.0</td>\n",
       "      <td>23</td>\n",
       "      <td>X</td>\n",
       "      <td>1</td>\n",
       "    </tr>\n",
       "    <tr>\n",
       "      <th>28</th>\n",
       "      <td>0.0</td>\n",
       "      <td>1</td>\n",
       "      <td>male</td>\n",
       "      <td>19.0</td>\n",
       "      <td>3</td>\n",
       "      <td>2</td>\n",
       "      <td>19950</td>\n",
       "      <td>263.0000</td>\n",
       "      <td>C23 C25 C27</td>\n",
       "      <td>S</td>\n",
       "      <td>5</td>\n",
       "      <td>Mr</td>\n",
       "      <td>1.0</td>\n",
       "      <td>30</td>\n",
       "      <td>C</td>\n",
       "      <td>4</td>\n",
       "    </tr>\n",
       "    <tr>\n",
       "      <th>29</th>\n",
       "      <td>1.0</td>\n",
       "      <td>3</td>\n",
       "      <td>female</td>\n",
       "      <td>NaN</td>\n",
       "      <td>0</td>\n",
       "      <td>0</td>\n",
       "      <td>330959</td>\n",
       "      <td>7.8792</td>\n",
       "      <td>X</td>\n",
       "      <td>Q</td>\n",
       "      <td>0</td>\n",
       "      <td>Miss</td>\n",
       "      <td>5.0</td>\n",
       "      <td>29</td>\n",
       "      <td>X</td>\n",
       "      <td>1</td>\n",
       "    </tr>\n",
       "    <tr>\n",
       "      <th>30</th>\n",
       "      <td>0.0</td>\n",
       "      <td>3</td>\n",
       "      <td>male</td>\n",
       "      <td>NaN</td>\n",
       "      <td>0</td>\n",
       "      <td>0</td>\n",
       "      <td>349216</td>\n",
       "      <td>7.8958</td>\n",
       "      <td>X</td>\n",
       "      <td>S</td>\n",
       "      <td>0</td>\n",
       "      <td>Mr</td>\n",
       "      <td>1.0</td>\n",
       "      <td>19</td>\n",
       "      <td>X</td>\n",
       "      <td>1</td>\n",
       "    </tr>\n",
       "    <tr>\n",
       "      <th>...</th>\n",
       "      <td>...</td>\n",
       "      <td>...</td>\n",
       "      <td>...</td>\n",
       "      <td>...</td>\n",
       "      <td>...</td>\n",
       "      <td>...</td>\n",
       "      <td>...</td>\n",
       "      <td>...</td>\n",
       "      <td>...</td>\n",
       "      <td>...</td>\n",
       "      <td>...</td>\n",
       "      <td>...</td>\n",
       "      <td>...</td>\n",
       "      <td>...</td>\n",
       "      <td>...</td>\n",
       "      <td>...</td>\n",
       "    </tr>\n",
       "    <tr>\n",
       "      <th>1280</th>\n",
       "      <td>NaN</td>\n",
       "      <td>3</td>\n",
       "      <td>male</td>\n",
       "      <td>21.0</td>\n",
       "      <td>0</td>\n",
       "      <td>0</td>\n",
       "      <td>364858</td>\n",
       "      <td>7.7500</td>\n",
       "      <td>X</td>\n",
       "      <td>Q</td>\n",
       "      <td>0</td>\n",
       "      <td>Mr</td>\n",
       "      <td>1.0</td>\n",
       "      <td>20</td>\n",
       "      <td>X</td>\n",
       "      <td>1</td>\n",
       "    </tr>\n",
       "    <tr>\n",
       "      <th>1281</th>\n",
       "      <td>NaN</td>\n",
       "      <td>3</td>\n",
       "      <td>male</td>\n",
       "      <td>6.0</td>\n",
       "      <td>3</td>\n",
       "      <td>1</td>\n",
       "      <td>349909</td>\n",
       "      <td>21.0750</td>\n",
       "      <td>X</td>\n",
       "      <td>S</td>\n",
       "      <td>4</td>\n",
       "      <td>Master</td>\n",
       "      <td>4.0</td>\n",
       "      <td>27</td>\n",
       "      <td>X</td>\n",
       "      <td>1</td>\n",
       "    </tr>\n",
       "    <tr>\n",
       "      <th>1282</th>\n",
       "      <td>NaN</td>\n",
       "      <td>1</td>\n",
       "      <td>male</td>\n",
       "      <td>23.0</td>\n",
       "      <td>0</td>\n",
       "      <td>0</td>\n",
       "      <td>12749</td>\n",
       "      <td>93.5000</td>\n",
       "      <td>B24</td>\n",
       "      <td>S</td>\n",
       "      <td>0</td>\n",
       "      <td>Mr</td>\n",
       "      <td>1.0</td>\n",
       "      <td>26</td>\n",
       "      <td>B</td>\n",
       "      <td>6</td>\n",
       "    </tr>\n",
       "    <tr>\n",
       "      <th>1283</th>\n",
       "      <td>NaN</td>\n",
       "      <td>1</td>\n",
       "      <td>female</td>\n",
       "      <td>51.0</td>\n",
       "      <td>0</td>\n",
       "      <td>1</td>\n",
       "      <td>PC 17592</td>\n",
       "      <td>39.4000</td>\n",
       "      <td>D28</td>\n",
       "      <td>S</td>\n",
       "      <td>1</td>\n",
       "      <td>Mrs</td>\n",
       "      <td>6.0</td>\n",
       "      <td>46</td>\n",
       "      <td>D</td>\n",
       "      <td>8</td>\n",
       "    </tr>\n",
       "    <tr>\n",
       "      <th>1284</th>\n",
       "      <td>NaN</td>\n",
       "      <td>3</td>\n",
       "      <td>male</td>\n",
       "      <td>13.0</td>\n",
       "      <td>0</td>\n",
       "      <td>2</td>\n",
       "      <td>C.A. 2673</td>\n",
       "      <td>20.2500</td>\n",
       "      <td>X</td>\n",
       "      <td>S</td>\n",
       "      <td>2</td>\n",
       "      <td>Master</td>\n",
       "      <td>4.0</td>\n",
       "      <td>29</td>\n",
       "      <td>X</td>\n",
       "      <td>1</td>\n",
       "    </tr>\n",
       "    <tr>\n",
       "      <th>1285</th>\n",
       "      <td>NaN</td>\n",
       "      <td>2</td>\n",
       "      <td>male</td>\n",
       "      <td>47.0</td>\n",
       "      <td>0</td>\n",
       "      <td>0</td>\n",
       "      <td>C.A. 30769</td>\n",
       "      <td>10.5000</td>\n",
       "      <td>X</td>\n",
       "      <td>S</td>\n",
       "      <td>0</td>\n",
       "      <td>Mr</td>\n",
       "      <td>1.0</td>\n",
       "      <td>20</td>\n",
       "      <td>X</td>\n",
       "      <td>1</td>\n",
       "    </tr>\n",
       "    <tr>\n",
       "      <th>1286</th>\n",
       "      <td>NaN</td>\n",
       "      <td>3</td>\n",
       "      <td>male</td>\n",
       "      <td>29.0</td>\n",
       "      <td>3</td>\n",
       "      <td>1</td>\n",
       "      <td>315153</td>\n",
       "      <td>22.0250</td>\n",
       "      <td>X</td>\n",
       "      <td>S</td>\n",
       "      <td>4</td>\n",
       "      <td>Mr</td>\n",
       "      <td>1.0</td>\n",
       "      <td>24</td>\n",
       "      <td>X</td>\n",
       "      <td>1</td>\n",
       "    </tr>\n",
       "    <tr>\n",
       "      <th>1287</th>\n",
       "      <td>NaN</td>\n",
       "      <td>1</td>\n",
       "      <td>female</td>\n",
       "      <td>18.0</td>\n",
       "      <td>1</td>\n",
       "      <td>0</td>\n",
       "      <td>13695</td>\n",
       "      <td>60.0000</td>\n",
       "      <td>C31</td>\n",
       "      <td>S</td>\n",
       "      <td>1</td>\n",
       "      <td>Mrs</td>\n",
       "      <td>6.0</td>\n",
       "      <td>46</td>\n",
       "      <td>C</td>\n",
       "      <td>4</td>\n",
       "    </tr>\n",
       "    <tr>\n",
       "      <th>1288</th>\n",
       "      <td>NaN</td>\n",
       "      <td>3</td>\n",
       "      <td>male</td>\n",
       "      <td>24.0</td>\n",
       "      <td>0</td>\n",
       "      <td>0</td>\n",
       "      <td>371109</td>\n",
       "      <td>7.2500</td>\n",
       "      <td>X</td>\n",
       "      <td>Q</td>\n",
       "      <td>0</td>\n",
       "      <td>Mr</td>\n",
       "      <td>1.0</td>\n",
       "      <td>20</td>\n",
       "      <td>X</td>\n",
       "      <td>1</td>\n",
       "    </tr>\n",
       "    <tr>\n",
       "      <th>1289</th>\n",
       "      <td>NaN</td>\n",
       "      <td>1</td>\n",
       "      <td>female</td>\n",
       "      <td>48.0</td>\n",
       "      <td>1</td>\n",
       "      <td>1</td>\n",
       "      <td>13567</td>\n",
       "      <td>79.2000</td>\n",
       "      <td>B41</td>\n",
       "      <td>C</td>\n",
       "      <td>2</td>\n",
       "      <td>Mrs</td>\n",
       "      <td>6.0</td>\n",
       "      <td>63</td>\n",
       "      <td>B</td>\n",
       "      <td>6</td>\n",
       "    </tr>\n",
       "    <tr>\n",
       "      <th>1290</th>\n",
       "      <td>NaN</td>\n",
       "      <td>3</td>\n",
       "      <td>male</td>\n",
       "      <td>22.0</td>\n",
       "      <td>0</td>\n",
       "      <td>0</td>\n",
       "      <td>347065</td>\n",
       "      <td>7.7750</td>\n",
       "      <td>X</td>\n",
       "      <td>S</td>\n",
       "      <td>0</td>\n",
       "      <td>Mr</td>\n",
       "      <td>1.0</td>\n",
       "      <td>30</td>\n",
       "      <td>X</td>\n",
       "      <td>1</td>\n",
       "    </tr>\n",
       "    <tr>\n",
       "      <th>1291</th>\n",
       "      <td>NaN</td>\n",
       "      <td>3</td>\n",
       "      <td>male</td>\n",
       "      <td>31.0</td>\n",
       "      <td>0</td>\n",
       "      <td>0</td>\n",
       "      <td>21332</td>\n",
       "      <td>7.7333</td>\n",
       "      <td>X</td>\n",
       "      <td>Q</td>\n",
       "      <td>0</td>\n",
       "      <td>Mr</td>\n",
       "      <td>1.0</td>\n",
       "      <td>24</td>\n",
       "      <td>X</td>\n",
       "      <td>1</td>\n",
       "    </tr>\n",
       "    <tr>\n",
       "      <th>1292</th>\n",
       "      <td>NaN</td>\n",
       "      <td>1</td>\n",
       "      <td>female</td>\n",
       "      <td>30.0</td>\n",
       "      <td>0</td>\n",
       "      <td>0</td>\n",
       "      <td>36928</td>\n",
       "      <td>164.8667</td>\n",
       "      <td>C7</td>\n",
       "      <td>S</td>\n",
       "      <td>0</td>\n",
       "      <td>Miss</td>\n",
       "      <td>5.0</td>\n",
       "      <td>23</td>\n",
       "      <td>C</td>\n",
       "      <td>4</td>\n",
       "    </tr>\n",
       "    <tr>\n",
       "      <th>1293</th>\n",
       "      <td>NaN</td>\n",
       "      <td>2</td>\n",
       "      <td>male</td>\n",
       "      <td>38.0</td>\n",
       "      <td>1</td>\n",
       "      <td>0</td>\n",
       "      <td>28664</td>\n",
       "      <td>21.0000</td>\n",
       "      <td>X</td>\n",
       "      <td>S</td>\n",
       "      <td>1</td>\n",
       "      <td>Mr</td>\n",
       "      <td>1.0</td>\n",
       "      <td>15</td>\n",
       "      <td>X</td>\n",
       "      <td>1</td>\n",
       "    </tr>\n",
       "    <tr>\n",
       "      <th>1294</th>\n",
       "      <td>NaN</td>\n",
       "      <td>1</td>\n",
       "      <td>female</td>\n",
       "      <td>22.0</td>\n",
       "      <td>0</td>\n",
       "      <td>1</td>\n",
       "      <td>112378</td>\n",
       "      <td>59.4000</td>\n",
       "      <td>X</td>\n",
       "      <td>C</td>\n",
       "      <td>1</td>\n",
       "      <td>Miss</td>\n",
       "      <td>5.0</td>\n",
       "      <td>30</td>\n",
       "      <td>X</td>\n",
       "      <td>1</td>\n",
       "    </tr>\n",
       "    <tr>\n",
       "      <th>1295</th>\n",
       "      <td>NaN</td>\n",
       "      <td>1</td>\n",
       "      <td>male</td>\n",
       "      <td>17.0</td>\n",
       "      <td>0</td>\n",
       "      <td>0</td>\n",
       "      <td>113059</td>\n",
       "      <td>47.1000</td>\n",
       "      <td>X</td>\n",
       "      <td>S</td>\n",
       "      <td>0</td>\n",
       "      <td>Mr</td>\n",
       "      <td>1.0</td>\n",
       "      <td>22</td>\n",
       "      <td>X</td>\n",
       "      <td>1</td>\n",
       "    </tr>\n",
       "    <tr>\n",
       "      <th>1296</th>\n",
       "      <td>NaN</td>\n",
       "      <td>1</td>\n",
       "      <td>male</td>\n",
       "      <td>43.0</td>\n",
       "      <td>1</td>\n",
       "      <td>0</td>\n",
       "      <td>17765</td>\n",
       "      <td>27.7208</td>\n",
       "      <td>D40</td>\n",
       "      <td>C</td>\n",
       "      <td>1</td>\n",
       "      <td>Mr</td>\n",
       "      <td>1.0</td>\n",
       "      <td>28</td>\n",
       "      <td>D</td>\n",
       "      <td>8</td>\n",
       "    </tr>\n",
       "    <tr>\n",
       "      <th>1297</th>\n",
       "      <td>NaN</td>\n",
       "      <td>2</td>\n",
       "      <td>male</td>\n",
       "      <td>20.0</td>\n",
       "      <td>0</td>\n",
       "      <td>0</td>\n",
       "      <td>SC/PARIS 2166</td>\n",
       "      <td>13.8625</td>\n",
       "      <td>D38</td>\n",
       "      <td>C</td>\n",
       "      <td>0</td>\n",
       "      <td>Mr</td>\n",
       "      <td>1.0</td>\n",
       "      <td>44</td>\n",
       "      <td>D</td>\n",
       "      <td>8</td>\n",
       "    </tr>\n",
       "    <tr>\n",
       "      <th>1298</th>\n",
       "      <td>NaN</td>\n",
       "      <td>2</td>\n",
       "      <td>male</td>\n",
       "      <td>23.0</td>\n",
       "      <td>1</td>\n",
       "      <td>0</td>\n",
       "      <td>28666</td>\n",
       "      <td>10.5000</td>\n",
       "      <td>X</td>\n",
       "      <td>S</td>\n",
       "      <td>1</td>\n",
       "      <td>Mr</td>\n",
       "      <td>1.0</td>\n",
       "      <td>25</td>\n",
       "      <td>X</td>\n",
       "      <td>1</td>\n",
       "    </tr>\n",
       "    <tr>\n",
       "      <th>1299</th>\n",
       "      <td>NaN</td>\n",
       "      <td>1</td>\n",
       "      <td>male</td>\n",
       "      <td>50.0</td>\n",
       "      <td>1</td>\n",
       "      <td>1</td>\n",
       "      <td>113503</td>\n",
       "      <td>211.5000</td>\n",
       "      <td>C80</td>\n",
       "      <td>C</td>\n",
       "      <td>2</td>\n",
       "      <td>Mr</td>\n",
       "      <td>1.0</td>\n",
       "      <td>26</td>\n",
       "      <td>C</td>\n",
       "      <td>4</td>\n",
       "    </tr>\n",
       "    <tr>\n",
       "      <th>1300</th>\n",
       "      <td>NaN</td>\n",
       "      <td>3</td>\n",
       "      <td>female</td>\n",
       "      <td>NaN</td>\n",
       "      <td>0</td>\n",
       "      <td>0</td>\n",
       "      <td>334915</td>\n",
       "      <td>7.7208</td>\n",
       "      <td>X</td>\n",
       "      <td>Q</td>\n",
       "      <td>0</td>\n",
       "      <td>Miss</td>\n",
       "      <td>5.0</td>\n",
       "      <td>31</td>\n",
       "      <td>X</td>\n",
       "      <td>1</td>\n",
       "    </tr>\n",
       "    <tr>\n",
       "      <th>1301</th>\n",
       "      <td>NaN</td>\n",
       "      <td>3</td>\n",
       "      <td>female</td>\n",
       "      <td>3.0</td>\n",
       "      <td>1</td>\n",
       "      <td>1</td>\n",
       "      <td>SOTON/O.Q. 3101315</td>\n",
       "      <td>13.7750</td>\n",
       "      <td>X</td>\n",
       "      <td>S</td>\n",
       "      <td>2</td>\n",
       "      <td>Miss</td>\n",
       "      <td>5.0</td>\n",
       "      <td>25</td>\n",
       "      <td>X</td>\n",
       "      <td>1</td>\n",
       "    </tr>\n",
       "    <tr>\n",
       "      <th>1302</th>\n",
       "      <td>NaN</td>\n",
       "      <td>3</td>\n",
       "      <td>female</td>\n",
       "      <td>NaN</td>\n",
       "      <td>0</td>\n",
       "      <td>0</td>\n",
       "      <td>365237</td>\n",
       "      <td>7.7500</td>\n",
       "      <td>X</td>\n",
       "      <td>Q</td>\n",
       "      <td>0</td>\n",
       "      <td>Miss</td>\n",
       "      <td>5.0</td>\n",
       "      <td>22</td>\n",
       "      <td>X</td>\n",
       "      <td>1</td>\n",
       "    </tr>\n",
       "    <tr>\n",
       "      <th>1303</th>\n",
       "      <td>NaN</td>\n",
       "      <td>1</td>\n",
       "      <td>female</td>\n",
       "      <td>37.0</td>\n",
       "      <td>1</td>\n",
       "      <td>0</td>\n",
       "      <td>19928</td>\n",
       "      <td>90.0000</td>\n",
       "      <td>C78</td>\n",
       "      <td>Q</td>\n",
       "      <td>1</td>\n",
       "      <td>Mrs</td>\n",
       "      <td>6.0</td>\n",
       "      <td>47</td>\n",
       "      <td>C</td>\n",
       "      <td>4</td>\n",
       "    </tr>\n",
       "    <tr>\n",
       "      <th>1304</th>\n",
       "      <td>NaN</td>\n",
       "      <td>3</td>\n",
       "      <td>female</td>\n",
       "      <td>28.0</td>\n",
       "      <td>0</td>\n",
       "      <td>0</td>\n",
       "      <td>347086</td>\n",
       "      <td>7.7750</td>\n",
       "      <td>X</td>\n",
       "      <td>S</td>\n",
       "      <td>0</td>\n",
       "      <td>Miss</td>\n",
       "      <td>5.0</td>\n",
       "      <td>30</td>\n",
       "      <td>X</td>\n",
       "      <td>1</td>\n",
       "    </tr>\n",
       "    <tr>\n",
       "      <th>1305</th>\n",
       "      <td>NaN</td>\n",
       "      <td>3</td>\n",
       "      <td>male</td>\n",
       "      <td>NaN</td>\n",
       "      <td>0</td>\n",
       "      <td>0</td>\n",
       "      <td>A.5. 3236</td>\n",
       "      <td>8.0500</td>\n",
       "      <td>X</td>\n",
       "      <td>S</td>\n",
       "      <td>0</td>\n",
       "      <td>Mr</td>\n",
       "      <td>1.0</td>\n",
       "      <td>18</td>\n",
       "      <td>X</td>\n",
       "      <td>1</td>\n",
       "    </tr>\n",
       "    <tr>\n",
       "      <th>1306</th>\n",
       "      <td>NaN</td>\n",
       "      <td>1</td>\n",
       "      <td>female</td>\n",
       "      <td>39.0</td>\n",
       "      <td>0</td>\n",
       "      <td>0</td>\n",
       "      <td>PC 17758</td>\n",
       "      <td>108.9000</td>\n",
       "      <td>C105</td>\n",
       "      <td>C</td>\n",
       "      <td>0</td>\n",
       "      <td>Dona</td>\n",
       "      <td>NaN</td>\n",
       "      <td>28</td>\n",
       "      <td>C</td>\n",
       "      <td>4</td>\n",
       "    </tr>\n",
       "    <tr>\n",
       "      <th>1307</th>\n",
       "      <td>NaN</td>\n",
       "      <td>3</td>\n",
       "      <td>male</td>\n",
       "      <td>38.5</td>\n",
       "      <td>0</td>\n",
       "      <td>0</td>\n",
       "      <td>SOTON/O.Q. 3101262</td>\n",
       "      <td>7.2500</td>\n",
       "      <td>X</td>\n",
       "      <td>S</td>\n",
       "      <td>0</td>\n",
       "      <td>Mr</td>\n",
       "      <td>1.0</td>\n",
       "      <td>28</td>\n",
       "      <td>X</td>\n",
       "      <td>1</td>\n",
       "    </tr>\n",
       "    <tr>\n",
       "      <th>1308</th>\n",
       "      <td>NaN</td>\n",
       "      <td>3</td>\n",
       "      <td>male</td>\n",
       "      <td>NaN</td>\n",
       "      <td>0</td>\n",
       "      <td>0</td>\n",
       "      <td>359309</td>\n",
       "      <td>8.0500</td>\n",
       "      <td>X</td>\n",
       "      <td>S</td>\n",
       "      <td>0</td>\n",
       "      <td>Mr</td>\n",
       "      <td>1.0</td>\n",
       "      <td>19</td>\n",
       "      <td>X</td>\n",
       "      <td>1</td>\n",
       "    </tr>\n",
       "    <tr>\n",
       "      <th>1309</th>\n",
       "      <td>NaN</td>\n",
       "      <td>3</td>\n",
       "      <td>male</td>\n",
       "      <td>NaN</td>\n",
       "      <td>1</td>\n",
       "      <td>1</td>\n",
       "      <td>2668</td>\n",
       "      <td>22.3583</td>\n",
       "      <td>X</td>\n",
       "      <td>C</td>\n",
       "      <td>2</td>\n",
       "      <td>Master</td>\n",
       "      <td>4.0</td>\n",
       "      <td>24</td>\n",
       "      <td>X</td>\n",
       "      <td>1</td>\n",
       "    </tr>\n",
       "  </tbody>\n",
       "</table>\n",
       "<p>1299 rows × 16 columns</p>\n",
       "</div>"
      ],
      "text/plain": [
       "             Survived  Pclass     Sex   Age  SibSp  Parch              Ticket  \\\n",
       "PassengerId                                                                     \n",
       "1                 0.0       3    male  22.0      1      0           A/5 21171   \n",
       "2                 1.0       1  female  38.0      1      0            PC 17599   \n",
       "3                 1.0       3  female  26.0      0      0    STON/O2. 3101282   \n",
       "4                 1.0       1  female  35.0      1      0              113803   \n",
       "5                 0.0       3    male  35.0      0      0              373450   \n",
       "6                 0.0       3    male   NaN      0      0              330877   \n",
       "7                 0.0       1    male  54.0      0      0               17463   \n",
       "8                 0.0       3    male   2.0      3      1              349909   \n",
       "9                 1.0       3  female  27.0      0      2              347742   \n",
       "10                1.0       2  female  14.0      1      0              237736   \n",
       "11                1.0       3  female   4.0      1      1             PP 9549   \n",
       "12                1.0       1  female  58.0      0      0              113783   \n",
       "13                0.0       3    male  20.0      0      0           A/5. 2151   \n",
       "14                0.0       3    male  39.0      1      5              347082   \n",
       "15                0.0       3  female  14.0      0      0              350406   \n",
       "16                1.0       2  female  55.0      0      0              248706   \n",
       "17                0.0       3    male   2.0      4      1              382652   \n",
       "18                1.0       2    male   NaN      0      0              244373   \n",
       "19                0.0       3  female  31.0      1      0              345763   \n",
       "20                1.0       3  female   NaN      0      0                2649   \n",
       "21                0.0       2    male  35.0      0      0              239865   \n",
       "22                1.0       2    male  34.0      0      0              248698   \n",
       "23                1.0       3  female  15.0      0      0              330923   \n",
       "24                1.0       1    male  28.0      0      0              113788   \n",
       "25                0.0       3  female   8.0      3      1              349909   \n",
       "26                1.0       3  female  38.0      1      5              347077   \n",
       "27                0.0       3    male   NaN      0      0                2631   \n",
       "28                0.0       1    male  19.0      3      2               19950   \n",
       "29                1.0       3  female   NaN      0      0              330959   \n",
       "30                0.0       3    male   NaN      0      0              349216   \n",
       "...               ...     ...     ...   ...    ...    ...                 ...   \n",
       "1280              NaN       3    male  21.0      0      0              364858   \n",
       "1281              NaN       3    male   6.0      3      1              349909   \n",
       "1282              NaN       1    male  23.0      0      0               12749   \n",
       "1283              NaN       1  female  51.0      0      1            PC 17592   \n",
       "1284              NaN       3    male  13.0      0      2           C.A. 2673   \n",
       "1285              NaN       2    male  47.0      0      0          C.A. 30769   \n",
       "1286              NaN       3    male  29.0      3      1              315153   \n",
       "1287              NaN       1  female  18.0      1      0               13695   \n",
       "1288              NaN       3    male  24.0      0      0              371109   \n",
       "1289              NaN       1  female  48.0      1      1               13567   \n",
       "1290              NaN       3    male  22.0      0      0              347065   \n",
       "1291              NaN       3    male  31.0      0      0               21332   \n",
       "1292              NaN       1  female  30.0      0      0               36928   \n",
       "1293              NaN       2    male  38.0      1      0               28664   \n",
       "1294              NaN       1  female  22.0      0      1              112378   \n",
       "1295              NaN       1    male  17.0      0      0              113059   \n",
       "1296              NaN       1    male  43.0      1      0               17765   \n",
       "1297              NaN       2    male  20.0      0      0       SC/PARIS 2166   \n",
       "1298              NaN       2    male  23.0      1      0               28666   \n",
       "1299              NaN       1    male  50.0      1      1              113503   \n",
       "1300              NaN       3  female   NaN      0      0              334915   \n",
       "1301              NaN       3  female   3.0      1      1  SOTON/O.Q. 3101315   \n",
       "1302              NaN       3  female   NaN      0      0              365237   \n",
       "1303              NaN       1  female  37.0      1      0               19928   \n",
       "1304              NaN       3  female  28.0      0      0              347086   \n",
       "1305              NaN       3    male   NaN      0      0           A.5. 3236   \n",
       "1306              NaN       1  female  39.0      0      0            PC 17758   \n",
       "1307              NaN       3    male  38.5      0      0  SOTON/O.Q. 3101262   \n",
       "1308              NaN       3    male   NaN      0      0              359309   \n",
       "1309              NaN       3    male   NaN      1      1                2668   \n",
       "\n",
       "                 Fare        Cabin Embarked  Familia   Title  Title_Flag  \\\n",
       "PassengerId                                                                \n",
       "1              7.2500            X        S        1      Mr         1.0   \n",
       "2             71.2833          C85        C        1     Mrs         6.0   \n",
       "3              7.9250            X        S        0    Miss         5.0   \n",
       "4             53.1000         C123        S        1     Mrs         6.0   \n",
       "5              8.0500            X        S        0      Mr         1.0   \n",
       "6              8.4583            X        Q        0      Mr         1.0   \n",
       "7             51.8625          E46        S        0      Mr         1.0   \n",
       "8             21.0750            X        S        4  Master         4.0   \n",
       "9             11.1333            X        S        2     Mrs         6.0   \n",
       "10            30.0708            X        C        1     Mrs         6.0   \n",
       "11            16.7000           G6        S        2    Miss         5.0   \n",
       "12            26.5500         C103        S        0    Miss         5.0   \n",
       "13             8.0500            X        S        0      Mr         1.0   \n",
       "14            31.2750            X        S        6      Mr         1.0   \n",
       "15             7.8542            X        S        0    Miss         5.0   \n",
       "16            16.0000            X        S        0     Mrs         6.0   \n",
       "17            29.1250            X        Q        5  Master         4.0   \n",
       "18            13.0000            X        S        0      Mr         1.0   \n",
       "19            18.0000            X        S        1     Mrs         6.0   \n",
       "20             7.2250            X        C        0     Mrs         6.0   \n",
       "21            26.0000            X        S        0      Mr         1.0   \n",
       "22            13.0000          D56        S        0      Mr         1.0   \n",
       "23             8.0292            X        Q        0    Miss         5.0   \n",
       "24            35.5000           A6        S        0      Mr         1.0   \n",
       "25            21.0750            X        S        4    Miss         5.0   \n",
       "26            31.3875            X        S        6     Mrs         6.0   \n",
       "27             7.2250            X        C        0      Mr         1.0   \n",
       "28           263.0000  C23 C25 C27        S        5      Mr         1.0   \n",
       "29             7.8792            X        Q        0    Miss         5.0   \n",
       "30             7.8958            X        S        0      Mr         1.0   \n",
       "...               ...          ...      ...      ...     ...         ...   \n",
       "1280           7.7500            X        Q        0      Mr         1.0   \n",
       "1281          21.0750            X        S        4  Master         4.0   \n",
       "1282          93.5000          B24        S        0      Mr         1.0   \n",
       "1283          39.4000          D28        S        1     Mrs         6.0   \n",
       "1284          20.2500            X        S        2  Master         4.0   \n",
       "1285          10.5000            X        S        0      Mr         1.0   \n",
       "1286          22.0250            X        S        4      Mr         1.0   \n",
       "1287          60.0000          C31        S        1     Mrs         6.0   \n",
       "1288           7.2500            X        Q        0      Mr         1.0   \n",
       "1289          79.2000          B41        C        2     Mrs         6.0   \n",
       "1290           7.7750            X        S        0      Mr         1.0   \n",
       "1291           7.7333            X        Q        0      Mr         1.0   \n",
       "1292         164.8667           C7        S        0    Miss         5.0   \n",
       "1293          21.0000            X        S        1      Mr         1.0   \n",
       "1294          59.4000            X        C        1    Miss         5.0   \n",
       "1295          47.1000            X        S        0      Mr         1.0   \n",
       "1296          27.7208          D40        C        1      Mr         1.0   \n",
       "1297          13.8625          D38        C        0      Mr         1.0   \n",
       "1298          10.5000            X        S        1      Mr         1.0   \n",
       "1299         211.5000          C80        C        2      Mr         1.0   \n",
       "1300           7.7208            X        Q        0    Miss         5.0   \n",
       "1301          13.7750            X        S        2    Miss         5.0   \n",
       "1302           7.7500            X        Q        0    Miss         5.0   \n",
       "1303          90.0000          C78        Q        1     Mrs         6.0   \n",
       "1304           7.7750            X        S        0    Miss         5.0   \n",
       "1305           8.0500            X        S        0      Mr         1.0   \n",
       "1306         108.9000         C105        C        0    Dona         NaN   \n",
       "1307           7.2500            X        S        0      Mr         1.0   \n",
       "1308           8.0500            X        S        0      Mr         1.0   \n",
       "1309          22.3583            X        C        2  Master         4.0   \n",
       "\n",
       "             NameLen CabinID  Cabin_Flag  \n",
       "PassengerId                               \n",
       "1                 23       X           1  \n",
       "2                 51       C           4  \n",
       "3                 22       X           1  \n",
       "4                 44       C           4  \n",
       "5                 24       X           1  \n",
       "6                 16       X           1  \n",
       "7                 23       E           7  \n",
       "8                 30       X           1  \n",
       "9                 49       X           1  \n",
       "10                35       X           1  \n",
       "11                31       G           3  \n",
       "12                24       C           4  \n",
       "13                30       X           1  \n",
       "14                27       X           1  \n",
       "15                36       X           1  \n",
       "16                32       X           1  \n",
       "17                20       X           1  \n",
       "18                28       X           1  \n",
       "19                55       X           1  \n",
       "20                23       X           1  \n",
       "21                20       X           1  \n",
       "22                21       D           8  \n",
       "23                27       X           1  \n",
       "24                28       A           2  \n",
       "25                29       X           1  \n",
       "26                57       X           1  \n",
       "27                23       X           1  \n",
       "28                30       C           4  \n",
       "29                29       X           1  \n",
       "30                19       X           1  \n",
       "...              ...     ...         ...  \n",
       "1280              20       X           1  \n",
       "1281              27       X           1  \n",
       "1282              26       B           6  \n",
       "1283              46       D           8  \n",
       "1284              29       X           1  \n",
       "1285              20       X           1  \n",
       "1286              24       X           1  \n",
       "1287              46       C           4  \n",
       "1288              20       X           1  \n",
       "1289              63       B           6  \n",
       "1290              30       X           1  \n",
       "1291              24       X           1  \n",
       "1292              23       C           4  \n",
       "1293              15       X           1  \n",
       "1294              30       X           1  \n",
       "1295              22       X           1  \n",
       "1296              28       D           8  \n",
       "1297              44       D           8  \n",
       "1298              25       X           1  \n",
       "1299              26       C           4  \n",
       "1300              31       X           1  \n",
       "1301              25       X           1  \n",
       "1302              22       X           1  \n",
       "1303              47       C           4  \n",
       "1304              30       X           1  \n",
       "1305              18       X           1  \n",
       "1306              28       C           4  \n",
       "1307              28       X           1  \n",
       "1308              19       X           1  \n",
       "1309              24       X           1  \n",
       "\n",
       "[1299 rows x 16 columns]"
      ]
     },
     "execution_count": 356,
     "metadata": {},
     "output_type": "execute_result"
    }
   ],
   "source": [
    "df"
   ]
  },
  {
   "cell_type": "markdown",
   "metadata": {
    "colab": {},
    "colab_type": "code",
    "id": "-GYDHa6jdm7B",
    "outputId": "f24ae6cc-3fad-4f3a-e579-db96bed6c65e"
   },
   "source": [
    "#### Exploring Ticket String"
   ]
  },
  {
   "cell_type": "code",
   "execution_count": 368,
   "metadata": {
    "colab": {
     "base_uri": "https://localhost:8080/",
     "height": 195
    },
    "colab_type": "code",
    "executionInfo": {
     "elapsed": 1221,
     "status": "ok",
     "timestamp": 1568902753060,
     "user": {
      "displayName": "Ayan Banerjee",
      "photoUrl": "https://lh3.googleusercontent.com/a-/AAuE7mCnFLXMhFHDZllhPnKiYWaLaQhFxrMp-Q_Gzh2Ud38=s64",
      "userId": "01243998261015692645"
     },
     "user_tz": -330
    },
    "id": "-fLPQ3XPdm68",
    "outputId": "314f4e04-f3d5-411c-b26a-5945ccd2c533"
   },
   "outputs": [
    {
     "data": {
      "text/html": [
       "<div>\n",
       "<style scoped>\n",
       "    .dataframe tbody tr th:only-of-type {\n",
       "        vertical-align: middle;\n",
       "    }\n",
       "\n",
       "    .dataframe tbody tr th {\n",
       "        vertical-align: top;\n",
       "    }\n",
       "\n",
       "    .dataframe thead th {\n",
       "        text-align: right;\n",
       "    }\n",
       "</style>\n",
       "<table border=\"1\" class=\"dataframe\">\n",
       "  <thead>\n",
       "    <tr style=\"text-align: right;\">\n",
       "      <th></th>\n",
       "      <th>Survived</th>\n",
       "      <th>Pclass</th>\n",
       "      <th>Sex</th>\n",
       "      <th>Age</th>\n",
       "      <th>SibSp</th>\n",
       "      <th>Parch</th>\n",
       "      <th>Ticket</th>\n",
       "      <th>Fare</th>\n",
       "      <th>Cabin</th>\n",
       "      <th>Embarked</th>\n",
       "      <th>Familia</th>\n",
       "      <th>Title</th>\n",
       "      <th>Title_Flag</th>\n",
       "      <th>NameLen</th>\n",
       "      <th>CabinID</th>\n",
       "      <th>Cabin_Flag</th>\n",
       "      <th>Ticketid</th>\n",
       "    </tr>\n",
       "    <tr>\n",
       "      <th>PassengerId</th>\n",
       "      <th></th>\n",
       "      <th></th>\n",
       "      <th></th>\n",
       "      <th></th>\n",
       "      <th></th>\n",
       "      <th></th>\n",
       "      <th></th>\n",
       "      <th></th>\n",
       "      <th></th>\n",
       "      <th></th>\n",
       "      <th></th>\n",
       "      <th></th>\n",
       "      <th></th>\n",
       "      <th></th>\n",
       "      <th></th>\n",
       "      <th></th>\n",
       "      <th></th>\n",
       "    </tr>\n",
       "  </thead>\n",
       "  <tbody>\n",
       "    <tr>\n",
       "      <th>1</th>\n",
       "      <td>0.0</td>\n",
       "      <td>3</td>\n",
       "      <td>male</td>\n",
       "      <td>22.0</td>\n",
       "      <td>1</td>\n",
       "      <td>0</td>\n",
       "      <td>A/5 21171</td>\n",
       "      <td>7.2500</td>\n",
       "      <td>X</td>\n",
       "      <td>S</td>\n",
       "      <td>1</td>\n",
       "      <td>Mr</td>\n",
       "      <td>1.0</td>\n",
       "      <td>23</td>\n",
       "      <td>X</td>\n",
       "      <td>1</td>\n",
       "      <td>A/5</td>\n",
       "    </tr>\n",
       "    <tr>\n",
       "      <th>2</th>\n",
       "      <td>1.0</td>\n",
       "      <td>1</td>\n",
       "      <td>female</td>\n",
       "      <td>38.0</td>\n",
       "      <td>1</td>\n",
       "      <td>0</td>\n",
       "      <td>PC 17599</td>\n",
       "      <td>71.2833</td>\n",
       "      <td>C85</td>\n",
       "      <td>C</td>\n",
       "      <td>1</td>\n",
       "      <td>Mrs</td>\n",
       "      <td>6.0</td>\n",
       "      <td>51</td>\n",
       "      <td>C</td>\n",
       "      <td>4</td>\n",
       "      <td>PC</td>\n",
       "    </tr>\n",
       "    <tr>\n",
       "      <th>3</th>\n",
       "      <td>1.0</td>\n",
       "      <td>3</td>\n",
       "      <td>female</td>\n",
       "      <td>26.0</td>\n",
       "      <td>0</td>\n",
       "      <td>0</td>\n",
       "      <td>STON/O2. 3101282</td>\n",
       "      <td>7.9250</td>\n",
       "      <td>X</td>\n",
       "      <td>S</td>\n",
       "      <td>0</td>\n",
       "      <td>Miss</td>\n",
       "      <td>5.0</td>\n",
       "      <td>22</td>\n",
       "      <td>X</td>\n",
       "      <td>1</td>\n",
       "      <td>STON/O2.</td>\n",
       "    </tr>\n",
       "    <tr>\n",
       "      <th>4</th>\n",
       "      <td>1.0</td>\n",
       "      <td>1</td>\n",
       "      <td>female</td>\n",
       "      <td>35.0</td>\n",
       "      <td>1</td>\n",
       "      <td>0</td>\n",
       "      <td>113803</td>\n",
       "      <td>53.1000</td>\n",
       "      <td>C123</td>\n",
       "      <td>S</td>\n",
       "      <td>1</td>\n",
       "      <td>Mrs</td>\n",
       "      <td>6.0</td>\n",
       "      <td>44</td>\n",
       "      <td>C</td>\n",
       "      <td>4</td>\n",
       "      <td></td>\n",
       "    </tr>\n",
       "    <tr>\n",
       "      <th>5</th>\n",
       "      <td>0.0</td>\n",
       "      <td>3</td>\n",
       "      <td>male</td>\n",
       "      <td>35.0</td>\n",
       "      <td>0</td>\n",
       "      <td>0</td>\n",
       "      <td>373450</td>\n",
       "      <td>8.0500</td>\n",
       "      <td>X</td>\n",
       "      <td>S</td>\n",
       "      <td>0</td>\n",
       "      <td>Mr</td>\n",
       "      <td>1.0</td>\n",
       "      <td>24</td>\n",
       "      <td>X</td>\n",
       "      <td>1</td>\n",
       "      <td></td>\n",
       "    </tr>\n",
       "  </tbody>\n",
       "</table>\n",
       "</div>"
      ],
      "text/plain": [
       "             Survived  Pclass     Sex   Age  SibSp  Parch            Ticket  \\\n",
       "PassengerId                                                                   \n",
       "1                 0.0       3    male  22.0      1      0         A/5 21171   \n",
       "2                 1.0       1  female  38.0      1      0          PC 17599   \n",
       "3                 1.0       3  female  26.0      0      0  STON/O2. 3101282   \n",
       "4                 1.0       1  female  35.0      1      0            113803   \n",
       "5                 0.0       3    male  35.0      0      0            373450   \n",
       "\n",
       "                Fare Cabin Embarked  Familia Title  Title_Flag  NameLen  \\\n",
       "PassengerId                                                               \n",
       "1             7.2500     X        S        1    Mr         1.0       23   \n",
       "2            71.2833   C85        C        1   Mrs         6.0       51   \n",
       "3             7.9250     X        S        0  Miss         5.0       22   \n",
       "4            53.1000  C123        S        1   Mrs         6.0       44   \n",
       "5             8.0500     X        S        0    Mr         1.0       24   \n",
       "\n",
       "            CabinID  Cabin_Flag  Ticketid  \n",
       "PassengerId                                \n",
       "1                 X           1       A/5  \n",
       "2                 C           4        PC  \n",
       "3                 X           1  STON/O2.  \n",
       "4                 C           4            \n",
       "5                 X           1            "
      ]
     },
     "execution_count": 368,
     "metadata": {},
     "output_type": "execute_result"
    }
   ],
   "source": [
    "# breakdown the Ticket and find Strings in them\n",
    "# df[['Ticketa','Ticketb','Ticketc']] = df.Ticket.str.rsplit(' ', n=2, expand=True)  :: does not work\n",
    "\n",
    "split_tickets = df['Ticket'].str.rsplit(n=1)\n",
    "prefixes = [sp[0] if len(sp) == 2 else '' for sp in split_tickets]\n",
    "df['Ticketid'] = prefixes\n",
    "df.head()"
   ]
  },
  {
   "cell_type": "code",
   "execution_count": 369,
   "metadata": {
    "colab": {
     "base_uri": "https://localhost:8080/",
     "height": 639
    },
    "colab_type": "code",
    "executionInfo": {
     "elapsed": 1620,
     "status": "ok",
     "timestamp": 1568902750995,
     "user": {
      "displayName": "Ayan Banerjee",
      "photoUrl": "https://lh3.googleusercontent.com/a-/AAuE7mCnFLXMhFHDZllhPnKiYWaLaQhFxrMp-Q_Gzh2Ud38=s64",
      "userId": "01243998261015692645"
     },
     "user_tz": -330
    },
    "id": "ZotFs_vmdm66",
    "outputId": "750964bf-930e-46a5-c3da-7f8c0fc7c13a"
   },
   "outputs": [
    {
     "data": {
      "text/html": [
       "<div>\n",
       "<style scoped>\n",
       "    .dataframe tbody tr th:only-of-type {\n",
       "        vertical-align: middle;\n",
       "    }\n",
       "\n",
       "    .dataframe tbody tr th {\n",
       "        vertical-align: top;\n",
       "    }\n",
       "\n",
       "    .dataframe thead th {\n",
       "        text-align: right;\n",
       "    }\n",
       "</style>\n",
       "<table border=\"1\" class=\"dataframe\">\n",
       "  <thead>\n",
       "    <tr style=\"text-align: right;\">\n",
       "      <th></th>\n",
       "      <th>PassengerId</th>\n",
       "      <th>Survived</th>\n",
       "      <th>Pclass</th>\n",
       "      <th>Name</th>\n",
       "      <th>Sex</th>\n",
       "      <th>Age</th>\n",
       "      <th>SibSp</th>\n",
       "      <th>Parch</th>\n",
       "      <th>Ticket</th>\n",
       "      <th>Fare</th>\n",
       "      <th>Cabin</th>\n",
       "      <th>Embarked</th>\n",
       "      <th>Ticketid</th>\n",
       "    </tr>\n",
       "  </thead>\n",
       "  <tbody>\n",
       "    <tr>\n",
       "      <th>27</th>\n",
       "      <td>28</td>\n",
       "      <td>0</td>\n",
       "      <td>1</td>\n",
       "      <td>Fortune, Mr. Charles Alexander</td>\n",
       "      <td>male</td>\n",
       "      <td>19.0</td>\n",
       "      <td>3</td>\n",
       "      <td>2</td>\n",
       "      <td>19950</td>\n",
       "      <td>263.0000</td>\n",
       "      <td>C23 C25 C27</td>\n",
       "      <td>S</td>\n",
       "      <td></td>\n",
       "    </tr>\n",
       "    <tr>\n",
       "      <th>88</th>\n",
       "      <td>89</td>\n",
       "      <td>1</td>\n",
       "      <td>1</td>\n",
       "      <td>Fortune, Miss. Mabel Helen</td>\n",
       "      <td>female</td>\n",
       "      <td>23.0</td>\n",
       "      <td>3</td>\n",
       "      <td>2</td>\n",
       "      <td>19950</td>\n",
       "      <td>263.0000</td>\n",
       "      <td>C23 C25 C27</td>\n",
       "      <td>S</td>\n",
       "      <td></td>\n",
       "    </tr>\n",
       "    <tr>\n",
       "      <th>118</th>\n",
       "      <td>119</td>\n",
       "      <td>0</td>\n",
       "      <td>1</td>\n",
       "      <td>Baxter, Mr. Quigg Edmond</td>\n",
       "      <td>male</td>\n",
       "      <td>24.0</td>\n",
       "      <td>0</td>\n",
       "      <td>1</td>\n",
       "      <td>PC 17558</td>\n",
       "      <td>247.5208</td>\n",
       "      <td>B58 B60</td>\n",
       "      <td>C</td>\n",
       "      <td>PC</td>\n",
       "    </tr>\n",
       "    <tr>\n",
       "      <th>258</th>\n",
       "      <td>259</td>\n",
       "      <td>1</td>\n",
       "      <td>1</td>\n",
       "      <td>Ward, Miss. Anna</td>\n",
       "      <td>female</td>\n",
       "      <td>35.0</td>\n",
       "      <td>0</td>\n",
       "      <td>0</td>\n",
       "      <td>PC 17755</td>\n",
       "      <td>512.3292</td>\n",
       "      <td>NaN</td>\n",
       "      <td>C</td>\n",
       "      <td>PC</td>\n",
       "    </tr>\n",
       "    <tr>\n",
       "      <th>299</th>\n",
       "      <td>300</td>\n",
       "      <td>1</td>\n",
       "      <td>1</td>\n",
       "      <td>Baxter, Mrs. James (Helene DeLaudeniere Chaput)</td>\n",
       "      <td>female</td>\n",
       "      <td>50.0</td>\n",
       "      <td>0</td>\n",
       "      <td>1</td>\n",
       "      <td>PC 17558</td>\n",
       "      <td>247.5208</td>\n",
       "      <td>B58 B60</td>\n",
       "      <td>C</td>\n",
       "      <td>PC</td>\n",
       "    </tr>\n",
       "    <tr>\n",
       "      <th>311</th>\n",
       "      <td>312</td>\n",
       "      <td>1</td>\n",
       "      <td>1</td>\n",
       "      <td>Ryerson, Miss. Emily Borie</td>\n",
       "      <td>female</td>\n",
       "      <td>18.0</td>\n",
       "      <td>2</td>\n",
       "      <td>2</td>\n",
       "      <td>PC 17608</td>\n",
       "      <td>262.3750</td>\n",
       "      <td>B57 B59 B63 B66</td>\n",
       "      <td>C</td>\n",
       "      <td>PC</td>\n",
       "    </tr>\n",
       "    <tr>\n",
       "      <th>341</th>\n",
       "      <td>342</td>\n",
       "      <td>1</td>\n",
       "      <td>1</td>\n",
       "      <td>Fortune, Miss. Alice Elizabeth</td>\n",
       "      <td>female</td>\n",
       "      <td>24.0</td>\n",
       "      <td>3</td>\n",
       "      <td>2</td>\n",
       "      <td>19950</td>\n",
       "      <td>263.0000</td>\n",
       "      <td>C23 C25 C27</td>\n",
       "      <td>S</td>\n",
       "      <td></td>\n",
       "    </tr>\n",
       "    <tr>\n",
       "      <th>377</th>\n",
       "      <td>378</td>\n",
       "      <td>0</td>\n",
       "      <td>1</td>\n",
       "      <td>Widener, Mr. Harry Elkins</td>\n",
       "      <td>male</td>\n",
       "      <td>27.0</td>\n",
       "      <td>0</td>\n",
       "      <td>2</td>\n",
       "      <td>113503</td>\n",
       "      <td>211.5000</td>\n",
       "      <td>C82</td>\n",
       "      <td>C</td>\n",
       "      <td></td>\n",
       "    </tr>\n",
       "    <tr>\n",
       "      <th>380</th>\n",
       "      <td>381</td>\n",
       "      <td>1</td>\n",
       "      <td>1</td>\n",
       "      <td>Bidois, Miss. Rosalie</td>\n",
       "      <td>female</td>\n",
       "      <td>42.0</td>\n",
       "      <td>0</td>\n",
       "      <td>0</td>\n",
       "      <td>PC 17757</td>\n",
       "      <td>227.5250</td>\n",
       "      <td>NaN</td>\n",
       "      <td>C</td>\n",
       "      <td>PC</td>\n",
       "    </tr>\n",
       "    <tr>\n",
       "      <th>438</th>\n",
       "      <td>439</td>\n",
       "      <td>0</td>\n",
       "      <td>1</td>\n",
       "      <td>Fortune, Mr. Mark</td>\n",
       "      <td>male</td>\n",
       "      <td>64.0</td>\n",
       "      <td>1</td>\n",
       "      <td>4</td>\n",
       "      <td>19950</td>\n",
       "      <td>263.0000</td>\n",
       "      <td>C23 C25 C27</td>\n",
       "      <td>S</td>\n",
       "      <td></td>\n",
       "    </tr>\n",
       "    <tr>\n",
       "      <th>527</th>\n",
       "      <td>528</td>\n",
       "      <td>0</td>\n",
       "      <td>1</td>\n",
       "      <td>Farthing, Mr. John</td>\n",
       "      <td>male</td>\n",
       "      <td>NaN</td>\n",
       "      <td>0</td>\n",
       "      <td>0</td>\n",
       "      <td>PC 17483</td>\n",
       "      <td>221.7792</td>\n",
       "      <td>C95</td>\n",
       "      <td>S</td>\n",
       "      <td>PC</td>\n",
       "    </tr>\n",
       "    <tr>\n",
       "      <th>557</th>\n",
       "      <td>558</td>\n",
       "      <td>0</td>\n",
       "      <td>1</td>\n",
       "      <td>Robbins, Mr. Victor</td>\n",
       "      <td>male</td>\n",
       "      <td>NaN</td>\n",
       "      <td>0</td>\n",
       "      <td>0</td>\n",
       "      <td>PC 17757</td>\n",
       "      <td>227.5250</td>\n",
       "      <td>NaN</td>\n",
       "      <td>C</td>\n",
       "      <td>PC</td>\n",
       "    </tr>\n",
       "    <tr>\n",
       "      <th>679</th>\n",
       "      <td>680</td>\n",
       "      <td>1</td>\n",
       "      <td>1</td>\n",
       "      <td>Cardeza, Mr. Thomas Drake Martinez</td>\n",
       "      <td>male</td>\n",
       "      <td>36.0</td>\n",
       "      <td>0</td>\n",
       "      <td>1</td>\n",
       "      <td>PC 17755</td>\n",
       "      <td>512.3292</td>\n",
       "      <td>B51 B53 B55</td>\n",
       "      <td>C</td>\n",
       "      <td>PC</td>\n",
       "    </tr>\n",
       "    <tr>\n",
       "      <th>689</th>\n",
       "      <td>690</td>\n",
       "      <td>1</td>\n",
       "      <td>1</td>\n",
       "      <td>Madill, Miss. Georgette Alexandra</td>\n",
       "      <td>female</td>\n",
       "      <td>15.0</td>\n",
       "      <td>0</td>\n",
       "      <td>1</td>\n",
       "      <td>24160</td>\n",
       "      <td>211.3375</td>\n",
       "      <td>B5</td>\n",
       "      <td>S</td>\n",
       "      <td></td>\n",
       "    </tr>\n",
       "    <tr>\n",
       "      <th>700</th>\n",
       "      <td>701</td>\n",
       "      <td>1</td>\n",
       "      <td>1</td>\n",
       "      <td>Astor, Mrs. John Jacob (Madeleine Talmadge Force)</td>\n",
       "      <td>female</td>\n",
       "      <td>18.0</td>\n",
       "      <td>1</td>\n",
       "      <td>0</td>\n",
       "      <td>PC 17757</td>\n",
       "      <td>227.5250</td>\n",
       "      <td>C62 C64</td>\n",
       "      <td>C</td>\n",
       "      <td>PC</td>\n",
       "    </tr>\n",
       "    <tr>\n",
       "      <th>716</th>\n",
       "      <td>717</td>\n",
       "      <td>1</td>\n",
       "      <td>1</td>\n",
       "      <td>Endres, Miss. Caroline Louise</td>\n",
       "      <td>female</td>\n",
       "      <td>38.0</td>\n",
       "      <td>0</td>\n",
       "      <td>0</td>\n",
       "      <td>PC 17757</td>\n",
       "      <td>227.5250</td>\n",
       "      <td>C45</td>\n",
       "      <td>C</td>\n",
       "      <td>PC</td>\n",
       "    </tr>\n",
       "    <tr>\n",
       "      <th>730</th>\n",
       "      <td>731</td>\n",
       "      <td>1</td>\n",
       "      <td>1</td>\n",
       "      <td>Allen, Miss. Elisabeth Walton</td>\n",
       "      <td>female</td>\n",
       "      <td>29.0</td>\n",
       "      <td>0</td>\n",
       "      <td>0</td>\n",
       "      <td>24160</td>\n",
       "      <td>211.3375</td>\n",
       "      <td>B5</td>\n",
       "      <td>S</td>\n",
       "      <td></td>\n",
       "    </tr>\n",
       "    <tr>\n",
       "      <th>737</th>\n",
       "      <td>738</td>\n",
       "      <td>1</td>\n",
       "      <td>1</td>\n",
       "      <td>Lesurer, Mr. Gustave J</td>\n",
       "      <td>male</td>\n",
       "      <td>35.0</td>\n",
       "      <td>0</td>\n",
       "      <td>0</td>\n",
       "      <td>PC 17755</td>\n",
       "      <td>512.3292</td>\n",
       "      <td>B101</td>\n",
       "      <td>C</td>\n",
       "      <td>PC</td>\n",
       "    </tr>\n",
       "    <tr>\n",
       "      <th>742</th>\n",
       "      <td>743</td>\n",
       "      <td>1</td>\n",
       "      <td>1</td>\n",
       "      <td>Ryerson, Miss. Susan Parker \"Suzette\"</td>\n",
       "      <td>female</td>\n",
       "      <td>21.0</td>\n",
       "      <td>2</td>\n",
       "      <td>2</td>\n",
       "      <td>PC 17608</td>\n",
       "      <td>262.3750</td>\n",
       "      <td>B57 B59 B63 B66</td>\n",
       "      <td>C</td>\n",
       "      <td>PC</td>\n",
       "    </tr>\n",
       "    <tr>\n",
       "      <th>779</th>\n",
       "      <td>780</td>\n",
       "      <td>1</td>\n",
       "      <td>1</td>\n",
       "      <td>Robert, Mrs. Edward Scott (Elisabeth Walton Mc...</td>\n",
       "      <td>female</td>\n",
       "      <td>43.0</td>\n",
       "      <td>0</td>\n",
       "      <td>1</td>\n",
       "      <td>24160</td>\n",
       "      <td>211.3375</td>\n",
       "      <td>B3</td>\n",
       "      <td>S</td>\n",
       "      <td></td>\n",
       "    </tr>\n",
       "  </tbody>\n",
       "</table>\n",
       "</div>"
      ],
      "text/plain": [
       "     PassengerId  Survived  Pclass  \\\n",
       "27            28         0       1   \n",
       "88            89         1       1   \n",
       "118          119         0       1   \n",
       "258          259         1       1   \n",
       "299          300         1       1   \n",
       "311          312         1       1   \n",
       "341          342         1       1   \n",
       "377          378         0       1   \n",
       "380          381         1       1   \n",
       "438          439         0       1   \n",
       "527          528         0       1   \n",
       "557          558         0       1   \n",
       "679          680         1       1   \n",
       "689          690         1       1   \n",
       "700          701         1       1   \n",
       "716          717         1       1   \n",
       "730          731         1       1   \n",
       "737          738         1       1   \n",
       "742          743         1       1   \n",
       "779          780         1       1   \n",
       "\n",
       "                                                  Name     Sex   Age  SibSp  \\\n",
       "27                      Fortune, Mr. Charles Alexander    male  19.0      3   \n",
       "88                          Fortune, Miss. Mabel Helen  female  23.0      3   \n",
       "118                           Baxter, Mr. Quigg Edmond    male  24.0      0   \n",
       "258                                   Ward, Miss. Anna  female  35.0      0   \n",
       "299    Baxter, Mrs. James (Helene DeLaudeniere Chaput)  female  50.0      0   \n",
       "311                         Ryerson, Miss. Emily Borie  female  18.0      2   \n",
       "341                     Fortune, Miss. Alice Elizabeth  female  24.0      3   \n",
       "377                          Widener, Mr. Harry Elkins    male  27.0      0   \n",
       "380                              Bidois, Miss. Rosalie  female  42.0      0   \n",
       "438                                  Fortune, Mr. Mark    male  64.0      1   \n",
       "527                                 Farthing, Mr. John    male   NaN      0   \n",
       "557                                Robbins, Mr. Victor    male   NaN      0   \n",
       "679                 Cardeza, Mr. Thomas Drake Martinez    male  36.0      0   \n",
       "689                  Madill, Miss. Georgette Alexandra  female  15.0      0   \n",
       "700  Astor, Mrs. John Jacob (Madeleine Talmadge Force)  female  18.0      1   \n",
       "716                      Endres, Miss. Caroline Louise  female  38.0      0   \n",
       "730                      Allen, Miss. Elisabeth Walton  female  29.0      0   \n",
       "737                             Lesurer, Mr. Gustave J    male  35.0      0   \n",
       "742              Ryerson, Miss. Susan Parker \"Suzette\"  female  21.0      2   \n",
       "779  Robert, Mrs. Edward Scott (Elisabeth Walton Mc...  female  43.0      0   \n",
       "\n",
       "     Parch    Ticket      Fare            Cabin Embarked Ticketid  \n",
       "27       2     19950  263.0000      C23 C25 C27        S           \n",
       "88       2     19950  263.0000      C23 C25 C27        S           \n",
       "118      1  PC 17558  247.5208          B58 B60        C       PC  \n",
       "258      0  PC 17755  512.3292              NaN        C       PC  \n",
       "299      1  PC 17558  247.5208          B58 B60        C       PC  \n",
       "311      2  PC 17608  262.3750  B57 B59 B63 B66        C       PC  \n",
       "341      2     19950  263.0000      C23 C25 C27        S           \n",
       "377      2    113503  211.5000              C82        C           \n",
       "380      0  PC 17757  227.5250              NaN        C       PC  \n",
       "438      4     19950  263.0000      C23 C25 C27        S           \n",
       "527      0  PC 17483  221.7792              C95        S       PC  \n",
       "557      0  PC 17757  227.5250              NaN        C       PC  \n",
       "679      1  PC 17755  512.3292      B51 B53 B55        C       PC  \n",
       "689      1     24160  211.3375               B5        S           \n",
       "700      0  PC 17757  227.5250          C62 C64        C       PC  \n",
       "716      0  PC 17757  227.5250              C45        C       PC  \n",
       "730      0     24160  211.3375               B5        S           \n",
       "737      0  PC 17755  512.3292             B101        C       PC  \n",
       "742      2  PC 17608  262.3750  B57 B59 B63 B66        C       PC  \n",
       "779      1     24160  211.3375               B3        S           "
      ]
     },
     "execution_count": 369,
     "metadata": {},
     "output_type": "execute_result"
    }
   ],
   "source": [
    "# Who pays so much?????\n",
    "# len(df_train[df_train['Fare'] > 200])  #20 people paid >200 :O\n",
    "df_train[df_train['Fare'] > 200]"
   ]
  },
  {
   "cell_type": "code",
   "execution_count": 302,
   "metadata": {
    "colab": {},
    "colab_type": "code",
    "id": "g8mVKiW4dm6-",
    "outputId": "01808ed9-a4b8-4c9f-e192-8ff329da07de"
   },
   "outputs": [
    {
     "data": {
      "text/plain": [
       "               665\n",
       "PC              60\n",
       "C.A.            27\n",
       "STON/O 2.       12\n",
       "A/5             10\n",
       "W./C.            9\n",
       "CA.              8\n",
       "SOTON/O.Q.       8\n",
       "A/5.             7\n",
       "SOTON/OQ         7\n",
       "STON/O2.         6\n",
       "CA               6\n",
       "F.C.C.           5\n",
       "SC/PARIS         5\n",
       "S.O.C.           5\n",
       "C                5\n",
       "SC/Paris         4\n",
       "A/4.             3\n",
       "S.O./P.P.        3\n",
       "A/4              3\n",
       "PP               3\n",
       "S.C./PARIS       2\n",
       "P/PP             2\n",
       "SOTON/O2         2\n",
       "WE/P             2\n",
       "SC/AH            2\n",
       "A./5.            2\n",
       "A.5.             2\n",
       "SCO/W            1\n",
       "Fa               1\n",
       "S.O.P.           1\n",
       "W.E.P.           1\n",
       "S.W./PP          1\n",
       "C.A./SOTON       1\n",
       "S.C./A.4.        1\n",
       "A4.              1\n",
       "A/S              1\n",
       "W/C              1\n",
       "SC               1\n",
       "SC/AH Basle      1\n",
       "SW/PP            1\n",
       "SO/C             1\n",
       "F.C.             1\n",
       "S.P.             1\n",
       "Name: Ticketid, dtype: int64"
      ]
     },
     "execution_count": 302,
     "metadata": {},
     "output_type": "execute_result"
    }
   ],
   "source": [
    "df_train.Ticketid.value_counts()"
   ]
  },
  {
   "cell_type": "markdown",
   "metadata": {},
   "source": [
    "### Imputing Values"
   ]
  },
  {
   "cell_type": "markdown",
   "metadata": {},
   "source": [
    "#### Age"
   ]
  },
  {
   "cell_type": "code",
   "execution_count": 333,
   "metadata": {},
   "outputs": [
    {
     "data": {
      "image/png": "[encoded data removed]",
      "text/plain": [
       "<Figure size 900x360 with 1 Axes>"
      ]
     },
     "metadata": {
      "needs_background": "light"
     },
     "output_type": "display_data"
    }
   ],
   "source": [
    "sns.factorplot('Title','Age', data=df, aspect = 2.5);"
   ]
  },
  {
   "cell_type": "code",
   "execution_count": 298,
   "metadata": {},
   "outputs": [
    {
     "data": {
      "text/plain": [
       "Mr        173\n",
       "Miss       47\n",
       "Mrs        27\n",
       "Master      7\n",
       "Ms          1\n",
       "Dr          1\n",
       "Name: Title, dtype: int64"
      ]
     },
     "execution_count": 298,
     "metadata": {},
     "output_type": "execute_result"
    }
   ],
   "source": [
    "df[df.Age.isnull()].Title.value_counts()"
   ]
  },
  {
   "cell_type": "code",
   "execution_count": 300,
   "metadata": {},
   "outputs": [
    {
     "data": {
      "text/plain": [
       "0     200\n",
       "1      29\n",
       "2      15\n",
       "4       5\n",
       "3       4\n",
       "10      3\n",
       "Name: Familia, dtype: int64"
      ]
     },
     "execution_count": 300,
     "metadata": {},
     "output_type": "execute_result"
    }
   ],
   "source": [
    "df[df.Age.isnull()].Familia.value_counts()"
   ]
  },
  {
   "cell_type": "code",
   "execution_count": 308,
   "metadata": {},
   "outputs": [
    {
     "data": {
      "text/plain": [
       "Familia\n",
       "0     31.500000\n",
       "1     32.710976\n",
       "2     26.534097\n",
       "3     19.423333\n",
       "4     23.764706\n",
       "5     20.120000\n",
       "6     17.375000\n",
       "7     18.000000\n",
       "10    14.500000\n",
       "Name: Age, dtype: float64"
      ]
     },
     "execution_count": 308,
     "metadata": {},
     "output_type": "execute_result"
    }
   ],
   "source": [
    "df.groupby('Familia').Age.mean()"
   ]
  },
  {
   "cell_type": "code",
   "execution_count": 312,
   "metadata": {},
   "outputs": [
    {
     "data": {
      "text/plain": [
       "Title\n",
       "Capt            70.000000\n",
       "Col             54.000000\n",
       "Don             40.000000\n",
       "Dona            39.000000\n",
       "Dr              43.571429\n",
       "Jonkheer        38.000000\n",
       "Lady            48.000000\n",
       "Major           48.500000\n",
       "Master           5.482642\n",
       "Miss            21.710957\n",
       "Mlle            24.000000\n",
       "Mme             24.000000\n",
       "Mr              32.240933\n",
       "Mrs             36.994118\n",
       "Ms              28.000000\n",
       "Rev             41.250000\n",
       "Sir             49.000000\n",
       "the Countess    33.000000\n",
       "Name: Age, dtype: float64"
      ]
     },
     "execution_count": 312,
     "metadata": {},
     "output_type": "execute_result"
    }
   ],
   "source": [
    "df.groupby('Title').Age.mean()"
   ]
  },
  {
   "cell_type": "code",
   "execution_count": null,
   "metadata": {},
   "outputs": [],
   "source": []
  },
  {
   "cell_type": "code",
   "execution_count": null,
   "metadata": {
    "colab": {},
    "colab_type": "code",
    "id": "mngQtaNndm7b",
    "outputId": "cadaa211-e6b8-40a0-8fde-2c12de3406f0"
   },
   "outputs": [],
   "source": [
    "temp=df.loc[(df['Pclass']==3) & (df['Parch']==0) & (df['SibSp']==0) & (df['Fare']>0)].sort_values(by=['Fare'],ascending=False)\n",
    "temp.head()"
   ]
  },
  {
   "cell_type": "code",
   "execution_count": null,
   "metadata": {
    "colab": {},
    "colab_type": "code",
    "id": "dEPr6tbxdm7d"
   },
   "outputs": [],
   "source": [
    "df['Fare']=df['Fare'].fillna(temp['Fare'].mean())"
   ]
  },
  {
   "cell_type": "code",
   "execution_count": null,
   "metadata": {
    "colab": {},
    "colab_type": "code",
    "id": "yRIPPJZ3dm7e",
    "outputId": "93f08840-97a2-45fa-defe-184bcc70edf4"
   },
   "outputs": [],
   "source": [
    "nullAgeSubset=df.loc[df['Age'].isnull()]\n",
    "nullAgeSubset.shape"
   ]
  },
  {
   "cell_type": "code",
   "execution_count": null,
   "metadata": {
    "colab": {},
    "colab_type": "code",
    "id": "kpHqC_3Qdm7g",
    "outputId": "496ee939-3b18-4278-b4ed-878f4f429643"
   },
   "outputs": [],
   "source": [
    "for index in nullAgeSubset.index:\n",
    "    ageSubsetMean=df['Age'].loc[(df['Parch']==nullAgeSubset.loc[index]['Parch'])&(df['SibSp']==nullAgeSubset.loc[index]['SibSp'])&(df['Pclass']==nullAgeSubset.loc[index]['Pclass'])&(df['Embarked']==nullAgeSubset.loc[index]['Embarked'])&(df['Sex']==nullAgeSubset.loc[index]['Sex'])].mean()\n",
    "    if(ageSubsetMean>0):\n",
    "        df['Age'].loc[index]=ageSubsetMean\n",
    "    else:\n",
    "        ageSubsetMean=df['Age'].loc[(df['Parch']==nullAgeSubset.loc[index]['Parch'])&(df['SibSp']==nullAgeSubset.loc[index]['SibSp'])&(df['Pclass']==nullAgeSubset.loc[index]['Pclass'])&(df['Embarked']==nullAgeSubset.loc[index]['Embarked'])].mean()\n",
    "        if(ageSubsetMean>0):\n",
    "            df['Age'].loc[index]=ageSubsetMean\n",
    "        else:\n",
    "            ageSubsetMean=df['Age'].loc[(df['Parch']==nullAgeSubset.loc[index]['Parch'])&(df['SibSp']==nullAgeSubset.loc[index]['SibSp'])&(df['Pclass']==nullAgeSubset.loc[index]['Pclass'])].mean()\n",
    "            if(ageSubsetMean>0):\n",
    "                df['Age'].loc[index]=ageSubsetMean\n",
    "            else:\n",
    "                df['Age'].loc[index]=df['Age'].mean()\n",
    "                "
   ]
  },
  {
   "cell_type": "code",
   "execution_count": null,
   "metadata": {
    "colab": {},
    "colab_type": "code",
    "id": "aVMxN04bdm7h",
    "outputId": "05071011-55cb-4d2b-f713-ebb2b1ee3290"
   },
   "outputs": [],
   "source": [
    "df.isnull().sum()"
   ]
  },
  {
   "cell_type": "code",
   "execution_count": null,
   "metadata": {
    "colab": {},
    "colab_type": "code",
    "id": "aAAj4LgEdm7j"
   },
   "outputs": [],
   "source": [
    "df.drop(['Cabin','Name','Ticket'],axis=1, inplace=True)"
   ]
  },
  {
   "cell_type": "code",
   "execution_count": null,
   "metadata": {
    "colab": {},
    "colab_type": "code",
    "id": "C4_z63mudm7l",
    "outputId": "5b473c44-1f47-4caa-8d3a-a3f7bd8e1198"
   },
   "outputs": [],
   "source": [
    "df.isnull().sum()"
   ]
  },
  {
   "cell_type": "code",
   "execution_count": null,
   "metadata": {
    "colab": {},
    "colab_type": "code",
    "id": "EEYSHUSHdm7n",
    "outputId": "5c7dd9f9-2073-4fb7-ba40-b93f925570b0"
   },
   "outputs": [],
   "source": [
    "df.describe()"
   ]
  },
  {
   "cell_type": "markdown",
   "metadata": {
    "colab_type": "text",
    "id": "5YxppJuudm7o"
   },
   "source": [
    "### Featurizing / Prepping Data + Standardizing and Breaking into Train/Test"
   ]
  },
  {
   "cell_type": "code",
   "execution_count": null,
   "metadata": {
    "colab": {},
    "colab_type": "code",
    "id": "q_ppwm1Edm7p"
   },
   "outputs": [],
   "source": [
    "from sklearn.preprocessing import LabelEncoder,StandardScaler,MinMaxScaler\n",
    "\n",
    "df['Embarked']=LabelEncoder().fit_transform(df['Embarked'])\n",
    "df['Sex']=LabelEncoder().fit_transform(df['Sex'])\n",
    "df['Age']=StandardScaler().fit_transform(np.array(df['Age']).reshape(-1,1))\n",
    "df['Fare']=StandardScaler().fit_transform(np.array(df['Fare']).reshape(-1,1))"
   ]
  },
  {
   "cell_type": "code",
   "execution_count": null,
   "metadata": {
    "colab": {},
    "colab_type": "code",
    "id": "ZwJIK2LKdm7q",
    "outputId": "3d0b74fd-46d5-4d29-dee4-f437055a0ed8"
   },
   "outputs": [],
   "source": [
    "df.describe()"
   ]
  },
  {
   "cell_type": "code",
   "execution_count": null,
   "metadata": {
    "colab": {},
    "colab_type": "code",
    "id": "aQPlETV1dm7s"
   },
   "outputs": [],
   "source": [
    "df_train_final = df[df.Survived.notnull()]\n",
    "df_test_final = df[df.Survived.isnull()].drop(['Survived'], axis=1)"
   ]
  },
  {
   "cell_type": "code",
   "execution_count": null,
   "metadata": {
    "colab": {},
    "colab_type": "code",
    "id": "R91FfpPNdm7u"
   },
   "outputs": [],
   "source": [
    "from sklearn.model_selection import train_test_split\n",
    "X_train, X_test, y_train, y_test = train_test_split (df_train_final.drop(['Survived'], axis=1),\n",
    "                                                     df_train_final['Survived'], \n",
    "                                                     test_size=0.1,random_state=101)"
   ]
  },
  {
   "cell_type": "code",
   "execution_count": null,
   "metadata": {
    "colab": {},
    "colab_type": "code",
    "id": "DHrx35_Zdm7w",
    "outputId": "65721c6c-e6e2-4bd4-ec99-f4963d555c39"
   },
   "outputs": [],
   "source": [
    "print(X_train.shape)\n",
    "print(X_test.shape)\n",
    "print(y_train.shape)\n",
    "print(y_test.shape)"
   ]
  },
  {
   "cell_type": "markdown",
   "metadata": {
    "colab_type": "text",
    "id": "ZHB2LpBbdm7x"
   },
   "source": [
    "## 4. Model Building"
   ]
  },
  {
   "cell_type": "markdown",
   "metadata": {},
   "source": [
    "### Load the Required Libraries"
   ]
  },
  {
   "cell_type": "code",
   "execution_count": null,
   "metadata": {
    "colab": {},
    "colab_type": "code",
    "id": "unF7NtWydm7x"
   },
   "outputs": [],
   "source": [
    "from sklearn.preprocessing import PolynomialFeatures\n",
    "from sklearn.metrics import accuracy_score\n",
    "from sklearn.svm import SVC\n",
    "from xgboost import XGBClassifier"
   ]
  },
  {
   "cell_type": "code",
   "execution_count": null,
   "metadata": {},
   "outputs": [],
   "source": [
    "param_test1 = {\n",
    "    'n_estimators': [100,200,500,750,1000],\n",
    "    'max_depth': [3,5,7,9],\n",
    "    'min_child_weight': [1,3,5],\n",
    "    'gamma':[i/10.0 for i in range(0,5)],\n",
    "    'subsample':[i/10.0 for i in range(6,10)],\n",
    "    'colsample_bytree':[i/10.0 for i in range(6,10)],\n",
    "    'reg_alpha':[0, 0.001, 0.005, 0.01, 0.05, 0.1, 1],\n",
    "    'learning_rate': [0.01, 0.02, 0.05, 0.1]\n",
    "}\n",
    "scoring = {'AUC': 'roc_auc', 'Accuracy': make_scorer(accuracy_score)}\n",
    "gsearch1 = GridSearchCV(estimator = XGBClassifier(), \n",
    "                       param_grid = param_test1, \n",
    "                       scoring=scoring, iid=False,\n",
    "                       cv=5, verbose = 5, \n",
    "                       refit='Accuracy')\n",
    "gsearch1.fit(X_train, Y_train)\n",
    "The grid search returns the following as the best parameter set:\n",
    "{learning_rate=0.02, n_estimators=750,\n",
    "                   max_depth= 3, min_child_weight= 1, \n",
    "                   colsample_bytree= 0.6, gamma= 0.0, \n",
    "                   reg_alpha= 0.001, subsample= 0.8}\n",
    "Now let’s try to implement the XGBoost model with these set of parameters:\n",
    "# Instantiate our model\n",
    "xg = XGBClassifier(learning_rate=0.02, n_estimators=750,\n",
    "                   max_depth= 3, min_child_weight= 1, \n",
    "                   colsample_bytree= 0.6, gamma= 0.0, \n",
    "                   reg_alpha= 0.001, subsample= 0.8\n",
    "                  )\n",
    "xg.fit(X_train, Y_train)\n",
    "xg_predictions = xg.predict(X_test)\n",
    "xg_data = pd.read_csv('test.csv')\n",
    "xg_data.insert((xg_data.shape[1]),'Survived',xg_predictions)\n",
    "xg_data.to_csv('XGBoost_SS_OH_FE_GSCV.csv')"
   ]
  },
  {
   "cell_type": "markdown",
   "metadata": {},
   "source": [
    "### Fit Model and Predict"
   ]
  },
  {
   "cell_type": "code",
   "execution_count": null,
   "metadata": {
    "colab": {},
    "colab_type": "code",
    "id": "K_83ahasdm7z",
    "outputId": "6c82c074-58eb-4920-a003-e8195728792a"
   },
   "outputs": [],
   "source": [
    "model = XGBClassifier (learning_rate=0.001, n_estimators=50, max_depth=8)\n",
    "model.fit (X_train, y_train)\n",
    "accuracy_score (y_test, model.predict(X_test))"
   ]
  },
  {
   "cell_type": "markdown",
   "metadata": {},
   "source": [
    "### Export the final output"
   ]
  },
  {
   "cell_type": "code",
   "execution_count": null,
   "metadata": {
    "colab": {},
    "colab_type": "code",
    "id": "Ht7Fpq7Hdm71",
    "outputId": "4756a2c4-4b76-449f-aa78-84634f464936"
   },
   "outputs": [],
   "source": [
    "df_test_final['Survived'] = model.predict(df_test_final).astype(int)\n",
    "df_test_final"
   ]
  },
  {
   "cell_type": "code",
   "execution_count": null,
   "metadata": {
    "colab": {},
    "colab_type": "code",
    "id": "b2Q1tE1hdm72"
   },
   "outputs": [],
   "source": [
    "df_test_final[['Survived']].to_csv('output.csv')"
   ]
  },
  {
   "cell_type": "markdown",
   "metadata": {
    "colab": {},
    "colab_type": "code",
    "id": "5LU6bCkFdm74"
   },
   "source": [
    "## Results and Final Thoughts\n",
    "\n",
    "Using the XGBoost algorithm yields better results, however, there are theories that simple models yield good results as well. This all depends on the features(variables) selected and tuning the hyperparameters.\n",
    "I have had better models with Deciscion Tree and Logistic Regression as well in initail cases. Feel free to use your own algorithm and explore. Thats the key in building better models: Exploration !\n",
    "Happy Coding :)"
   ]
  }
 ],
 "metadata": {
  "colab": {
   "collapsed_sections": [],
   "name": "Pytanic.ipynb",
   "provenance": []
  },
  "kernelspec": {
   "display_name": "Python 3",
   "language": "python",
   "name": "python3"
  },
  "language_info": {
   "codemirror_mode": {
    "name": "ipython",
    "version": 3
   },
   "file_extension": ".py",
   "mimetype": "text/x-python",
   "name": "python",
   "nbconvert_exporter": "python",
   "pygments_lexer": "ipython3",
   "version": "3.7.3"
  }
 },
 "nbformat": 4,
 "nbformat_minor": 1
}
