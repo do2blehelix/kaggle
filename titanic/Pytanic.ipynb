{
 "cells": [
  {
   "cell_type": "markdown",
   "metadata": {
    "colab_type": "text",
    "id": "_o2pZjNJdm6r"
   },
   "source": [
    "# Pytanic - Exploring the Titanic through Python\n",
    "\n",
    "Hello and Welcome to my Guide to predict the survivability of the famous Kaggle competition.\n",
    "\n",
    "The Basic Stages of the notebook are as follows:\n",
    "1. Objective\n",
    "2. Data Understanding\n",
    "3. Data Preparation\n",
    "4. Model Building\n",
    "  * 4a. Instantiate\n",
    "  * 4b. Fit\n",
    "  * 4c. Predict\n",
    "  * 4d. Score\n",
    "5. Results/Model Evaluation"
   ]
  },
  {
   "cell_type": "markdown",
   "metadata": {},
   "source": [
    "> ## Objective\n",
    "To Predict the Survivability of travellers on the RMS Titanic. The dataset is broken into training and test datasets. We need to use the `train` dataset and apply ML techniques to predict the Survived variable `(0=Did not Survive ; 1=Survived)` on the `test` data.\n",
    "Things to Check:\n",
    "* Q> Are Females more prone to Surviving?\n",
    "* Q> Are kids more prone to surviving?\n",
    "* Q> Is there any relationship beteen the class of the passenger and surviving?"
   ]
  },
  {
   "cell_type": "markdown",
   "metadata": {},
   "source": [
    "---"
   ]
  },
  {
   "cell_type": "markdown",
   "metadata": {
    "colab_type": "text",
    "id": "50q-LGVFdm6s"
   },
   "source": [
    "## 2. Data Understanding\n",
    "========================================================================================================================="
   ]
  },
  {
   "cell_type": "markdown",
   "metadata": {},
   "source": [
    "### Load the Data"
   ]
  },
  {
   "cell_type": "code",
   "execution_count": 3,
   "metadata": {
    "colab": {},
    "colab_type": "code",
    "id": "0adIL0JYdm6s"
   },
   "outputs": [],
   "source": [
    "# Import all the necessary packages. Packages loaded later in code as well as and when required\n",
    "\n",
    "import pandas as pd\n",
    "import numpy as np\n",
    "import matplotlib.pyplot as plt\n",
    "import seaborn as sns\n",
    "sns.set_style('whitegrid')\n",
    "\n",
    "%matplotlib inline"
   ]
  },
  {
   "cell_type": "code",
   "execution_count": 4,
   "metadata": {
    "colab": {
     "base_uri": "https://localhost:8080/",
     "height": 195
    },
    "colab_type": "code",
    "executionInfo": {
     "elapsed": 1068,
     "status": "ok",
     "timestamp": 1568902749428,
     "user": {
      "displayName": "Ayan Banerjee",
      "photoUrl": "https://lh3.googleusercontent.com/a-/AAuE7mCnFLXMhFHDZllhPnKiYWaLaQhFxrMp-Q_Gzh2Ud38=s64",
      "userId": "01243998261015692645"
     },
     "user_tz": -330
    },
    "id": "6oxwr7rfdm6v",
    "outputId": "8f1ef546-9ab3-4905-b3bc-fe93037dfd5b"
   },
   "outputs": [
    {
     "data": {
      "text/html": [
       "<div>\n",
       "<style scoped>\n",
       "    .dataframe tbody tr th:only-of-type {\n",
       "        vertical-align: middle;\n",
       "    }\n",
       "\n",
       "    .dataframe tbody tr th {\n",
       "        vertical-align: top;\n",
       "    }\n",
       "\n",
       "    .dataframe thead th {\n",
       "        text-align: right;\n",
       "    }\n",
       "</style>\n",
       "<table border=\"1\" class=\"dataframe\">\n",
       "  <thead>\n",
       "    <tr style=\"text-align: right;\">\n",
       "      <th></th>\n",
       "      <th>PassengerId</th>\n",
       "      <th>Survived</th>\n",
       "      <th>Pclass</th>\n",
       "      <th>Name</th>\n",
       "      <th>Sex</th>\n",
       "      <th>Age</th>\n",
       "      <th>SibSp</th>\n",
       "      <th>Parch</th>\n",
       "      <th>Ticket</th>\n",
       "      <th>Fare</th>\n",
       "      <th>Cabin</th>\n",
       "      <th>Embarked</th>\n",
       "    </tr>\n",
       "  </thead>\n",
       "  <tbody>\n",
       "    <tr>\n",
       "      <td>0</td>\n",
       "      <td>1</td>\n",
       "      <td>0</td>\n",
       "      <td>3</td>\n",
       "      <td>Braund, Mr. Owen Harris</td>\n",
       "      <td>male</td>\n",
       "      <td>22.0</td>\n",
       "      <td>1</td>\n",
       "      <td>0</td>\n",
       "      <td>A/5 21171</td>\n",
       "      <td>7.2500</td>\n",
       "      <td>NaN</td>\n",
       "      <td>S</td>\n",
       "    </tr>\n",
       "    <tr>\n",
       "      <td>1</td>\n",
       "      <td>2</td>\n",
       "      <td>1</td>\n",
       "      <td>1</td>\n",
       "      <td>Cumings, Mrs. John Bradley (Florence Briggs Th...</td>\n",
       "      <td>female</td>\n",
       "      <td>38.0</td>\n",
       "      <td>1</td>\n",
       "      <td>0</td>\n",
       "      <td>PC 17599</td>\n",
       "      <td>71.2833</td>\n",
       "      <td>C85</td>\n",
       "      <td>C</td>\n",
       "    </tr>\n",
       "    <tr>\n",
       "      <td>2</td>\n",
       "      <td>3</td>\n",
       "      <td>1</td>\n",
       "      <td>3</td>\n",
       "      <td>Heikkinen, Miss. Laina</td>\n",
       "      <td>female</td>\n",
       "      <td>26.0</td>\n",
       "      <td>0</td>\n",
       "      <td>0</td>\n",
       "      <td>STON/O2. 3101282</td>\n",
       "      <td>7.9250</td>\n",
       "      <td>NaN</td>\n",
       "      <td>S</td>\n",
       "    </tr>\n",
       "    <tr>\n",
       "      <td>3</td>\n",
       "      <td>4</td>\n",
       "      <td>1</td>\n",
       "      <td>1</td>\n",
       "      <td>Futrelle, Mrs. Jacques Heath (Lily May Peel)</td>\n",
       "      <td>female</td>\n",
       "      <td>35.0</td>\n",
       "      <td>1</td>\n",
       "      <td>0</td>\n",
       "      <td>113803</td>\n",
       "      <td>53.1000</td>\n",
       "      <td>C123</td>\n",
       "      <td>S</td>\n",
       "    </tr>\n",
       "    <tr>\n",
       "      <td>4</td>\n",
       "      <td>5</td>\n",
       "      <td>0</td>\n",
       "      <td>3</td>\n",
       "      <td>Allen, Mr. William Henry</td>\n",
       "      <td>male</td>\n",
       "      <td>35.0</td>\n",
       "      <td>0</td>\n",
       "      <td>0</td>\n",
       "      <td>373450</td>\n",
       "      <td>8.0500</td>\n",
       "      <td>NaN</td>\n",
       "      <td>S</td>\n",
       "    </tr>\n",
       "  </tbody>\n",
       "</table>\n",
       "</div>"
      ],
      "text/plain": [
       "   PassengerId  Survived  Pclass  \\\n",
       "0            1         0       3   \n",
       "1            2         1       1   \n",
       "2            3         1       3   \n",
       "3            4         1       1   \n",
       "4            5         0       3   \n",
       "\n",
       "                                                Name     Sex   Age  SibSp  \\\n",
       "0                            Braund, Mr. Owen Harris    male  22.0      1   \n",
       "1  Cumings, Mrs. John Bradley (Florence Briggs Th...  female  38.0      1   \n",
       "2                             Heikkinen, Miss. Laina  female  26.0      0   \n",
       "3       Futrelle, Mrs. Jacques Heath (Lily May Peel)  female  35.0      1   \n",
       "4                           Allen, Mr. William Henry    male  35.0      0   \n",
       "\n",
       "   Parch            Ticket     Fare Cabin Embarked  \n",
       "0      0         A/5 21171   7.2500   NaN        S  \n",
       "1      0          PC 17599  71.2833   C85        C  \n",
       "2      0  STON/O2. 3101282   7.9250   NaN        S  \n",
       "3      0            113803  53.1000  C123        S  \n",
       "4      0            373450   8.0500   NaN        S  "
      ]
     },
     "execution_count": 4,
     "metadata": {},
     "output_type": "execute_result"
    }
   ],
   "source": [
    "# Import the DataSets\n",
    "\n",
    "df_train=pd.read_csv(\"train.csv\")\n",
    "df_test=pd.read_csv(\"test.csv\")\n",
    "df_train.head()"
   ]
  },
  {
   "cell_type": "markdown",
   "metadata": {},
   "source": [
    "### Explore the Data"
   ]
  },
  {
   "cell_type": "code",
   "execution_count": 5,
   "metadata": {
    "scrolled": true
   },
   "outputs": [],
   "source": [
    "# import pandas_profiling\n",
    "\n",
    "# df_train.profile_report()\n",
    "# code doesnt work on my machine."
   ]
  },
  {
   "cell_type": "code",
   "execution_count": 6,
   "metadata": {},
   "outputs": [
    {
     "data": {
      "text/html": [
       "<div>\n",
       "<style scoped>\n",
       "    .dataframe tbody tr th:only-of-type {\n",
       "        vertical-align: middle;\n",
       "    }\n",
       "\n",
       "    .dataframe tbody tr th {\n",
       "        vertical-align: top;\n",
       "    }\n",
       "\n",
       "    .dataframe thead th {\n",
       "        text-align: right;\n",
       "    }\n",
       "</style>\n",
       "<table border=\"1\" class=\"dataframe\">\n",
       "  <thead>\n",
       "    <tr style=\"text-align: right;\">\n",
       "      <th></th>\n",
       "      <th>PassengerId</th>\n",
       "      <th>Survived</th>\n",
       "      <th>Pclass</th>\n",
       "      <th>Age</th>\n",
       "      <th>SibSp</th>\n",
       "      <th>Parch</th>\n",
       "      <th>Fare</th>\n",
       "    </tr>\n",
       "  </thead>\n",
       "  <tbody>\n",
       "    <tr>\n",
       "      <td>count</td>\n",
       "      <td>891.000000</td>\n",
       "      <td>891.000000</td>\n",
       "      <td>891.000000</td>\n",
       "      <td>714.000000</td>\n",
       "      <td>891.000000</td>\n",
       "      <td>891.000000</td>\n",
       "      <td>891.000000</td>\n",
       "    </tr>\n",
       "    <tr>\n",
       "      <td>mean</td>\n",
       "      <td>446.000000</td>\n",
       "      <td>0.383838</td>\n",
       "      <td>2.308642</td>\n",
       "      <td>29.699118</td>\n",
       "      <td>0.523008</td>\n",
       "      <td>0.381594</td>\n",
       "      <td>32.204208</td>\n",
       "    </tr>\n",
       "    <tr>\n",
       "      <td>std</td>\n",
       "      <td>257.353842</td>\n",
       "      <td>0.486592</td>\n",
       "      <td>0.836071</td>\n",
       "      <td>14.526497</td>\n",
       "      <td>1.102743</td>\n",
       "      <td>0.806057</td>\n",
       "      <td>49.693429</td>\n",
       "    </tr>\n",
       "    <tr>\n",
       "      <td>min</td>\n",
       "      <td>1.000000</td>\n",
       "      <td>0.000000</td>\n",
       "      <td>1.000000</td>\n",
       "      <td>0.420000</td>\n",
       "      <td>0.000000</td>\n",
       "      <td>0.000000</td>\n",
       "      <td>0.000000</td>\n",
       "    </tr>\n",
       "    <tr>\n",
       "      <td>25%</td>\n",
       "      <td>223.500000</td>\n",
       "      <td>0.000000</td>\n",
       "      <td>2.000000</td>\n",
       "      <td>20.125000</td>\n",
       "      <td>0.000000</td>\n",
       "      <td>0.000000</td>\n",
       "      <td>7.910400</td>\n",
       "    </tr>\n",
       "    <tr>\n",
       "      <td>50%</td>\n",
       "      <td>446.000000</td>\n",
       "      <td>0.000000</td>\n",
       "      <td>3.000000</td>\n",
       "      <td>28.000000</td>\n",
       "      <td>0.000000</td>\n",
       "      <td>0.000000</td>\n",
       "      <td>14.454200</td>\n",
       "    </tr>\n",
       "    <tr>\n",
       "      <td>75%</td>\n",
       "      <td>668.500000</td>\n",
       "      <td>1.000000</td>\n",
       "      <td>3.000000</td>\n",
       "      <td>38.000000</td>\n",
       "      <td>1.000000</td>\n",
       "      <td>0.000000</td>\n",
       "      <td>31.000000</td>\n",
       "    </tr>\n",
       "    <tr>\n",
       "      <td>max</td>\n",
       "      <td>891.000000</td>\n",
       "      <td>1.000000</td>\n",
       "      <td>3.000000</td>\n",
       "      <td>80.000000</td>\n",
       "      <td>8.000000</td>\n",
       "      <td>6.000000</td>\n",
       "      <td>512.329200</td>\n",
       "    </tr>\n",
       "  </tbody>\n",
       "</table>\n",
       "</div>"
      ],
      "text/plain": [
       "       PassengerId    Survived      Pclass         Age       SibSp  \\\n",
       "count   891.000000  891.000000  891.000000  714.000000  891.000000   \n",
       "mean    446.000000    0.383838    2.308642   29.699118    0.523008   \n",
       "std     257.353842    0.486592    0.836071   14.526497    1.102743   \n",
       "min       1.000000    0.000000    1.000000    0.420000    0.000000   \n",
       "25%     223.500000    0.000000    2.000000   20.125000    0.000000   \n",
       "50%     446.000000    0.000000    3.000000   28.000000    0.000000   \n",
       "75%     668.500000    1.000000    3.000000   38.000000    1.000000   \n",
       "max     891.000000    1.000000    3.000000   80.000000    8.000000   \n",
       "\n",
       "            Parch        Fare  \n",
       "count  891.000000  891.000000  \n",
       "mean     0.381594   32.204208  \n",
       "std      0.806057   49.693429  \n",
       "min      0.000000    0.000000  \n",
       "25%      0.000000    7.910400  \n",
       "50%      0.000000   14.454200  \n",
       "75%      0.000000   31.000000  \n",
       "max      6.000000  512.329200  "
      ]
     },
     "execution_count": 6,
     "metadata": {},
     "output_type": "execute_result"
    }
   ],
   "source": [
    "# Checking Distributions\n",
    "\n",
    "df_train.describe()"
   ]
  },
  {
   "cell_type": "code",
   "execution_count": 7,
   "metadata": {
    "colab": {
     "base_uri": "https://localhost:8080/",
     "height": 286
    },
    "colab_type": "code",
    "executionInfo": {
     "elapsed": 1373,
     "status": "ok",
     "timestamp": 1568902749851,
     "user": {
      "displayName": "Ayan Banerjee",
      "photoUrl": "https://lh3.googleusercontent.com/a-/AAuE7mCnFLXMhFHDZllhPnKiYWaLaQhFxrMp-Q_Gzh2Ud38=s64",
      "userId": "01243998261015692645"
     },
     "user_tz": -330
    },
    "id": "J7dANZlBdm6x",
    "outputId": "1a316ece-05d9-4aae-a630-6c12be0c5ebf"
   },
   "outputs": [
    {
     "data": {
      "text/plain": [
       "'Categorical Variables'"
      ]
     },
     "metadata": {},
     "output_type": "display_data"
    },
    {
     "data": {
      "text/plain": [
       "Name        object\n",
       "Sex         object\n",
       "Ticket      object\n",
       "Cabin       object\n",
       "Embarked    object\n",
       "dtype: object"
      ]
     },
     "metadata": {},
     "output_type": "display_data"
    },
    {
     "data": {
      "text/plain": [
       "'Continuous Variables'"
      ]
     },
     "metadata": {},
     "output_type": "display_data"
    },
    {
     "data": {
      "text/plain": [
       "PassengerId      int64\n",
       "Survived         int64\n",
       "Pclass           int64\n",
       "Age            float64\n",
       "SibSp            int64\n",
       "Parch            int64\n",
       "Fare           float64\n",
       "dtype: object"
      ]
     },
     "metadata": {},
     "output_type": "display_data"
    }
   ],
   "source": [
    "# Separating the Vairable Types\n",
    "\n",
    "display(\"Categorical Variables\", df_train.dtypes[(df_train.dtypes == object)])\n",
    "display(\"Continuous Variables\", df_train.dtypes[(df_train.dtypes != object)])"
   ]
  },
  {
   "cell_type": "code",
   "execution_count": 8,
   "metadata": {
    "colab": {
     "base_uri": "https://localhost:8080/",
     "height": 84
    },
    "colab_type": "code",
    "executionInfo": {
     "elapsed": 1226,
     "status": "ok",
     "timestamp": 1568902749854,
     "user": {
      "displayName": "Ayan Banerjee",
      "photoUrl": "https://lh3.googleusercontent.com/a-/AAuE7mCnFLXMhFHDZllhPnKiYWaLaQhFxrMp-Q_Gzh2Ud38=s64",
      "userId": "01243998261015692645"
     },
     "user_tz": -330
    },
    "id": "r3KovosBdm60",
    "outputId": "603ae513-6e39-4184-fa1c-ccf1f17d4b20"
   },
   "outputs": [
    {
     "data": {
      "text/plain": [
       "Age         177\n",
       "Cabin       687\n",
       "Embarked      2\n",
       "dtype: int64"
      ]
     },
     "metadata": {},
     "output_type": "display_data"
    },
    {
     "data": {
      "text/plain": [
       "Age       86\n",
       "Fare       1\n",
       "Cabin    327\n",
       "dtype: int64"
      ]
     },
     "metadata": {},
     "output_type": "display_data"
    },
    {
     "name": "stdout",
     "output_type": "stream",
     "text": [
      "Rows in Train= 891 //  Rows in Test= 418 //  Total rows =  1309\n"
     ]
    }
   ],
   "source": [
    "# Show the columns with missing values\n",
    "\n",
    "display(df_train.isnull().sum()[(df_train.isnull().sum() > 0)]);\n",
    "display(df_test.isnull().sum()[(df_test.isnull().sum() > 0)])\n",
    "\n",
    "print(\"Rows in Train=\", df_train.shape[0] , \"//  Rows in Test=\", df_test.shape[0] , \"//  Total rows = \", df_train.shape[0]+df_test.shape[0])"
   ]
  },
  {
   "cell_type": "code",
   "execution_count": 9,
   "metadata": {
    "colab": {
     "base_uri": "https://localhost:8080/",
     "height": 320
    },
    "colab_type": "code",
    "executionInfo": {
     "elapsed": 1804,
     "status": "ok",
     "timestamp": 1568902750593,
     "user": {
      "displayName": "Ayan Banerjee",
      "photoUrl": "https://lh3.googleusercontent.com/a-/AAuE7mCnFLXMhFHDZllhPnKiYWaLaQhFxrMp-Q_Gzh2Ud38=s64",
      "userId": "01243998261015692645"
     },
     "user_tz": -330
    },
    "id": "GRVoJUpJdm61",
    "outputId": "29d13f46-3a97-4d03-eafa-beca966c2e09"
   },
   "outputs": [
    {
     "data": {
      "image/png": "[encoded data removed]",
      "text/plain": [
       "<Figure size 432x288 with 2 Axes>"
      ]
     },
     "metadata": {
      "needs_background": "light"
     },
     "output_type": "display_data"
    }
   ],
   "source": [
    "# Check visual correlation plot\n",
    "\n",
    "#plt.figure(figsize = (12,8))\n",
    "sns.heatmap(df_train.corr(), annot=True, linewidths=.5);"
   ]
  },
  {
   "cell_type": "markdown",
   "metadata": {
    "colab_type": "text",
    "id": "fhuo6N1Tdm63"
   },
   "source": [
    "> **Notable Features from this correlation plot**\n",
    "* ***Survived***, the DV has strong -ve correlation with ***Pclass***\n",
    "* ***Survived*** is positively correlated to ***Fare***\n",
    "* ***Fare*** and ***Pclass*** are nevatively correlated, which explains the above points\n",
    "* ***Pclass*** also has a negative correlation with ***Age*** which says that older people preferred 1st class\n",
    "* ***Age*** is inversely related to ***Sibling/Spouse*** :: Lower aged has more siblings/spouse\n",
    "* ***Parent/Children*** also has a direct correlation with ***Siblings/Spouse***. Says that they prefer travelling with family."
   ]
  },
  {
   "cell_type": "markdown",
   "metadata": {
    "colab_type": "text",
    "id": "PXgfku7ddm64"
   },
   "source": [
    "### Univariate and Bivariate Explorations"
   ]
  },
  {
   "cell_type": "markdown",
   "metadata": {},
   "source": [
    "#### Exploring Pclass"
   ]
  },
  {
   "cell_type": "code",
   "execution_count": 10,
   "metadata": {
    "colab": {},
    "colab_type": "code",
    "id": "EeyIOUJkdm7H",
    "outputId": "95ea3181-1c7a-491c-a92c-de0fba89209a"
   },
   "outputs": [
    {
     "data": {
      "image/png": "[encoded data removed]",
      "text/plain": [
       "<Figure size 432x216 with 2 Axes>"
      ]
     },
     "metadata": {
      "needs_background": "light"
     },
     "output_type": "display_data"
    }
   ],
   "source": [
    "# Survived vs Pclass\n",
    "g= sns.FacetGrid(df_train,col='Survived')\n",
    "g.map(sns.distplot,'Pclass');"
   ]
  },
  {
   "cell_type": "code",
   "execution_count": 11,
   "metadata": {
    "colab": {
     "base_uri": "https://localhost:8080/",
     "height": 283
    },
    "colab_type": "code",
    "executionInfo": {
     "elapsed": 1751,
     "status": "ok",
     "timestamp": 1568902750994,
     "user": {
      "displayName": "Ayan Banerjee",
      "photoUrl": "https://lh3.googleusercontent.com/a-/AAuE7mCnFLXMhFHDZllhPnKiYWaLaQhFxrMp-Q_Gzh2Ud38=s64",
      "userId": "01243998261015692645"
     },
     "user_tz": -330
    },
    "id": "nHqJa6lvdm64",
    "outputId": "d9b85dad-e6dd-4fe1-8f8a-ccbdd2d16244"
   },
   "outputs": [
    {
     "data": {
      "image/png": "[encoded data removed]",
      "text/plain": [
       "<Figure size 432x288 with 1 Axes>"
      ]
     },
     "metadata": {
      "needs_background": "light"
     },
     "output_type": "display_data"
    }
   ],
   "source": [
    "# Pclass vs Fare\n",
    "sns.scatterplot(x='Pclass',y='Fare',data=df_train,palette='summer');"
   ]
  },
  {
   "cell_type": "code",
   "execution_count": 12,
   "metadata": {
    "colab": {},
    "colab_type": "code",
    "id": "iNFArWakdm7C",
    "outputId": "41215603-0e11-406f-dc2b-8917e023d3fc"
   },
   "outputs": [
    {
     "data": {
      "image/png": "[encoded data removed]",
      "text/plain": [
       "<Figure size 432x288 with 1 Axes>"
      ]
     },
     "metadata": {
      "needs_background": "light"
     },
     "output_type": "display_data"
    }
   ],
   "source": [
    "# Pclass vs age\n",
    "sns.boxplot(x='Pclass',y='Age',data=df_train,palette='winter');"
   ]
  },
  {
   "cell_type": "markdown",
   "metadata": {},
   "source": [
    "#### Exploring Age"
   ]
  },
  {
   "cell_type": "code",
   "execution_count": 13,
   "metadata": {
    "colab": {},
    "colab_type": "code",
    "id": "D5bAtbmHdm7E",
    "outputId": "b1def175-c851-4478-e77b-4fcbc2c7706a"
   },
   "outputs": [
    {
     "data": {
      "image/png": "[encoded data removed]",
      "text/plain": [
       "<Figure size 432x216 with 2 Axes>"
      ]
     },
     "metadata": {
      "needs_background": "light"
     },
     "output_type": "display_data"
    }
   ],
   "source": [
    "# Survived vs Age\n",
    "g= sns.FacetGrid(df_train,col='Survived')\n",
    "g.map(sns.distplot,'Age');"
   ]
  },
  {
   "cell_type": "markdown",
   "metadata": {},
   "source": [
    "#### Exploring Fare"
   ]
  },
  {
   "cell_type": "code",
   "execution_count": 14,
   "metadata": {
    "colab": {},
    "colab_type": "code",
    "id": "3yr-SQjMdm7F",
    "outputId": "b79c82da-7445-4c0e-9449-7b41669b3ece"
   },
   "outputs": [
    {
     "data": {
      "image/png": "[encoded data removed]",
      "text/plain": [
       "<Figure size 432x216 with 2 Axes>"
      ]
     },
     "metadata": {
      "needs_background": "light"
     },
     "output_type": "display_data"
    }
   ],
   "source": [
    "# Survived vs Fare\n",
    "g= sns.FacetGrid(df_train,col='Survived')\n",
    "g.map(sns.distplot,'Fare');"
   ]
  },
  {
   "cell_type": "markdown",
   "metadata": {},
   "source": [
    "#### Exploring SibSp"
   ]
  },
  {
   "cell_type": "code",
   "execution_count": 15,
   "metadata": {
    "colab": {},
    "colab_type": "code",
    "id": "_My2WN88dm7N",
    "outputId": "6d09e204-df17-4128-8d60-4094a307e13d"
   },
   "outputs": [
    {
     "data": {
      "image/png": "[encoded data removed]",
      "text/plain": [
       "<Figure size 432x216 with 2 Axes>"
      ]
     },
     "metadata": {
      "needs_background": "light"
     },
     "output_type": "display_data"
    }
   ],
   "source": [
    "# Survived vs Sibsp\n",
    "g= sns.FacetGrid(df_train,col='Survived')\n",
    "g.map(sns.distplot,'SibSp');"
   ]
  },
  {
   "cell_type": "markdown",
   "metadata": {},
   "source": [
    "### Multivariate Analysis"
   ]
  },
  {
   "cell_type": "code",
   "execution_count": 16,
   "metadata": {
    "colab": {},
    "colab_type": "code",
    "id": "uhFM45dBdm7I",
    "outputId": "e2683d07-28e7-4c47-e73e-5a7a0abcbe4c"
   },
   "outputs": [
    {
     "data": {
      "image/png": "[encoded data removed]",
      "text/plain": [
       "<Figure size 648x540 with 6 Axes>"
      ]
     },
     "metadata": {
      "needs_background": "light"
     },
     "output_type": "display_data"
    }
   ],
   "source": [
    "# Survived vs Pclass vs Age\n",
    "\n",
    "g = sns.FacetGrid(df_train, col='Survived', row='Pclass', height=2.5, aspect=1.8)\n",
    "g.map(plt.hist, 'Age', alpha=.5, bins=20);"
   ]
  },
  {
   "cell_type": "code",
   "execution_count": 17,
   "metadata": {
    "colab": {
     "base_uri": "https://localhost:8080/",
     "height": 508
    },
    "colab_type": "code",
    "executionInfo": {
     "elapsed": 1760,
     "status": "ok",
     "timestamp": 1568902872897,
     "user": {
      "displayName": "Ayan Banerjee",
      "photoUrl": "https://lh3.googleusercontent.com/a-/AAuE7mCnFLXMhFHDZllhPnKiYWaLaQhFxrMp-Q_Gzh2Ud38=s64",
      "userId": "01243998261015692645"
     },
     "user_tz": -330
    },
    "id": "9-OJaL0odm7K",
    "outputId": "a9df0031-5d91-456a-9088-0de3643b28f1"
   },
   "outputs": [
    {
     "name": "stderr",
     "output_type": "stream",
     "text": [
      "C:\\Anaconda3\\lib\\site-packages\\seaborn\\axisgrid.py:715: UserWarning: Using the barplot function without specifying `order` is likely to produce an incorrect plot.\n",
      "  warnings.warn(warning)\n"
     ]
    },
    {
     "data": {
      "image/png": "[encoded data removed]",
      "text/plain": [
       "<Figure size 460.8x432 with 6 Axes>"
      ]
     },
     "metadata": {
      "needs_background": "light"
     },
     "output_type": "display_data"
    }
   ],
   "source": [
    "# Survived vs Fare vs Embarked\n",
    "\n",
    "g = sns.FacetGrid(df_train, row='Embarked', col='Survived', height=2, aspect=1.6)\n",
    "g.map(sns.barplot, 'Sex', 'Fare', alpha=.5, ci=None);"
   ]
  },
  {
   "cell_type": "code",
   "execution_count": 18,
   "metadata": {
    "colab": {},
    "colab_type": "code",
    "id": "KI_bGPoXdm7L",
    "outputId": "12459f85-d3df-4930-9b98-5809e41c51d5"
   },
   "outputs": [
    {
     "data": {
      "image/png": "[encoded data removed]",
      "text/plain": [
       "<Figure size 648x324 with 3 Axes>"
      ]
     },
     "metadata": {
      "needs_background": "light"
     },
     "output_type": "display_data"
    }
   ],
   "source": [
    "# Survived vs Pclass vs Fare\n",
    "g = sns.catplot(x=\"Fare\", y=\"Survived\", row=\"Pclass\", kind=\"box\", orient=\"h\", height=1.5, aspect=6, data=df_train.query(\"Fare > 0\"))\n",
    "g.set(xscale=\"log\");"
   ]
  },
  {
   "cell_type": "markdown",
   "metadata": {},
   "source": [
    "> Key Findings:\n",
    "* Yes, women are more prone to survival, the graphical plots show the same\n",
    "* Yes, children are more prone to survival\n",
    "* Yes, the pclass is differentiator between survival"
   ]
  },
  {
   "cell_type": "markdown",
   "metadata": {},
   "source": [
    "----------------------"
   ]
  },
  {
   "cell_type": "markdown",
   "metadata": {
    "colab_type": "text",
    "id": "AEzpdh5Ydm7P"
   },
   "source": [
    "## 3. Data Preparation\n",
    "========================================================================================================================="
   ]
  },
  {
   "cell_type": "markdown",
   "metadata": {},
   "source": [
    "###  Cleaning Data"
   ]
  },
  {
   "cell_type": "code",
   "execution_count": 19,
   "metadata": {
    "colab": {},
    "colab_type": "code",
    "id": "QpQSFsDZdm7Q",
    "outputId": "280bb294-77d6-4b5b-d9d3-d7b67a4e7826"
   },
   "outputs": [
    {
     "data": {
      "text/plain": [
       "(891, 12)"
      ]
     },
     "execution_count": 19,
     "metadata": {},
     "output_type": "execute_result"
    }
   ],
   "source": [
    "# creating copy dataset of train\n",
    "df_train_clean = df_train.copy()\n",
    "df_train_clean.shape"
   ]
  },
  {
   "cell_type": "markdown",
   "metadata": {},
   "source": [
    "#### Removing Outliers"
   ]
  },
  {
   "cell_type": "code",
   "execution_count": 20,
   "metadata": {
    "colab": {},
    "colab_type": "code",
    "id": "UsiH9sYRdm7S",
    "outputId": "521ab887-86b5-49de-cd69-324bbd193048"
   },
   "outputs": [
    {
     "data": {
      "text/plain": [
       "(884, 12)"
      ]
     },
     "execution_count": 20,
     "metadata": {},
     "output_type": "execute_result"
    }
   ],
   "source": [
    "df_train_clean = df_train_clean[df_train_clean['SibSp'] < 8]\n",
    "df_train_clean.shape"
   ]
  },
  {
   "cell_type": "code",
   "execution_count": 21,
   "metadata": {
    "colab": {},
    "colab_type": "code",
    "id": "UQz7knykdm7V",
    "outputId": "8e1d6fe5-2d2e-44c7-b0c2-de8b31dfe119"
   },
   "outputs": [
    {
     "name": "stderr",
     "output_type": "stream",
     "text": [
      "C:\\Anaconda3\\lib\\site-packages\\ipykernel_launcher.py:1: UserWarning: Boolean Series key will be reindexed to match DataFrame index.\n",
      "  \"\"\"Entry point for launching an IPython kernel.\n"
     ]
    },
    {
     "data": {
      "text/plain": [
       "(881, 12)"
      ]
     },
     "execution_count": 21,
     "metadata": {},
     "output_type": "execute_result"
    }
   ],
   "source": [
    "df_train_clean = df_train_clean[df_train['Fare'] < 500];\n",
    "df_train_clean.shape"
   ]
  },
  {
   "cell_type": "markdown",
   "metadata": {
    "colab_type": "text",
    "id": "6hx8d9B1dm7W"
   },
   "source": [
    "### Merging Test and Train (*to impute values in both*)"
   ]
  },
  {
   "cell_type": "code",
   "execution_count": 22,
   "metadata": {
    "colab": {},
    "colab_type": "code",
    "id": "nOgL1Yzqdm7X",
    "outputId": "c7631776-a19c-49d8-ea38-d3094d0bb345"
   },
   "outputs": [
    {
     "name": "stdout",
     "output_type": "stream",
     "text": [
      "(1299, 11)\n"
     ]
    },
    {
     "data": {
      "text/html": [
       "<div>\n",
       "<style scoped>\n",
       "    .dataframe tbody tr th:only-of-type {\n",
       "        vertical-align: middle;\n",
       "    }\n",
       "\n",
       "    .dataframe tbody tr th {\n",
       "        vertical-align: top;\n",
       "    }\n",
       "\n",
       "    .dataframe thead th {\n",
       "        text-align: right;\n",
       "    }\n",
       "</style>\n",
       "<table border=\"1\" class=\"dataframe\">\n",
       "  <thead>\n",
       "    <tr style=\"text-align: right;\">\n",
       "      <th></th>\n",
       "      <th>Survived</th>\n",
       "      <th>Pclass</th>\n",
       "      <th>Name</th>\n",
       "      <th>Sex</th>\n",
       "      <th>Age</th>\n",
       "      <th>SibSp</th>\n",
       "      <th>Parch</th>\n",
       "      <th>Ticket</th>\n",
       "      <th>Fare</th>\n",
       "      <th>Cabin</th>\n",
       "      <th>Embarked</th>\n",
       "    </tr>\n",
       "    <tr>\n",
       "      <th>PassengerId</th>\n",
       "      <th></th>\n",
       "      <th></th>\n",
       "      <th></th>\n",
       "      <th></th>\n",
       "      <th></th>\n",
       "      <th></th>\n",
       "      <th></th>\n",
       "      <th></th>\n",
       "      <th></th>\n",
       "      <th></th>\n",
       "      <th></th>\n",
       "    </tr>\n",
       "  </thead>\n",
       "  <tbody>\n",
       "    <tr>\n",
       "      <td>1</td>\n",
       "      <td>0.0</td>\n",
       "      <td>3</td>\n",
       "      <td>Braund, Mr. Owen Harris</td>\n",
       "      <td>male</td>\n",
       "      <td>22.0</td>\n",
       "      <td>1</td>\n",
       "      <td>0</td>\n",
       "      <td>A/5 21171</td>\n",
       "      <td>7.2500</td>\n",
       "      <td>NaN</td>\n",
       "      <td>S</td>\n",
       "    </tr>\n",
       "    <tr>\n",
       "      <td>2</td>\n",
       "      <td>1.0</td>\n",
       "      <td>1</td>\n",
       "      <td>Cumings, Mrs. John Bradley (Florence Briggs Th...</td>\n",
       "      <td>female</td>\n",
       "      <td>38.0</td>\n",
       "      <td>1</td>\n",
       "      <td>0</td>\n",
       "      <td>PC 17599</td>\n",
       "      <td>71.2833</td>\n",
       "      <td>C85</td>\n",
       "      <td>C</td>\n",
       "    </tr>\n",
       "    <tr>\n",
       "      <td>3</td>\n",
       "      <td>1.0</td>\n",
       "      <td>3</td>\n",
       "      <td>Heikkinen, Miss. Laina</td>\n",
       "      <td>female</td>\n",
       "      <td>26.0</td>\n",
       "      <td>0</td>\n",
       "      <td>0</td>\n",
       "      <td>STON/O2. 3101282</td>\n",
       "      <td>7.9250</td>\n",
       "      <td>NaN</td>\n",
       "      <td>S</td>\n",
       "    </tr>\n",
       "    <tr>\n",
       "      <td>4</td>\n",
       "      <td>1.0</td>\n",
       "      <td>1</td>\n",
       "      <td>Futrelle, Mrs. Jacques Heath (Lily May Peel)</td>\n",
       "      <td>female</td>\n",
       "      <td>35.0</td>\n",
       "      <td>1</td>\n",
       "      <td>0</td>\n",
       "      <td>113803</td>\n",
       "      <td>53.1000</td>\n",
       "      <td>C123</td>\n",
       "      <td>S</td>\n",
       "    </tr>\n",
       "    <tr>\n",
       "      <td>5</td>\n",
       "      <td>0.0</td>\n",
       "      <td>3</td>\n",
       "      <td>Allen, Mr. William Henry</td>\n",
       "      <td>male</td>\n",
       "      <td>35.0</td>\n",
       "      <td>0</td>\n",
       "      <td>0</td>\n",
       "      <td>373450</td>\n",
       "      <td>8.0500</td>\n",
       "      <td>NaN</td>\n",
       "      <td>S</td>\n",
       "    </tr>\n",
       "  </tbody>\n",
       "</table>\n",
       "</div>"
      ],
      "text/plain": [
       "             Survived  Pclass  \\\n",
       "PassengerId                     \n",
       "1                 0.0       3   \n",
       "2                 1.0       1   \n",
       "3                 1.0       3   \n",
       "4                 1.0       1   \n",
       "5                 0.0       3   \n",
       "\n",
       "                                                          Name     Sex   Age  \\\n",
       "PassengerId                                                                    \n",
       "1                                      Braund, Mr. Owen Harris    male  22.0   \n",
       "2            Cumings, Mrs. John Bradley (Florence Briggs Th...  female  38.0   \n",
       "3                                       Heikkinen, Miss. Laina  female  26.0   \n",
       "4                 Futrelle, Mrs. Jacques Heath (Lily May Peel)  female  35.0   \n",
       "5                                     Allen, Mr. William Henry    male  35.0   \n",
       "\n",
       "             SibSp  Parch            Ticket     Fare Cabin Embarked  \n",
       "PassengerId                                                          \n",
       "1                1      0         A/5 21171   7.2500   NaN        S  \n",
       "2                1      0          PC 17599  71.2833   C85        C  \n",
       "3                0      0  STON/O2. 3101282   7.9250   NaN        S  \n",
       "4                1      0            113803  53.1000  C123        S  \n",
       "5                0      0            373450   8.0500   NaN        S  "
      ]
     },
     "execution_count": 22,
     "metadata": {},
     "output_type": "execute_result"
    }
   ],
   "source": [
    "df = pd.concat([df_train_clean, df_test], ignore_index=True, sort=False)\n",
    "df.set_index('PassengerId', inplace=True)\n",
    "\n",
    "print(df.shape)\n",
    "df.head()"
   ]
  },
  {
   "cell_type": "code",
   "execution_count": 23,
   "metadata": {
    "colab": {},
    "colab_type": "code",
    "id": "_c_zZVd4dm7Y",
    "outputId": "4f0e01be-a25b-45d0-cb1d-1b93630ece16"
   },
   "outputs": [
    {
     "data": {
      "text/plain": [
       "Survived     418\n",
       "Age          256\n",
       "Fare           1\n",
       "Cabin       1006\n",
       "Embarked       2\n",
       "dtype: int64"
      ]
     },
     "execution_count": 23,
     "metadata": {},
     "output_type": "execute_result"
    }
   ],
   "source": [
    "df.isnull().sum()[(df.isnull().sum() > 0)]"
   ]
  },
  {
   "cell_type": "markdown",
   "metadata": {},
   "source": [
    "----------------------"
   ]
  },
  {
   "cell_type": "markdown",
   "metadata": {},
   "source": [
    "## Featurizing and Reshaping\n",
    "Taking each column at a time and reshaping and or featurizing"
   ]
  },
  {
   "cell_type": "markdown",
   "metadata": {},
   "source": [
    "#### PassengerID \n",
    "is already set as Index\n",
    "#### Survived\n",
    "is the Dependent Variable"
   ]
  },
  {
   "cell_type": "markdown",
   "metadata": {},
   "source": [
    "#### Pclass\n",
    "set as numeric : no change required"
   ]
  },
  {
   "cell_type": "code",
   "execution_count": 24,
   "metadata": {},
   "outputs": [
    {
     "data": {
      "image/png": "[encoded data removed]",
      "text/plain": [
       "<Figure size 432x288 with 3 Axes>"
      ]
     },
     "metadata": {},
     "output_type": "display_data"
    }
   ],
   "source": [
    "# Pclass\n",
    "pd.crosstab(df_train['Survived'], df_train['Pclass']).plot(kind='pie', subplots=True, autopct='%.0f',legend=False);"
   ]
  },
  {
   "cell_type": "markdown",
   "metadata": {},
   "source": [
    "---"
   ]
  },
  {
   "cell_type": "markdown",
   "metadata": {},
   "source": [
    "#### Sex"
   ]
  },
  {
   "cell_type": "code",
   "execution_count": 25,
   "metadata": {},
   "outputs": [],
   "source": [
    "# No need for changes"
   ]
  },
  {
   "cell_type": "markdown",
   "metadata": {},
   "source": [
    "---"
   ]
  },
  {
   "cell_type": "markdown",
   "metadata": {},
   "source": [
    "#### Name + Title from Name"
   ]
  },
  {
   "cell_type": "code",
   "execution_count": 26,
   "metadata": {
    "scrolled": true
   },
   "outputs": [
    {
     "name": "stdout",
     "output_type": "stream",
     "text": [
      "Missing Values in Title 0\n"
     ]
    },
    {
     "data": {
      "text/html": [
       "<div>\n",
       "<style scoped>\n",
       "    .dataframe tbody tr th:only-of-type {\n",
       "        vertical-align: middle;\n",
       "    }\n",
       "\n",
       "    .dataframe tbody tr th {\n",
       "        vertical-align: top;\n",
       "    }\n",
       "\n",
       "    .dataframe thead th {\n",
       "        text-align: right;\n",
       "    }\n",
       "</style>\n",
       "<table border=\"1\" class=\"dataframe\">\n",
       "  <thead>\n",
       "    <tr style=\"text-align: right;\">\n",
       "      <th>Title</th>\n",
       "      <th>Capt</th>\n",
       "      <th>Col</th>\n",
       "      <th>Don</th>\n",
       "      <th>Dona</th>\n",
       "      <th>Dr</th>\n",
       "      <th>Jonkheer</th>\n",
       "      <th>Lady</th>\n",
       "      <th>Major</th>\n",
       "      <th>Master</th>\n",
       "      <th>Miss</th>\n",
       "      <th>Mlle</th>\n",
       "      <th>Mme</th>\n",
       "      <th>Mr</th>\n",
       "      <th>Mrs</th>\n",
       "      <th>Ms</th>\n",
       "      <th>Rev</th>\n",
       "      <th>Sir</th>\n",
       "      <th>the Countess</th>\n",
       "    </tr>\n",
       "    <tr>\n",
       "      <th>Sex</th>\n",
       "      <th></th>\n",
       "      <th></th>\n",
       "      <th></th>\n",
       "      <th></th>\n",
       "      <th></th>\n",
       "      <th></th>\n",
       "      <th></th>\n",
       "      <th></th>\n",
       "      <th></th>\n",
       "      <th></th>\n",
       "      <th></th>\n",
       "      <th></th>\n",
       "      <th></th>\n",
       "      <th></th>\n",
       "      <th></th>\n",
       "      <th></th>\n",
       "      <th></th>\n",
       "      <th></th>\n",
       "    </tr>\n",
       "  </thead>\n",
       "  <tbody>\n",
       "    <tr>\n",
       "      <td>female</td>\n",
       "      <td>0</td>\n",
       "      <td>0</td>\n",
       "      <td>0</td>\n",
       "      <td>1</td>\n",
       "      <td>1</td>\n",
       "      <td>0</td>\n",
       "      <td>1</td>\n",
       "      <td>0</td>\n",
       "      <td>0</td>\n",
       "      <td>256</td>\n",
       "      <td>2</td>\n",
       "      <td>1</td>\n",
       "      <td>0</td>\n",
       "      <td>197</td>\n",
       "      <td>2</td>\n",
       "      <td>0</td>\n",
       "      <td>0</td>\n",
       "      <td>1</td>\n",
       "    </tr>\n",
       "    <tr>\n",
       "      <td>male</td>\n",
       "      <td>1</td>\n",
       "      <td>4</td>\n",
       "      <td>1</td>\n",
       "      <td>0</td>\n",
       "      <td>7</td>\n",
       "      <td>1</td>\n",
       "      <td>0</td>\n",
       "      <td>2</td>\n",
       "      <td>60</td>\n",
       "      <td>0</td>\n",
       "      <td>0</td>\n",
       "      <td>0</td>\n",
       "      <td>752</td>\n",
       "      <td>0</td>\n",
       "      <td>0</td>\n",
       "      <td>8</td>\n",
       "      <td>1</td>\n",
       "      <td>0</td>\n",
       "    </tr>\n",
       "  </tbody>\n",
       "</table>\n",
       "</div>"
      ],
      "text/plain": [
       "Title   Capt  Col  Don  Dona  Dr  Jonkheer  Lady  Major  Master  Miss  Mlle  \\\n",
       "Sex                                                                           \n",
       "female     0    0    0     1   1         0     1      0       0   256     2   \n",
       "male       1    4    1     0   7         1     0      2      60     0     0   \n",
       "\n",
       "Title   Mme   Mr  Mrs  Ms  Rev  Sir  the Countess  \n",
       "Sex                                                \n",
       "female    1    0  197   2    0    0             1  \n",
       "male      0  752    0   0    8    1             0  "
      ]
     },
     "execution_count": 26,
     "metadata": {},
     "output_type": "execute_result"
    }
   ],
   "source": [
    "# Create Title Column by extracting the Title from Name\n",
    "\n",
    "df['Title'] = df.Name.apply(lambda name: name.split(',')[1].split('.')[0].strip())\n",
    "print(\"Missing Values in Title\", df.Title.isnull().sum())\n",
    "pd.crosstab(df['Sex'], df['Title'])"
   ]
  },
  {
   "cell_type": "code",
   "execution_count": 27,
   "metadata": {},
   "outputs": [
    {
     "data": {
      "image/png": "[encoded data removed]",
      "text/plain": [
       "<Figure size 900x360 with 1 Axes>"
      ]
     },
     "metadata": {
      "needs_background": "light"
     },
     "output_type": "display_data"
    }
   ],
   "source": [
    "sns.catplot('Title','Survived', data=df[df.index.isin(df_train.index)], kind='point', aspect = 2.5);"
   ]
  },
  {
   "cell_type": "code",
   "execution_count": 28,
   "metadata": {},
   "outputs": [],
   "source": [
    "# Grouping Titles\n",
    "\n",
    "title_replace = {\n",
    "    'Don': 0,\n",
    "    'Rev': 0,\n",
    "    'Jonkheer': 0,\n",
    "    'Capt': 0,\n",
    "    'Mr': 1,\n",
    "    'Dr': 2,\n",
    "    'Col': 3,\n",
    "    'Major': 3,\n",
    "    'Master': 4,\n",
    "    'Miss': 5,\n",
    "    'Mrs': 6,\n",
    "    'Dona': 6,  #Dona is Mrs in Spanish\n",
    "    'Mme': 7,\n",
    "    'Ms': 7,\n",
    "    'Mlle': 7,\n",
    "    'Sir': 7,\n",
    "    'Lady': 7,\n",
    "    'the Countess': 7\n",
    "}\n",
    "\n",
    "df['Title_Flag'] = df['Title'].apply(lambda x: title_replace.get(x))"
   ]
  },
  {
   "cell_type": "code",
   "execution_count": 29,
   "metadata": {},
   "outputs": [],
   "source": [
    "# Gathering Name Length and dropping Name\n",
    "\n",
    "df['NameLen'] = df['Name'].apply(lambda x: len(x))"
   ]
  },
  {
   "cell_type": "code",
   "execution_count": 30,
   "metadata": {
    "scrolled": true
   },
   "outputs": [
    {
     "data": {
      "image/png": "[encoded data removed]",
      "text/plain": [
       "<Figure size 432x288 with 1 Axes>"
      ]
     },
     "metadata": {
      "needs_background": "light"
     },
     "output_type": "display_data"
    }
   ],
   "source": [
    "sns.pointplot(x='NameLen',y='Survived', data=df[df.index.isin(df_train.index)]);"
   ]
  },
  {
   "cell_type": "code",
   "execution_count": 31,
   "metadata": {},
   "outputs": [
    {
     "data": {
      "text/html": [
       "<div>\n",
       "<style scoped>\n",
       "    .dataframe tbody tr th:only-of-type {\n",
       "        vertical-align: middle;\n",
       "    }\n",
       "\n",
       "    .dataframe tbody tr th {\n",
       "        vertical-align: top;\n",
       "    }\n",
       "\n",
       "    .dataframe thead th {\n",
       "        text-align: right;\n",
       "    }\n",
       "</style>\n",
       "<table border=\"1\" class=\"dataframe\">\n",
       "  <thead>\n",
       "    <tr style=\"text-align: right;\">\n",
       "      <th></th>\n",
       "      <th>Survived</th>\n",
       "      <th>Pclass</th>\n",
       "      <th>Name</th>\n",
       "      <th>Sex</th>\n",
       "      <th>Age</th>\n",
       "      <th>SibSp</th>\n",
       "      <th>Parch</th>\n",
       "      <th>Ticket</th>\n",
       "      <th>Fare</th>\n",
       "      <th>Cabin</th>\n",
       "      <th>Embarked</th>\n",
       "      <th>Title</th>\n",
       "      <th>Title_Flag</th>\n",
       "      <th>NameLen</th>\n",
       "    </tr>\n",
       "    <tr>\n",
       "      <th>PassengerId</th>\n",
       "      <th></th>\n",
       "      <th></th>\n",
       "      <th></th>\n",
       "      <th></th>\n",
       "      <th></th>\n",
       "      <th></th>\n",
       "      <th></th>\n",
       "      <th></th>\n",
       "      <th></th>\n",
       "      <th></th>\n",
       "      <th></th>\n",
       "      <th></th>\n",
       "      <th></th>\n",
       "      <th></th>\n",
       "    </tr>\n",
       "  </thead>\n",
       "  <tbody>\n",
       "    <tr>\n",
       "      <td>1</td>\n",
       "      <td>0.0</td>\n",
       "      <td>3</td>\n",
       "      <td>Braund, Mr. Owen Harris</td>\n",
       "      <td>male</td>\n",
       "      <td>22.0</td>\n",
       "      <td>1</td>\n",
       "      <td>0</td>\n",
       "      <td>A/5 21171</td>\n",
       "      <td>7.2500</td>\n",
       "      <td>NaN</td>\n",
       "      <td>S</td>\n",
       "      <td>Mr</td>\n",
       "      <td>1</td>\n",
       "      <td>23</td>\n",
       "    </tr>\n",
       "    <tr>\n",
       "      <td>2</td>\n",
       "      <td>1.0</td>\n",
       "      <td>1</td>\n",
       "      <td>Cumings, Mrs. John Bradley (Florence Briggs Th...</td>\n",
       "      <td>female</td>\n",
       "      <td>38.0</td>\n",
       "      <td>1</td>\n",
       "      <td>0</td>\n",
       "      <td>PC 17599</td>\n",
       "      <td>71.2833</td>\n",
       "      <td>C85</td>\n",
       "      <td>C</td>\n",
       "      <td>Mrs</td>\n",
       "      <td>6</td>\n",
       "      <td>51</td>\n",
       "    </tr>\n",
       "    <tr>\n",
       "      <td>3</td>\n",
       "      <td>1.0</td>\n",
       "      <td>3</td>\n",
       "      <td>Heikkinen, Miss. Laina</td>\n",
       "      <td>female</td>\n",
       "      <td>26.0</td>\n",
       "      <td>0</td>\n",
       "      <td>0</td>\n",
       "      <td>STON/O2. 3101282</td>\n",
       "      <td>7.9250</td>\n",
       "      <td>NaN</td>\n",
       "      <td>S</td>\n",
       "      <td>Miss</td>\n",
       "      <td>5</td>\n",
       "      <td>22</td>\n",
       "    </tr>\n",
       "    <tr>\n",
       "      <td>4</td>\n",
       "      <td>1.0</td>\n",
       "      <td>1</td>\n",
       "      <td>Futrelle, Mrs. Jacques Heath (Lily May Peel)</td>\n",
       "      <td>female</td>\n",
       "      <td>35.0</td>\n",
       "      <td>1</td>\n",
       "      <td>0</td>\n",
       "      <td>113803</td>\n",
       "      <td>53.1000</td>\n",
       "      <td>C123</td>\n",
       "      <td>S</td>\n",
       "      <td>Mrs</td>\n",
       "      <td>6</td>\n",
       "      <td>44</td>\n",
       "    </tr>\n",
       "    <tr>\n",
       "      <td>5</td>\n",
       "      <td>0.0</td>\n",
       "      <td>3</td>\n",
       "      <td>Allen, Mr. William Henry</td>\n",
       "      <td>male</td>\n",
       "      <td>35.0</td>\n",
       "      <td>0</td>\n",
       "      <td>0</td>\n",
       "      <td>373450</td>\n",
       "      <td>8.0500</td>\n",
       "      <td>NaN</td>\n",
       "      <td>S</td>\n",
       "      <td>Mr</td>\n",
       "      <td>1</td>\n",
       "      <td>24</td>\n",
       "    </tr>\n",
       "  </tbody>\n",
       "</table>\n",
       "</div>"
      ],
      "text/plain": [
       "             Survived  Pclass  \\\n",
       "PassengerId                     \n",
       "1                 0.0       3   \n",
       "2                 1.0       1   \n",
       "3                 1.0       3   \n",
       "4                 1.0       1   \n",
       "5                 0.0       3   \n",
       "\n",
       "                                                          Name     Sex   Age  \\\n",
       "PassengerId                                                                    \n",
       "1                                      Braund, Mr. Owen Harris    male  22.0   \n",
       "2            Cumings, Mrs. John Bradley (Florence Briggs Th...  female  38.0   \n",
       "3                                       Heikkinen, Miss. Laina  female  26.0   \n",
       "4                 Futrelle, Mrs. Jacques Heath (Lily May Peel)  female  35.0   \n",
       "5                                     Allen, Mr. William Henry    male  35.0   \n",
       "\n",
       "             SibSp  Parch            Ticket     Fare Cabin Embarked Title  \\\n",
       "PassengerId                                                                 \n",
       "1                1      0         A/5 21171   7.2500   NaN        S    Mr   \n",
       "2                1      0          PC 17599  71.2833   C85        C   Mrs   \n",
       "3                0      0  STON/O2. 3101282   7.9250   NaN        S  Miss   \n",
       "4                1      0            113803  53.1000  C123        S   Mrs   \n",
       "5                0      0            373450   8.0500   NaN        S    Mr   \n",
       "\n",
       "             Title_Flag  NameLen  \n",
       "PassengerId                       \n",
       "1                     1       23  \n",
       "2                     6       51  \n",
       "3                     5       22  \n",
       "4                     6       44  \n",
       "5                     1       24  "
      ]
     },
     "execution_count": 31,
     "metadata": {},
     "output_type": "execute_result"
    }
   ],
   "source": [
    "df.head()"
   ]
  },
  {
   "cell_type": "markdown",
   "metadata": {},
   "source": [
    "---"
   ]
  },
  {
   "cell_type": "markdown",
   "metadata": {},
   "source": [
    "#### SibSp & Parch :: Familia (Total Family) = Parents + Children + Siblings + Spouse"
   ]
  },
  {
   "cell_type": "code",
   "execution_count": 32,
   "metadata": {},
   "outputs": [],
   "source": [
    "# Creating total Family Variable\n",
    "\n",
    "df['Familia'] = df.Parch + df.SibSp"
   ]
  },
  {
   "cell_type": "code",
   "execution_count": 33,
   "metadata": {
    "scrolled": false
   },
   "outputs": [
    {
     "name": "stderr",
     "output_type": "stream",
     "text": [
      "C:\\Anaconda3\\lib\\site-packages\\seaborn\\categorical.py:3666: UserWarning: The `factorplot` function has been renamed to `catplot`. The original name will be removed in a future release. Please update your code. Note that the default `kind` in `factorplot` (`'point'`) has changed `'strip'` in `catplot`.\n",
      "  warnings.warn(msg)\n"
     ]
    },
    {
     "data": {
      "image/png": "[encoded data removed]",
      "text/plain": [
       "<Figure size 900x360 with 1 Axes>"
      ]
     },
     "metadata": {
      "needs_background": "light"
     },
     "output_type": "display_data"
    }
   ],
   "source": [
    "# Parch\n",
    "sns.factorplot('Parch','Survived', data=df_train, aspect = 2.5);"
   ]
  },
  {
   "cell_type": "code",
   "execution_count": 34,
   "metadata": {},
   "outputs": [
    {
     "data": {
      "image/png": "[encoded data removed]",
      "text/plain": [
       "<Figure size 900x360 with 1 Axes>"
      ]
     },
     "metadata": {
      "needs_background": "light"
     },
     "output_type": "display_data"
    }
   ],
   "source": [
    "# SibSp\n",
    "sns.factorplot('SibSp', 'Survived',data=df_train, aspect = 2.5);"
   ]
  },
  {
   "cell_type": "code",
   "execution_count": 35,
   "metadata": {},
   "outputs": [
    {
     "data": {
      "image/png": "[encoded data removed]",
      "text/plain": [
       "<Figure size 432x288 with 7 Axes>"
      ]
     },
     "metadata": {},
     "output_type": "display_data"
    }
   ],
   "source": [
    "pd.crosstab(df_train['Survived'], df_train['SibSp']).plot(kind='pie', subplots=True, legend=False);"
   ]
  },
  {
   "cell_type": "code",
   "execution_count": 36,
   "metadata": {},
   "outputs": [
    {
     "data": {
      "image/png": "[encoded data removed]",
      "text/plain": [
       "<Figure size 900x360 with 1 Axes>"
      ]
     },
     "metadata": {
      "needs_background": "light"
     },
     "output_type": "display_data"
    }
   ],
   "source": [
    "# Check Familia with Survived from Training Set only\n",
    "sns.factorplot('Familia','Survived', data=df[df.index.isin(df_train.index)], aspect = 2.5);"
   ]
  },
  {
   "cell_type": "markdown",
   "metadata": {},
   "source": [
    "---"
   ]
  },
  {
   "cell_type": "markdown",
   "metadata": {
    "colab": {},
    "colab_type": "code",
    "id": "-GYDHa6jdm7B",
    "outputId": "f24ae6cc-3fad-4f3a-e579-db96bed6c65e"
   },
   "source": [
    "#### Ticket"
   ]
  },
  {
   "cell_type": "code",
   "execution_count": 37,
   "metadata": {
    "colab": {
     "base_uri": "https://localhost:8080/",
     "height": 195
    },
    "colab_type": "code",
    "executionInfo": {
     "elapsed": 1221,
     "status": "ok",
     "timestamp": 1568902753060,
     "user": {
      "displayName": "Ayan Banerjee",
      "photoUrl": "https://lh3.googleusercontent.com/a-/AAuE7mCnFLXMhFHDZllhPnKiYWaLaQhFxrMp-Q_Gzh2Ud38=s64",
      "userId": "01243998261015692645"
     },
     "user_tz": -330
    },
    "id": "-fLPQ3XPdm68",
    "outputId": "314f4e04-f3d5-411c-b26a-5945ccd2c533"
   },
   "outputs": [
    {
     "data": {
      "text/html": [
       "<div>\n",
       "<style scoped>\n",
       "    .dataframe tbody tr th:only-of-type {\n",
       "        vertical-align: middle;\n",
       "    }\n",
       "\n",
       "    .dataframe tbody tr th {\n",
       "        vertical-align: top;\n",
       "    }\n",
       "\n",
       "    .dataframe thead th {\n",
       "        text-align: right;\n",
       "    }\n",
       "</style>\n",
       "<table border=\"1\" class=\"dataframe\">\n",
       "  <thead>\n",
       "    <tr style=\"text-align: right;\">\n",
       "      <th></th>\n",
       "      <th>Survived</th>\n",
       "      <th>Pclass</th>\n",
       "      <th>Name</th>\n",
       "      <th>Sex</th>\n",
       "      <th>Age</th>\n",
       "      <th>SibSp</th>\n",
       "      <th>Parch</th>\n",
       "      <th>Ticket</th>\n",
       "      <th>Fare</th>\n",
       "      <th>Cabin</th>\n",
       "      <th>Embarked</th>\n",
       "      <th>Title</th>\n",
       "      <th>Title_Flag</th>\n",
       "      <th>NameLen</th>\n",
       "      <th>Familia</th>\n",
       "      <th>TicketID</th>\n",
       "    </tr>\n",
       "    <tr>\n",
       "      <th>PassengerId</th>\n",
       "      <th></th>\n",
       "      <th></th>\n",
       "      <th></th>\n",
       "      <th></th>\n",
       "      <th></th>\n",
       "      <th></th>\n",
       "      <th></th>\n",
       "      <th></th>\n",
       "      <th></th>\n",
       "      <th></th>\n",
       "      <th></th>\n",
       "      <th></th>\n",
       "      <th></th>\n",
       "      <th></th>\n",
       "      <th></th>\n",
       "      <th></th>\n",
       "    </tr>\n",
       "  </thead>\n",
       "  <tbody>\n",
       "    <tr>\n",
       "      <td>1</td>\n",
       "      <td>0.0</td>\n",
       "      <td>3</td>\n",
       "      <td>Braund, Mr. Owen Harris</td>\n",
       "      <td>male</td>\n",
       "      <td>22.0</td>\n",
       "      <td>1</td>\n",
       "      <td>0</td>\n",
       "      <td>A/5 21171</td>\n",
       "      <td>7.2500</td>\n",
       "      <td>NaN</td>\n",
       "      <td>S</td>\n",
       "      <td>Mr</td>\n",
       "      <td>1</td>\n",
       "      <td>23</td>\n",
       "      <td>1</td>\n",
       "      <td>A/5</td>\n",
       "    </tr>\n",
       "    <tr>\n",
       "      <td>2</td>\n",
       "      <td>1.0</td>\n",
       "      <td>1</td>\n",
       "      <td>Cumings, Mrs. John Bradley (Florence Briggs Th...</td>\n",
       "      <td>female</td>\n",
       "      <td>38.0</td>\n",
       "      <td>1</td>\n",
       "      <td>0</td>\n",
       "      <td>PC 17599</td>\n",
       "      <td>71.2833</td>\n",
       "      <td>C85</td>\n",
       "      <td>C</td>\n",
       "      <td>Mrs</td>\n",
       "      <td>6</td>\n",
       "      <td>51</td>\n",
       "      <td>1</td>\n",
       "      <td>PC</td>\n",
       "    </tr>\n",
       "    <tr>\n",
       "      <td>3</td>\n",
       "      <td>1.0</td>\n",
       "      <td>3</td>\n",
       "      <td>Heikkinen, Miss. Laina</td>\n",
       "      <td>female</td>\n",
       "      <td>26.0</td>\n",
       "      <td>0</td>\n",
       "      <td>0</td>\n",
       "      <td>STON/O2. 3101282</td>\n",
       "      <td>7.9250</td>\n",
       "      <td>NaN</td>\n",
       "      <td>S</td>\n",
       "      <td>Miss</td>\n",
       "      <td>5</td>\n",
       "      <td>22</td>\n",
       "      <td>0</td>\n",
       "      <td>STON/O2.</td>\n",
       "    </tr>\n",
       "    <tr>\n",
       "      <td>4</td>\n",
       "      <td>1.0</td>\n",
       "      <td>1</td>\n",
       "      <td>Futrelle, Mrs. Jacques Heath (Lily May Peel)</td>\n",
       "      <td>female</td>\n",
       "      <td>35.0</td>\n",
       "      <td>1</td>\n",
       "      <td>0</td>\n",
       "      <td>113803</td>\n",
       "      <td>53.1000</td>\n",
       "      <td>C123</td>\n",
       "      <td>S</td>\n",
       "      <td>Mrs</td>\n",
       "      <td>6</td>\n",
       "      <td>44</td>\n",
       "      <td>1</td>\n",
       "      <td></td>\n",
       "    </tr>\n",
       "    <tr>\n",
       "      <td>5</td>\n",
       "      <td>0.0</td>\n",
       "      <td>3</td>\n",
       "      <td>Allen, Mr. William Henry</td>\n",
       "      <td>male</td>\n",
       "      <td>35.0</td>\n",
       "      <td>0</td>\n",
       "      <td>0</td>\n",
       "      <td>373450</td>\n",
       "      <td>8.0500</td>\n",
       "      <td>NaN</td>\n",
       "      <td>S</td>\n",
       "      <td>Mr</td>\n",
       "      <td>1</td>\n",
       "      <td>24</td>\n",
       "      <td>0</td>\n",
       "      <td></td>\n",
       "    </tr>\n",
       "  </tbody>\n",
       "</table>\n",
       "</div>"
      ],
      "text/plain": [
       "             Survived  Pclass  \\\n",
       "PassengerId                     \n",
       "1                 0.0       3   \n",
       "2                 1.0       1   \n",
       "3                 1.0       3   \n",
       "4                 1.0       1   \n",
       "5                 0.0       3   \n",
       "\n",
       "                                                          Name     Sex   Age  \\\n",
       "PassengerId                                                                    \n",
       "1                                      Braund, Mr. Owen Harris    male  22.0   \n",
       "2            Cumings, Mrs. John Bradley (Florence Briggs Th...  female  38.0   \n",
       "3                                       Heikkinen, Miss. Laina  female  26.0   \n",
       "4                 Futrelle, Mrs. Jacques Heath (Lily May Peel)  female  35.0   \n",
       "5                                     Allen, Mr. William Henry    male  35.0   \n",
       "\n",
       "             SibSp  Parch            Ticket     Fare Cabin Embarked Title  \\\n",
       "PassengerId                                                                 \n",
       "1                1      0         A/5 21171   7.2500   NaN        S    Mr   \n",
       "2                1      0          PC 17599  71.2833   C85        C   Mrs   \n",
       "3                0      0  STON/O2. 3101282   7.9250   NaN        S  Miss   \n",
       "4                1      0            113803  53.1000  C123        S   Mrs   \n",
       "5                0      0            373450   8.0500   NaN        S    Mr   \n",
       "\n",
       "             Title_Flag  NameLen  Familia  TicketID  \n",
       "PassengerId                                          \n",
       "1                     1       23        1       A/5  \n",
       "2                     6       51        1        PC  \n",
       "3                     5       22        0  STON/O2.  \n",
       "4                     6       44        1            \n",
       "5                     1       24        0            "
      ]
     },
     "execution_count": 37,
     "metadata": {},
     "output_type": "execute_result"
    }
   ],
   "source": [
    "# breakdown the Ticket and find Strings in them\n",
    "# df[['Ticketa','Ticketb','Ticketc']] = df.Ticket.str.rsplit(' ', n=2, expand=True)  :: does not work\n",
    "\n",
    "split_tickets = df['Ticket'].str.rsplit(n=1)\n",
    "prefixes = [sp[0] if len(sp) == 2 else '' for sp in split_tickets]\n",
    "df['TicketID'] = prefixes\n",
    "df.head()"
   ]
  },
  {
   "cell_type": "code",
   "execution_count": 38,
   "metadata": {},
   "outputs": [
    {
     "data": {
      "text/html": [
       "<div>\n",
       "<style scoped>\n",
       "    .dataframe tbody tr th:only-of-type {\n",
       "        vertical-align: middle;\n",
       "    }\n",
       "\n",
       "    .dataframe tbody tr th {\n",
       "        vertical-align: top;\n",
       "    }\n",
       "\n",
       "    .dataframe thead th {\n",
       "        text-align: right;\n",
       "    }\n",
       "</style>\n",
       "<table border=\"1\" class=\"dataframe\">\n",
       "  <thead>\n",
       "    <tr style=\"text-align: right;\">\n",
       "      <th></th>\n",
       "      <th>Survived</th>\n",
       "      <th>Pclass</th>\n",
       "      <th>Name</th>\n",
       "      <th>Sex</th>\n",
       "      <th>Age</th>\n",
       "      <th>SibSp</th>\n",
       "      <th>Parch</th>\n",
       "      <th>Ticket</th>\n",
       "      <th>Fare</th>\n",
       "      <th>Cabin</th>\n",
       "      <th>Embarked</th>\n",
       "      <th>Title</th>\n",
       "      <th>Title_Flag</th>\n",
       "      <th>NameLen</th>\n",
       "      <th>Familia</th>\n",
       "      <th>TicketID</th>\n",
       "    </tr>\n",
       "    <tr>\n",
       "      <th>PassengerId</th>\n",
       "      <th></th>\n",
       "      <th></th>\n",
       "      <th></th>\n",
       "      <th></th>\n",
       "      <th></th>\n",
       "      <th></th>\n",
       "      <th></th>\n",
       "      <th></th>\n",
       "      <th></th>\n",
       "      <th></th>\n",
       "      <th></th>\n",
       "      <th></th>\n",
       "      <th></th>\n",
       "      <th></th>\n",
       "      <th></th>\n",
       "      <th></th>\n",
       "    </tr>\n",
       "  </thead>\n",
       "  <tbody>\n",
       "    <tr>\n",
       "      <td>180</td>\n",
       "      <td>0.0</td>\n",
       "      <td>3</td>\n",
       "      <td>Leonard, Mr. Lionel</td>\n",
       "      <td>male</td>\n",
       "      <td>36.0</td>\n",
       "      <td>0</td>\n",
       "      <td>0</td>\n",
       "      <td>LINE</td>\n",
       "      <td>0.0</td>\n",
       "      <td>NaN</td>\n",
       "      <td>S</td>\n",
       "      <td>Mr</td>\n",
       "      <td>1</td>\n",
       "      <td>19</td>\n",
       "      <td>0</td>\n",
       "      <td></td>\n",
       "    </tr>\n",
       "    <tr>\n",
       "      <td>272</td>\n",
       "      <td>1.0</td>\n",
       "      <td>3</td>\n",
       "      <td>Tornquist, Mr. William Henry</td>\n",
       "      <td>male</td>\n",
       "      <td>25.0</td>\n",
       "      <td>0</td>\n",
       "      <td>0</td>\n",
       "      <td>LINE</td>\n",
       "      <td>0.0</td>\n",
       "      <td>NaN</td>\n",
       "      <td>S</td>\n",
       "      <td>Mr</td>\n",
       "      <td>1</td>\n",
       "      <td>28</td>\n",
       "      <td>0</td>\n",
       "      <td></td>\n",
       "    </tr>\n",
       "    <tr>\n",
       "      <td>303</td>\n",
       "      <td>0.0</td>\n",
       "      <td>3</td>\n",
       "      <td>Johnson, Mr. William Cahoone Jr</td>\n",
       "      <td>male</td>\n",
       "      <td>19.0</td>\n",
       "      <td>0</td>\n",
       "      <td>0</td>\n",
       "      <td>LINE</td>\n",
       "      <td>0.0</td>\n",
       "      <td>NaN</td>\n",
       "      <td>S</td>\n",
       "      <td>Mr</td>\n",
       "      <td>1</td>\n",
       "      <td>31</td>\n",
       "      <td>0</td>\n",
       "      <td></td>\n",
       "    </tr>\n",
       "    <tr>\n",
       "      <td>598</td>\n",
       "      <td>0.0</td>\n",
       "      <td>3</td>\n",
       "      <td>Johnson, Mr. Alfred</td>\n",
       "      <td>male</td>\n",
       "      <td>49.0</td>\n",
       "      <td>0</td>\n",
       "      <td>0</td>\n",
       "      <td>LINE</td>\n",
       "      <td>0.0</td>\n",
       "      <td>NaN</td>\n",
       "      <td>S</td>\n",
       "      <td>Mr</td>\n",
       "      <td>1</td>\n",
       "      <td>19</td>\n",
       "      <td>0</td>\n",
       "      <td></td>\n",
       "    </tr>\n",
       "  </tbody>\n",
       "</table>\n",
       "</div>"
      ],
      "text/plain": [
       "             Survived  Pclass                             Name   Sex   Age  \\\n",
       "PassengerId                                                                  \n",
       "180               0.0       3              Leonard, Mr. Lionel  male  36.0   \n",
       "272               1.0       3     Tornquist, Mr. William Henry  male  25.0   \n",
       "303               0.0       3  Johnson, Mr. William Cahoone Jr  male  19.0   \n",
       "598               0.0       3              Johnson, Mr. Alfred  male  49.0   \n",
       "\n",
       "             SibSp  Parch Ticket  Fare Cabin Embarked Title  Title_Flag  \\\n",
       "PassengerId                                                               \n",
       "180              0      0   LINE   0.0   NaN        S    Mr           1   \n",
       "272              0      0   LINE   0.0   NaN        S    Mr           1   \n",
       "303              0      0   LINE   0.0   NaN        S    Mr           1   \n",
       "598              0      0   LINE   0.0   NaN        S    Mr           1   \n",
       "\n",
       "             NameLen  Familia TicketID  \n",
       "PassengerId                             \n",
       "180               19        0           \n",
       "272               28        0           \n",
       "303               31        0           \n",
       "598               19        0           "
      ]
     },
     "execution_count": 38,
     "metadata": {},
     "output_type": "execute_result"
    }
   ],
   "source": [
    "# There are a few tickets called 'Line'. The fare is 0 for all.\n",
    "df[df.Ticket == 'LINE']"
   ]
  },
  {
   "cell_type": "markdown",
   "metadata": {},
   "source": [
    "---"
   ]
  },
  {
   "cell_type": "markdown",
   "metadata": {
    "colab": {
     "base_uri": "https://localhost:8080/",
     "height": 639
    },
    "colab_type": "code",
    "executionInfo": {
     "elapsed": 1620,
     "status": "ok",
     "timestamp": 1568902750995,
     "user": {
      "displayName": "Ayan Banerjee",
      "photoUrl": "https://lh3.googleusercontent.com/a-/AAuE7mCnFLXMhFHDZllhPnKiYWaLaQhFxrMp-Q_Gzh2Ud38=s64",
      "userId": "01243998261015692645"
     },
     "user_tz": -330
    },
    "id": "ZotFs_vmdm66",
    "outputId": "750964bf-930e-46a5-c3da-7f8c0fc7c13a"
   },
   "source": [
    "#### Fare"
   ]
  },
  {
   "cell_type": "code",
   "execution_count": 39,
   "metadata": {
    "scrolled": true
   },
   "outputs": [
    {
     "data": {
      "text/plain": [
       "Survived\n",
       "0    22.117887\n",
       "1    48.395408\n",
       "Name: Fare, dtype: float64"
      ]
     },
     "execution_count": 39,
     "metadata": {},
     "output_type": "execute_result"
    }
   ],
   "source": [
    "# Fare\n",
    "df_train.groupby('Survived').Fare.mean()"
   ]
  },
  {
   "cell_type": "code",
   "execution_count": 40,
   "metadata": {},
   "outputs": [
    {
     "data": {
      "text/plain": [
       "9.654566787003613"
      ]
     },
     "execution_count": 40,
     "metadata": {},
     "output_type": "execute_result"
    }
   ],
   "source": [
    "# IMPUTING the missing value\n",
    "\n",
    "#df[df.Fare.isnull()]\n",
    "\n",
    "impute_fare = df[(df.Sex=='male') & (df.Familia==0) & (df.Pclass==3) & (df.Title=='Mr') & (df.Embarked=='S')].Fare.mean()\n",
    "impute_fare"
   ]
  },
  {
   "cell_type": "code",
   "execution_count": 41,
   "metadata": {},
   "outputs": [
    {
     "data": {
      "text/html": [
       "<div>\n",
       "<style scoped>\n",
       "    .dataframe tbody tr th:only-of-type {\n",
       "        vertical-align: middle;\n",
       "    }\n",
       "\n",
       "    .dataframe tbody tr th {\n",
       "        vertical-align: top;\n",
       "    }\n",
       "\n",
       "    .dataframe thead th {\n",
       "        text-align: right;\n",
       "    }\n",
       "</style>\n",
       "<table border=\"1\" class=\"dataframe\">\n",
       "  <thead>\n",
       "    <tr style=\"text-align: right;\">\n",
       "      <th></th>\n",
       "      <th>Survived</th>\n",
       "      <th>Pclass</th>\n",
       "      <th>Name</th>\n",
       "      <th>Sex</th>\n",
       "      <th>Age</th>\n",
       "      <th>SibSp</th>\n",
       "      <th>Parch</th>\n",
       "      <th>Ticket</th>\n",
       "      <th>Fare</th>\n",
       "      <th>Cabin</th>\n",
       "      <th>Embarked</th>\n",
       "      <th>Title</th>\n",
       "      <th>Title_Flag</th>\n",
       "      <th>NameLen</th>\n",
       "      <th>Familia</th>\n",
       "      <th>TicketID</th>\n",
       "    </tr>\n",
       "    <tr>\n",
       "      <th>PassengerId</th>\n",
       "      <th></th>\n",
       "      <th></th>\n",
       "      <th></th>\n",
       "      <th></th>\n",
       "      <th></th>\n",
       "      <th></th>\n",
       "      <th></th>\n",
       "      <th></th>\n",
       "      <th></th>\n",
       "      <th></th>\n",
       "      <th></th>\n",
       "      <th></th>\n",
       "      <th></th>\n",
       "      <th></th>\n",
       "      <th></th>\n",
       "      <th></th>\n",
       "    </tr>\n",
       "  </thead>\n",
       "  <tbody>\n",
       "    <tr>\n",
       "      <td>1044</td>\n",
       "      <td>NaN</td>\n",
       "      <td>3</td>\n",
       "      <td>Storey, Mr. Thomas</td>\n",
       "      <td>male</td>\n",
       "      <td>60.5</td>\n",
       "      <td>0</td>\n",
       "      <td>0</td>\n",
       "      <td>3701</td>\n",
       "      <td>9.654567</td>\n",
       "      <td>NaN</td>\n",
       "      <td>S</td>\n",
       "      <td>Mr</td>\n",
       "      <td>1</td>\n",
       "      <td>18</td>\n",
       "      <td>0</td>\n",
       "      <td></td>\n",
       "    </tr>\n",
       "  </tbody>\n",
       "</table>\n",
       "</div>"
      ],
      "text/plain": [
       "             Survived  Pclass                Name   Sex   Age  SibSp  Parch  \\\n",
       "PassengerId                                                                   \n",
       "1044              NaN       3  Storey, Mr. Thomas  male  60.5      0      0   \n",
       "\n",
       "            Ticket      Fare Cabin Embarked Title  Title_Flag  NameLen  \\\n",
       "PassengerId                                                              \n",
       "1044          3701  9.654567   NaN        S    Mr           1       18   \n",
       "\n",
       "             Familia TicketID  \n",
       "PassengerId                    \n",
       "1044               0           "
      ]
     },
     "execution_count": 41,
     "metadata": {},
     "output_type": "execute_result"
    }
   ],
   "source": [
    "df.loc[df.Fare.isnull() , 'Fare'] = impute_fare\n",
    "df[df.Ticket=='3701']"
   ]
  },
  {
   "cell_type": "code",
   "execution_count": 42,
   "metadata": {
    "scrolled": true
   },
   "outputs": [
    {
     "data": {
      "text/html": [
       "<div>\n",
       "<style scoped>\n",
       "    .dataframe tbody tr th:only-of-type {\n",
       "        vertical-align: middle;\n",
       "    }\n",
       "\n",
       "    .dataframe tbody tr th {\n",
       "        vertical-align: top;\n",
       "    }\n",
       "\n",
       "    .dataframe thead th {\n",
       "        text-align: right;\n",
       "    }\n",
       "</style>\n",
       "<table border=\"1\" class=\"dataframe\">\n",
       "  <thead>\n",
       "    <tr style=\"text-align: right;\">\n",
       "      <th></th>\n",
       "      <th>Survived</th>\n",
       "      <th>Pclass</th>\n",
       "      <th>Name</th>\n",
       "      <th>Sex</th>\n",
       "      <th>Age</th>\n",
       "      <th>SibSp</th>\n",
       "      <th>Parch</th>\n",
       "      <th>Ticket</th>\n",
       "      <th>Fare</th>\n",
       "      <th>Cabin</th>\n",
       "      <th>Embarked</th>\n",
       "      <th>Title</th>\n",
       "      <th>Title_Flag</th>\n",
       "      <th>NameLen</th>\n",
       "      <th>Familia</th>\n",
       "      <th>TicketID</th>\n",
       "    </tr>\n",
       "    <tr>\n",
       "      <th>PassengerId</th>\n",
       "      <th></th>\n",
       "      <th></th>\n",
       "      <th></th>\n",
       "      <th></th>\n",
       "      <th></th>\n",
       "      <th></th>\n",
       "      <th></th>\n",
       "      <th></th>\n",
       "      <th></th>\n",
       "      <th></th>\n",
       "      <th></th>\n",
       "      <th></th>\n",
       "      <th></th>\n",
       "      <th></th>\n",
       "      <th></th>\n",
       "      <th></th>\n",
       "    </tr>\n",
       "  </thead>\n",
       "  <tbody>\n",
       "    <tr>\n",
       "      <td>28</td>\n",
       "      <td>0.0</td>\n",
       "      <td>1</td>\n",
       "      <td>Fortune, Mr. Charles Alexander</td>\n",
       "      <td>male</td>\n",
       "      <td>19.0</td>\n",
       "      <td>3</td>\n",
       "      <td>2</td>\n",
       "      <td>19950</td>\n",
       "      <td>263.0000</td>\n",
       "      <td>C23 C25 C27</td>\n",
       "      <td>S</td>\n",
       "      <td>Mr</td>\n",
       "      <td>1</td>\n",
       "      <td>30</td>\n",
       "      <td>5</td>\n",
       "      <td></td>\n",
       "    </tr>\n",
       "    <tr>\n",
       "      <td>89</td>\n",
       "      <td>1.0</td>\n",
       "      <td>1</td>\n",
       "      <td>Fortune, Miss. Mabel Helen</td>\n",
       "      <td>female</td>\n",
       "      <td>23.0</td>\n",
       "      <td>3</td>\n",
       "      <td>2</td>\n",
       "      <td>19950</td>\n",
       "      <td>263.0000</td>\n",
       "      <td>C23 C25 C27</td>\n",
       "      <td>S</td>\n",
       "      <td>Miss</td>\n",
       "      <td>5</td>\n",
       "      <td>26</td>\n",
       "      <td>5</td>\n",
       "      <td></td>\n",
       "    </tr>\n",
       "    <tr>\n",
       "      <td>119</td>\n",
       "      <td>0.0</td>\n",
       "      <td>1</td>\n",
       "      <td>Baxter, Mr. Quigg Edmond</td>\n",
       "      <td>male</td>\n",
       "      <td>24.0</td>\n",
       "      <td>0</td>\n",
       "      <td>1</td>\n",
       "      <td>PC 17558</td>\n",
       "      <td>247.5208</td>\n",
       "      <td>B58 B60</td>\n",
       "      <td>C</td>\n",
       "      <td>Mr</td>\n",
       "      <td>1</td>\n",
       "      <td>24</td>\n",
       "      <td>1</td>\n",
       "      <td>PC</td>\n",
       "    </tr>\n",
       "    <tr>\n",
       "      <td>300</td>\n",
       "      <td>1.0</td>\n",
       "      <td>1</td>\n",
       "      <td>Baxter, Mrs. James (Helene DeLaudeniere Chaput)</td>\n",
       "      <td>female</td>\n",
       "      <td>50.0</td>\n",
       "      <td>0</td>\n",
       "      <td>1</td>\n",
       "      <td>PC 17558</td>\n",
       "      <td>247.5208</td>\n",
       "      <td>B58 B60</td>\n",
       "      <td>C</td>\n",
       "      <td>Mrs</td>\n",
       "      <td>6</td>\n",
       "      <td>47</td>\n",
       "      <td>1</td>\n",
       "      <td>PC</td>\n",
       "    </tr>\n",
       "    <tr>\n",
       "      <td>312</td>\n",
       "      <td>1.0</td>\n",
       "      <td>1</td>\n",
       "      <td>Ryerson, Miss. Emily Borie</td>\n",
       "      <td>female</td>\n",
       "      <td>18.0</td>\n",
       "      <td>2</td>\n",
       "      <td>2</td>\n",
       "      <td>PC 17608</td>\n",
       "      <td>262.3750</td>\n",
       "      <td>B57 B59 B63 B66</td>\n",
       "      <td>C</td>\n",
       "      <td>Miss</td>\n",
       "      <td>5</td>\n",
       "      <td>26</td>\n",
       "      <td>4</td>\n",
       "      <td>PC</td>\n",
       "    </tr>\n",
       "    <tr>\n",
       "      <td>342</td>\n",
       "      <td>1.0</td>\n",
       "      <td>1</td>\n",
       "      <td>Fortune, Miss. Alice Elizabeth</td>\n",
       "      <td>female</td>\n",
       "      <td>24.0</td>\n",
       "      <td>3</td>\n",
       "      <td>2</td>\n",
       "      <td>19950</td>\n",
       "      <td>263.0000</td>\n",
       "      <td>C23 C25 C27</td>\n",
       "      <td>S</td>\n",
       "      <td>Miss</td>\n",
       "      <td>5</td>\n",
       "      <td>30</td>\n",
       "      <td>5</td>\n",
       "      <td></td>\n",
       "    </tr>\n",
       "    <tr>\n",
       "      <td>378</td>\n",
       "      <td>0.0</td>\n",
       "      <td>1</td>\n",
       "      <td>Widener, Mr. Harry Elkins</td>\n",
       "      <td>male</td>\n",
       "      <td>27.0</td>\n",
       "      <td>0</td>\n",
       "      <td>2</td>\n",
       "      <td>113503</td>\n",
       "      <td>211.5000</td>\n",
       "      <td>C82</td>\n",
       "      <td>C</td>\n",
       "      <td>Mr</td>\n",
       "      <td>1</td>\n",
       "      <td>25</td>\n",
       "      <td>2</td>\n",
       "      <td></td>\n",
       "    </tr>\n",
       "    <tr>\n",
       "      <td>381</td>\n",
       "      <td>1.0</td>\n",
       "      <td>1</td>\n",
       "      <td>Bidois, Miss. Rosalie</td>\n",
       "      <td>female</td>\n",
       "      <td>42.0</td>\n",
       "      <td>0</td>\n",
       "      <td>0</td>\n",
       "      <td>PC 17757</td>\n",
       "      <td>227.5250</td>\n",
       "      <td>NaN</td>\n",
       "      <td>C</td>\n",
       "      <td>Miss</td>\n",
       "      <td>5</td>\n",
       "      <td>21</td>\n",
       "      <td>0</td>\n",
       "      <td>PC</td>\n",
       "    </tr>\n",
       "    <tr>\n",
       "      <td>439</td>\n",
       "      <td>0.0</td>\n",
       "      <td>1</td>\n",
       "      <td>Fortune, Mr. Mark</td>\n",
       "      <td>male</td>\n",
       "      <td>64.0</td>\n",
       "      <td>1</td>\n",
       "      <td>4</td>\n",
       "      <td>19950</td>\n",
       "      <td>263.0000</td>\n",
       "      <td>C23 C25 C27</td>\n",
       "      <td>S</td>\n",
       "      <td>Mr</td>\n",
       "      <td>1</td>\n",
       "      <td>17</td>\n",
       "      <td>5</td>\n",
       "      <td></td>\n",
       "    </tr>\n",
       "    <tr>\n",
       "      <td>528</td>\n",
       "      <td>0.0</td>\n",
       "      <td>1</td>\n",
       "      <td>Farthing, Mr. John</td>\n",
       "      <td>male</td>\n",
       "      <td>NaN</td>\n",
       "      <td>0</td>\n",
       "      <td>0</td>\n",
       "      <td>PC 17483</td>\n",
       "      <td>221.7792</td>\n",
       "      <td>C95</td>\n",
       "      <td>S</td>\n",
       "      <td>Mr</td>\n",
       "      <td>1</td>\n",
       "      <td>18</td>\n",
       "      <td>0</td>\n",
       "      <td>PC</td>\n",
       "    </tr>\n",
       "    <tr>\n",
       "      <td>558</td>\n",
       "      <td>0.0</td>\n",
       "      <td>1</td>\n",
       "      <td>Robbins, Mr. Victor</td>\n",
       "      <td>male</td>\n",
       "      <td>NaN</td>\n",
       "      <td>0</td>\n",
       "      <td>0</td>\n",
       "      <td>PC 17757</td>\n",
       "      <td>227.5250</td>\n",
       "      <td>NaN</td>\n",
       "      <td>C</td>\n",
       "      <td>Mr</td>\n",
       "      <td>1</td>\n",
       "      <td>19</td>\n",
       "      <td>0</td>\n",
       "      <td>PC</td>\n",
       "    </tr>\n",
       "    <tr>\n",
       "      <td>690</td>\n",
       "      <td>1.0</td>\n",
       "      <td>1</td>\n",
       "      <td>Madill, Miss. Georgette Alexandra</td>\n",
       "      <td>female</td>\n",
       "      <td>15.0</td>\n",
       "      <td>0</td>\n",
       "      <td>1</td>\n",
       "      <td>24160</td>\n",
       "      <td>211.3375</td>\n",
       "      <td>B5</td>\n",
       "      <td>S</td>\n",
       "      <td>Miss</td>\n",
       "      <td>5</td>\n",
       "      <td>33</td>\n",
       "      <td>1</td>\n",
       "      <td></td>\n",
       "    </tr>\n",
       "    <tr>\n",
       "      <td>701</td>\n",
       "      <td>1.0</td>\n",
       "      <td>1</td>\n",
       "      <td>Astor, Mrs. John Jacob (Madeleine Talmadge Force)</td>\n",
       "      <td>female</td>\n",
       "      <td>18.0</td>\n",
       "      <td>1</td>\n",
       "      <td>0</td>\n",
       "      <td>PC 17757</td>\n",
       "      <td>227.5250</td>\n",
       "      <td>C62 C64</td>\n",
       "      <td>C</td>\n",
       "      <td>Mrs</td>\n",
       "      <td>6</td>\n",
       "      <td>49</td>\n",
       "      <td>1</td>\n",
       "      <td>PC</td>\n",
       "    </tr>\n",
       "    <tr>\n",
       "      <td>717</td>\n",
       "      <td>1.0</td>\n",
       "      <td>1</td>\n",
       "      <td>Endres, Miss. Caroline Louise</td>\n",
       "      <td>female</td>\n",
       "      <td>38.0</td>\n",
       "      <td>0</td>\n",
       "      <td>0</td>\n",
       "      <td>PC 17757</td>\n",
       "      <td>227.5250</td>\n",
       "      <td>C45</td>\n",
       "      <td>C</td>\n",
       "      <td>Miss</td>\n",
       "      <td>5</td>\n",
       "      <td>29</td>\n",
       "      <td>0</td>\n",
       "      <td>PC</td>\n",
       "    </tr>\n",
       "    <tr>\n",
       "      <td>731</td>\n",
       "      <td>1.0</td>\n",
       "      <td>1</td>\n",
       "      <td>Allen, Miss. Elisabeth Walton</td>\n",
       "      <td>female</td>\n",
       "      <td>29.0</td>\n",
       "      <td>0</td>\n",
       "      <td>0</td>\n",
       "      <td>24160</td>\n",
       "      <td>211.3375</td>\n",
       "      <td>B5</td>\n",
       "      <td>S</td>\n",
       "      <td>Miss</td>\n",
       "      <td>5</td>\n",
       "      <td>29</td>\n",
       "      <td>0</td>\n",
       "      <td></td>\n",
       "    </tr>\n",
       "    <tr>\n",
       "      <td>743</td>\n",
       "      <td>1.0</td>\n",
       "      <td>1</td>\n",
       "      <td>Ryerson, Miss. Susan Parker \"Suzette\"</td>\n",
       "      <td>female</td>\n",
       "      <td>21.0</td>\n",
       "      <td>2</td>\n",
       "      <td>2</td>\n",
       "      <td>PC 17608</td>\n",
       "      <td>262.3750</td>\n",
       "      <td>B57 B59 B63 B66</td>\n",
       "      <td>C</td>\n",
       "      <td>Miss</td>\n",
       "      <td>5</td>\n",
       "      <td>37</td>\n",
       "      <td>4</td>\n",
       "      <td>PC</td>\n",
       "    </tr>\n",
       "    <tr>\n",
       "      <td>780</td>\n",
       "      <td>1.0</td>\n",
       "      <td>1</td>\n",
       "      <td>Robert, Mrs. Edward Scott (Elisabeth Walton Mc...</td>\n",
       "      <td>female</td>\n",
       "      <td>43.0</td>\n",
       "      <td>0</td>\n",
       "      <td>1</td>\n",
       "      <td>24160</td>\n",
       "      <td>211.3375</td>\n",
       "      <td>B3</td>\n",
       "      <td>S</td>\n",
       "      <td>Mrs</td>\n",
       "      <td>6</td>\n",
       "      <td>53</td>\n",
       "      <td>1</td>\n",
       "      <td></td>\n",
       "    </tr>\n",
       "    <tr>\n",
       "      <td>916</td>\n",
       "      <td>NaN</td>\n",
       "      <td>1</td>\n",
       "      <td>Ryerson, Mrs. Arthur Larned (Emily Maria Borie)</td>\n",
       "      <td>female</td>\n",
       "      <td>48.0</td>\n",
       "      <td>1</td>\n",
       "      <td>3</td>\n",
       "      <td>PC 17608</td>\n",
       "      <td>262.3750</td>\n",
       "      <td>B57 B59 B63 B66</td>\n",
       "      <td>C</td>\n",
       "      <td>Mrs</td>\n",
       "      <td>6</td>\n",
       "      <td>47</td>\n",
       "      <td>4</td>\n",
       "      <td>PC</td>\n",
       "    </tr>\n",
       "    <tr>\n",
       "      <td>945</td>\n",
       "      <td>NaN</td>\n",
       "      <td>1</td>\n",
       "      <td>Fortune, Miss. Ethel Flora</td>\n",
       "      <td>female</td>\n",
       "      <td>28.0</td>\n",
       "      <td>3</td>\n",
       "      <td>2</td>\n",
       "      <td>19950</td>\n",
       "      <td>263.0000</td>\n",
       "      <td>C23 C25 C27</td>\n",
       "      <td>S</td>\n",
       "      <td>Miss</td>\n",
       "      <td>5</td>\n",
       "      <td>26</td>\n",
       "      <td>5</td>\n",
       "      <td></td>\n",
       "    </tr>\n",
       "    <tr>\n",
       "      <td>951</td>\n",
       "      <td>NaN</td>\n",
       "      <td>1</td>\n",
       "      <td>Chaudanson, Miss. Victorine</td>\n",
       "      <td>female</td>\n",
       "      <td>36.0</td>\n",
       "      <td>0</td>\n",
       "      <td>0</td>\n",
       "      <td>PC 17608</td>\n",
       "      <td>262.3750</td>\n",
       "      <td>B61</td>\n",
       "      <td>C</td>\n",
       "      <td>Miss</td>\n",
       "      <td>5</td>\n",
       "      <td>27</td>\n",
       "      <td>0</td>\n",
       "      <td>PC</td>\n",
       "    </tr>\n",
       "    <tr>\n",
       "      <td>956</td>\n",
       "      <td>NaN</td>\n",
       "      <td>1</td>\n",
       "      <td>Ryerson, Master. John Borie</td>\n",
       "      <td>male</td>\n",
       "      <td>13.0</td>\n",
       "      <td>2</td>\n",
       "      <td>2</td>\n",
       "      <td>PC 17608</td>\n",
       "      <td>262.3750</td>\n",
       "      <td>B57 B59 B63 B66</td>\n",
       "      <td>C</td>\n",
       "      <td>Master</td>\n",
       "      <td>4</td>\n",
       "      <td>27</td>\n",
       "      <td>4</td>\n",
       "      <td>PC</td>\n",
       "    </tr>\n",
       "    <tr>\n",
       "      <td>961</td>\n",
       "      <td>NaN</td>\n",
       "      <td>1</td>\n",
       "      <td>Fortune, Mrs. Mark (Mary McDougald)</td>\n",
       "      <td>female</td>\n",
       "      <td>60.0</td>\n",
       "      <td>1</td>\n",
       "      <td>4</td>\n",
       "      <td>19950</td>\n",
       "      <td>263.0000</td>\n",
       "      <td>C23 C25 C27</td>\n",
       "      <td>S</td>\n",
       "      <td>Mrs</td>\n",
       "      <td>6</td>\n",
       "      <td>35</td>\n",
       "      <td>5</td>\n",
       "      <td></td>\n",
       "    </tr>\n",
       "    <tr>\n",
       "      <td>966</td>\n",
       "      <td>NaN</td>\n",
       "      <td>1</td>\n",
       "      <td>Geiger, Miss. Amalie</td>\n",
       "      <td>female</td>\n",
       "      <td>35.0</td>\n",
       "      <td>0</td>\n",
       "      <td>0</td>\n",
       "      <td>113503</td>\n",
       "      <td>211.5000</td>\n",
       "      <td>C130</td>\n",
       "      <td>C</td>\n",
       "      <td>Miss</td>\n",
       "      <td>5</td>\n",
       "      <td>20</td>\n",
       "      <td>0</td>\n",
       "      <td></td>\n",
       "    </tr>\n",
       "    <tr>\n",
       "      <td>967</td>\n",
       "      <td>NaN</td>\n",
       "      <td>1</td>\n",
       "      <td>Keeping, Mr. Edwin</td>\n",
       "      <td>male</td>\n",
       "      <td>32.5</td>\n",
       "      <td>0</td>\n",
       "      <td>0</td>\n",
       "      <td>113503</td>\n",
       "      <td>211.5000</td>\n",
       "      <td>C132</td>\n",
       "      <td>C</td>\n",
       "      <td>Mr</td>\n",
       "      <td>1</td>\n",
       "      <td>18</td>\n",
       "      <td>0</td>\n",
       "      <td></td>\n",
       "    </tr>\n",
       "    <tr>\n",
       "      <td>973</td>\n",
       "      <td>NaN</td>\n",
       "      <td>1</td>\n",
       "      <td>Straus, Mr. Isidor</td>\n",
       "      <td>male</td>\n",
       "      <td>67.0</td>\n",
       "      <td>1</td>\n",
       "      <td>0</td>\n",
       "      <td>PC 17483</td>\n",
       "      <td>221.7792</td>\n",
       "      <td>C55 C57</td>\n",
       "      <td>S</td>\n",
       "      <td>Mr</td>\n",
       "      <td>1</td>\n",
       "      <td>18</td>\n",
       "      <td>1</td>\n",
       "      <td>PC</td>\n",
       "    </tr>\n",
       "    <tr>\n",
       "      <td>1006</td>\n",
       "      <td>NaN</td>\n",
       "      <td>1</td>\n",
       "      <td>Straus, Mrs. Isidor (Rosalie Ida Blun)</td>\n",
       "      <td>female</td>\n",
       "      <td>63.0</td>\n",
       "      <td>1</td>\n",
       "      <td>0</td>\n",
       "      <td>PC 17483</td>\n",
       "      <td>221.7792</td>\n",
       "      <td>C55 C57</td>\n",
       "      <td>S</td>\n",
       "      <td>Mrs</td>\n",
       "      <td>6</td>\n",
       "      <td>38</td>\n",
       "      <td>1</td>\n",
       "      <td>PC</td>\n",
       "    </tr>\n",
       "    <tr>\n",
       "      <td>1034</td>\n",
       "      <td>NaN</td>\n",
       "      <td>1</td>\n",
       "      <td>Ryerson, Mr. Arthur Larned</td>\n",
       "      <td>male</td>\n",
       "      <td>61.0</td>\n",
       "      <td>1</td>\n",
       "      <td>3</td>\n",
       "      <td>PC 17608</td>\n",
       "      <td>262.3750</td>\n",
       "      <td>B57 B59 B63 B66</td>\n",
       "      <td>C</td>\n",
       "      <td>Mr</td>\n",
       "      <td>1</td>\n",
       "      <td>26</td>\n",
       "      <td>4</td>\n",
       "      <td>PC</td>\n",
       "    </tr>\n",
       "    <tr>\n",
       "      <td>1048</td>\n",
       "      <td>NaN</td>\n",
       "      <td>1</td>\n",
       "      <td>Bird, Miss. Ellen</td>\n",
       "      <td>female</td>\n",
       "      <td>29.0</td>\n",
       "      <td>0</td>\n",
       "      <td>0</td>\n",
       "      <td>PC 17483</td>\n",
       "      <td>221.7792</td>\n",
       "      <td>C97</td>\n",
       "      <td>S</td>\n",
       "      <td>Miss</td>\n",
       "      <td>5</td>\n",
       "      <td>17</td>\n",
       "      <td>0</td>\n",
       "      <td>PC</td>\n",
       "    </tr>\n",
       "    <tr>\n",
       "      <td>1076</td>\n",
       "      <td>NaN</td>\n",
       "      <td>1</td>\n",
       "      <td>Douglas, Mrs. Frederick Charles (Mary Helene B...</td>\n",
       "      <td>female</td>\n",
       "      <td>27.0</td>\n",
       "      <td>1</td>\n",
       "      <td>1</td>\n",
       "      <td>PC 17558</td>\n",
       "      <td>247.5208</td>\n",
       "      <td>B58 B60</td>\n",
       "      <td>C</td>\n",
       "      <td>Mrs</td>\n",
       "      <td>6</td>\n",
       "      <td>52</td>\n",
       "      <td>2</td>\n",
       "      <td>PC</td>\n",
       "    </tr>\n",
       "    <tr>\n",
       "      <td>1094</td>\n",
       "      <td>NaN</td>\n",
       "      <td>1</td>\n",
       "      <td>Astor, Col. John Jacob</td>\n",
       "      <td>male</td>\n",
       "      <td>47.0</td>\n",
       "      <td>1</td>\n",
       "      <td>0</td>\n",
       "      <td>PC 17757</td>\n",
       "      <td>227.5250</td>\n",
       "      <td>C62 C64</td>\n",
       "      <td>C</td>\n",
       "      <td>Col</td>\n",
       "      <td>3</td>\n",
       "      <td>22</td>\n",
       "      <td>1</td>\n",
       "      <td>PC</td>\n",
       "    </tr>\n",
       "    <tr>\n",
       "      <td>1110</td>\n",
       "      <td>NaN</td>\n",
       "      <td>1</td>\n",
       "      <td>Widener, Mrs. George Dunton (Eleanor Elkins)</td>\n",
       "      <td>female</td>\n",
       "      <td>50.0</td>\n",
       "      <td>1</td>\n",
       "      <td>1</td>\n",
       "      <td>113503</td>\n",
       "      <td>211.5000</td>\n",
       "      <td>C80</td>\n",
       "      <td>C</td>\n",
       "      <td>Mrs</td>\n",
       "      <td>6</td>\n",
       "      <td>44</td>\n",
       "      <td>2</td>\n",
       "      <td></td>\n",
       "    </tr>\n",
       "    <tr>\n",
       "      <td>1216</td>\n",
       "      <td>NaN</td>\n",
       "      <td>1</td>\n",
       "      <td>Kreuchen, Miss. Emilie</td>\n",
       "      <td>female</td>\n",
       "      <td>39.0</td>\n",
       "      <td>0</td>\n",
       "      <td>0</td>\n",
       "      <td>24160</td>\n",
       "      <td>211.3375</td>\n",
       "      <td>NaN</td>\n",
       "      <td>S</td>\n",
       "      <td>Miss</td>\n",
       "      <td>5</td>\n",
       "      <td>22</td>\n",
       "      <td>0</td>\n",
       "      <td></td>\n",
       "    </tr>\n",
       "    <tr>\n",
       "      <td>1235</td>\n",
       "      <td>NaN</td>\n",
       "      <td>1</td>\n",
       "      <td>Cardeza, Mrs. James Warburton Martinez (Charlo...</td>\n",
       "      <td>female</td>\n",
       "      <td>58.0</td>\n",
       "      <td>0</td>\n",
       "      <td>1</td>\n",
       "      <td>PC 17755</td>\n",
       "      <td>512.3292</td>\n",
       "      <td>B51 B53 B55</td>\n",
       "      <td>C</td>\n",
       "      <td>Mrs</td>\n",
       "      <td>6</td>\n",
       "      <td>63</td>\n",
       "      <td>1</td>\n",
       "      <td>PC</td>\n",
       "    </tr>\n",
       "    <tr>\n",
       "      <td>1267</td>\n",
       "      <td>NaN</td>\n",
       "      <td>1</td>\n",
       "      <td>Bowen, Miss. Grace Scott</td>\n",
       "      <td>female</td>\n",
       "      <td>45.0</td>\n",
       "      <td>0</td>\n",
       "      <td>0</td>\n",
       "      <td>PC 17608</td>\n",
       "      <td>262.3750</td>\n",
       "      <td>NaN</td>\n",
       "      <td>C</td>\n",
       "      <td>Miss</td>\n",
       "      <td>5</td>\n",
       "      <td>24</td>\n",
       "      <td>0</td>\n",
       "      <td>PC</td>\n",
       "    </tr>\n",
       "    <tr>\n",
       "      <td>1299</td>\n",
       "      <td>NaN</td>\n",
       "      <td>1</td>\n",
       "      <td>Widener, Mr. George Dunton</td>\n",
       "      <td>male</td>\n",
       "      <td>50.0</td>\n",
       "      <td>1</td>\n",
       "      <td>1</td>\n",
       "      <td>113503</td>\n",
       "      <td>211.5000</td>\n",
       "      <td>C80</td>\n",
       "      <td>C</td>\n",
       "      <td>Mr</td>\n",
       "      <td>1</td>\n",
       "      <td>26</td>\n",
       "      <td>2</td>\n",
       "      <td></td>\n",
       "    </tr>\n",
       "  </tbody>\n",
       "</table>\n",
       "</div>"
      ],
      "text/plain": [
       "             Survived  Pclass  \\\n",
       "PassengerId                     \n",
       "28                0.0       1   \n",
       "89                1.0       1   \n",
       "119               0.0       1   \n",
       "300               1.0       1   \n",
       "312               1.0       1   \n",
       "342               1.0       1   \n",
       "378               0.0       1   \n",
       "381               1.0       1   \n",
       "439               0.0       1   \n",
       "528               0.0       1   \n",
       "558               0.0       1   \n",
       "690               1.0       1   \n",
       "701               1.0       1   \n",
       "717               1.0       1   \n",
       "731               1.0       1   \n",
       "743               1.0       1   \n",
       "780               1.0       1   \n",
       "916               NaN       1   \n",
       "945               NaN       1   \n",
       "951               NaN       1   \n",
       "956               NaN       1   \n",
       "961               NaN       1   \n",
       "966               NaN       1   \n",
       "967               NaN       1   \n",
       "973               NaN       1   \n",
       "1006              NaN       1   \n",
       "1034              NaN       1   \n",
       "1048              NaN       1   \n",
       "1076              NaN       1   \n",
       "1094              NaN       1   \n",
       "1110              NaN       1   \n",
       "1216              NaN       1   \n",
       "1235              NaN       1   \n",
       "1267              NaN       1   \n",
       "1299              NaN       1   \n",
       "\n",
       "                                                          Name     Sex   Age  \\\n",
       "PassengerId                                                                    \n",
       "28                              Fortune, Mr. Charles Alexander    male  19.0   \n",
       "89                                  Fortune, Miss. Mabel Helen  female  23.0   \n",
       "119                                   Baxter, Mr. Quigg Edmond    male  24.0   \n",
       "300            Baxter, Mrs. James (Helene DeLaudeniere Chaput)  female  50.0   \n",
       "312                                 Ryerson, Miss. Emily Borie  female  18.0   \n",
       "342                             Fortune, Miss. Alice Elizabeth  female  24.0   \n",
       "378                                  Widener, Mr. Harry Elkins    male  27.0   \n",
       "381                                      Bidois, Miss. Rosalie  female  42.0   \n",
       "439                                          Fortune, Mr. Mark    male  64.0   \n",
       "528                                         Farthing, Mr. John    male   NaN   \n",
       "558                                        Robbins, Mr. Victor    male   NaN   \n",
       "690                          Madill, Miss. Georgette Alexandra  female  15.0   \n",
       "701          Astor, Mrs. John Jacob (Madeleine Talmadge Force)  female  18.0   \n",
       "717                              Endres, Miss. Caroline Louise  female  38.0   \n",
       "731                              Allen, Miss. Elisabeth Walton  female  29.0   \n",
       "743                      Ryerson, Miss. Susan Parker \"Suzette\"  female  21.0   \n",
       "780          Robert, Mrs. Edward Scott (Elisabeth Walton Mc...  female  43.0   \n",
       "916            Ryerson, Mrs. Arthur Larned (Emily Maria Borie)  female  48.0   \n",
       "945                                 Fortune, Miss. Ethel Flora  female  28.0   \n",
       "951                                Chaudanson, Miss. Victorine  female  36.0   \n",
       "956                                Ryerson, Master. John Borie    male  13.0   \n",
       "961                        Fortune, Mrs. Mark (Mary McDougald)  female  60.0   \n",
       "966                                       Geiger, Miss. Amalie  female  35.0   \n",
       "967                                         Keeping, Mr. Edwin    male  32.5   \n",
       "973                                         Straus, Mr. Isidor    male  67.0   \n",
       "1006                    Straus, Mrs. Isidor (Rosalie Ida Blun)  female  63.0   \n",
       "1034                                Ryerson, Mr. Arthur Larned    male  61.0   \n",
       "1048                                         Bird, Miss. Ellen  female  29.0   \n",
       "1076         Douglas, Mrs. Frederick Charles (Mary Helene B...  female  27.0   \n",
       "1094                                    Astor, Col. John Jacob    male  47.0   \n",
       "1110              Widener, Mrs. George Dunton (Eleanor Elkins)  female  50.0   \n",
       "1216                                    Kreuchen, Miss. Emilie  female  39.0   \n",
       "1235         Cardeza, Mrs. James Warburton Martinez (Charlo...  female  58.0   \n",
       "1267                                  Bowen, Miss. Grace Scott  female  45.0   \n",
       "1299                                Widener, Mr. George Dunton    male  50.0   \n",
       "\n",
       "             SibSp  Parch    Ticket      Fare            Cabin Embarked  \\\n",
       "PassengerId                                                               \n",
       "28               3      2     19950  263.0000      C23 C25 C27        S   \n",
       "89               3      2     19950  263.0000      C23 C25 C27        S   \n",
       "119              0      1  PC 17558  247.5208          B58 B60        C   \n",
       "300              0      1  PC 17558  247.5208          B58 B60        C   \n",
       "312              2      2  PC 17608  262.3750  B57 B59 B63 B66        C   \n",
       "342              3      2     19950  263.0000      C23 C25 C27        S   \n",
       "378              0      2    113503  211.5000              C82        C   \n",
       "381              0      0  PC 17757  227.5250              NaN        C   \n",
       "439              1      4     19950  263.0000      C23 C25 C27        S   \n",
       "528              0      0  PC 17483  221.7792              C95        S   \n",
       "558              0      0  PC 17757  227.5250              NaN        C   \n",
       "690              0      1     24160  211.3375               B5        S   \n",
       "701              1      0  PC 17757  227.5250          C62 C64        C   \n",
       "717              0      0  PC 17757  227.5250              C45        C   \n",
       "731              0      0     24160  211.3375               B5        S   \n",
       "743              2      2  PC 17608  262.3750  B57 B59 B63 B66        C   \n",
       "780              0      1     24160  211.3375               B3        S   \n",
       "916              1      3  PC 17608  262.3750  B57 B59 B63 B66        C   \n",
       "945              3      2     19950  263.0000      C23 C25 C27        S   \n",
       "951              0      0  PC 17608  262.3750              B61        C   \n",
       "956              2      2  PC 17608  262.3750  B57 B59 B63 B66        C   \n",
       "961              1      4     19950  263.0000      C23 C25 C27        S   \n",
       "966              0      0    113503  211.5000             C130        C   \n",
       "967              0      0    113503  211.5000             C132        C   \n",
       "973              1      0  PC 17483  221.7792          C55 C57        S   \n",
       "1006             1      0  PC 17483  221.7792          C55 C57        S   \n",
       "1034             1      3  PC 17608  262.3750  B57 B59 B63 B66        C   \n",
       "1048             0      0  PC 17483  221.7792              C97        S   \n",
       "1076             1      1  PC 17558  247.5208          B58 B60        C   \n",
       "1094             1      0  PC 17757  227.5250          C62 C64        C   \n",
       "1110             1      1    113503  211.5000              C80        C   \n",
       "1216             0      0     24160  211.3375              NaN        S   \n",
       "1235             0      1  PC 17755  512.3292      B51 B53 B55        C   \n",
       "1267             0      0  PC 17608  262.3750              NaN        C   \n",
       "1299             1      1    113503  211.5000              C80        C   \n",
       "\n",
       "              Title  Title_Flag  NameLen  Familia TicketID  \n",
       "PassengerId                                                 \n",
       "28               Mr           1       30        5           \n",
       "89             Miss           5       26        5           \n",
       "119              Mr           1       24        1       PC  \n",
       "300             Mrs           6       47        1       PC  \n",
       "312            Miss           5       26        4       PC  \n",
       "342            Miss           5       30        5           \n",
       "378              Mr           1       25        2           \n",
       "381            Miss           5       21        0       PC  \n",
       "439              Mr           1       17        5           \n",
       "528              Mr           1       18        0       PC  \n",
       "558              Mr           1       19        0       PC  \n",
       "690            Miss           5       33        1           \n",
       "701             Mrs           6       49        1       PC  \n",
       "717            Miss           5       29        0       PC  \n",
       "731            Miss           5       29        0           \n",
       "743            Miss           5       37        4       PC  \n",
       "780             Mrs           6       53        1           \n",
       "916             Mrs           6       47        4       PC  \n",
       "945            Miss           5       26        5           \n",
       "951            Miss           5       27        0       PC  \n",
       "956          Master           4       27        4       PC  \n",
       "961             Mrs           6       35        5           \n",
       "966            Miss           5       20        0           \n",
       "967              Mr           1       18        0           \n",
       "973              Mr           1       18        1       PC  \n",
       "1006            Mrs           6       38        1       PC  \n",
       "1034             Mr           1       26        4       PC  \n",
       "1048           Miss           5       17        0       PC  \n",
       "1076            Mrs           6       52        2       PC  \n",
       "1094            Col           3       22        1       PC  \n",
       "1110            Mrs           6       44        2           \n",
       "1216           Miss           5       22        0           \n",
       "1235            Mrs           6       63        1       PC  \n",
       "1267           Miss           5       24        0       PC  \n",
       "1299             Mr           1       26        2           "
      ]
     },
     "execution_count": 42,
     "metadata": {},
     "output_type": "execute_result"
    }
   ],
   "source": [
    "# Who pays so much?????\n",
    "# len(df_train[df_train['Fare'] > 200])  #20 people paid >200 :O\n",
    "df[df['Fare'] > 200]"
   ]
  },
  {
   "cell_type": "markdown",
   "metadata": {},
   "source": [
    "---"
   ]
  },
  {
   "cell_type": "markdown",
   "metadata": {},
   "source": [
    "#### Cabin : Generating Cabin ID"
   ]
  },
  {
   "cell_type": "code",
   "execution_count": 43,
   "metadata": {},
   "outputs": [
    {
     "data": {
      "text/plain": [
       "X    1006\n",
       "C      94\n",
       "B      63\n",
       "D      46\n",
       "E      41\n",
       "A      22\n",
       "F      21\n",
       "G       5\n",
       "T       1\n",
       "Name: CabinID, dtype: int64"
      ]
     },
     "execution_count": 43,
     "metadata": {},
     "output_type": "execute_result"
    }
   ],
   "source": [
    "# Creating a CabinID Flag. Filling in missing Cabin as X\n",
    "\n",
    "df['Cabin'].fillna('X', inplace=True)\n",
    "df['CabinID'] = df['Cabin'].apply(lambda x: x[0])\n",
    "df.CabinID.value_counts()"
   ]
  },
  {
   "cell_type": "code",
   "execution_count": 44,
   "metadata": {},
   "outputs": [
    {
     "data": {
      "text/html": [
       "<div>\n",
       "<style scoped>\n",
       "    .dataframe tbody tr th:only-of-type {\n",
       "        vertical-align: middle;\n",
       "    }\n",
       "\n",
       "    .dataframe tbody tr th {\n",
       "        vertical-align: top;\n",
       "    }\n",
       "\n",
       "    .dataframe thead th {\n",
       "        text-align: right;\n",
       "    }\n",
       "</style>\n",
       "<table border=\"1\" class=\"dataframe\">\n",
       "  <thead>\n",
       "    <tr style=\"text-align: right;\">\n",
       "      <th></th>\n",
       "      <th>Fare</th>\n",
       "      <th>Cabin</th>\n",
       "      <th>Survived</th>\n",
       "    </tr>\n",
       "    <tr>\n",
       "      <th>CabinID</th>\n",
       "      <th></th>\n",
       "      <th></th>\n",
       "      <th></th>\n",
       "    </tr>\n",
       "  </thead>\n",
       "  <tbody>\n",
       "    <tr>\n",
       "      <td>C</td>\n",
       "      <td>100.151341</td>\n",
       "      <td>59</td>\n",
       "      <td>35.0</td>\n",
       "    </tr>\n",
       "    <tr>\n",
       "      <td>B</td>\n",
       "      <td>95.780278</td>\n",
       "      <td>45</td>\n",
       "      <td>33.0</td>\n",
       "    </tr>\n",
       "    <tr>\n",
       "      <td>D</td>\n",
       "      <td>57.244576</td>\n",
       "      <td>33</td>\n",
       "      <td>25.0</td>\n",
       "    </tr>\n",
       "    <tr>\n",
       "      <td>E</td>\n",
       "      <td>46.026694</td>\n",
       "      <td>32</td>\n",
       "      <td>24.0</td>\n",
       "    </tr>\n",
       "    <tr>\n",
       "      <td>A</td>\n",
       "      <td>39.623887</td>\n",
       "      <td>15</td>\n",
       "      <td>7.0</td>\n",
       "    </tr>\n",
       "    <tr>\n",
       "      <td>T</td>\n",
       "      <td>35.500000</td>\n",
       "      <td>1</td>\n",
       "      <td>0.0</td>\n",
       "    </tr>\n",
       "    <tr>\n",
       "      <td>F</td>\n",
       "      <td>18.696792</td>\n",
       "      <td>13</td>\n",
       "      <td>8.0</td>\n",
       "    </tr>\n",
       "    <tr>\n",
       "      <td>X</td>\n",
       "      <td>17.926480</td>\n",
       "      <td>678</td>\n",
       "      <td>205.0</td>\n",
       "    </tr>\n",
       "    <tr>\n",
       "      <td>G</td>\n",
       "      <td>13.581250</td>\n",
       "      <td>4</td>\n",
       "      <td>2.0</td>\n",
       "    </tr>\n",
       "  </tbody>\n",
       "</table>\n",
       "</div>"
      ],
      "text/plain": [
       "               Fare  Cabin  Survived\n",
       "CabinID                             \n",
       "C        100.151341     59      35.0\n",
       "B         95.780278     45      33.0\n",
       "D         57.244576     33      25.0\n",
       "E         46.026694     32      24.0\n",
       "A         39.623887     15       7.0\n",
       "T         35.500000      1       0.0\n",
       "F         18.696792     13       8.0\n",
       "X         17.926480    678     205.0\n",
       "G         13.581250      4       2.0"
      ]
     },
     "execution_count": 44,
     "metadata": {},
     "output_type": "execute_result"
    }
   ],
   "source": [
    "# CabinID vs Fare vs No of Passengers vs Survived (Cabin:Survived = Survival Rate)\n",
    "\n",
    "df[df.index.isin(df_train.index)].groupby('CabinID').agg({'Fare':'mean', 'Cabin':'size', 'Survived':'sum'}).sort_values('Fare' , ascending=False)"
   ]
  },
  {
   "cell_type": "code",
   "execution_count": 45,
   "metadata": {},
   "outputs": [
    {
     "data": {
      "text/html": [
       "<div>\n",
       "<style scoped>\n",
       "    .dataframe tbody tr th:only-of-type {\n",
       "        vertical-align: middle;\n",
       "    }\n",
       "\n",
       "    .dataframe tbody tr th {\n",
       "        vertical-align: top;\n",
       "    }\n",
       "\n",
       "    .dataframe thead th {\n",
       "        text-align: right;\n",
       "    }\n",
       "</style>\n",
       "<table border=\"1\" class=\"dataframe\">\n",
       "  <thead>\n",
       "    <tr style=\"text-align: right;\">\n",
       "      <th>Pclass</th>\n",
       "      <th>1</th>\n",
       "      <th>2</th>\n",
       "      <th>3</th>\n",
       "    </tr>\n",
       "    <tr>\n",
       "      <th>CabinID</th>\n",
       "      <th></th>\n",
       "      <th></th>\n",
       "      <th></th>\n",
       "    </tr>\n",
       "  </thead>\n",
       "  <tbody>\n",
       "    <tr>\n",
       "      <td>A</td>\n",
       "      <td>22</td>\n",
       "      <td>0</td>\n",
       "      <td>0</td>\n",
       "    </tr>\n",
       "    <tr>\n",
       "      <td>B</td>\n",
       "      <td>63</td>\n",
       "      <td>0</td>\n",
       "      <td>0</td>\n",
       "    </tr>\n",
       "    <tr>\n",
       "      <td>C</td>\n",
       "      <td>94</td>\n",
       "      <td>0</td>\n",
       "      <td>0</td>\n",
       "    </tr>\n",
       "    <tr>\n",
       "      <td>D</td>\n",
       "      <td>40</td>\n",
       "      <td>6</td>\n",
       "      <td>0</td>\n",
       "    </tr>\n",
       "    <tr>\n",
       "      <td>E</td>\n",
       "      <td>34</td>\n",
       "      <td>4</td>\n",
       "      <td>3</td>\n",
       "    </tr>\n",
       "    <tr>\n",
       "      <td>F</td>\n",
       "      <td>0</td>\n",
       "      <td>13</td>\n",
       "      <td>8</td>\n",
       "    </tr>\n",
       "    <tr>\n",
       "      <td>G</td>\n",
       "      <td>0</td>\n",
       "      <td>0</td>\n",
       "      <td>5</td>\n",
       "    </tr>\n",
       "    <tr>\n",
       "      <td>T</td>\n",
       "      <td>1</td>\n",
       "      <td>0</td>\n",
       "      <td>0</td>\n",
       "    </tr>\n",
       "    <tr>\n",
       "      <td>X</td>\n",
       "      <td>66</td>\n",
       "      <td>254</td>\n",
       "      <td>686</td>\n",
       "    </tr>\n",
       "  </tbody>\n",
       "</table>\n",
       "</div>"
      ],
      "text/plain": [
       "Pclass    1    2    3\n",
       "CabinID              \n",
       "A        22    0    0\n",
       "B        63    0    0\n",
       "C        94    0    0\n",
       "D        40    6    0\n",
       "E        34    4    3\n",
       "F         0   13    8\n",
       "G         0    0    5\n",
       "T         1    0    0\n",
       "X        66  254  686"
      ]
     },
     "execution_count": 45,
     "metadata": {},
     "output_type": "execute_result"
    }
   ],
   "source": [
    "# Cabin vs Class : Most of the missing Cabins belong to 2nd and 3rd Class.\n",
    "\n",
    "pd.crosstab(df.CabinID , df.Pclass)"
   ]
  },
  {
   "cell_type": "code",
   "execution_count": 46,
   "metadata": {},
   "outputs": [
    {
     "data": {
      "image/png": "[encoded data removed]",
      "text/plain": [
       "<Figure size 432x288 with 1 Axes>"
      ]
     },
     "metadata": {
      "needs_background": "light"
     },
     "output_type": "display_data"
    }
   ],
   "source": [
    "# Taking the 66 Passengers from 1st Class, but missing Cabins and checking the Fares\n",
    "\n",
    "df[(df['Pclass'] == 1) & (df['CabinID'] == 'X')].Fare.hist();    # Check Distribution of Fares"
   ]
  },
  {
   "cell_type": "code",
   "execution_count": 47,
   "metadata": {},
   "outputs": [
    {
     "data": {
      "text/plain": [
       "CabinID\n",
       "A     41.244314\n",
       "B    110.003837\n",
       "C    107.926598\n",
       "D     53.007339\n",
       "E     54.564634\n",
       "F     18.079367\n",
       "G     14.205000\n",
       "T     35.500000\n",
       "X     18.282214\n",
       "Name: Fare, dtype: float64"
      ]
     },
     "execution_count": 47,
     "metadata": {},
     "output_type": "execute_result"
    }
   ],
   "source": [
    "df.groupby('CabinID').Fare.mean()"
   ]
  },
  {
   "cell_type": "code",
   "execution_count": 48,
   "metadata": {},
   "outputs": [
    {
     "data": {
      "text/html": [
       "<div>\n",
       "<style scoped>\n",
       "    .dataframe tbody tr th:only-of-type {\n",
       "        vertical-align: middle;\n",
       "    }\n",
       "\n",
       "    .dataframe tbody tr th {\n",
       "        vertical-align: top;\n",
       "    }\n",
       "\n",
       "    .dataframe thead th {\n",
       "        text-align: right;\n",
       "    }\n",
       "</style>\n",
       "<table border=\"1\" class=\"dataframe\">\n",
       "  <thead>\n",
       "    <tr style=\"text-align: right;\">\n",
       "      <th></th>\n",
       "      <th>Fare</th>\n",
       "      <th>Fare</th>\n",
       "    </tr>\n",
       "    <tr>\n",
       "      <th>clus</th>\n",
       "      <th></th>\n",
       "      <th></th>\n",
       "    </tr>\n",
       "  </thead>\n",
       "  <tbody>\n",
       "    <tr>\n",
       "      <td>0</td>\n",
       "      <td>51.097662</td>\n",
       "      <td>16</td>\n",
       "    </tr>\n",
       "    <tr>\n",
       "      <td>1</td>\n",
       "      <td>147.966671</td>\n",
       "      <td>7</td>\n",
       "    </tr>\n",
       "    <tr>\n",
       "      <td>2</td>\n",
       "      <td>24.832675</td>\n",
       "      <td>32</td>\n",
       "    </tr>\n",
       "    <tr>\n",
       "      <td>3</td>\n",
       "      <td>232.190625</td>\n",
       "      <td>4</td>\n",
       "    </tr>\n",
       "    <tr>\n",
       "      <td>4</td>\n",
       "      <td>88.414271</td>\n",
       "      <td>7</td>\n",
       "    </tr>\n",
       "  </tbody>\n",
       "</table>\n",
       "</div>"
      ],
      "text/plain": [
       "            Fare  Fare\n",
       "clus                  \n",
       "0      51.097662    16\n",
       "1     147.966671     7\n",
       "2      24.832675    32\n",
       "3     232.190625     4\n",
       "4      88.414271     7"
      ]
     },
     "execution_count": 48,
     "metadata": {},
     "output_type": "execute_result"
    }
   ],
   "source": [
    "# Attributing the 66 Passengers to their Respective CabinIDs\n",
    "# Using a simple Decision Tree Classifier to impute the 66 Missing CabinIDs\n",
    "\n",
    "df_missing_class = df[(df['Pclass'] == 1) & (df['CabinID'] == 'X')][['Fare', 'Familia']]    # Assign to variable\n",
    "df_missing_class.head(1)\n",
    "\n",
    "\n",
    "from sklearn.cluster import KMeans\n",
    "km = KMeans(n_clusters = 5)\n",
    "df_missing_class['clus'] = km.fit_predict(  df_missing_class )\n",
    "\n",
    "pd.concat( [df_missing_class.groupby('clus').Fare.mean() , df_missing_class.groupby('clus').Fare.count()] , axis=1)"
   ]
  },
  {
   "cell_type": "code",
   "execution_count": 49,
   "metadata": {},
   "outputs": [
    {
     "data": {
      "text/html": [
       "<div>\n",
       "<style scoped>\n",
       "    .dataframe tbody tr th:only-of-type {\n",
       "        vertical-align: middle;\n",
       "    }\n",
       "\n",
       "    .dataframe tbody tr th {\n",
       "        vertical-align: top;\n",
       "    }\n",
       "\n",
       "    .dataframe thead th {\n",
       "        text-align: right;\n",
       "    }\n",
       "</style>\n",
       "<table border=\"1\" class=\"dataframe\">\n",
       "  <thead>\n",
       "    <tr style=\"text-align: right;\">\n",
       "      <th></th>\n",
       "      <th>Fare</th>\n",
       "      <th>Fare</th>\n",
       "    </tr>\n",
       "  </thead>\n",
       "  <tbody>\n",
       "    <tr>\n",
       "      <td>A</td>\n",
       "      <td>30.325373</td>\n",
       "      <td>41.244314</td>\n",
       "    </tr>\n",
       "    <tr>\n",
       "      <td>B</td>\n",
       "      <td>72.925293</td>\n",
       "      <td>110.003837</td>\n",
       "    </tr>\n",
       "    <tr>\n",
       "      <td>C</td>\n",
       "      <td>75.302363</td>\n",
       "      <td>107.926598</td>\n",
       "    </tr>\n",
       "    <tr>\n",
       "      <td>D</td>\n",
       "      <td>27.424971</td>\n",
       "      <td>53.007339</td>\n",
       "    </tr>\n",
       "    <tr>\n",
       "      <td>E</td>\n",
       "      <td>97.514600</td>\n",
       "      <td>54.564634</td>\n",
       "    </tr>\n",
       "    <tr>\n",
       "      <td>F</td>\n",
       "      <td>NaN</td>\n",
       "      <td>18.079367</td>\n",
       "    </tr>\n",
       "    <tr>\n",
       "      <td>G</td>\n",
       "      <td>NaN</td>\n",
       "      <td>14.205000</td>\n",
       "    </tr>\n",
       "    <tr>\n",
       "      <td>T</td>\n",
       "      <td>NaN</td>\n",
       "      <td>35.500000</td>\n",
       "    </tr>\n",
       "    <tr>\n",
       "      <td>X</td>\n",
       "      <td>NaN</td>\n",
       "      <td>18.282214</td>\n",
       "    </tr>\n",
       "  </tbody>\n",
       "</table>\n",
       "</div>"
      ],
      "text/plain": [
       "        Fare        Fare\n",
       "A  30.325373   41.244314\n",
       "B  72.925293  110.003837\n",
       "C  75.302363  107.926598\n",
       "D  27.424971   53.007339\n",
       "E  97.514600   54.564634\n",
       "F        NaN   18.079367\n",
       "G        NaN   14.205000\n",
       "T        NaN   35.500000\n",
       "X        NaN   18.282214"
      ]
     },
     "execution_count": 49,
     "metadata": {},
     "output_type": "execute_result"
    }
   ],
   "source": [
    "# Attributing the 66 Passengers to their Respective CabinIDs\n",
    "# Using a simple Decision Tree Classifier to impute the 66 Missing CabinIDs\n",
    "\n",
    "\n",
    "df_missing_class = df[(df['Pclass'] == 1) & (df['CabinID'] == 'X')][['Pclass', 'Fare']]    # Assign to variable\n",
    "\n",
    "\n",
    "# Run Model to Impute CabinID\n",
    "from sklearn.tree import DecisionTreeClassifier\n",
    "impute_cabinid = DecisionTreeClassifier()\n",
    "impute_cabinid.fit (  df.loc[ df['CabinID']!='X' , ['Pclass' , 'Fare'] ] , df.loc[ df['CabinID']!='X' , ['CabinID'] ]  )\n",
    "\n",
    "# Predict from the Model\n",
    "PredCabinID = impute_cabinid.predict (df_missing_class)\n",
    "df_missing_class['PredCabinID'] = PredCabinID\n",
    "\n",
    "\n",
    "# Check the Predicted CabinIDs and the average Fare\n",
    "pd.concat( [df_missing_class.groupby('PredCabinID').Fare.mean() , df.groupby('CabinID').Fare.mean()] , axis=1 , sort=False)"
   ]
  },
  {
   "cell_type": "code",
   "execution_count": 50,
   "metadata": {
    "scrolled": false
   },
   "outputs": [
    {
     "data": {
      "text/html": [
       "<style  type=\"text/css\" >\n",
       "    #T_6824ea2c_ef92_11e9_a7e3_505bc2834c80row22_col0 {\n",
       "            background:  lightgreen;\n",
       "        }    #T_6824ea2c_ef92_11e9_a7e3_505bc2834c80row22_col1 {\n",
       "            background:  lightgreen;\n",
       "        }    #T_6824ea2c_ef92_11e9_a7e3_505bc2834c80row22_col2 {\n",
       "            background:  lightgreen;\n",
       "        }    #T_6824ea2c_ef92_11e9_a7e3_505bc2834c80row22_col3 {\n",
       "            background:  lightgreen;\n",
       "        }    #T_6824ea2c_ef92_11e9_a7e3_505bc2834c80row22_col4 {\n",
       "            background:  lightgreen;\n",
       "        }    #T_6824ea2c_ef92_11e9_a7e3_505bc2834c80row22_col5 {\n",
       "            background:  lightgreen;\n",
       "        }    #T_6824ea2c_ef92_11e9_a7e3_505bc2834c80row22_col6 {\n",
       "            background:  lightgreen;\n",
       "        }    #T_6824ea2c_ef92_11e9_a7e3_505bc2834c80row22_col7 {\n",
       "            background:  lightgreen;\n",
       "        }    #T_6824ea2c_ef92_11e9_a7e3_505bc2834c80row22_col8 {\n",
       "            background:  lightgreen;\n",
       "        }</style><table id=\"T_6824ea2c_ef92_11e9_a7e3_505bc2834c80\" ><thead>    <tr>        <th class=\"index_name level0\" >CabinID</th>        <th class=\"col_heading level0 col0\" >A</th>        <th class=\"col_heading level0 col1\" >B</th>        <th class=\"col_heading level0 col2\" >C</th>        <th class=\"col_heading level0 col3\" >D</th>        <th class=\"col_heading level0 col4\" >E</th>        <th class=\"col_heading level0 col5\" >F</th>        <th class=\"col_heading level0 col6\" >G</th>        <th class=\"col_heading level0 col7\" >T</th>        <th class=\"col_heading level0 col8\" >X</th>    </tr>    <tr>        <th class=\"index_name level0\" >TicketID</th>        <th class=\"blank\" ></th>        <th class=\"blank\" ></th>        <th class=\"blank\" ></th>        <th class=\"blank\" ></th>        <th class=\"blank\" ></th>        <th class=\"blank\" ></th>        <th class=\"blank\" ></th>        <th class=\"blank\" ></th>        <th class=\"blank\" ></th>    </tr></thead><tbody>\n",
       "                <tr>\n",
       "                        <th id=\"T_6824ea2c_ef92_11e9_a7e3_505bc2834c80level0_row0\" class=\"row_heading level0 row0\" ></th>\n",
       "                        <td id=\"T_6824ea2c_ef92_11e9_a7e3_505bc2834c80row0_col0\" class=\"data row0 col0\" >15</td>\n",
       "                        <td id=\"T_6824ea2c_ef92_11e9_a7e3_505bc2834c80row0_col1\" class=\"data row0 col1\" >40</td>\n",
       "                        <td id=\"T_6824ea2c_ef92_11e9_a7e3_505bc2834c80row0_col2\" class=\"data row0 col2\" >71</td>\n",
       "                        <td id=\"T_6824ea2c_ef92_11e9_a7e3_505bc2834c80row0_col3\" class=\"data row0 col3\" >35</td>\n",
       "                        <td id=\"T_6824ea2c_ef92_11e9_a7e3_505bc2834c80row0_col4\" class=\"data row0 col4\" >29</td>\n",
       "                        <td id=\"T_6824ea2c_ef92_11e9_a7e3_505bc2834c80row0_col5\" class=\"data row0 col5\" >18</td>\n",
       "                        <td id=\"T_6824ea2c_ef92_11e9_a7e3_505bc2834c80row0_col6\" class=\"data row0 col6\" >2</td>\n",
       "                        <td id=\"T_6824ea2c_ef92_11e9_a7e3_505bc2834c80row0_col7\" class=\"data row0 col7\" >1</td>\n",
       "                        <td id=\"T_6824ea2c_ef92_11e9_a7e3_505bc2834c80row0_col8\" class=\"data row0 col8\" >750</td>\n",
       "            </tr>\n",
       "            <tr>\n",
       "                        <th id=\"T_6824ea2c_ef92_11e9_a7e3_505bc2834c80level0_row1\" class=\"row_heading level0 row1\" >A. 2.</th>\n",
       "                        <td id=\"T_6824ea2c_ef92_11e9_a7e3_505bc2834c80row1_col0\" class=\"data row1 col0\" >0</td>\n",
       "                        <td id=\"T_6824ea2c_ef92_11e9_a7e3_505bc2834c80row1_col1\" class=\"data row1 col1\" >0</td>\n",
       "                        <td id=\"T_6824ea2c_ef92_11e9_a7e3_505bc2834c80row1_col2\" class=\"data row1 col2\" >0</td>\n",
       "                        <td id=\"T_6824ea2c_ef92_11e9_a7e3_505bc2834c80row1_col3\" class=\"data row1 col3\" >0</td>\n",
       "                        <td id=\"T_6824ea2c_ef92_11e9_a7e3_505bc2834c80row1_col4\" class=\"data row1 col4\" >0</td>\n",
       "                        <td id=\"T_6824ea2c_ef92_11e9_a7e3_505bc2834c80row1_col5\" class=\"data row1 col5\" >0</td>\n",
       "                        <td id=\"T_6824ea2c_ef92_11e9_a7e3_505bc2834c80row1_col6\" class=\"data row1 col6\" >0</td>\n",
       "                        <td id=\"T_6824ea2c_ef92_11e9_a7e3_505bc2834c80row1_col7\" class=\"data row1 col7\" >0</td>\n",
       "                        <td id=\"T_6824ea2c_ef92_11e9_a7e3_505bc2834c80row1_col8\" class=\"data row1 col8\" >1</td>\n",
       "            </tr>\n",
       "            <tr>\n",
       "                        <th id=\"T_6824ea2c_ef92_11e9_a7e3_505bc2834c80level0_row2\" class=\"row_heading level0 row2\" >A./5.</th>\n",
       "                        <td id=\"T_6824ea2c_ef92_11e9_a7e3_505bc2834c80row2_col0\" class=\"data row2 col0\" >0</td>\n",
       "                        <td id=\"T_6824ea2c_ef92_11e9_a7e3_505bc2834c80row2_col1\" class=\"data row2 col1\" >0</td>\n",
       "                        <td id=\"T_6824ea2c_ef92_11e9_a7e3_505bc2834c80row2_col2\" class=\"data row2 col2\" >0</td>\n",
       "                        <td id=\"T_6824ea2c_ef92_11e9_a7e3_505bc2834c80row2_col3\" class=\"data row2 col3\" >0</td>\n",
       "                        <td id=\"T_6824ea2c_ef92_11e9_a7e3_505bc2834c80row2_col4\" class=\"data row2 col4\" >0</td>\n",
       "                        <td id=\"T_6824ea2c_ef92_11e9_a7e3_505bc2834c80row2_col5\" class=\"data row2 col5\" >0</td>\n",
       "                        <td id=\"T_6824ea2c_ef92_11e9_a7e3_505bc2834c80row2_col6\" class=\"data row2 col6\" >0</td>\n",
       "                        <td id=\"T_6824ea2c_ef92_11e9_a7e3_505bc2834c80row2_col7\" class=\"data row2 col7\" >0</td>\n",
       "                        <td id=\"T_6824ea2c_ef92_11e9_a7e3_505bc2834c80row2_col8\" class=\"data row2 col8\" >3</td>\n",
       "            </tr>\n",
       "            <tr>\n",
       "                        <th id=\"T_6824ea2c_ef92_11e9_a7e3_505bc2834c80level0_row3\" class=\"row_heading level0 row3\" >A.5.</th>\n",
       "                        <td id=\"T_6824ea2c_ef92_11e9_a7e3_505bc2834c80row3_col0\" class=\"data row3 col0\" >0</td>\n",
       "                        <td id=\"T_6824ea2c_ef92_11e9_a7e3_505bc2834c80row3_col1\" class=\"data row3 col1\" >0</td>\n",
       "                        <td id=\"T_6824ea2c_ef92_11e9_a7e3_505bc2834c80row3_col2\" class=\"data row3 col2\" >0</td>\n",
       "                        <td id=\"T_6824ea2c_ef92_11e9_a7e3_505bc2834c80row3_col3\" class=\"data row3 col3\" >0</td>\n",
       "                        <td id=\"T_6824ea2c_ef92_11e9_a7e3_505bc2834c80row3_col4\" class=\"data row3 col4\" >0</td>\n",
       "                        <td id=\"T_6824ea2c_ef92_11e9_a7e3_505bc2834c80row3_col5\" class=\"data row3 col5\" >0</td>\n",
       "                        <td id=\"T_6824ea2c_ef92_11e9_a7e3_505bc2834c80row3_col6\" class=\"data row3 col6\" >0</td>\n",
       "                        <td id=\"T_6824ea2c_ef92_11e9_a7e3_505bc2834c80row3_col7\" class=\"data row3 col7\" >0</td>\n",
       "                        <td id=\"T_6824ea2c_ef92_11e9_a7e3_505bc2834c80row3_col8\" class=\"data row3 col8\" >3</td>\n",
       "            </tr>\n",
       "            <tr>\n",
       "                        <th id=\"T_6824ea2c_ef92_11e9_a7e3_505bc2834c80level0_row4\" class=\"row_heading level0 row4\" >A/4</th>\n",
       "                        <td id=\"T_6824ea2c_ef92_11e9_a7e3_505bc2834c80row4_col0\" class=\"data row4 col0\" >0</td>\n",
       "                        <td id=\"T_6824ea2c_ef92_11e9_a7e3_505bc2834c80row4_col1\" class=\"data row4 col1\" >0</td>\n",
       "                        <td id=\"T_6824ea2c_ef92_11e9_a7e3_505bc2834c80row4_col2\" class=\"data row4 col2\" >0</td>\n",
       "                        <td id=\"T_6824ea2c_ef92_11e9_a7e3_505bc2834c80row4_col3\" class=\"data row4 col3\" >0</td>\n",
       "                        <td id=\"T_6824ea2c_ef92_11e9_a7e3_505bc2834c80row4_col4\" class=\"data row4 col4\" >0</td>\n",
       "                        <td id=\"T_6824ea2c_ef92_11e9_a7e3_505bc2834c80row4_col5\" class=\"data row4 col5\" >0</td>\n",
       "                        <td id=\"T_6824ea2c_ef92_11e9_a7e3_505bc2834c80row4_col6\" class=\"data row4 col6\" >0</td>\n",
       "                        <td id=\"T_6824ea2c_ef92_11e9_a7e3_505bc2834c80row4_col7\" class=\"data row4 col7\" >0</td>\n",
       "                        <td id=\"T_6824ea2c_ef92_11e9_a7e3_505bc2834c80row4_col8\" class=\"data row4 col8\" >6</td>\n",
       "            </tr>\n",
       "            <tr>\n",
       "                        <th id=\"T_6824ea2c_ef92_11e9_a7e3_505bc2834c80level0_row5\" class=\"row_heading level0 row5\" >A/4.</th>\n",
       "                        <td id=\"T_6824ea2c_ef92_11e9_a7e3_505bc2834c80row5_col0\" class=\"data row5 col0\" >0</td>\n",
       "                        <td id=\"T_6824ea2c_ef92_11e9_a7e3_505bc2834c80row5_col1\" class=\"data row5 col1\" >0</td>\n",
       "                        <td id=\"T_6824ea2c_ef92_11e9_a7e3_505bc2834c80row5_col2\" class=\"data row5 col2\" >0</td>\n",
       "                        <td id=\"T_6824ea2c_ef92_11e9_a7e3_505bc2834c80row5_col3\" class=\"data row5 col3\" >0</td>\n",
       "                        <td id=\"T_6824ea2c_ef92_11e9_a7e3_505bc2834c80row5_col4\" class=\"data row5 col4\" >0</td>\n",
       "                        <td id=\"T_6824ea2c_ef92_11e9_a7e3_505bc2834c80row5_col5\" class=\"data row5 col5\" >0</td>\n",
       "                        <td id=\"T_6824ea2c_ef92_11e9_a7e3_505bc2834c80row5_col6\" class=\"data row5 col6\" >0</td>\n",
       "                        <td id=\"T_6824ea2c_ef92_11e9_a7e3_505bc2834c80row5_col7\" class=\"data row5 col7\" >0</td>\n",
       "                        <td id=\"T_6824ea2c_ef92_11e9_a7e3_505bc2834c80row5_col8\" class=\"data row5 col8\" >3</td>\n",
       "            </tr>\n",
       "            <tr>\n",
       "                        <th id=\"T_6824ea2c_ef92_11e9_a7e3_505bc2834c80level0_row6\" class=\"row_heading level0 row6\" >A/5</th>\n",
       "                        <td id=\"T_6824ea2c_ef92_11e9_a7e3_505bc2834c80row6_col0\" class=\"data row6 col0\" >0</td>\n",
       "                        <td id=\"T_6824ea2c_ef92_11e9_a7e3_505bc2834c80row6_col1\" class=\"data row6 col1\" >0</td>\n",
       "                        <td id=\"T_6824ea2c_ef92_11e9_a7e3_505bc2834c80row6_col2\" class=\"data row6 col2\" >0</td>\n",
       "                        <td id=\"T_6824ea2c_ef92_11e9_a7e3_505bc2834c80row6_col3\" class=\"data row6 col3\" >0</td>\n",
       "                        <td id=\"T_6824ea2c_ef92_11e9_a7e3_505bc2834c80row6_col4\" class=\"data row6 col4\" >0</td>\n",
       "                        <td id=\"T_6824ea2c_ef92_11e9_a7e3_505bc2834c80row6_col5\" class=\"data row6 col5\" >0</td>\n",
       "                        <td id=\"T_6824ea2c_ef92_11e9_a7e3_505bc2834c80row6_col6\" class=\"data row6 col6\" >0</td>\n",
       "                        <td id=\"T_6824ea2c_ef92_11e9_a7e3_505bc2834c80row6_col7\" class=\"data row6 col7\" >0</td>\n",
       "                        <td id=\"T_6824ea2c_ef92_11e9_a7e3_505bc2834c80row6_col8\" class=\"data row6 col8\" >12</td>\n",
       "            </tr>\n",
       "            <tr>\n",
       "                        <th id=\"T_6824ea2c_ef92_11e9_a7e3_505bc2834c80level0_row7\" class=\"row_heading level0 row7\" >A/5.</th>\n",
       "                        <td id=\"T_6824ea2c_ef92_11e9_a7e3_505bc2834c80row7_col0\" class=\"data row7 col0\" >0</td>\n",
       "                        <td id=\"T_6824ea2c_ef92_11e9_a7e3_505bc2834c80row7_col1\" class=\"data row7 col1\" >0</td>\n",
       "                        <td id=\"T_6824ea2c_ef92_11e9_a7e3_505bc2834c80row7_col2\" class=\"data row7 col2\" >0</td>\n",
       "                        <td id=\"T_6824ea2c_ef92_11e9_a7e3_505bc2834c80row7_col3\" class=\"data row7 col3\" >0</td>\n",
       "                        <td id=\"T_6824ea2c_ef92_11e9_a7e3_505bc2834c80row7_col4\" class=\"data row7 col4\" >0</td>\n",
       "                        <td id=\"T_6824ea2c_ef92_11e9_a7e3_505bc2834c80row7_col5\" class=\"data row7 col5\" >0</td>\n",
       "                        <td id=\"T_6824ea2c_ef92_11e9_a7e3_505bc2834c80row7_col6\" class=\"data row7 col6\" >0</td>\n",
       "                        <td id=\"T_6824ea2c_ef92_11e9_a7e3_505bc2834c80row7_col7\" class=\"data row7 col7\" >0</td>\n",
       "                        <td id=\"T_6824ea2c_ef92_11e9_a7e3_505bc2834c80row7_col8\" class=\"data row7 col8\" >10</td>\n",
       "            </tr>\n",
       "            <tr>\n",
       "                        <th id=\"T_6824ea2c_ef92_11e9_a7e3_505bc2834c80level0_row8\" class=\"row_heading level0 row8\" >A/S</th>\n",
       "                        <td id=\"T_6824ea2c_ef92_11e9_a7e3_505bc2834c80row8_col0\" class=\"data row8 col0\" >0</td>\n",
       "                        <td id=\"T_6824ea2c_ef92_11e9_a7e3_505bc2834c80row8_col1\" class=\"data row8 col1\" >0</td>\n",
       "                        <td id=\"T_6824ea2c_ef92_11e9_a7e3_505bc2834c80row8_col2\" class=\"data row8 col2\" >0</td>\n",
       "                        <td id=\"T_6824ea2c_ef92_11e9_a7e3_505bc2834c80row8_col3\" class=\"data row8 col3\" >0</td>\n",
       "                        <td id=\"T_6824ea2c_ef92_11e9_a7e3_505bc2834c80row8_col4\" class=\"data row8 col4\" >0</td>\n",
       "                        <td id=\"T_6824ea2c_ef92_11e9_a7e3_505bc2834c80row8_col5\" class=\"data row8 col5\" >0</td>\n",
       "                        <td id=\"T_6824ea2c_ef92_11e9_a7e3_505bc2834c80row8_col6\" class=\"data row8 col6\" >0</td>\n",
       "                        <td id=\"T_6824ea2c_ef92_11e9_a7e3_505bc2834c80row8_col7\" class=\"data row8 col7\" >0</td>\n",
       "                        <td id=\"T_6824ea2c_ef92_11e9_a7e3_505bc2834c80row8_col8\" class=\"data row8 col8\" >1</td>\n",
       "            </tr>\n",
       "            <tr>\n",
       "                        <th id=\"T_6824ea2c_ef92_11e9_a7e3_505bc2834c80level0_row9\" class=\"row_heading level0 row9\" >A4.</th>\n",
       "                        <td id=\"T_6824ea2c_ef92_11e9_a7e3_505bc2834c80row9_col0\" class=\"data row9 col0\" >0</td>\n",
       "                        <td id=\"T_6824ea2c_ef92_11e9_a7e3_505bc2834c80row9_col1\" class=\"data row9 col1\" >0</td>\n",
       "                        <td id=\"T_6824ea2c_ef92_11e9_a7e3_505bc2834c80row9_col2\" class=\"data row9 col2\" >0</td>\n",
       "                        <td id=\"T_6824ea2c_ef92_11e9_a7e3_505bc2834c80row9_col3\" class=\"data row9 col3\" >0</td>\n",
       "                        <td id=\"T_6824ea2c_ef92_11e9_a7e3_505bc2834c80row9_col4\" class=\"data row9 col4\" >0</td>\n",
       "                        <td id=\"T_6824ea2c_ef92_11e9_a7e3_505bc2834c80row9_col5\" class=\"data row9 col5\" >0</td>\n",
       "                        <td id=\"T_6824ea2c_ef92_11e9_a7e3_505bc2834c80row9_col6\" class=\"data row9 col6\" >0</td>\n",
       "                        <td id=\"T_6824ea2c_ef92_11e9_a7e3_505bc2834c80row9_col7\" class=\"data row9 col7\" >0</td>\n",
       "                        <td id=\"T_6824ea2c_ef92_11e9_a7e3_505bc2834c80row9_col8\" class=\"data row9 col8\" >1</td>\n",
       "            </tr>\n",
       "            <tr>\n",
       "                        <th id=\"T_6824ea2c_ef92_11e9_a7e3_505bc2834c80level0_row10\" class=\"row_heading level0 row10\" >AQ/3.</th>\n",
       "                        <td id=\"T_6824ea2c_ef92_11e9_a7e3_505bc2834c80row10_col0\" class=\"data row10 col0\" >0</td>\n",
       "                        <td id=\"T_6824ea2c_ef92_11e9_a7e3_505bc2834c80row10_col1\" class=\"data row10 col1\" >0</td>\n",
       "                        <td id=\"T_6824ea2c_ef92_11e9_a7e3_505bc2834c80row10_col2\" class=\"data row10 col2\" >0</td>\n",
       "                        <td id=\"T_6824ea2c_ef92_11e9_a7e3_505bc2834c80row10_col3\" class=\"data row10 col3\" >0</td>\n",
       "                        <td id=\"T_6824ea2c_ef92_11e9_a7e3_505bc2834c80row10_col4\" class=\"data row10 col4\" >0</td>\n",
       "                        <td id=\"T_6824ea2c_ef92_11e9_a7e3_505bc2834c80row10_col5\" class=\"data row10 col5\" >0</td>\n",
       "                        <td id=\"T_6824ea2c_ef92_11e9_a7e3_505bc2834c80row10_col6\" class=\"data row10 col6\" >0</td>\n",
       "                        <td id=\"T_6824ea2c_ef92_11e9_a7e3_505bc2834c80row10_col7\" class=\"data row10 col7\" >0</td>\n",
       "                        <td id=\"T_6824ea2c_ef92_11e9_a7e3_505bc2834c80row10_col8\" class=\"data row10 col8\" >1</td>\n",
       "            </tr>\n",
       "            <tr>\n",
       "                        <th id=\"T_6824ea2c_ef92_11e9_a7e3_505bc2834c80level0_row11\" class=\"row_heading level0 row11\" >AQ/4</th>\n",
       "                        <td id=\"T_6824ea2c_ef92_11e9_a7e3_505bc2834c80row11_col0\" class=\"data row11 col0\" >0</td>\n",
       "                        <td id=\"T_6824ea2c_ef92_11e9_a7e3_505bc2834c80row11_col1\" class=\"data row11 col1\" >0</td>\n",
       "                        <td id=\"T_6824ea2c_ef92_11e9_a7e3_505bc2834c80row11_col2\" class=\"data row11 col2\" >0</td>\n",
       "                        <td id=\"T_6824ea2c_ef92_11e9_a7e3_505bc2834c80row11_col3\" class=\"data row11 col3\" >0</td>\n",
       "                        <td id=\"T_6824ea2c_ef92_11e9_a7e3_505bc2834c80row11_col4\" class=\"data row11 col4\" >0</td>\n",
       "                        <td id=\"T_6824ea2c_ef92_11e9_a7e3_505bc2834c80row11_col5\" class=\"data row11 col5\" >0</td>\n",
       "                        <td id=\"T_6824ea2c_ef92_11e9_a7e3_505bc2834c80row11_col6\" class=\"data row11 col6\" >0</td>\n",
       "                        <td id=\"T_6824ea2c_ef92_11e9_a7e3_505bc2834c80row11_col7\" class=\"data row11 col7\" >0</td>\n",
       "                        <td id=\"T_6824ea2c_ef92_11e9_a7e3_505bc2834c80row11_col8\" class=\"data row11 col8\" >1</td>\n",
       "            </tr>\n",
       "            <tr>\n",
       "                        <th id=\"T_6824ea2c_ef92_11e9_a7e3_505bc2834c80level0_row12\" class=\"row_heading level0 row12\" >C</th>\n",
       "                        <td id=\"T_6824ea2c_ef92_11e9_a7e3_505bc2834c80row12_col0\" class=\"data row12 col0\" >0</td>\n",
       "                        <td id=\"T_6824ea2c_ef92_11e9_a7e3_505bc2834c80row12_col1\" class=\"data row12 col1\" >0</td>\n",
       "                        <td id=\"T_6824ea2c_ef92_11e9_a7e3_505bc2834c80row12_col2\" class=\"data row12 col2\" >0</td>\n",
       "                        <td id=\"T_6824ea2c_ef92_11e9_a7e3_505bc2834c80row12_col3\" class=\"data row12 col3\" >0</td>\n",
       "                        <td id=\"T_6824ea2c_ef92_11e9_a7e3_505bc2834c80row12_col4\" class=\"data row12 col4\" >0</td>\n",
       "                        <td id=\"T_6824ea2c_ef92_11e9_a7e3_505bc2834c80row12_col5\" class=\"data row12 col5\" >0</td>\n",
       "                        <td id=\"T_6824ea2c_ef92_11e9_a7e3_505bc2834c80row12_col6\" class=\"data row12 col6\" >0</td>\n",
       "                        <td id=\"T_6824ea2c_ef92_11e9_a7e3_505bc2834c80row12_col7\" class=\"data row12 col7\" >0</td>\n",
       "                        <td id=\"T_6824ea2c_ef92_11e9_a7e3_505bc2834c80row12_col8\" class=\"data row12 col8\" >8</td>\n",
       "            </tr>\n",
       "            <tr>\n",
       "                        <th id=\"T_6824ea2c_ef92_11e9_a7e3_505bc2834c80level0_row13\" class=\"row_heading level0 row13\" >C.A.</th>\n",
       "                        <td id=\"T_6824ea2c_ef92_11e9_a7e3_505bc2834c80row13_col0\" class=\"data row13 col0\" >0</td>\n",
       "                        <td id=\"T_6824ea2c_ef92_11e9_a7e3_505bc2834c80row13_col1\" class=\"data row13 col1\" >0</td>\n",
       "                        <td id=\"T_6824ea2c_ef92_11e9_a7e3_505bc2834c80row13_col2\" class=\"data row13 col2\" >0</td>\n",
       "                        <td id=\"T_6824ea2c_ef92_11e9_a7e3_505bc2834c80row13_col3\" class=\"data row13 col3\" >0</td>\n",
       "                        <td id=\"T_6824ea2c_ef92_11e9_a7e3_505bc2834c80row13_col4\" class=\"data row13 col4\" >0</td>\n",
       "                        <td id=\"T_6824ea2c_ef92_11e9_a7e3_505bc2834c80row13_col5\" class=\"data row13 col5\" >2</td>\n",
       "                        <td id=\"T_6824ea2c_ef92_11e9_a7e3_505bc2834c80row13_col6\" class=\"data row13 col6\" >0</td>\n",
       "                        <td id=\"T_6824ea2c_ef92_11e9_a7e3_505bc2834c80row13_col7\" class=\"data row13 col7\" >0</td>\n",
       "                        <td id=\"T_6824ea2c_ef92_11e9_a7e3_505bc2834c80row13_col8\" class=\"data row13 col8\" >44</td>\n",
       "            </tr>\n",
       "            <tr>\n",
       "                        <th id=\"T_6824ea2c_ef92_11e9_a7e3_505bc2834c80level0_row14\" class=\"row_heading level0 row14\" >C.A./SOTON</th>\n",
       "                        <td id=\"T_6824ea2c_ef92_11e9_a7e3_505bc2834c80row14_col0\" class=\"data row14 col0\" >0</td>\n",
       "                        <td id=\"T_6824ea2c_ef92_11e9_a7e3_505bc2834c80row14_col1\" class=\"data row14 col1\" >0</td>\n",
       "                        <td id=\"T_6824ea2c_ef92_11e9_a7e3_505bc2834c80row14_col2\" class=\"data row14 col2\" >0</td>\n",
       "                        <td id=\"T_6824ea2c_ef92_11e9_a7e3_505bc2834c80row14_col3\" class=\"data row14 col3\" >0</td>\n",
       "                        <td id=\"T_6824ea2c_ef92_11e9_a7e3_505bc2834c80row14_col4\" class=\"data row14 col4\" >0</td>\n",
       "                        <td id=\"T_6824ea2c_ef92_11e9_a7e3_505bc2834c80row14_col5\" class=\"data row14 col5\" >0</td>\n",
       "                        <td id=\"T_6824ea2c_ef92_11e9_a7e3_505bc2834c80row14_col6\" class=\"data row14 col6\" >0</td>\n",
       "                        <td id=\"T_6824ea2c_ef92_11e9_a7e3_505bc2834c80row14_col7\" class=\"data row14 col7\" >0</td>\n",
       "                        <td id=\"T_6824ea2c_ef92_11e9_a7e3_505bc2834c80row14_col8\" class=\"data row14 col8\" >1</td>\n",
       "            </tr>\n",
       "            <tr>\n",
       "                        <th id=\"T_6824ea2c_ef92_11e9_a7e3_505bc2834c80level0_row15\" class=\"row_heading level0 row15\" >CA</th>\n",
       "                        <td id=\"T_6824ea2c_ef92_11e9_a7e3_505bc2834c80row15_col0\" class=\"data row15 col0\" >0</td>\n",
       "                        <td id=\"T_6824ea2c_ef92_11e9_a7e3_505bc2834c80row15_col1\" class=\"data row15 col1\" >0</td>\n",
       "                        <td id=\"T_6824ea2c_ef92_11e9_a7e3_505bc2834c80row15_col2\" class=\"data row15 col2\" >0</td>\n",
       "                        <td id=\"T_6824ea2c_ef92_11e9_a7e3_505bc2834c80row15_col3\" class=\"data row15 col3\" >0</td>\n",
       "                        <td id=\"T_6824ea2c_ef92_11e9_a7e3_505bc2834c80row15_col4\" class=\"data row15 col4\" >0</td>\n",
       "                        <td id=\"T_6824ea2c_ef92_11e9_a7e3_505bc2834c80row15_col5\" class=\"data row15 col5\" >0</td>\n",
       "                        <td id=\"T_6824ea2c_ef92_11e9_a7e3_505bc2834c80row15_col6\" class=\"data row15 col6\" >0</td>\n",
       "                        <td id=\"T_6824ea2c_ef92_11e9_a7e3_505bc2834c80row15_col7\" class=\"data row15 col7\" >0</td>\n",
       "                        <td id=\"T_6824ea2c_ef92_11e9_a7e3_505bc2834c80row15_col8\" class=\"data row15 col8\" >10</td>\n",
       "            </tr>\n",
       "            <tr>\n",
       "                        <th id=\"T_6824ea2c_ef92_11e9_a7e3_505bc2834c80level0_row16\" class=\"row_heading level0 row16\" >CA.</th>\n",
       "                        <td id=\"T_6824ea2c_ef92_11e9_a7e3_505bc2834c80row16_col0\" class=\"data row16 col0\" >0</td>\n",
       "                        <td id=\"T_6824ea2c_ef92_11e9_a7e3_505bc2834c80row16_col1\" class=\"data row16 col1\" >0</td>\n",
       "                        <td id=\"T_6824ea2c_ef92_11e9_a7e3_505bc2834c80row16_col2\" class=\"data row16 col2\" >0</td>\n",
       "                        <td id=\"T_6824ea2c_ef92_11e9_a7e3_505bc2834c80row16_col3\" class=\"data row16 col3\" >0</td>\n",
       "                        <td id=\"T_6824ea2c_ef92_11e9_a7e3_505bc2834c80row16_col4\" class=\"data row16 col4\" >0</td>\n",
       "                        <td id=\"T_6824ea2c_ef92_11e9_a7e3_505bc2834c80row16_col5\" class=\"data row16 col5\" >0</td>\n",
       "                        <td id=\"T_6824ea2c_ef92_11e9_a7e3_505bc2834c80row16_col6\" class=\"data row16 col6\" >0</td>\n",
       "                        <td id=\"T_6824ea2c_ef92_11e9_a7e3_505bc2834c80row16_col7\" class=\"data row16 col7\" >0</td>\n",
       "                        <td id=\"T_6824ea2c_ef92_11e9_a7e3_505bc2834c80row16_col8\" class=\"data row16 col8\" >5</td>\n",
       "            </tr>\n",
       "            <tr>\n",
       "                        <th id=\"T_6824ea2c_ef92_11e9_a7e3_505bc2834c80level0_row17\" class=\"row_heading level0 row17\" >F.C.</th>\n",
       "                        <td id=\"T_6824ea2c_ef92_11e9_a7e3_505bc2834c80row17_col0\" class=\"data row17 col0\" >0</td>\n",
       "                        <td id=\"T_6824ea2c_ef92_11e9_a7e3_505bc2834c80row17_col1\" class=\"data row17 col1\" >2</td>\n",
       "                        <td id=\"T_6824ea2c_ef92_11e9_a7e3_505bc2834c80row17_col2\" class=\"data row17 col2\" >0</td>\n",
       "                        <td id=\"T_6824ea2c_ef92_11e9_a7e3_505bc2834c80row17_col3\" class=\"data row17 col3\" >0</td>\n",
       "                        <td id=\"T_6824ea2c_ef92_11e9_a7e3_505bc2834c80row17_col4\" class=\"data row17 col4\" >0</td>\n",
       "                        <td id=\"T_6824ea2c_ef92_11e9_a7e3_505bc2834c80row17_col5\" class=\"data row17 col5\" >0</td>\n",
       "                        <td id=\"T_6824ea2c_ef92_11e9_a7e3_505bc2834c80row17_col6\" class=\"data row17 col6\" >0</td>\n",
       "                        <td id=\"T_6824ea2c_ef92_11e9_a7e3_505bc2834c80row17_col7\" class=\"data row17 col7\" >0</td>\n",
       "                        <td id=\"T_6824ea2c_ef92_11e9_a7e3_505bc2834c80row17_col8\" class=\"data row17 col8\" >1</td>\n",
       "            </tr>\n",
       "            <tr>\n",
       "                        <th id=\"T_6824ea2c_ef92_11e9_a7e3_505bc2834c80level0_row18\" class=\"row_heading level0 row18\" >F.C.C.</th>\n",
       "                        <td id=\"T_6824ea2c_ef92_11e9_a7e3_505bc2834c80row18_col0\" class=\"data row18 col0\" >0</td>\n",
       "                        <td id=\"T_6824ea2c_ef92_11e9_a7e3_505bc2834c80row18_col1\" class=\"data row18 col1\" >0</td>\n",
       "                        <td id=\"T_6824ea2c_ef92_11e9_a7e3_505bc2834c80row18_col2\" class=\"data row18 col2\" >0</td>\n",
       "                        <td id=\"T_6824ea2c_ef92_11e9_a7e3_505bc2834c80row18_col3\" class=\"data row18 col3\" >0</td>\n",
       "                        <td id=\"T_6824ea2c_ef92_11e9_a7e3_505bc2834c80row18_col4\" class=\"data row18 col4\" >0</td>\n",
       "                        <td id=\"T_6824ea2c_ef92_11e9_a7e3_505bc2834c80row18_col5\" class=\"data row18 col5\" >0</td>\n",
       "                        <td id=\"T_6824ea2c_ef92_11e9_a7e3_505bc2834c80row18_col6\" class=\"data row18 col6\" >0</td>\n",
       "                        <td id=\"T_6824ea2c_ef92_11e9_a7e3_505bc2834c80row18_col7\" class=\"data row18 col7\" >0</td>\n",
       "                        <td id=\"T_6824ea2c_ef92_11e9_a7e3_505bc2834c80row18_col8\" class=\"data row18 col8\" >9</td>\n",
       "            </tr>\n",
       "            <tr>\n",
       "                        <th id=\"T_6824ea2c_ef92_11e9_a7e3_505bc2834c80level0_row19\" class=\"row_heading level0 row19\" >Fa</th>\n",
       "                        <td id=\"T_6824ea2c_ef92_11e9_a7e3_505bc2834c80row19_col0\" class=\"data row19 col0\" >0</td>\n",
       "                        <td id=\"T_6824ea2c_ef92_11e9_a7e3_505bc2834c80row19_col1\" class=\"data row19 col1\" >0</td>\n",
       "                        <td id=\"T_6824ea2c_ef92_11e9_a7e3_505bc2834c80row19_col2\" class=\"data row19 col2\" >0</td>\n",
       "                        <td id=\"T_6824ea2c_ef92_11e9_a7e3_505bc2834c80row19_col3\" class=\"data row19 col3\" >0</td>\n",
       "                        <td id=\"T_6824ea2c_ef92_11e9_a7e3_505bc2834c80row19_col4\" class=\"data row19 col4\" >0</td>\n",
       "                        <td id=\"T_6824ea2c_ef92_11e9_a7e3_505bc2834c80row19_col5\" class=\"data row19 col5\" >0</td>\n",
       "                        <td id=\"T_6824ea2c_ef92_11e9_a7e3_505bc2834c80row19_col6\" class=\"data row19 col6\" >0</td>\n",
       "                        <td id=\"T_6824ea2c_ef92_11e9_a7e3_505bc2834c80row19_col7\" class=\"data row19 col7\" >0</td>\n",
       "                        <td id=\"T_6824ea2c_ef92_11e9_a7e3_505bc2834c80row19_col8\" class=\"data row19 col8\" >1</td>\n",
       "            </tr>\n",
       "            <tr>\n",
       "                        <th id=\"T_6824ea2c_ef92_11e9_a7e3_505bc2834c80level0_row20\" class=\"row_heading level0 row20\" >LP</th>\n",
       "                        <td id=\"T_6824ea2c_ef92_11e9_a7e3_505bc2834c80row20_col0\" class=\"data row20 col0\" >0</td>\n",
       "                        <td id=\"T_6824ea2c_ef92_11e9_a7e3_505bc2834c80row20_col1\" class=\"data row20 col1\" >0</td>\n",
       "                        <td id=\"T_6824ea2c_ef92_11e9_a7e3_505bc2834c80row20_col2\" class=\"data row20 col2\" >0</td>\n",
       "                        <td id=\"T_6824ea2c_ef92_11e9_a7e3_505bc2834c80row20_col3\" class=\"data row20 col3\" >0</td>\n",
       "                        <td id=\"T_6824ea2c_ef92_11e9_a7e3_505bc2834c80row20_col4\" class=\"data row20 col4\" >0</td>\n",
       "                        <td id=\"T_6824ea2c_ef92_11e9_a7e3_505bc2834c80row20_col5\" class=\"data row20 col5\" >0</td>\n",
       "                        <td id=\"T_6824ea2c_ef92_11e9_a7e3_505bc2834c80row20_col6\" class=\"data row20 col6\" >0</td>\n",
       "                        <td id=\"T_6824ea2c_ef92_11e9_a7e3_505bc2834c80row20_col7\" class=\"data row20 col7\" >0</td>\n",
       "                        <td id=\"T_6824ea2c_ef92_11e9_a7e3_505bc2834c80row20_col8\" class=\"data row20 col8\" >1</td>\n",
       "            </tr>\n",
       "            <tr>\n",
       "                        <th id=\"T_6824ea2c_ef92_11e9_a7e3_505bc2834c80level0_row21\" class=\"row_heading level0 row21\" >P/PP</th>\n",
       "                        <td id=\"T_6824ea2c_ef92_11e9_a7e3_505bc2834c80row21_col0\" class=\"data row21 col0\" >0</td>\n",
       "                        <td id=\"T_6824ea2c_ef92_11e9_a7e3_505bc2834c80row21_col1\" class=\"data row21 col1\" >0</td>\n",
       "                        <td id=\"T_6824ea2c_ef92_11e9_a7e3_505bc2834c80row21_col2\" class=\"data row21 col2\" >0</td>\n",
       "                        <td id=\"T_6824ea2c_ef92_11e9_a7e3_505bc2834c80row21_col3\" class=\"data row21 col3\" >0</td>\n",
       "                        <td id=\"T_6824ea2c_ef92_11e9_a7e3_505bc2834c80row21_col4\" class=\"data row21 col4\" >0</td>\n",
       "                        <td id=\"T_6824ea2c_ef92_11e9_a7e3_505bc2834c80row21_col5\" class=\"data row21 col5\" >0</td>\n",
       "                        <td id=\"T_6824ea2c_ef92_11e9_a7e3_505bc2834c80row21_col6\" class=\"data row21 col6\" >0</td>\n",
       "                        <td id=\"T_6824ea2c_ef92_11e9_a7e3_505bc2834c80row21_col7\" class=\"data row21 col7\" >0</td>\n",
       "                        <td id=\"T_6824ea2c_ef92_11e9_a7e3_505bc2834c80row21_col8\" class=\"data row21 col8\" >2</td>\n",
       "            </tr>\n",
       "            <tr>\n",
       "                        <th id=\"T_6824ea2c_ef92_11e9_a7e3_505bc2834c80level0_row22\" class=\"row_heading level0 row22\" >PC</th>\n",
       "                        <td id=\"T_6824ea2c_ef92_11e9_a7e3_505bc2834c80row22_col0\" class=\"data row22 col0\" >7</td>\n",
       "                        <td id=\"T_6824ea2c_ef92_11e9_a7e3_505bc2834c80row22_col1\" class=\"data row22 col1\" >19</td>\n",
       "                        <td id=\"T_6824ea2c_ef92_11e9_a7e3_505bc2834c80row22_col2\" class=\"data row22 col2\" >23</td>\n",
       "                        <td id=\"T_6824ea2c_ef92_11e9_a7e3_505bc2834c80row22_col3\" class=\"data row22 col3\" >8</td>\n",
       "                        <td id=\"T_6824ea2c_ef92_11e9_a7e3_505bc2834c80row22_col4\" class=\"data row22 col4\" >8</td>\n",
       "                        <td id=\"T_6824ea2c_ef92_11e9_a7e3_505bc2834c80row22_col5\" class=\"data row22 col5\" >0</td>\n",
       "                        <td id=\"T_6824ea2c_ef92_11e9_a7e3_505bc2834c80row22_col6\" class=\"data row22 col6\" >0</td>\n",
       "                        <td id=\"T_6824ea2c_ef92_11e9_a7e3_505bc2834c80row22_col7\" class=\"data row22 col7\" >0</td>\n",
       "                        <td id=\"T_6824ea2c_ef92_11e9_a7e3_505bc2834c80row22_col8\" class=\"data row22 col8\" >24</td>\n",
       "            </tr>\n",
       "            <tr>\n",
       "                        <th id=\"T_6824ea2c_ef92_11e9_a7e3_505bc2834c80level0_row23\" class=\"row_heading level0 row23\" >PP</th>\n",
       "                        <td id=\"T_6824ea2c_ef92_11e9_a7e3_505bc2834c80row23_col0\" class=\"data row23 col0\" >0</td>\n",
       "                        <td id=\"T_6824ea2c_ef92_11e9_a7e3_505bc2834c80row23_col1\" class=\"data row23 col1\" >0</td>\n",
       "                        <td id=\"T_6824ea2c_ef92_11e9_a7e3_505bc2834c80row23_col2\" class=\"data row23 col2\" >0</td>\n",
       "                        <td id=\"T_6824ea2c_ef92_11e9_a7e3_505bc2834c80row23_col3\" class=\"data row23 col3\" >0</td>\n",
       "                        <td id=\"T_6824ea2c_ef92_11e9_a7e3_505bc2834c80row23_col4\" class=\"data row23 col4\" >0</td>\n",
       "                        <td id=\"T_6824ea2c_ef92_11e9_a7e3_505bc2834c80row23_col5\" class=\"data row23 col5\" >0</td>\n",
       "                        <td id=\"T_6824ea2c_ef92_11e9_a7e3_505bc2834c80row23_col6\" class=\"data row23 col6\" >3</td>\n",
       "                        <td id=\"T_6824ea2c_ef92_11e9_a7e3_505bc2834c80row23_col7\" class=\"data row23 col7\" >0</td>\n",
       "                        <td id=\"T_6824ea2c_ef92_11e9_a7e3_505bc2834c80row23_col8\" class=\"data row23 col8\" >1</td>\n",
       "            </tr>\n",
       "            <tr>\n",
       "                        <th id=\"T_6824ea2c_ef92_11e9_a7e3_505bc2834c80level0_row24\" class=\"row_heading level0 row24\" >S.C./A.4.</th>\n",
       "                        <td id=\"T_6824ea2c_ef92_11e9_a7e3_505bc2834c80row24_col0\" class=\"data row24 col0\" >0</td>\n",
       "                        <td id=\"T_6824ea2c_ef92_11e9_a7e3_505bc2834c80row24_col1\" class=\"data row24 col1\" >0</td>\n",
       "                        <td id=\"T_6824ea2c_ef92_11e9_a7e3_505bc2834c80row24_col2\" class=\"data row24 col2\" >0</td>\n",
       "                        <td id=\"T_6824ea2c_ef92_11e9_a7e3_505bc2834c80row24_col3\" class=\"data row24 col3\" >0</td>\n",
       "                        <td id=\"T_6824ea2c_ef92_11e9_a7e3_505bc2834c80row24_col4\" class=\"data row24 col4\" >0</td>\n",
       "                        <td id=\"T_6824ea2c_ef92_11e9_a7e3_505bc2834c80row24_col5\" class=\"data row24 col5\" >0</td>\n",
       "                        <td id=\"T_6824ea2c_ef92_11e9_a7e3_505bc2834c80row24_col6\" class=\"data row24 col6\" >0</td>\n",
       "                        <td id=\"T_6824ea2c_ef92_11e9_a7e3_505bc2834c80row24_col7\" class=\"data row24 col7\" >0</td>\n",
       "                        <td id=\"T_6824ea2c_ef92_11e9_a7e3_505bc2834c80row24_col8\" class=\"data row24 col8\" >1</td>\n",
       "            </tr>\n",
       "            <tr>\n",
       "                        <th id=\"T_6824ea2c_ef92_11e9_a7e3_505bc2834c80level0_row25\" class=\"row_heading level0 row25\" >S.C./PARIS</th>\n",
       "                        <td id=\"T_6824ea2c_ef92_11e9_a7e3_505bc2834c80row25_col0\" class=\"data row25 col0\" >0</td>\n",
       "                        <td id=\"T_6824ea2c_ef92_11e9_a7e3_505bc2834c80row25_col1\" class=\"data row25 col1\" >0</td>\n",
       "                        <td id=\"T_6824ea2c_ef92_11e9_a7e3_505bc2834c80row25_col2\" class=\"data row25 col2\" >0</td>\n",
       "                        <td id=\"T_6824ea2c_ef92_11e9_a7e3_505bc2834c80row25_col3\" class=\"data row25 col3\" >0</td>\n",
       "                        <td id=\"T_6824ea2c_ef92_11e9_a7e3_505bc2834c80row25_col4\" class=\"data row25 col4\" >0</td>\n",
       "                        <td id=\"T_6824ea2c_ef92_11e9_a7e3_505bc2834c80row25_col5\" class=\"data row25 col5\" >0</td>\n",
       "                        <td id=\"T_6824ea2c_ef92_11e9_a7e3_505bc2834c80row25_col6\" class=\"data row25 col6\" >0</td>\n",
       "                        <td id=\"T_6824ea2c_ef92_11e9_a7e3_505bc2834c80row25_col7\" class=\"data row25 col7\" >0</td>\n",
       "                        <td id=\"T_6824ea2c_ef92_11e9_a7e3_505bc2834c80row25_col8\" class=\"data row25 col8\" >3</td>\n",
       "            </tr>\n",
       "            <tr>\n",
       "                        <th id=\"T_6824ea2c_ef92_11e9_a7e3_505bc2834c80level0_row26\" class=\"row_heading level0 row26\" >S.O./P.P.</th>\n",
       "                        <td id=\"T_6824ea2c_ef92_11e9_a7e3_505bc2834c80row26_col0\" class=\"data row26 col0\" >0</td>\n",
       "                        <td id=\"T_6824ea2c_ef92_11e9_a7e3_505bc2834c80row26_col1\" class=\"data row26 col1\" >0</td>\n",
       "                        <td id=\"T_6824ea2c_ef92_11e9_a7e3_505bc2834c80row26_col2\" class=\"data row26 col2\" >0</td>\n",
       "                        <td id=\"T_6824ea2c_ef92_11e9_a7e3_505bc2834c80row26_col3\" class=\"data row26 col3\" >0</td>\n",
       "                        <td id=\"T_6824ea2c_ef92_11e9_a7e3_505bc2834c80row26_col4\" class=\"data row26 col4\" >1</td>\n",
       "                        <td id=\"T_6824ea2c_ef92_11e9_a7e3_505bc2834c80row26_col5\" class=\"data row26 col5\" >0</td>\n",
       "                        <td id=\"T_6824ea2c_ef92_11e9_a7e3_505bc2834c80row26_col6\" class=\"data row26 col6\" >0</td>\n",
       "                        <td id=\"T_6824ea2c_ef92_11e9_a7e3_505bc2834c80row26_col7\" class=\"data row26 col7\" >0</td>\n",
       "                        <td id=\"T_6824ea2c_ef92_11e9_a7e3_505bc2834c80row26_col8\" class=\"data row26 col8\" >6</td>\n",
       "            </tr>\n",
       "            <tr>\n",
       "                        <th id=\"T_6824ea2c_ef92_11e9_a7e3_505bc2834c80level0_row27\" class=\"row_heading level0 row27\" >S.O.C.</th>\n",
       "                        <td id=\"T_6824ea2c_ef92_11e9_a7e3_505bc2834c80row27_col0\" class=\"data row27 col0\" >0</td>\n",
       "                        <td id=\"T_6824ea2c_ef92_11e9_a7e3_505bc2834c80row27_col1\" class=\"data row27 col1\" >0</td>\n",
       "                        <td id=\"T_6824ea2c_ef92_11e9_a7e3_505bc2834c80row27_col2\" class=\"data row27 col2\" >0</td>\n",
       "                        <td id=\"T_6824ea2c_ef92_11e9_a7e3_505bc2834c80row27_col3\" class=\"data row27 col3\" >0</td>\n",
       "                        <td id=\"T_6824ea2c_ef92_11e9_a7e3_505bc2834c80row27_col4\" class=\"data row27 col4\" >0</td>\n",
       "                        <td id=\"T_6824ea2c_ef92_11e9_a7e3_505bc2834c80row27_col5\" class=\"data row27 col5\" >0</td>\n",
       "                        <td id=\"T_6824ea2c_ef92_11e9_a7e3_505bc2834c80row27_col6\" class=\"data row27 col6\" >0</td>\n",
       "                        <td id=\"T_6824ea2c_ef92_11e9_a7e3_505bc2834c80row27_col7\" class=\"data row27 col7\" >0</td>\n",
       "                        <td id=\"T_6824ea2c_ef92_11e9_a7e3_505bc2834c80row27_col8\" class=\"data row27 col8\" >7</td>\n",
       "            </tr>\n",
       "            <tr>\n",
       "                        <th id=\"T_6824ea2c_ef92_11e9_a7e3_505bc2834c80level0_row28\" class=\"row_heading level0 row28\" >S.O.P.</th>\n",
       "                        <td id=\"T_6824ea2c_ef92_11e9_a7e3_505bc2834c80row28_col0\" class=\"data row28 col0\" >0</td>\n",
       "                        <td id=\"T_6824ea2c_ef92_11e9_a7e3_505bc2834c80row28_col1\" class=\"data row28 col1\" >0</td>\n",
       "                        <td id=\"T_6824ea2c_ef92_11e9_a7e3_505bc2834c80row28_col2\" class=\"data row28 col2\" >0</td>\n",
       "                        <td id=\"T_6824ea2c_ef92_11e9_a7e3_505bc2834c80row28_col3\" class=\"data row28 col3\" >0</td>\n",
       "                        <td id=\"T_6824ea2c_ef92_11e9_a7e3_505bc2834c80row28_col4\" class=\"data row28 col4\" >0</td>\n",
       "                        <td id=\"T_6824ea2c_ef92_11e9_a7e3_505bc2834c80row28_col5\" class=\"data row28 col5\" >0</td>\n",
       "                        <td id=\"T_6824ea2c_ef92_11e9_a7e3_505bc2834c80row28_col6\" class=\"data row28 col6\" >0</td>\n",
       "                        <td id=\"T_6824ea2c_ef92_11e9_a7e3_505bc2834c80row28_col7\" class=\"data row28 col7\" >0</td>\n",
       "                        <td id=\"T_6824ea2c_ef92_11e9_a7e3_505bc2834c80row28_col8\" class=\"data row28 col8\" >1</td>\n",
       "            </tr>\n",
       "            <tr>\n",
       "                        <th id=\"T_6824ea2c_ef92_11e9_a7e3_505bc2834c80level0_row29\" class=\"row_heading level0 row29\" >S.P.</th>\n",
       "                        <td id=\"T_6824ea2c_ef92_11e9_a7e3_505bc2834c80row29_col0\" class=\"data row29 col0\" >0</td>\n",
       "                        <td id=\"T_6824ea2c_ef92_11e9_a7e3_505bc2834c80row29_col1\" class=\"data row29 col1\" >0</td>\n",
       "                        <td id=\"T_6824ea2c_ef92_11e9_a7e3_505bc2834c80row29_col2\" class=\"data row29 col2\" >0</td>\n",
       "                        <td id=\"T_6824ea2c_ef92_11e9_a7e3_505bc2834c80row29_col3\" class=\"data row29 col3\" >0</td>\n",
       "                        <td id=\"T_6824ea2c_ef92_11e9_a7e3_505bc2834c80row29_col4\" class=\"data row29 col4\" >0</td>\n",
       "                        <td id=\"T_6824ea2c_ef92_11e9_a7e3_505bc2834c80row29_col5\" class=\"data row29 col5\" >0</td>\n",
       "                        <td id=\"T_6824ea2c_ef92_11e9_a7e3_505bc2834c80row29_col6\" class=\"data row29 col6\" >0</td>\n",
       "                        <td id=\"T_6824ea2c_ef92_11e9_a7e3_505bc2834c80row29_col7\" class=\"data row29 col7\" >0</td>\n",
       "                        <td id=\"T_6824ea2c_ef92_11e9_a7e3_505bc2834c80row29_col8\" class=\"data row29 col8\" >1</td>\n",
       "            </tr>\n",
       "            <tr>\n",
       "                        <th id=\"T_6824ea2c_ef92_11e9_a7e3_505bc2834c80level0_row30\" class=\"row_heading level0 row30\" >S.W./PP</th>\n",
       "                        <td id=\"T_6824ea2c_ef92_11e9_a7e3_505bc2834c80row30_col0\" class=\"data row30 col0\" >0</td>\n",
       "                        <td id=\"T_6824ea2c_ef92_11e9_a7e3_505bc2834c80row30_col1\" class=\"data row30 col1\" >0</td>\n",
       "                        <td id=\"T_6824ea2c_ef92_11e9_a7e3_505bc2834c80row30_col2\" class=\"data row30 col2\" >0</td>\n",
       "                        <td id=\"T_6824ea2c_ef92_11e9_a7e3_505bc2834c80row30_col3\" class=\"data row30 col3\" >0</td>\n",
       "                        <td id=\"T_6824ea2c_ef92_11e9_a7e3_505bc2834c80row30_col4\" class=\"data row30 col4\" >0</td>\n",
       "                        <td id=\"T_6824ea2c_ef92_11e9_a7e3_505bc2834c80row30_col5\" class=\"data row30 col5\" >0</td>\n",
       "                        <td id=\"T_6824ea2c_ef92_11e9_a7e3_505bc2834c80row30_col6\" class=\"data row30 col6\" >0</td>\n",
       "                        <td id=\"T_6824ea2c_ef92_11e9_a7e3_505bc2834c80row30_col7\" class=\"data row30 col7\" >0</td>\n",
       "                        <td id=\"T_6824ea2c_ef92_11e9_a7e3_505bc2834c80row30_col8\" class=\"data row30 col8\" >1</td>\n",
       "            </tr>\n",
       "            <tr>\n",
       "                        <th id=\"T_6824ea2c_ef92_11e9_a7e3_505bc2834c80level0_row31\" class=\"row_heading level0 row31\" >SC</th>\n",
       "                        <td id=\"T_6824ea2c_ef92_11e9_a7e3_505bc2834c80row31_col0\" class=\"data row31 col0\" >0</td>\n",
       "                        <td id=\"T_6824ea2c_ef92_11e9_a7e3_505bc2834c80row31_col1\" class=\"data row31 col1\" >0</td>\n",
       "                        <td id=\"T_6824ea2c_ef92_11e9_a7e3_505bc2834c80row31_col2\" class=\"data row31 col2\" >0</td>\n",
       "                        <td id=\"T_6824ea2c_ef92_11e9_a7e3_505bc2834c80row31_col3\" class=\"data row31 col3\" >0</td>\n",
       "                        <td id=\"T_6824ea2c_ef92_11e9_a7e3_505bc2834c80row31_col4\" class=\"data row31 col4\" >0</td>\n",
       "                        <td id=\"T_6824ea2c_ef92_11e9_a7e3_505bc2834c80row31_col5\" class=\"data row31 col5\" >0</td>\n",
       "                        <td id=\"T_6824ea2c_ef92_11e9_a7e3_505bc2834c80row31_col6\" class=\"data row31 col6\" >0</td>\n",
       "                        <td id=\"T_6824ea2c_ef92_11e9_a7e3_505bc2834c80row31_col7\" class=\"data row31 col7\" >0</td>\n",
       "                        <td id=\"T_6824ea2c_ef92_11e9_a7e3_505bc2834c80row31_col8\" class=\"data row31 col8\" >2</td>\n",
       "            </tr>\n",
       "            <tr>\n",
       "                        <th id=\"T_6824ea2c_ef92_11e9_a7e3_505bc2834c80level0_row32\" class=\"row_heading level0 row32\" >SC/A.3</th>\n",
       "                        <td id=\"T_6824ea2c_ef92_11e9_a7e3_505bc2834c80row32_col0\" class=\"data row32 col0\" >0</td>\n",
       "                        <td id=\"T_6824ea2c_ef92_11e9_a7e3_505bc2834c80row32_col1\" class=\"data row32 col1\" >0</td>\n",
       "                        <td id=\"T_6824ea2c_ef92_11e9_a7e3_505bc2834c80row32_col2\" class=\"data row32 col2\" >0</td>\n",
       "                        <td id=\"T_6824ea2c_ef92_11e9_a7e3_505bc2834c80row32_col3\" class=\"data row32 col3\" >0</td>\n",
       "                        <td id=\"T_6824ea2c_ef92_11e9_a7e3_505bc2834c80row32_col4\" class=\"data row32 col4\" >0</td>\n",
       "                        <td id=\"T_6824ea2c_ef92_11e9_a7e3_505bc2834c80row32_col5\" class=\"data row32 col5\" >0</td>\n",
       "                        <td id=\"T_6824ea2c_ef92_11e9_a7e3_505bc2834c80row32_col6\" class=\"data row32 col6\" >0</td>\n",
       "                        <td id=\"T_6824ea2c_ef92_11e9_a7e3_505bc2834c80row32_col7\" class=\"data row32 col7\" >0</td>\n",
       "                        <td id=\"T_6824ea2c_ef92_11e9_a7e3_505bc2834c80row32_col8\" class=\"data row32 col8\" >1</td>\n",
       "            </tr>\n",
       "            <tr>\n",
       "                        <th id=\"T_6824ea2c_ef92_11e9_a7e3_505bc2834c80level0_row33\" class=\"row_heading level0 row33\" >SC/A4</th>\n",
       "                        <td id=\"T_6824ea2c_ef92_11e9_a7e3_505bc2834c80row33_col0\" class=\"data row33 col0\" >0</td>\n",
       "                        <td id=\"T_6824ea2c_ef92_11e9_a7e3_505bc2834c80row33_col1\" class=\"data row33 col1\" >0</td>\n",
       "                        <td id=\"T_6824ea2c_ef92_11e9_a7e3_505bc2834c80row33_col2\" class=\"data row33 col2\" >0</td>\n",
       "                        <td id=\"T_6824ea2c_ef92_11e9_a7e3_505bc2834c80row33_col3\" class=\"data row33 col3\" >0</td>\n",
       "                        <td id=\"T_6824ea2c_ef92_11e9_a7e3_505bc2834c80row33_col4\" class=\"data row33 col4\" >0</td>\n",
       "                        <td id=\"T_6824ea2c_ef92_11e9_a7e3_505bc2834c80row33_col5\" class=\"data row33 col5\" >0</td>\n",
       "                        <td id=\"T_6824ea2c_ef92_11e9_a7e3_505bc2834c80row33_col6\" class=\"data row33 col6\" >0</td>\n",
       "                        <td id=\"T_6824ea2c_ef92_11e9_a7e3_505bc2834c80row33_col7\" class=\"data row33 col7\" >0</td>\n",
       "                        <td id=\"T_6824ea2c_ef92_11e9_a7e3_505bc2834c80row33_col8\" class=\"data row33 col8\" >1</td>\n",
       "            </tr>\n",
       "            <tr>\n",
       "                        <th id=\"T_6824ea2c_ef92_11e9_a7e3_505bc2834c80level0_row34\" class=\"row_heading level0 row34\" >SC/AH</th>\n",
       "                        <td id=\"T_6824ea2c_ef92_11e9_a7e3_505bc2834c80row34_col0\" class=\"data row34 col0\" >0</td>\n",
       "                        <td id=\"T_6824ea2c_ef92_11e9_a7e3_505bc2834c80row34_col1\" class=\"data row34 col1\" >0</td>\n",
       "                        <td id=\"T_6824ea2c_ef92_11e9_a7e3_505bc2834c80row34_col2\" class=\"data row34 col2\" >0</td>\n",
       "                        <td id=\"T_6824ea2c_ef92_11e9_a7e3_505bc2834c80row34_col3\" class=\"data row34 col3\" >0</td>\n",
       "                        <td id=\"T_6824ea2c_ef92_11e9_a7e3_505bc2834c80row34_col4\" class=\"data row34 col4\" >0</td>\n",
       "                        <td id=\"T_6824ea2c_ef92_11e9_a7e3_505bc2834c80row34_col5\" class=\"data row34 col5\" >0</td>\n",
       "                        <td id=\"T_6824ea2c_ef92_11e9_a7e3_505bc2834c80row34_col6\" class=\"data row34 col6\" >0</td>\n",
       "                        <td id=\"T_6824ea2c_ef92_11e9_a7e3_505bc2834c80row34_col7\" class=\"data row34 col7\" >0</td>\n",
       "                        <td id=\"T_6824ea2c_ef92_11e9_a7e3_505bc2834c80row34_col8\" class=\"data row34 col8\" >4</td>\n",
       "            </tr>\n",
       "            <tr>\n",
       "                        <th id=\"T_6824ea2c_ef92_11e9_a7e3_505bc2834c80level0_row35\" class=\"row_heading level0 row35\" >SC/AH Basle</th>\n",
       "                        <td id=\"T_6824ea2c_ef92_11e9_a7e3_505bc2834c80row35_col0\" class=\"data row35 col0\" >0</td>\n",
       "                        <td id=\"T_6824ea2c_ef92_11e9_a7e3_505bc2834c80row35_col1\" class=\"data row35 col1\" >0</td>\n",
       "                        <td id=\"T_6824ea2c_ef92_11e9_a7e3_505bc2834c80row35_col2\" class=\"data row35 col2\" >0</td>\n",
       "                        <td id=\"T_6824ea2c_ef92_11e9_a7e3_505bc2834c80row35_col3\" class=\"data row35 col3\" >1</td>\n",
       "                        <td id=\"T_6824ea2c_ef92_11e9_a7e3_505bc2834c80row35_col4\" class=\"data row35 col4\" >0</td>\n",
       "                        <td id=\"T_6824ea2c_ef92_11e9_a7e3_505bc2834c80row35_col5\" class=\"data row35 col5\" >0</td>\n",
       "                        <td id=\"T_6824ea2c_ef92_11e9_a7e3_505bc2834c80row35_col6\" class=\"data row35 col6\" >0</td>\n",
       "                        <td id=\"T_6824ea2c_ef92_11e9_a7e3_505bc2834c80row35_col7\" class=\"data row35 col7\" >0</td>\n",
       "                        <td id=\"T_6824ea2c_ef92_11e9_a7e3_505bc2834c80row35_col8\" class=\"data row35 col8\" >0</td>\n",
       "            </tr>\n",
       "            <tr>\n",
       "                        <th id=\"T_6824ea2c_ef92_11e9_a7e3_505bc2834c80level0_row36\" class=\"row_heading level0 row36\" >SC/PARIS</th>\n",
       "                        <td id=\"T_6824ea2c_ef92_11e9_a7e3_505bc2834c80row36_col0\" class=\"data row36 col0\" >0</td>\n",
       "                        <td id=\"T_6824ea2c_ef92_11e9_a7e3_505bc2834c80row36_col1\" class=\"data row36 col1\" >0</td>\n",
       "                        <td id=\"T_6824ea2c_ef92_11e9_a7e3_505bc2834c80row36_col2\" class=\"data row36 col2\" >0</td>\n",
       "                        <td id=\"T_6824ea2c_ef92_11e9_a7e3_505bc2834c80row36_col3\" class=\"data row36 col3\" >1</td>\n",
       "                        <td id=\"T_6824ea2c_ef92_11e9_a7e3_505bc2834c80row36_col4\" class=\"data row36 col4\" >0</td>\n",
       "                        <td id=\"T_6824ea2c_ef92_11e9_a7e3_505bc2834c80row36_col5\" class=\"data row36 col5\" >0</td>\n",
       "                        <td id=\"T_6824ea2c_ef92_11e9_a7e3_505bc2834c80row36_col6\" class=\"data row36 col6\" >0</td>\n",
       "                        <td id=\"T_6824ea2c_ef92_11e9_a7e3_505bc2834c80row36_col7\" class=\"data row36 col7\" >0</td>\n",
       "                        <td id=\"T_6824ea2c_ef92_11e9_a7e3_505bc2834c80row36_col8\" class=\"data row36 col8\" >10</td>\n",
       "            </tr>\n",
       "            <tr>\n",
       "                        <th id=\"T_6824ea2c_ef92_11e9_a7e3_505bc2834c80level0_row37\" class=\"row_heading level0 row37\" >SC/Paris</th>\n",
       "                        <td id=\"T_6824ea2c_ef92_11e9_a7e3_505bc2834c80row37_col0\" class=\"data row37 col0\" >0</td>\n",
       "                        <td id=\"T_6824ea2c_ef92_11e9_a7e3_505bc2834c80row37_col1\" class=\"data row37 col1\" >0</td>\n",
       "                        <td id=\"T_6824ea2c_ef92_11e9_a7e3_505bc2834c80row37_col2\" class=\"data row37 col2\" >0</td>\n",
       "                        <td id=\"T_6824ea2c_ef92_11e9_a7e3_505bc2834c80row37_col3\" class=\"data row37 col3\" >1</td>\n",
       "                        <td id=\"T_6824ea2c_ef92_11e9_a7e3_505bc2834c80row37_col4\" class=\"data row37 col4\" >0</td>\n",
       "                        <td id=\"T_6824ea2c_ef92_11e9_a7e3_505bc2834c80row37_col5\" class=\"data row37 col5\" >0</td>\n",
       "                        <td id=\"T_6824ea2c_ef92_11e9_a7e3_505bc2834c80row37_col6\" class=\"data row37 col6\" >0</td>\n",
       "                        <td id=\"T_6824ea2c_ef92_11e9_a7e3_505bc2834c80row37_col7\" class=\"data row37 col7\" >0</td>\n",
       "                        <td id=\"T_6824ea2c_ef92_11e9_a7e3_505bc2834c80row37_col8\" class=\"data row37 col8\" >4</td>\n",
       "            </tr>\n",
       "            <tr>\n",
       "                        <th id=\"T_6824ea2c_ef92_11e9_a7e3_505bc2834c80level0_row38\" class=\"row_heading level0 row38\" >SCO/W</th>\n",
       "                        <td id=\"T_6824ea2c_ef92_11e9_a7e3_505bc2834c80row38_col0\" class=\"data row38 col0\" >0</td>\n",
       "                        <td id=\"T_6824ea2c_ef92_11e9_a7e3_505bc2834c80row38_col1\" class=\"data row38 col1\" >0</td>\n",
       "                        <td id=\"T_6824ea2c_ef92_11e9_a7e3_505bc2834c80row38_col2\" class=\"data row38 col2\" >0</td>\n",
       "                        <td id=\"T_6824ea2c_ef92_11e9_a7e3_505bc2834c80row38_col3\" class=\"data row38 col3\" >0</td>\n",
       "                        <td id=\"T_6824ea2c_ef92_11e9_a7e3_505bc2834c80row38_col4\" class=\"data row38 col4\" >0</td>\n",
       "                        <td id=\"T_6824ea2c_ef92_11e9_a7e3_505bc2834c80row38_col5\" class=\"data row38 col5\" >0</td>\n",
       "                        <td id=\"T_6824ea2c_ef92_11e9_a7e3_505bc2834c80row38_col6\" class=\"data row38 col6\" >0</td>\n",
       "                        <td id=\"T_6824ea2c_ef92_11e9_a7e3_505bc2834c80row38_col7\" class=\"data row38 col7\" >0</td>\n",
       "                        <td id=\"T_6824ea2c_ef92_11e9_a7e3_505bc2834c80row38_col8\" class=\"data row38 col8\" >1</td>\n",
       "            </tr>\n",
       "            <tr>\n",
       "                        <th id=\"T_6824ea2c_ef92_11e9_a7e3_505bc2834c80level0_row39\" class=\"row_heading level0 row39\" >SO/C</th>\n",
       "                        <td id=\"T_6824ea2c_ef92_11e9_a7e3_505bc2834c80row39_col0\" class=\"data row39 col0\" >0</td>\n",
       "                        <td id=\"T_6824ea2c_ef92_11e9_a7e3_505bc2834c80row39_col1\" class=\"data row39 col1\" >0</td>\n",
       "                        <td id=\"T_6824ea2c_ef92_11e9_a7e3_505bc2834c80row39_col2\" class=\"data row39 col2\" >0</td>\n",
       "                        <td id=\"T_6824ea2c_ef92_11e9_a7e3_505bc2834c80row39_col3\" class=\"data row39 col3\" >0</td>\n",
       "                        <td id=\"T_6824ea2c_ef92_11e9_a7e3_505bc2834c80row39_col4\" class=\"data row39 col4\" >0</td>\n",
       "                        <td id=\"T_6824ea2c_ef92_11e9_a7e3_505bc2834c80row39_col5\" class=\"data row39 col5\" >0</td>\n",
       "                        <td id=\"T_6824ea2c_ef92_11e9_a7e3_505bc2834c80row39_col6\" class=\"data row39 col6\" >0</td>\n",
       "                        <td id=\"T_6824ea2c_ef92_11e9_a7e3_505bc2834c80row39_col7\" class=\"data row39 col7\" >0</td>\n",
       "                        <td id=\"T_6824ea2c_ef92_11e9_a7e3_505bc2834c80row39_col8\" class=\"data row39 col8\" >1</td>\n",
       "            </tr>\n",
       "            <tr>\n",
       "                        <th id=\"T_6824ea2c_ef92_11e9_a7e3_505bc2834c80level0_row40\" class=\"row_heading level0 row40\" >SOTON/O.Q.</th>\n",
       "                        <td id=\"T_6824ea2c_ef92_11e9_a7e3_505bc2834c80row40_col0\" class=\"data row40 col0\" >0</td>\n",
       "                        <td id=\"T_6824ea2c_ef92_11e9_a7e3_505bc2834c80row40_col1\" class=\"data row40 col1\" >0</td>\n",
       "                        <td id=\"T_6824ea2c_ef92_11e9_a7e3_505bc2834c80row40_col2\" class=\"data row40 col2\" >0</td>\n",
       "                        <td id=\"T_6824ea2c_ef92_11e9_a7e3_505bc2834c80row40_col3\" class=\"data row40 col3\" >0</td>\n",
       "                        <td id=\"T_6824ea2c_ef92_11e9_a7e3_505bc2834c80row40_col4\" class=\"data row40 col4\" >1</td>\n",
       "                        <td id=\"T_6824ea2c_ef92_11e9_a7e3_505bc2834c80row40_col5\" class=\"data row40 col5\" >0</td>\n",
       "                        <td id=\"T_6824ea2c_ef92_11e9_a7e3_505bc2834c80row40_col6\" class=\"data row40 col6\" >0</td>\n",
       "                        <td id=\"T_6824ea2c_ef92_11e9_a7e3_505bc2834c80row40_col7\" class=\"data row40 col7\" >0</td>\n",
       "                        <td id=\"T_6824ea2c_ef92_11e9_a7e3_505bc2834c80row40_col8\" class=\"data row40 col8\" >15</td>\n",
       "            </tr>\n",
       "            <tr>\n",
       "                        <th id=\"T_6824ea2c_ef92_11e9_a7e3_505bc2834c80level0_row41\" class=\"row_heading level0 row41\" >SOTON/O2</th>\n",
       "                        <td id=\"T_6824ea2c_ef92_11e9_a7e3_505bc2834c80row41_col0\" class=\"data row41 col0\" >0</td>\n",
       "                        <td id=\"T_6824ea2c_ef92_11e9_a7e3_505bc2834c80row41_col1\" class=\"data row41 col1\" >0</td>\n",
       "                        <td id=\"T_6824ea2c_ef92_11e9_a7e3_505bc2834c80row41_col2\" class=\"data row41 col2\" >0</td>\n",
       "                        <td id=\"T_6824ea2c_ef92_11e9_a7e3_505bc2834c80row41_col3\" class=\"data row41 col3\" >0</td>\n",
       "                        <td id=\"T_6824ea2c_ef92_11e9_a7e3_505bc2834c80row41_col4\" class=\"data row41 col4\" >0</td>\n",
       "                        <td id=\"T_6824ea2c_ef92_11e9_a7e3_505bc2834c80row41_col5\" class=\"data row41 col5\" >0</td>\n",
       "                        <td id=\"T_6824ea2c_ef92_11e9_a7e3_505bc2834c80row41_col6\" class=\"data row41 col6\" >0</td>\n",
       "                        <td id=\"T_6824ea2c_ef92_11e9_a7e3_505bc2834c80row41_col7\" class=\"data row41 col7\" >0</td>\n",
       "                        <td id=\"T_6824ea2c_ef92_11e9_a7e3_505bc2834c80row41_col8\" class=\"data row41 col8\" >3</td>\n",
       "            </tr>\n",
       "            <tr>\n",
       "                        <th id=\"T_6824ea2c_ef92_11e9_a7e3_505bc2834c80level0_row42\" class=\"row_heading level0 row42\" >SOTON/OQ</th>\n",
       "                        <td id=\"T_6824ea2c_ef92_11e9_a7e3_505bc2834c80row42_col0\" class=\"data row42 col0\" >0</td>\n",
       "                        <td id=\"T_6824ea2c_ef92_11e9_a7e3_505bc2834c80row42_col1\" class=\"data row42 col1\" >0</td>\n",
       "                        <td id=\"T_6824ea2c_ef92_11e9_a7e3_505bc2834c80row42_col2\" class=\"data row42 col2\" >0</td>\n",
       "                        <td id=\"T_6824ea2c_ef92_11e9_a7e3_505bc2834c80row42_col3\" class=\"data row42 col3\" >0</td>\n",
       "                        <td id=\"T_6824ea2c_ef92_11e9_a7e3_505bc2834c80row42_col4\" class=\"data row42 col4\" >0</td>\n",
       "                        <td id=\"T_6824ea2c_ef92_11e9_a7e3_505bc2834c80row42_col5\" class=\"data row42 col5\" >0</td>\n",
       "                        <td id=\"T_6824ea2c_ef92_11e9_a7e3_505bc2834c80row42_col6\" class=\"data row42 col6\" >0</td>\n",
       "                        <td id=\"T_6824ea2c_ef92_11e9_a7e3_505bc2834c80row42_col7\" class=\"data row42 col7\" >0</td>\n",
       "                        <td id=\"T_6824ea2c_ef92_11e9_a7e3_505bc2834c80row42_col8\" class=\"data row42 col8\" >8</td>\n",
       "            </tr>\n",
       "            <tr>\n",
       "                        <th id=\"T_6824ea2c_ef92_11e9_a7e3_505bc2834c80level0_row43\" class=\"row_heading level0 row43\" >STON/O 2.</th>\n",
       "                        <td id=\"T_6824ea2c_ef92_11e9_a7e3_505bc2834c80row43_col0\" class=\"data row43 col0\" >0</td>\n",
       "                        <td id=\"T_6824ea2c_ef92_11e9_a7e3_505bc2834c80row43_col1\" class=\"data row43 col1\" >0</td>\n",
       "                        <td id=\"T_6824ea2c_ef92_11e9_a7e3_505bc2834c80row43_col2\" class=\"data row43 col2\" >0</td>\n",
       "                        <td id=\"T_6824ea2c_ef92_11e9_a7e3_505bc2834c80row43_col3\" class=\"data row43 col3\" >0</td>\n",
       "                        <td id=\"T_6824ea2c_ef92_11e9_a7e3_505bc2834c80row43_col4\" class=\"data row43 col4\" >0</td>\n",
       "                        <td id=\"T_6824ea2c_ef92_11e9_a7e3_505bc2834c80row43_col5\" class=\"data row43 col5\" >0</td>\n",
       "                        <td id=\"T_6824ea2c_ef92_11e9_a7e3_505bc2834c80row43_col6\" class=\"data row43 col6\" >0</td>\n",
       "                        <td id=\"T_6824ea2c_ef92_11e9_a7e3_505bc2834c80row43_col7\" class=\"data row43 col7\" >0</td>\n",
       "                        <td id=\"T_6824ea2c_ef92_11e9_a7e3_505bc2834c80row43_col8\" class=\"data row43 col8\" >14</td>\n",
       "            </tr>\n",
       "            <tr>\n",
       "                        <th id=\"T_6824ea2c_ef92_11e9_a7e3_505bc2834c80level0_row44\" class=\"row_heading level0 row44\" >STON/O2.</th>\n",
       "                        <td id=\"T_6824ea2c_ef92_11e9_a7e3_505bc2834c80row44_col0\" class=\"data row44 col0\" >0</td>\n",
       "                        <td id=\"T_6824ea2c_ef92_11e9_a7e3_505bc2834c80row44_col1\" class=\"data row44 col1\" >0</td>\n",
       "                        <td id=\"T_6824ea2c_ef92_11e9_a7e3_505bc2834c80row44_col2\" class=\"data row44 col2\" >0</td>\n",
       "                        <td id=\"T_6824ea2c_ef92_11e9_a7e3_505bc2834c80row44_col3\" class=\"data row44 col3\" >0</td>\n",
       "                        <td id=\"T_6824ea2c_ef92_11e9_a7e3_505bc2834c80row44_col4\" class=\"data row44 col4\" >0</td>\n",
       "                        <td id=\"T_6824ea2c_ef92_11e9_a7e3_505bc2834c80row44_col5\" class=\"data row44 col5\" >0</td>\n",
       "                        <td id=\"T_6824ea2c_ef92_11e9_a7e3_505bc2834c80row44_col6\" class=\"data row44 col6\" >0</td>\n",
       "                        <td id=\"T_6824ea2c_ef92_11e9_a7e3_505bc2834c80row44_col7\" class=\"data row44 col7\" >0</td>\n",
       "                        <td id=\"T_6824ea2c_ef92_11e9_a7e3_505bc2834c80row44_col8\" class=\"data row44 col8\" >7</td>\n",
       "            </tr>\n",
       "            <tr>\n",
       "                        <th id=\"T_6824ea2c_ef92_11e9_a7e3_505bc2834c80level0_row45\" class=\"row_heading level0 row45\" >STON/OQ.</th>\n",
       "                        <td id=\"T_6824ea2c_ef92_11e9_a7e3_505bc2834c80row45_col0\" class=\"data row45 col0\" >0</td>\n",
       "                        <td id=\"T_6824ea2c_ef92_11e9_a7e3_505bc2834c80row45_col1\" class=\"data row45 col1\" >0</td>\n",
       "                        <td id=\"T_6824ea2c_ef92_11e9_a7e3_505bc2834c80row45_col2\" class=\"data row45 col2\" >0</td>\n",
       "                        <td id=\"T_6824ea2c_ef92_11e9_a7e3_505bc2834c80row45_col3\" class=\"data row45 col3\" >0</td>\n",
       "                        <td id=\"T_6824ea2c_ef92_11e9_a7e3_505bc2834c80row45_col4\" class=\"data row45 col4\" >0</td>\n",
       "                        <td id=\"T_6824ea2c_ef92_11e9_a7e3_505bc2834c80row45_col5\" class=\"data row45 col5\" >0</td>\n",
       "                        <td id=\"T_6824ea2c_ef92_11e9_a7e3_505bc2834c80row45_col6\" class=\"data row45 col6\" >0</td>\n",
       "                        <td id=\"T_6824ea2c_ef92_11e9_a7e3_505bc2834c80row45_col7\" class=\"data row45 col7\" >0</td>\n",
       "                        <td id=\"T_6824ea2c_ef92_11e9_a7e3_505bc2834c80row45_col8\" class=\"data row45 col8\" >1</td>\n",
       "            </tr>\n",
       "            <tr>\n",
       "                        <th id=\"T_6824ea2c_ef92_11e9_a7e3_505bc2834c80level0_row46\" class=\"row_heading level0 row46\" >SW/PP</th>\n",
       "                        <td id=\"T_6824ea2c_ef92_11e9_a7e3_505bc2834c80row46_col0\" class=\"data row46 col0\" >0</td>\n",
       "                        <td id=\"T_6824ea2c_ef92_11e9_a7e3_505bc2834c80row46_col1\" class=\"data row46 col1\" >0</td>\n",
       "                        <td id=\"T_6824ea2c_ef92_11e9_a7e3_505bc2834c80row46_col2\" class=\"data row46 col2\" >0</td>\n",
       "                        <td id=\"T_6824ea2c_ef92_11e9_a7e3_505bc2834c80row46_col3\" class=\"data row46 col3\" >0</td>\n",
       "                        <td id=\"T_6824ea2c_ef92_11e9_a7e3_505bc2834c80row46_col4\" class=\"data row46 col4\" >0</td>\n",
       "                        <td id=\"T_6824ea2c_ef92_11e9_a7e3_505bc2834c80row46_col5\" class=\"data row46 col5\" >0</td>\n",
       "                        <td id=\"T_6824ea2c_ef92_11e9_a7e3_505bc2834c80row46_col6\" class=\"data row46 col6\" >0</td>\n",
       "                        <td id=\"T_6824ea2c_ef92_11e9_a7e3_505bc2834c80row46_col7\" class=\"data row46 col7\" >0</td>\n",
       "                        <td id=\"T_6824ea2c_ef92_11e9_a7e3_505bc2834c80row46_col8\" class=\"data row46 col8\" >1</td>\n",
       "            </tr>\n",
       "            <tr>\n",
       "                        <th id=\"T_6824ea2c_ef92_11e9_a7e3_505bc2834c80level0_row47\" class=\"row_heading level0 row47\" >W./C.</th>\n",
       "                        <td id=\"T_6824ea2c_ef92_11e9_a7e3_505bc2834c80row47_col0\" class=\"data row47 col0\" >0</td>\n",
       "                        <td id=\"T_6824ea2c_ef92_11e9_a7e3_505bc2834c80row47_col1\" class=\"data row47 col1\" >0</td>\n",
       "                        <td id=\"T_6824ea2c_ef92_11e9_a7e3_505bc2834c80row47_col2\" class=\"data row47 col2\" >0</td>\n",
       "                        <td id=\"T_6824ea2c_ef92_11e9_a7e3_505bc2834c80row47_col3\" class=\"data row47 col3\" >0</td>\n",
       "                        <td id=\"T_6824ea2c_ef92_11e9_a7e3_505bc2834c80row47_col4\" class=\"data row47 col4\" >0</td>\n",
       "                        <td id=\"T_6824ea2c_ef92_11e9_a7e3_505bc2834c80row47_col5\" class=\"data row47 col5\" >1</td>\n",
       "                        <td id=\"T_6824ea2c_ef92_11e9_a7e3_505bc2834c80row47_col6\" class=\"data row47 col6\" >0</td>\n",
       "                        <td id=\"T_6824ea2c_ef92_11e9_a7e3_505bc2834c80row47_col7\" class=\"data row47 col7\" >0</td>\n",
       "                        <td id=\"T_6824ea2c_ef92_11e9_a7e3_505bc2834c80row47_col8\" class=\"data row47 col8\" >13</td>\n",
       "            </tr>\n",
       "            <tr>\n",
       "                        <th id=\"T_6824ea2c_ef92_11e9_a7e3_505bc2834c80level0_row48\" class=\"row_heading level0 row48\" >W.E.P.</th>\n",
       "                        <td id=\"T_6824ea2c_ef92_11e9_a7e3_505bc2834c80row48_col0\" class=\"data row48 col0\" >0</td>\n",
       "                        <td id=\"T_6824ea2c_ef92_11e9_a7e3_505bc2834c80row48_col1\" class=\"data row48 col1\" >0</td>\n",
       "                        <td id=\"T_6824ea2c_ef92_11e9_a7e3_505bc2834c80row48_col2\" class=\"data row48 col2\" >0</td>\n",
       "                        <td id=\"T_6824ea2c_ef92_11e9_a7e3_505bc2834c80row48_col3\" class=\"data row48 col3\" >0</td>\n",
       "                        <td id=\"T_6824ea2c_ef92_11e9_a7e3_505bc2834c80row48_col4\" class=\"data row48 col4\" >2</td>\n",
       "                        <td id=\"T_6824ea2c_ef92_11e9_a7e3_505bc2834c80row48_col5\" class=\"data row48 col5\" >0</td>\n",
       "                        <td id=\"T_6824ea2c_ef92_11e9_a7e3_505bc2834c80row48_col6\" class=\"data row48 col6\" >0</td>\n",
       "                        <td id=\"T_6824ea2c_ef92_11e9_a7e3_505bc2834c80row48_col7\" class=\"data row48 col7\" >0</td>\n",
       "                        <td id=\"T_6824ea2c_ef92_11e9_a7e3_505bc2834c80row48_col8\" class=\"data row48 col8\" >0</td>\n",
       "            </tr>\n",
       "            <tr>\n",
       "                        <th id=\"T_6824ea2c_ef92_11e9_a7e3_505bc2834c80level0_row49\" class=\"row_heading level0 row49\" >W/C</th>\n",
       "                        <td id=\"T_6824ea2c_ef92_11e9_a7e3_505bc2834c80row49_col0\" class=\"data row49 col0\" >0</td>\n",
       "                        <td id=\"T_6824ea2c_ef92_11e9_a7e3_505bc2834c80row49_col1\" class=\"data row49 col1\" >0</td>\n",
       "                        <td id=\"T_6824ea2c_ef92_11e9_a7e3_505bc2834c80row49_col2\" class=\"data row49 col2\" >0</td>\n",
       "                        <td id=\"T_6824ea2c_ef92_11e9_a7e3_505bc2834c80row49_col3\" class=\"data row49 col3\" >0</td>\n",
       "                        <td id=\"T_6824ea2c_ef92_11e9_a7e3_505bc2834c80row49_col4\" class=\"data row49 col4\" >0</td>\n",
       "                        <td id=\"T_6824ea2c_ef92_11e9_a7e3_505bc2834c80row49_col5\" class=\"data row49 col5\" >0</td>\n",
       "                        <td id=\"T_6824ea2c_ef92_11e9_a7e3_505bc2834c80row49_col6\" class=\"data row49 col6\" >0</td>\n",
       "                        <td id=\"T_6824ea2c_ef92_11e9_a7e3_505bc2834c80row49_col7\" class=\"data row49 col7\" >0</td>\n",
       "                        <td id=\"T_6824ea2c_ef92_11e9_a7e3_505bc2834c80row49_col8\" class=\"data row49 col8\" >1</td>\n",
       "            </tr>\n",
       "            <tr>\n",
       "                        <th id=\"T_6824ea2c_ef92_11e9_a7e3_505bc2834c80level0_row50\" class=\"row_heading level0 row50\" >WE/P</th>\n",
       "                        <td id=\"T_6824ea2c_ef92_11e9_a7e3_505bc2834c80row50_col0\" class=\"data row50 col0\" >0</td>\n",
       "                        <td id=\"T_6824ea2c_ef92_11e9_a7e3_505bc2834c80row50_col1\" class=\"data row50 col1\" >2</td>\n",
       "                        <td id=\"T_6824ea2c_ef92_11e9_a7e3_505bc2834c80row50_col2\" class=\"data row50 col2\" >0</td>\n",
       "                        <td id=\"T_6824ea2c_ef92_11e9_a7e3_505bc2834c80row50_col3\" class=\"data row50 col3\" >0</td>\n",
       "                        <td id=\"T_6824ea2c_ef92_11e9_a7e3_505bc2834c80row50_col4\" class=\"data row50 col4\" >0</td>\n",
       "                        <td id=\"T_6824ea2c_ef92_11e9_a7e3_505bc2834c80row50_col5\" class=\"data row50 col5\" >0</td>\n",
       "                        <td id=\"T_6824ea2c_ef92_11e9_a7e3_505bc2834c80row50_col6\" class=\"data row50 col6\" >0</td>\n",
       "                        <td id=\"T_6824ea2c_ef92_11e9_a7e3_505bc2834c80row50_col7\" class=\"data row50 col7\" >0</td>\n",
       "                        <td id=\"T_6824ea2c_ef92_11e9_a7e3_505bc2834c80row50_col8\" class=\"data row50 col8\" >0</td>\n",
       "            </tr>\n",
       "    </tbody></table>"
      ],
      "text/plain": [
       "<pandas.io.formats.style.Styler at 0x13579aaa808>"
      ]
     },
     "execution_count": 50,
     "metadata": {},
     "output_type": "execute_result"
    }
   ],
   "source": [
    "# Check PC in TicketID and most of them have a CabinID associated with them\n",
    "pd.crosstab(df.TicketID , df.CabinID).style.apply(lambda x: ['background: lightgreen' if x.name == 'PC' else '' for i in x], axis=1)"
   ]
  },
  {
   "cell_type": "code",
   "execution_count": 51,
   "metadata": {},
   "outputs": [
    {
     "data": {
      "text/html": [
       "<div>\n",
       "<style scoped>\n",
       "    .dataframe tbody tr th:only-of-type {\n",
       "        vertical-align: middle;\n",
       "    }\n",
       "\n",
       "    .dataframe tbody tr th {\n",
       "        vertical-align: top;\n",
       "    }\n",
       "\n",
       "    .dataframe thead th {\n",
       "        text-align: right;\n",
       "    }\n",
       "</style>\n",
       "<table border=\"1\" class=\"dataframe\">\n",
       "  <thead>\n",
       "    <tr style=\"text-align: right;\">\n",
       "      <th>Pclass</th>\n",
       "      <th>1</th>\n",
       "      <th>2</th>\n",
       "      <th>3</th>\n",
       "    </tr>\n",
       "    <tr>\n",
       "      <th>CabinID</th>\n",
       "      <th></th>\n",
       "      <th></th>\n",
       "      <th></th>\n",
       "    </tr>\n",
       "  </thead>\n",
       "  <tbody>\n",
       "    <tr>\n",
       "      <td>A</td>\n",
       "      <td>33</td>\n",
       "      <td>0</td>\n",
       "      <td>0</td>\n",
       "    </tr>\n",
       "    <tr>\n",
       "      <td>B</td>\n",
       "      <td>77</td>\n",
       "      <td>0</td>\n",
       "      <td>0</td>\n",
       "    </tr>\n",
       "    <tr>\n",
       "      <td>C</td>\n",
       "      <td>124</td>\n",
       "      <td>0</td>\n",
       "      <td>0</td>\n",
       "    </tr>\n",
       "    <tr>\n",
       "      <td>D</td>\n",
       "      <td>47</td>\n",
       "      <td>6</td>\n",
       "      <td>0</td>\n",
       "    </tr>\n",
       "    <tr>\n",
       "      <td>E</td>\n",
       "      <td>38</td>\n",
       "      <td>4</td>\n",
       "      <td>3</td>\n",
       "    </tr>\n",
       "    <tr>\n",
       "      <td>F</td>\n",
       "      <td>0</td>\n",
       "      <td>13</td>\n",
       "      <td>8</td>\n",
       "    </tr>\n",
       "    <tr>\n",
       "      <td>G</td>\n",
       "      <td>0</td>\n",
       "      <td>0</td>\n",
       "      <td>5</td>\n",
       "    </tr>\n",
       "    <tr>\n",
       "      <td>T</td>\n",
       "      <td>1</td>\n",
       "      <td>0</td>\n",
       "      <td>0</td>\n",
       "    </tr>\n",
       "    <tr>\n",
       "      <td>X</td>\n",
       "      <td>0</td>\n",
       "      <td>254</td>\n",
       "      <td>686</td>\n",
       "    </tr>\n",
       "  </tbody>\n",
       "</table>\n",
       "</div>"
      ],
      "text/plain": [
       "Pclass     1    2    3\n",
       "CabinID               \n",
       "A         33    0    0\n",
       "B         77    0    0\n",
       "C        124    0    0\n",
       "D         47    6    0\n",
       "E         38    4    3\n",
       "F          0   13    8\n",
       "G          0    0    5\n",
       "T          1    0    0\n",
       "X          0  254  686"
      ]
     },
     "execution_count": 51,
     "metadata": {},
     "output_type": "execute_result"
    }
   ],
   "source": [
    "# IMPUTING the 66 Missing CabinIDs with Predicted Features\n",
    "\n",
    "df.loc[(df['Pclass'] == 1) & (df['CabinID'] == 'X') , 'CabinID'] = PredCabinID\n",
    "pd.crosstab(df.CabinID , df.Pclass)"
   ]
  },
  {
   "cell_type": "code",
   "execution_count": 52,
   "metadata": {},
   "outputs": [
    {
     "data": {
      "text/html": [
       "<div>\n",
       "<style scoped>\n",
       "    .dataframe tbody tr th:only-of-type {\n",
       "        vertical-align: middle;\n",
       "    }\n",
       "\n",
       "    .dataframe tbody tr th {\n",
       "        vertical-align: top;\n",
       "    }\n",
       "\n",
       "    .dataframe thead th {\n",
       "        text-align: right;\n",
       "    }\n",
       "</style>\n",
       "<table border=\"1\" class=\"dataframe\">\n",
       "  <thead>\n",
       "    <tr style=\"text-align: right;\">\n",
       "      <th>CabinID</th>\n",
       "      <th>A</th>\n",
       "      <th>B</th>\n",
       "      <th>C</th>\n",
       "      <th>D</th>\n",
       "      <th>E</th>\n",
       "    </tr>\n",
       "    <tr>\n",
       "      <th>TicketID</th>\n",
       "      <th></th>\n",
       "      <th></th>\n",
       "      <th></th>\n",
       "      <th></th>\n",
       "      <th></th>\n",
       "    </tr>\n",
       "  </thead>\n",
       "  <tbody>\n",
       "    <tr>\n",
       "      <td>PC</td>\n",
       "      <td>10</td>\n",
       "      <td>24</td>\n",
       "      <td>30</td>\n",
       "      <td>13</td>\n",
       "      <td>12</td>\n",
       "    </tr>\n",
       "  </tbody>\n",
       "</table>\n",
       "</div>"
      ],
      "text/plain": [
       "CabinID    A   B   C   D   E\n",
       "TicketID                    \n",
       "PC        10  24  30  13  12"
      ]
     },
     "execution_count": 52,
     "metadata": {},
     "output_type": "execute_result"
    }
   ],
   "source": [
    "# PC is distributed correctly\n",
    "\n",
    "pd.crosstab (df[df.TicketID == 'PC'].TicketID , df[df.TicketID == 'PC'].CabinID)"
   ]
  },
  {
   "cell_type": "code",
   "execution_count": 53,
   "metadata": {
    "scrolled": false
   },
   "outputs": [
    {
     "data": {
      "text/html": [
       "<div>\n",
       "<style scoped>\n",
       "    .dataframe tbody tr th:only-of-type {\n",
       "        vertical-align: middle;\n",
       "    }\n",
       "\n",
       "    .dataframe tbody tr th {\n",
       "        vertical-align: top;\n",
       "    }\n",
       "\n",
       "    .dataframe thead th {\n",
       "        text-align: right;\n",
       "    }\n",
       "</style>\n",
       "<table border=\"1\" class=\"dataframe\">\n",
       "  <thead>\n",
       "    <tr style=\"text-align: right;\">\n",
       "      <th></th>\n",
       "      <th>Survived</th>\n",
       "      <th>Pclass</th>\n",
       "      <th>Name</th>\n",
       "      <th>Sex</th>\n",
       "      <th>Age</th>\n",
       "      <th>SibSp</th>\n",
       "      <th>Parch</th>\n",
       "      <th>Ticket</th>\n",
       "      <th>Fare</th>\n",
       "      <th>Cabin</th>\n",
       "      <th>Embarked</th>\n",
       "      <th>Title</th>\n",
       "      <th>Title_Flag</th>\n",
       "      <th>NameLen</th>\n",
       "      <th>Familia</th>\n",
       "      <th>TicketID</th>\n",
       "      <th>CabinID</th>\n",
       "    </tr>\n",
       "    <tr>\n",
       "      <th>PassengerId</th>\n",
       "      <th></th>\n",
       "      <th></th>\n",
       "      <th></th>\n",
       "      <th></th>\n",
       "      <th></th>\n",
       "      <th></th>\n",
       "      <th></th>\n",
       "      <th></th>\n",
       "      <th></th>\n",
       "      <th></th>\n",
       "      <th></th>\n",
       "      <th></th>\n",
       "      <th></th>\n",
       "      <th></th>\n",
       "      <th></th>\n",
       "      <th></th>\n",
       "      <th></th>\n",
       "    </tr>\n",
       "  </thead>\n",
       "  <tbody>\n",
       "    <tr>\n",
       "      <td>28</td>\n",
       "      <td>0.0</td>\n",
       "      <td>1</td>\n",
       "      <td>Fortune, Mr. Charles Alexander</td>\n",
       "      <td>male</td>\n",
       "      <td>19.0</td>\n",
       "      <td>3</td>\n",
       "      <td>2</td>\n",
       "      <td>19950</td>\n",
       "      <td>263.0000</td>\n",
       "      <td>C23 C25 C27</td>\n",
       "      <td>S</td>\n",
       "      <td>Mr</td>\n",
       "      <td>1</td>\n",
       "      <td>30</td>\n",
       "      <td>5</td>\n",
       "      <td></td>\n",
       "      <td>C</td>\n",
       "    </tr>\n",
       "    <tr>\n",
       "      <td>89</td>\n",
       "      <td>1.0</td>\n",
       "      <td>1</td>\n",
       "      <td>Fortune, Miss. Mabel Helen</td>\n",
       "      <td>female</td>\n",
       "      <td>23.0</td>\n",
       "      <td>3</td>\n",
       "      <td>2</td>\n",
       "      <td>19950</td>\n",
       "      <td>263.0000</td>\n",
       "      <td>C23 C25 C27</td>\n",
       "      <td>S</td>\n",
       "      <td>Miss</td>\n",
       "      <td>5</td>\n",
       "      <td>26</td>\n",
       "      <td>5</td>\n",
       "      <td></td>\n",
       "      <td>C</td>\n",
       "    </tr>\n",
       "    <tr>\n",
       "      <td>312</td>\n",
       "      <td>1.0</td>\n",
       "      <td>1</td>\n",
       "      <td>Ryerson, Miss. Emily Borie</td>\n",
       "      <td>female</td>\n",
       "      <td>18.0</td>\n",
       "      <td>2</td>\n",
       "      <td>2</td>\n",
       "      <td>PC 17608</td>\n",
       "      <td>262.3750</td>\n",
       "      <td>B57 B59 B63 B66</td>\n",
       "      <td>C</td>\n",
       "      <td>Miss</td>\n",
       "      <td>5</td>\n",
       "      <td>26</td>\n",
       "      <td>4</td>\n",
       "      <td>PC</td>\n",
       "      <td>B</td>\n",
       "    </tr>\n",
       "    <tr>\n",
       "      <td>342</td>\n",
       "      <td>1.0</td>\n",
       "      <td>1</td>\n",
       "      <td>Fortune, Miss. Alice Elizabeth</td>\n",
       "      <td>female</td>\n",
       "      <td>24.0</td>\n",
       "      <td>3</td>\n",
       "      <td>2</td>\n",
       "      <td>19950</td>\n",
       "      <td>263.0000</td>\n",
       "      <td>C23 C25 C27</td>\n",
       "      <td>S</td>\n",
       "      <td>Miss</td>\n",
       "      <td>5</td>\n",
       "      <td>30</td>\n",
       "      <td>5</td>\n",
       "      <td></td>\n",
       "      <td>C</td>\n",
       "    </tr>\n",
       "    <tr>\n",
       "      <td>439</td>\n",
       "      <td>0.0</td>\n",
       "      <td>1</td>\n",
       "      <td>Fortune, Mr. Mark</td>\n",
       "      <td>male</td>\n",
       "      <td>64.0</td>\n",
       "      <td>1</td>\n",
       "      <td>4</td>\n",
       "      <td>19950</td>\n",
       "      <td>263.0000</td>\n",
       "      <td>C23 C25 C27</td>\n",
       "      <td>S</td>\n",
       "      <td>Mr</td>\n",
       "      <td>1</td>\n",
       "      <td>17</td>\n",
       "      <td>5</td>\n",
       "      <td></td>\n",
       "      <td>C</td>\n",
       "    </tr>\n",
       "    <tr>\n",
       "      <td>743</td>\n",
       "      <td>1.0</td>\n",
       "      <td>1</td>\n",
       "      <td>Ryerson, Miss. Susan Parker \"Suzette\"</td>\n",
       "      <td>female</td>\n",
       "      <td>21.0</td>\n",
       "      <td>2</td>\n",
       "      <td>2</td>\n",
       "      <td>PC 17608</td>\n",
       "      <td>262.3750</td>\n",
       "      <td>B57 B59 B63 B66</td>\n",
       "      <td>C</td>\n",
       "      <td>Miss</td>\n",
       "      <td>5</td>\n",
       "      <td>37</td>\n",
       "      <td>4</td>\n",
       "      <td>PC</td>\n",
       "      <td>B</td>\n",
       "    </tr>\n",
       "    <tr>\n",
       "      <td>873</td>\n",
       "      <td>0.0</td>\n",
       "      <td>1</td>\n",
       "      <td>Carlsson, Mr. Frans Olof</td>\n",
       "      <td>male</td>\n",
       "      <td>33.0</td>\n",
       "      <td>0</td>\n",
       "      <td>0</td>\n",
       "      <td>695</td>\n",
       "      <td>5.0000</td>\n",
       "      <td>B51 B53 B55</td>\n",
       "      <td>S</td>\n",
       "      <td>Mr</td>\n",
       "      <td>1</td>\n",
       "      <td>24</td>\n",
       "      <td>0</td>\n",
       "      <td></td>\n",
       "      <td>B</td>\n",
       "    </tr>\n",
       "    <tr>\n",
       "      <td>916</td>\n",
       "      <td>NaN</td>\n",
       "      <td>1</td>\n",
       "      <td>Ryerson, Mrs. Arthur Larned (Emily Maria Borie)</td>\n",
       "      <td>female</td>\n",
       "      <td>48.0</td>\n",
       "      <td>1</td>\n",
       "      <td>3</td>\n",
       "      <td>PC 17608</td>\n",
       "      <td>262.3750</td>\n",
       "      <td>B57 B59 B63 B66</td>\n",
       "      <td>C</td>\n",
       "      <td>Mrs</td>\n",
       "      <td>6</td>\n",
       "      <td>47</td>\n",
       "      <td>4</td>\n",
       "      <td>PC</td>\n",
       "      <td>B</td>\n",
       "    </tr>\n",
       "    <tr>\n",
       "      <td>945</td>\n",
       "      <td>NaN</td>\n",
       "      <td>1</td>\n",
       "      <td>Fortune, Miss. Ethel Flora</td>\n",
       "      <td>female</td>\n",
       "      <td>28.0</td>\n",
       "      <td>3</td>\n",
       "      <td>2</td>\n",
       "      <td>19950</td>\n",
       "      <td>263.0000</td>\n",
       "      <td>C23 C25 C27</td>\n",
       "      <td>S</td>\n",
       "      <td>Miss</td>\n",
       "      <td>5</td>\n",
       "      <td>26</td>\n",
       "      <td>5</td>\n",
       "      <td></td>\n",
       "      <td>C</td>\n",
       "    </tr>\n",
       "    <tr>\n",
       "      <td>956</td>\n",
       "      <td>NaN</td>\n",
       "      <td>1</td>\n",
       "      <td>Ryerson, Master. John Borie</td>\n",
       "      <td>male</td>\n",
       "      <td>13.0</td>\n",
       "      <td>2</td>\n",
       "      <td>2</td>\n",
       "      <td>PC 17608</td>\n",
       "      <td>262.3750</td>\n",
       "      <td>B57 B59 B63 B66</td>\n",
       "      <td>C</td>\n",
       "      <td>Master</td>\n",
       "      <td>4</td>\n",
       "      <td>27</td>\n",
       "      <td>4</td>\n",
       "      <td>PC</td>\n",
       "      <td>B</td>\n",
       "    </tr>\n",
       "    <tr>\n",
       "      <td>961</td>\n",
       "      <td>NaN</td>\n",
       "      <td>1</td>\n",
       "      <td>Fortune, Mrs. Mark (Mary McDougald)</td>\n",
       "      <td>female</td>\n",
       "      <td>60.0</td>\n",
       "      <td>1</td>\n",
       "      <td>4</td>\n",
       "      <td>19950</td>\n",
       "      <td>263.0000</td>\n",
       "      <td>C23 C25 C27</td>\n",
       "      <td>S</td>\n",
       "      <td>Mrs</td>\n",
       "      <td>6</td>\n",
       "      <td>35</td>\n",
       "      <td>5</td>\n",
       "      <td></td>\n",
       "      <td>C</td>\n",
       "    </tr>\n",
       "    <tr>\n",
       "      <td>1034</td>\n",
       "      <td>NaN</td>\n",
       "      <td>1</td>\n",
       "      <td>Ryerson, Mr. Arthur Larned</td>\n",
       "      <td>male</td>\n",
       "      <td>61.0</td>\n",
       "      <td>1</td>\n",
       "      <td>3</td>\n",
       "      <td>PC 17608</td>\n",
       "      <td>262.3750</td>\n",
       "      <td>B57 B59 B63 B66</td>\n",
       "      <td>C</td>\n",
       "      <td>Mr</td>\n",
       "      <td>1</td>\n",
       "      <td>26</td>\n",
       "      <td>4</td>\n",
       "      <td>PC</td>\n",
       "      <td>B</td>\n",
       "    </tr>\n",
       "    <tr>\n",
       "      <td>1235</td>\n",
       "      <td>NaN</td>\n",
       "      <td>1</td>\n",
       "      <td>Cardeza, Mrs. James Warburton Martinez (Charlo...</td>\n",
       "      <td>female</td>\n",
       "      <td>58.0</td>\n",
       "      <td>0</td>\n",
       "      <td>1</td>\n",
       "      <td>PC 17755</td>\n",
       "      <td>512.3292</td>\n",
       "      <td>B51 B53 B55</td>\n",
       "      <td>C</td>\n",
       "      <td>Mrs</td>\n",
       "      <td>6</td>\n",
       "      <td>63</td>\n",
       "      <td>1</td>\n",
       "      <td>PC</td>\n",
       "      <td>B</td>\n",
       "    </tr>\n",
       "    <tr>\n",
       "      <td>1264</td>\n",
       "      <td>NaN</td>\n",
       "      <td>1</td>\n",
       "      <td>Ismay, Mr. Joseph Bruce</td>\n",
       "      <td>male</td>\n",
       "      <td>49.0</td>\n",
       "      <td>0</td>\n",
       "      <td>0</td>\n",
       "      <td>112058</td>\n",
       "      <td>0.0000</td>\n",
       "      <td>B52 B54 B56</td>\n",
       "      <td>S</td>\n",
       "      <td>Mr</td>\n",
       "      <td>1</td>\n",
       "      <td>23</td>\n",
       "      <td>0</td>\n",
       "      <td></td>\n",
       "      <td>B</td>\n",
       "    </tr>\n",
       "  </tbody>\n",
       "</table>\n",
       "</div>"
      ],
      "text/plain": [
       "             Survived  Pclass  \\\n",
       "PassengerId                     \n",
       "28                0.0       1   \n",
       "89                1.0       1   \n",
       "312               1.0       1   \n",
       "342               1.0       1   \n",
       "439               0.0       1   \n",
       "743               1.0       1   \n",
       "873               0.0       1   \n",
       "916               NaN       1   \n",
       "945               NaN       1   \n",
       "956               NaN       1   \n",
       "961               NaN       1   \n",
       "1034              NaN       1   \n",
       "1235              NaN       1   \n",
       "1264              NaN       1   \n",
       "\n",
       "                                                          Name     Sex   Age  \\\n",
       "PassengerId                                                                    \n",
       "28                              Fortune, Mr. Charles Alexander    male  19.0   \n",
       "89                                  Fortune, Miss. Mabel Helen  female  23.0   \n",
       "312                                 Ryerson, Miss. Emily Borie  female  18.0   \n",
       "342                             Fortune, Miss. Alice Elizabeth  female  24.0   \n",
       "439                                          Fortune, Mr. Mark    male  64.0   \n",
       "743                      Ryerson, Miss. Susan Parker \"Suzette\"  female  21.0   \n",
       "873                                   Carlsson, Mr. Frans Olof    male  33.0   \n",
       "916            Ryerson, Mrs. Arthur Larned (Emily Maria Borie)  female  48.0   \n",
       "945                                 Fortune, Miss. Ethel Flora  female  28.0   \n",
       "956                                Ryerson, Master. John Borie    male  13.0   \n",
       "961                        Fortune, Mrs. Mark (Mary McDougald)  female  60.0   \n",
       "1034                                Ryerson, Mr. Arthur Larned    male  61.0   \n",
       "1235         Cardeza, Mrs. James Warburton Martinez (Charlo...  female  58.0   \n",
       "1264                                   Ismay, Mr. Joseph Bruce    male  49.0   \n",
       "\n",
       "             SibSp  Parch    Ticket      Fare            Cabin Embarked  \\\n",
       "PassengerId                                                               \n",
       "28               3      2     19950  263.0000      C23 C25 C27        S   \n",
       "89               3      2     19950  263.0000      C23 C25 C27        S   \n",
       "312              2      2  PC 17608  262.3750  B57 B59 B63 B66        C   \n",
       "342              3      2     19950  263.0000      C23 C25 C27        S   \n",
       "439              1      4     19950  263.0000      C23 C25 C27        S   \n",
       "743              2      2  PC 17608  262.3750  B57 B59 B63 B66        C   \n",
       "873              0      0       695    5.0000      B51 B53 B55        S   \n",
       "916              1      3  PC 17608  262.3750  B57 B59 B63 B66        C   \n",
       "945              3      2     19950  263.0000      C23 C25 C27        S   \n",
       "956              2      2  PC 17608  262.3750  B57 B59 B63 B66        C   \n",
       "961              1      4     19950  263.0000      C23 C25 C27        S   \n",
       "1034             1      3  PC 17608  262.3750  B57 B59 B63 B66        C   \n",
       "1235             0      1  PC 17755  512.3292      B51 B53 B55        C   \n",
       "1264             0      0    112058    0.0000      B52 B54 B56        S   \n",
       "\n",
       "              Title  Title_Flag  NameLen  Familia TicketID CabinID  \n",
       "PassengerId                                                         \n",
       "28               Mr           1       30        5                C  \n",
       "89             Miss           5       26        5                C  \n",
       "312            Miss           5       26        4       PC       B  \n",
       "342            Miss           5       30        5                C  \n",
       "439              Mr           1       17        5                C  \n",
       "743            Miss           5       37        4       PC       B  \n",
       "873              Mr           1       24        0                B  \n",
       "916             Mrs           6       47        4       PC       B  \n",
       "945            Miss           5       26        5                C  \n",
       "956          Master           4       27        4       PC       B  \n",
       "961             Mrs           6       35        5                C  \n",
       "1034             Mr           1       26        4       PC       B  \n",
       "1235            Mrs           6       63        1       PC       B  \n",
       "1264             Mr           1       23        0                B  "
      ]
     },
     "execution_count": 53,
     "metadata": {},
     "output_type": "execute_result"
    }
   ],
   "source": [
    "# Also checking the No of Cabins booked for families. Count is very less to be of significance\n",
    "\n",
    "df[df['Cabin'].apply(lambda x: len(x.split(' '))) > 2]"
   ]
  },
  {
   "cell_type": "code",
   "execution_count": 54,
   "metadata": {},
   "outputs": [
    {
     "data": {
      "image/png": "[encoded data removed]",
      "text/plain": [
       "<Figure size 900x360 with 1 Axes>"
      ]
     },
     "metadata": {
      "needs_background": "light"
     },
     "output_type": "display_data"
    }
   ],
   "source": [
    "# Check the ACTUAL no of Survived Passengers\n",
    "sns.catplot('CabinID','Survived', data = df[df.index.isin(df_train.index)] ,kind='point',aspect = 2.5);"
   ]
  },
  {
   "cell_type": "code",
   "execution_count": 55,
   "metadata": {},
   "outputs": [],
   "source": [
    "cabin_replace = {\n",
    "    'T': 0,\n",
    "    'X': 1,\n",
    "    'A': 2,\n",
    "    'G': 3,\n",
    "    'C': 4,\n",
    "    'F': 5,\n",
    "    'B': 6,\n",
    "    'D': 7,\n",
    "    'E': 8\n",
    "}\n",
    "\n",
    "df['Cabin_Flag'] = df['CabinID'].apply(lambda x: cabin_replace.get(x))"
   ]
  },
  {
   "cell_type": "markdown",
   "metadata": {},
   "source": [
    "---"
   ]
  },
  {
   "cell_type": "markdown",
   "metadata": {},
   "source": [
    "#### Embarked"
   ]
  },
  {
   "cell_type": "code",
   "execution_count": 56,
   "metadata": {},
   "outputs": [
    {
     "data": {
      "text/plain": [
       "S    907\n",
       "C    267\n",
       "Q    123\n",
       "Name: Embarked, dtype: int64"
      ]
     },
     "execution_count": 56,
     "metadata": {},
     "output_type": "execute_result"
    }
   ],
   "source": [
    "df.Embarked.value_counts()"
   ]
  },
  {
   "cell_type": "code",
   "execution_count": 57,
   "metadata": {},
   "outputs": [],
   "source": [
    "# Check missing values and IMPUTE with the most common.\n",
    "\n",
    "df.loc[df.Embarked.isnull() , 'Embarked'] = \"S\""
   ]
  },
  {
   "cell_type": "code",
   "execution_count": 58,
   "metadata": {},
   "outputs": [
    {
     "data": {
      "text/html": [
       "<div>\n",
       "<style scoped>\n",
       "    .dataframe tbody tr th:only-of-type {\n",
       "        vertical-align: middle;\n",
       "    }\n",
       "\n",
       "    .dataframe tbody tr th {\n",
       "        vertical-align: top;\n",
       "    }\n",
       "\n",
       "    .dataframe thead th {\n",
       "        text-align: right;\n",
       "    }\n",
       "</style>\n",
       "<table border=\"1\" class=\"dataframe\">\n",
       "  <thead>\n",
       "    <tr style=\"text-align: right;\">\n",
       "      <th></th>\n",
       "      <th>Survived</th>\n",
       "      <th>Pclass</th>\n",
       "      <th>Name</th>\n",
       "      <th>Sex</th>\n",
       "      <th>Age</th>\n",
       "      <th>SibSp</th>\n",
       "      <th>Parch</th>\n",
       "      <th>Ticket</th>\n",
       "      <th>Fare</th>\n",
       "      <th>Cabin</th>\n",
       "      <th>Embarked</th>\n",
       "      <th>Title</th>\n",
       "      <th>Title_Flag</th>\n",
       "      <th>NameLen</th>\n",
       "      <th>Familia</th>\n",
       "      <th>TicketID</th>\n",
       "      <th>CabinID</th>\n",
       "      <th>Cabin_Flag</th>\n",
       "    </tr>\n",
       "    <tr>\n",
       "      <th>PassengerId</th>\n",
       "      <th></th>\n",
       "      <th></th>\n",
       "      <th></th>\n",
       "      <th></th>\n",
       "      <th></th>\n",
       "      <th></th>\n",
       "      <th></th>\n",
       "      <th></th>\n",
       "      <th></th>\n",
       "      <th></th>\n",
       "      <th></th>\n",
       "      <th></th>\n",
       "      <th></th>\n",
       "      <th></th>\n",
       "      <th></th>\n",
       "      <th></th>\n",
       "      <th></th>\n",
       "      <th></th>\n",
       "    </tr>\n",
       "  </thead>\n",
       "  <tbody>\n",
       "    <tr>\n",
       "      <td>62</td>\n",
       "      <td>1.0</td>\n",
       "      <td>1</td>\n",
       "      <td>Icard, Miss. Amelie</td>\n",
       "      <td>female</td>\n",
       "      <td>38.0</td>\n",
       "      <td>0</td>\n",
       "      <td>0</td>\n",
       "      <td>113572</td>\n",
       "      <td>80.0</td>\n",
       "      <td>B28</td>\n",
       "      <td>S</td>\n",
       "      <td>Miss</td>\n",
       "      <td>5</td>\n",
       "      <td>19</td>\n",
       "      <td>0</td>\n",
       "      <td></td>\n",
       "      <td>B</td>\n",
       "      <td>6</td>\n",
       "    </tr>\n",
       "    <tr>\n",
       "      <td>830</td>\n",
       "      <td>1.0</td>\n",
       "      <td>1</td>\n",
       "      <td>Stone, Mrs. George Nelson (Martha Evelyn)</td>\n",
       "      <td>female</td>\n",
       "      <td>62.0</td>\n",
       "      <td>0</td>\n",
       "      <td>0</td>\n",
       "      <td>113572</td>\n",
       "      <td>80.0</td>\n",
       "      <td>B28</td>\n",
       "      <td>S</td>\n",
       "      <td>Mrs</td>\n",
       "      <td>6</td>\n",
       "      <td>41</td>\n",
       "      <td>0</td>\n",
       "      <td></td>\n",
       "      <td>B</td>\n",
       "      <td>6</td>\n",
       "    </tr>\n",
       "  </tbody>\n",
       "</table>\n",
       "</div>"
      ],
      "text/plain": [
       "             Survived  Pclass                                       Name  \\\n",
       "PassengerId                                                                \n",
       "62                1.0       1                        Icard, Miss. Amelie   \n",
       "830               1.0       1  Stone, Mrs. George Nelson (Martha Evelyn)   \n",
       "\n",
       "                Sex   Age  SibSp  Parch  Ticket  Fare Cabin Embarked Title  \\\n",
       "PassengerId                                                                  \n",
       "62           female  38.0      0      0  113572  80.0   B28        S  Miss   \n",
       "830          female  62.0      0      0  113572  80.0   B28        S   Mrs   \n",
       "\n",
       "             Title_Flag  NameLen  Familia TicketID CabinID  Cabin_Flag  \n",
       "PassengerId                                                             \n",
       "62                    5       19        0                B           6  \n",
       "830                   6       41        0                B           6  "
      ]
     },
     "execution_count": 58,
     "metadata": {},
     "output_type": "execute_result"
    }
   ],
   "source": [
    "# Check if Imputed\n",
    "df[df.Ticket == \"113572\"]"
   ]
  },
  {
   "cell_type": "markdown",
   "metadata": {},
   "source": [
    "---"
   ]
  },
  {
   "cell_type": "markdown",
   "metadata": {},
   "source": [
    "#### Age"
   ]
  },
  {
   "cell_type": "code",
   "execution_count": 59,
   "metadata": {},
   "outputs": [
    {
     "data": {
      "image/png": "[encoded data removed]",
      "text/plain": [
       "<Figure size 900x360 with 1 Axes>"
      ]
     },
     "metadata": {
      "needs_background": "light"
     },
     "output_type": "display_data"
    }
   ],
   "source": [
    "sns.catplot('Title','Age', data=df, kind='point' ,aspect = 2.5);"
   ]
  },
  {
   "cell_type": "code",
   "execution_count": 60,
   "metadata": {},
   "outputs": [
    {
     "data": {
      "text/plain": [
       "Mr        173\n",
       "Miss       47\n",
       "Mrs        27\n",
       "Master      7\n",
       "Ms          1\n",
       "Dr          1\n",
       "Name: Title, dtype: int64"
      ]
     },
     "execution_count": 60,
     "metadata": {},
     "output_type": "execute_result"
    }
   ],
   "source": [
    "df[df.Age.isnull()].Title.value_counts()"
   ]
  },
  {
   "cell_type": "code",
   "execution_count": 61,
   "metadata": {},
   "outputs": [
    {
     "data": {
      "text/plain": [
       "Title\n",
       "Capt            70.000000\n",
       "Col             54.000000\n",
       "Don             40.000000\n",
       "Dona            39.000000\n",
       "Dr              43.571429\n",
       "Jonkheer        38.000000\n",
       "Lady            48.000000\n",
       "Major           48.500000\n",
       "Master           5.482642\n",
       "Miss            21.710957\n",
       "Mlle            24.000000\n",
       "Mme             24.000000\n",
       "Mr              32.240933\n",
       "Mrs             36.994118\n",
       "Ms              28.000000\n",
       "Rev             41.250000\n",
       "Sir             49.000000\n",
       "the Countess    33.000000\n",
       "Name: Age, dtype: float64"
      ]
     },
     "execution_count": 61,
     "metadata": {},
     "output_type": "execute_result"
    }
   ],
   "source": [
    "df.groupby('Title').Age.mean()"
   ]
  },
  {
   "cell_type": "code",
   "execution_count": 62,
   "metadata": {},
   "outputs": [
    {
     "data": {
      "text/plain": [
       "array([24.45454626, 32.59965972, 39.81167262, 27.52448261, 21.4380496 ,\n",
       "       27.87825221, 41.097     , 27.58502502, 23.75657267, 27.87825221,\n",
       "       30.06346901, 35.94584286, 27.58502502, 27.4648881 , 43.36376667,\n",
       "       33.80323523,  6.62676508, 27.87825221, 30.06346901, 22.15044505,\n",
       "       30.06346901, 30.06346901, 27.87825221, 28.00889771, 17.03202635,\n",
       "       30.06346901, 37.7040086 ,  4.63608667, 29.09      , 31.04131958,\n",
       "       24.63223106, 28.994     , 42.39590754,  5.54872865, 31.99847619,\n",
       "       45.4137    , 29.7803    , 37.7040086 , 27.58502502, 32.78834195,\n",
       "       27.87825221,  6.4195231 , 22.399     , 15.97459444, 16.32976667,\n",
       "       31.05065292, 55.02636111, 37.7040086 , 27.58502502, 43.8672    ,\n",
       "       27.58502502, 45.94299608, 46.26949004, 33.80323523, 39.967     ,\n",
       "       27.58502502, 27.0089    , 29.34374928, 30.06346901, 30.35972619,\n",
       "        7.79222667, 38.20533333, 27.87825221, 23.39000833, 55.39416667,\n",
       "       27.52448261, 21.4380496 , 21.4380496 , 35.94584286, 30.71385714,\n",
       "       27.58502502, 30.57981667, 27.87825221, 26.44349442,  6.4195231 ,\n",
       "       27.87825221, 24.46056389, 45.94299608, 29.94166667, 27.87825221,\n",
       "       31.05065292, 37.7040086 , 23.39000833, 23.29837188, 24.4394369 ,\n",
       "       30.06346901, 40.167     , 37.7040086 , 30.06346901, 45.94299608,\n",
       "       26.44449442, 31.05065292, 38.19572857, 45.94299608,  6.4195231 ,\n",
       "       24.4394369 , 22.45273623, 34.584275  , 25.9523125 , 44.10508911,\n",
       "       30.06346901, 35.36059185, 27.52448261, 23.75657267, 49.1284    ,\n",
       "       23.75657267, 27.67306667, 26.04893333, 31.34635681, 31.43001468,\n",
       "       46.74066667, 37.7040086 , 30.06346901, 20.38740447, 23.75657267,\n",
       "       27.58502502, 31.85557143, 24.63223106, 30.06346901, 28.63742106,\n",
       "       18.70152857, 27.52448261, 27.87825221, 44.2407    , 27.25003963,\n",
       "       16.32976667, 37.7040086 , 26.44349442, 43.31954295, 32.26856825,\n",
       "       29.45014271, 33.0898    , 27.87825221, 22.98346704, 27.87825221,\n",
       "       28.00889771, 37.33712857, 45.94299608, 20.3781631 , 29.45014271,\n",
       "       17.5412125 ,  6.62676508, 44.10508911, 33.50743333, 18.03519543,\n",
       "       45.94299608, 27.87825221, 27.87825221, 34.32208333, 26.04893333,\n",
       "       39.991     , 33.70912261, 27.52448261, 36.90718625, 26.44349442,\n",
       "       27.6995881 , 37.7040086 , 51.3232    , 43.31954295, 34.30455516,\n",
       "       29.45014271, 37.7040086 , 23.75657267, 30.06346901, 38.01838586,\n",
       "       35.63093571, 23.75657267, 27.31030924, 27.87825221, 10.21019062,\n",
       "       27.87825221, 45.5135    , 27.4648881 , 30.45416667, 20.38740447,\n",
       "       29.45014271, 43.03798163, 37.7040086 , 36.29593333, 32.26856825,\n",
       "       27.93460952, 30.06346901, 27.87825221, 31.42379836, 24.59096389,\n",
       "       30.64853382, 28.00889771, 30.06346901, 37.7040086 , 37.7040086 ,\n",
       "       24.63223106, 22.15452362, 36.32488889, 32.78834195, 37.7040086 ,\n",
       "        7.79222667, 41.30169744, 28.29667619, 48.81028333, 44.10508911,\n",
       "       27.87825221, 17.5412125 , 34.37155516, 52.5125    , 33.0898    ,\n",
       "       23.75657267, 37.7040086 , 18.2165881 , 46.26949004, 29.93316667,\n",
       "       17.30671497, 36.400942  , 27.25003963, 21.4380496 , 30.06346901,\n",
       "       29.09      , 27.58502502, 26.78306469, 26.26814021,  5.99304571,\n",
       "       31.85557143, 33.0898    , 37.7040086 , 27.87825221, 43.31954295,\n",
       "       33.0898    , 20.38740447, 37.7040086 , 16.32976667, 27.52448261,\n",
       "       27.58502502, 31.05065292, 24.69636406, 30.06346901, 37.409     ,\n",
       "       23.75657267, 27.4648881 , 26.68685714, 27.58502502, 32.33641667,\n",
       "       27.52448261, 10.86211   , 27.44261429,  7.82774   , 26.78306469,\n",
       "       37.7040086 , 42.927     , 24.59096389, 37.7040086 , 45.13207143,\n",
       "       32.98474395, 20.72057321, 27.58502502, 30.06346901, 30.06346901,\n",
       "        5.6087059 ])"
      ]
     },
     "execution_count": 62,
     "metadata": {},
     "output_type": "execute_result"
    }
   ],
   "source": [
    "df_missing_age = df[df.Age.isnull()][['Familia', 'Fare', 'Pclass' , 'Cabin_Flag' , 'Title_Flag']]  # Assign to Variable\n",
    "\n",
    "# Create model for Age Imputation\n",
    "from sklearn.ensemble import RandomForestRegressor\n",
    "impute_age = RandomForestRegressor(n_estimators=1000)\n",
    "\n",
    "# Fit an Predict Age\n",
    "impute_age.fit( df[df.index.isin(df_missing_age.index) == False][['Familia', 'Fare', 'Pclass' , 'Cabin_Flag' , 'Title_Flag']] , \n",
    "               df[df.index.isin(df_missing_age.index) == False].Age  )\n",
    "\n",
    "PredAge = impute_age.predict(df_missing_age)\n",
    "PredAge"
   ]
  },
  {
   "cell_type": "code",
   "execution_count": 63,
   "metadata": {},
   "outputs": [
    {
     "data": {
      "text/plain": [
       "0"
      ]
     },
     "execution_count": 63,
     "metadata": {},
     "output_type": "execute_result"
    }
   ],
   "source": [
    "# IMPUTING the Missing Age with Predicted Features\n",
    "\n",
    "df.loc[df.Age.isnull() , 'Age'] = PredAge\n",
    "df.Age.isnull().sum()"
   ]
  },
  {
   "cell_type": "markdown",
   "metadata": {},
   "source": [
    "---"
   ]
  },
  {
   "cell_type": "markdown",
   "metadata": {},
   "source": [
    "### Standardize and Clean Up Variables"
   ]
  },
  {
   "cell_type": "code",
   "execution_count": 102,
   "metadata": {},
   "outputs": [],
   "source": [
    "df_final = df.copy()"
   ]
  },
  {
   "cell_type": "code",
   "execution_count": 103,
   "metadata": {
    "scrolled": false
   },
   "outputs": [],
   "source": [
    "# Convert Male and Female to 0s and 1s\n",
    "df_final['Sex'] = df_final.Sex.map({'male':0, 'female':1})\n",
    "\n",
    "# Convert Embarked\n",
    "df_final['Embarked'] = df_final.Embarked.map({'S':3, 'C':2, 'Q':1})"
   ]
  },
  {
   "cell_type": "code",
   "execution_count": 104,
   "metadata": {},
   "outputs": [
    {
     "data": {
      "text/html": [
       "<div>\n",
       "<style scoped>\n",
       "    .dataframe tbody tr th:only-of-type {\n",
       "        vertical-align: middle;\n",
       "    }\n",
       "\n",
       "    .dataframe tbody tr th {\n",
       "        vertical-align: top;\n",
       "    }\n",
       "\n",
       "    .dataframe thead th {\n",
       "        text-align: right;\n",
       "    }\n",
       "</style>\n",
       "<table border=\"1\" class=\"dataframe\">\n",
       "  <thead>\n",
       "    <tr style=\"text-align: right;\">\n",
       "      <th></th>\n",
       "      <th>Survived</th>\n",
       "      <th>Pclass</th>\n",
       "      <th>Sex</th>\n",
       "      <th>Age</th>\n",
       "      <th>SibSp</th>\n",
       "      <th>Parch</th>\n",
       "      <th>Fare</th>\n",
       "      <th>Embarked</th>\n",
       "      <th>Title_Flag</th>\n",
       "      <th>NameLen</th>\n",
       "      <th>Familia</th>\n",
       "      <th>Cabin_Flag</th>\n",
       "    </tr>\n",
       "    <tr>\n",
       "      <th>PassengerId</th>\n",
       "      <th></th>\n",
       "      <th></th>\n",
       "      <th></th>\n",
       "      <th></th>\n",
       "      <th></th>\n",
       "      <th></th>\n",
       "      <th></th>\n",
       "      <th></th>\n",
       "      <th></th>\n",
       "      <th></th>\n",
       "      <th></th>\n",
       "      <th></th>\n",
       "    </tr>\n",
       "  </thead>\n",
       "  <tbody>\n",
       "    <tr>\n",
       "      <td>1</td>\n",
       "      <td>0.0</td>\n",
       "      <td>3</td>\n",
       "      <td>0</td>\n",
       "      <td>22.0</td>\n",
       "      <td>1</td>\n",
       "      <td>0</td>\n",
       "      <td>7.2500</td>\n",
       "      <td>3</td>\n",
       "      <td>1</td>\n",
       "      <td>23</td>\n",
       "      <td>1</td>\n",
       "      <td>1</td>\n",
       "    </tr>\n",
       "    <tr>\n",
       "      <td>2</td>\n",
       "      <td>1.0</td>\n",
       "      <td>1</td>\n",
       "      <td>1</td>\n",
       "      <td>38.0</td>\n",
       "      <td>1</td>\n",
       "      <td>0</td>\n",
       "      <td>71.2833</td>\n",
       "      <td>2</td>\n",
       "      <td>6</td>\n",
       "      <td>51</td>\n",
       "      <td>1</td>\n",
       "      <td>4</td>\n",
       "    </tr>\n",
       "    <tr>\n",
       "      <td>3</td>\n",
       "      <td>1.0</td>\n",
       "      <td>3</td>\n",
       "      <td>1</td>\n",
       "      <td>26.0</td>\n",
       "      <td>0</td>\n",
       "      <td>0</td>\n",
       "      <td>7.9250</td>\n",
       "      <td>3</td>\n",
       "      <td>5</td>\n",
       "      <td>22</td>\n",
       "      <td>0</td>\n",
       "      <td>1</td>\n",
       "    </tr>\n",
       "    <tr>\n",
       "      <td>4</td>\n",
       "      <td>1.0</td>\n",
       "      <td>1</td>\n",
       "      <td>1</td>\n",
       "      <td>35.0</td>\n",
       "      <td>1</td>\n",
       "      <td>0</td>\n",
       "      <td>53.1000</td>\n",
       "      <td>3</td>\n",
       "      <td>6</td>\n",
       "      <td>44</td>\n",
       "      <td>1</td>\n",
       "      <td>4</td>\n",
       "    </tr>\n",
       "    <tr>\n",
       "      <td>5</td>\n",
       "      <td>0.0</td>\n",
       "      <td>3</td>\n",
       "      <td>0</td>\n",
       "      <td>35.0</td>\n",
       "      <td>0</td>\n",
       "      <td>0</td>\n",
       "      <td>8.0500</td>\n",
       "      <td>3</td>\n",
       "      <td>1</td>\n",
       "      <td>24</td>\n",
       "      <td>0</td>\n",
       "      <td>1</td>\n",
       "    </tr>\n",
       "  </tbody>\n",
       "</table>\n",
       "</div>"
      ],
      "text/plain": [
       "             Survived  Pclass  Sex   Age  SibSp  Parch     Fare  Embarked  \\\n",
       "PassengerId                                                                 \n",
       "1                 0.0       3    0  22.0      1      0   7.2500         3   \n",
       "2                 1.0       1    1  38.0      1      0  71.2833         2   \n",
       "3                 1.0       3    1  26.0      0      0   7.9250         3   \n",
       "4                 1.0       1    1  35.0      1      0  53.1000         3   \n",
       "5                 0.0       3    0  35.0      0      0   8.0500         3   \n",
       "\n",
       "             Title_Flag  NameLen  Familia  Cabin_Flag  \n",
       "PassengerId                                            \n",
       "1                     1       23        1           1  \n",
       "2                     6       51        1           4  \n",
       "3                     5       22        0           1  \n",
       "4                     6       44        1           4  \n",
       "5                     1       24        0           1  "
      ]
     },
     "execution_count": 104,
     "metadata": {},
     "output_type": "execute_result"
    }
   ],
   "source": [
    "# Drop All Categorical Vars\n",
    "df_final.drop(['Name', 'Ticket', 'Cabin', 'Title', 'TicketID', 'CabinID'], axis=1, inplace=True)\n",
    "df_final.head()"
   ]
  },
  {
   "cell_type": "code",
   "execution_count": 105,
   "metadata": {},
   "outputs": [
    {
     "data": {
      "text/html": [
       "<div>\n",
       "<style scoped>\n",
       "    .dataframe tbody tr th:only-of-type {\n",
       "        vertical-align: middle;\n",
       "    }\n",
       "\n",
       "    .dataframe tbody tr th {\n",
       "        vertical-align: top;\n",
       "    }\n",
       "\n",
       "    .dataframe thead th {\n",
       "        text-align: right;\n",
       "    }\n",
       "</style>\n",
       "<table border=\"1\" class=\"dataframe\">\n",
       "  <thead>\n",
       "    <tr style=\"text-align: right;\">\n",
       "      <th></th>\n",
       "      <th>Survived</th>\n",
       "      <th>Pclass</th>\n",
       "      <th>Sex</th>\n",
       "      <th>Age</th>\n",
       "      <th>Fare</th>\n",
       "      <th>Title_Flag</th>\n",
       "      <th>NameLen</th>\n",
       "      <th>Cabin_Flag</th>\n",
       "    </tr>\n",
       "    <tr>\n",
       "      <th>PassengerId</th>\n",
       "      <th></th>\n",
       "      <th></th>\n",
       "      <th></th>\n",
       "      <th></th>\n",
       "      <th></th>\n",
       "      <th></th>\n",
       "      <th></th>\n",
       "      <th></th>\n",
       "    </tr>\n",
       "  </thead>\n",
       "  <tbody>\n",
       "    <tr>\n",
       "      <td>1</td>\n",
       "      <td>0.0</td>\n",
       "      <td>3</td>\n",
       "      <td>0</td>\n",
       "      <td>22.0</td>\n",
       "      <td>7.2500</td>\n",
       "      <td>1</td>\n",
       "      <td>23</td>\n",
       "      <td>1</td>\n",
       "    </tr>\n",
       "    <tr>\n",
       "      <td>2</td>\n",
       "      <td>1.0</td>\n",
       "      <td>1</td>\n",
       "      <td>1</td>\n",
       "      <td>38.0</td>\n",
       "      <td>71.2833</td>\n",
       "      <td>6</td>\n",
       "      <td>51</td>\n",
       "      <td>4</td>\n",
       "    </tr>\n",
       "    <tr>\n",
       "      <td>3</td>\n",
       "      <td>1.0</td>\n",
       "      <td>3</td>\n",
       "      <td>1</td>\n",
       "      <td>26.0</td>\n",
       "      <td>7.9250</td>\n",
       "      <td>5</td>\n",
       "      <td>22</td>\n",
       "      <td>1</td>\n",
       "    </tr>\n",
       "    <tr>\n",
       "      <td>4</td>\n",
       "      <td>1.0</td>\n",
       "      <td>1</td>\n",
       "      <td>1</td>\n",
       "      <td>35.0</td>\n",
       "      <td>53.1000</td>\n",
       "      <td>6</td>\n",
       "      <td>44</td>\n",
       "      <td>4</td>\n",
       "    </tr>\n",
       "    <tr>\n",
       "      <td>5</td>\n",
       "      <td>0.0</td>\n",
       "      <td>3</td>\n",
       "      <td>0</td>\n",
       "      <td>35.0</td>\n",
       "      <td>8.0500</td>\n",
       "      <td>1</td>\n",
       "      <td>24</td>\n",
       "      <td>1</td>\n",
       "    </tr>\n",
       "  </tbody>\n",
       "</table>\n",
       "</div>"
      ],
      "text/plain": [
       "             Survived  Pclass  Sex   Age     Fare  Title_Flag  NameLen  \\\n",
       "PassengerId                                                              \n",
       "1                 0.0       3    0  22.0   7.2500           1       23   \n",
       "2                 1.0       1    1  38.0  71.2833           6       51   \n",
       "3                 1.0       3    1  26.0   7.9250           5       22   \n",
       "4                 1.0       1    1  35.0  53.1000           6       44   \n",
       "5                 0.0       3    0  35.0   8.0500           1       24   \n",
       "\n",
       "             Cabin_Flag  \n",
       "PassengerId              \n",
       "1                     1  \n",
       "2                     4  \n",
       "3                     1  \n",
       "4                     4  \n",
       "5                     1  "
      ]
     },
     "execution_count": 105,
     "metadata": {},
     "output_type": "execute_result"
    }
   ],
   "source": [
    "# Drop Additional Vars\n",
    "# 'SibSp' , 'Parch'  'NameLen',  'Fare'\n",
    "df_final.drop(['SibSp' , 'Parch', 'Embarked', 'Familia'], axis=1, inplace=True)\n",
    "df_final.head()"
   ]
  },
  {
   "cell_type": "code",
   "execution_count": 106,
   "metadata": {},
   "outputs": [],
   "source": [
    "from sklearn.preprocessing import LabelEncoder,StandardScaler,MinMaxScaler\n",
    "\n",
    "# SCALING THE ENTIRE DATA LATER:: HENCE Commenting out the below code.\n",
    "\n",
    "# df_final['Pclass']=StandardScaler().fit_transform(np.array(df_final['Pclass']).reshape(-1,1))\n",
    "# df_final['Age']=StandardScaler().fit_transform(np.array(df_final['Age']).reshape(-1,1))\n",
    "# df_final['Title_Flag']=StandardScaler().fit_transform(np.array(df_final['Title_Flag']).reshape(-1,1))\n",
    "# df_final['Cabin_Flag']=StandardScaler().fit_transform(np.array(df_final['Cabin_Flag']).reshape(-1,1))\n",
    "\n",
    "\n",
    "# df_final['Fare']=StandardScaler().fit_transform(np.array(df_final['Fare']).reshape(-1,1))\n",
    "# df_final['Familia']=StandardScaler().fit_transform(np.array(df_final['Familia']).reshape(-1,1))"
   ]
  },
  {
   "cell_type": "markdown",
   "metadata": {},
   "source": [
    "---"
   ]
  },
  {
   "cell_type": "markdown",
   "metadata": {
    "colab_type": "text",
    "id": "5YxppJuudm7o"
   },
   "source": [
    "### Breaking into Train/Test"
   ]
  },
  {
   "cell_type": "code",
   "execution_count": 107,
   "metadata": {
    "colab": {},
    "colab_type": "code",
    "id": "aQPlETV1dm7s"
   },
   "outputs": [],
   "source": [
    "df_train_final = df_final[df_final.Survived.notnull()]\n",
    "df_test_final = df_final[df_final.Survived.isnull()].drop(['Survived'], axis=1)"
   ]
  },
  {
   "cell_type": "code",
   "execution_count": 108,
   "metadata": {
    "colab": {},
    "colab_type": "code",
    "id": "R91FfpPNdm7u"
   },
   "outputs": [],
   "source": [
    "from sklearn.model_selection import train_test_split\n",
    "X_train, X_test, y_train, y_test = train_test_split (df_train_final.drop(['Survived'], axis=1),\n",
    "                                                     df_train_final['Survived'], \n",
    "                                                     test_size=0.2,random_state=42)"
   ]
  },
  {
   "cell_type": "code",
   "execution_count": 109,
   "metadata": {
    "colab": {},
    "colab_type": "code",
    "id": "DHrx35_Zdm7w",
    "outputId": "65721c6c-e6e2-4bd4-ec99-f4963d555c39"
   },
   "outputs": [
    {
     "name": "stdout",
     "output_type": "stream",
     "text": [
      "(704, 7)\n",
      "(704,)\n",
      "(177, 7)\n",
      "(177,)\n"
     ]
    }
   ],
   "source": [
    "print(X_train.shape)\n",
    "print(y_train.shape)\n",
    "\n",
    "print(X_test.shape)\n",
    "print(y_test.shape)"
   ]
  },
  {
   "cell_type": "code",
   "execution_count": 110,
   "metadata": {},
   "outputs": [],
   "source": [
    "#X_train = StandardScaler().fit_transform(X_train)  # Fit and Transfrom the Train Data\n",
    "#X_test = StandardScaler().transform(X_test)        # NOTICE THE USAGE OF ONLY TRANSFORM: this is so that we are using the same fit of the training data into the test data. otherwise the scaler will re-fit."
   ]
  },
  {
   "cell_type": "markdown",
   "metadata": {},
   "source": [
    "---"
   ]
  },
  {
   "cell_type": "markdown",
   "metadata": {
    "colab_type": "text",
    "id": "ZHB2LpBbdm7x"
   },
   "source": [
    "## 4. Model Building\n",
    "========================================================================================================================="
   ]
  },
  {
   "cell_type": "markdown",
   "metadata": {},
   "source": [
    "### Load the Required Libraries"
   ]
  },
  {
   "cell_type": "code",
   "execution_count": 111,
   "metadata": {
    "colab": {},
    "colab_type": "code",
    "id": "unF7NtWydm7x"
   },
   "outputs": [],
   "source": [
    "from sklearn.preprocessing import PolynomialFeatures\n",
    "from sklearn.metrics import accuracy_score\n",
    "\n",
    "from sklearn.metrics import accuracy_score, precision_score, recall_score, roc_curve, precision_recall_curve, auc, make_scorer, confusion_matrix, f1_score, fbeta_score\n",
    "from sklearn.model_selection import train_test_split, GridSearchCV, StratifiedKFold, cross_val_score\n"
   ]
  },
  {
   "cell_type": "markdown",
   "metadata": {},
   "source": [
    "---"
   ]
  },
  {
   "cell_type": "code",
   "execution_count": 112,
   "metadata": {},
   "outputs": [],
   "source": [
    "def modeler (instance):\n",
    "\n",
    "    model = instance             # Instantiate\n",
    "    model.fit(X_train, y_train)  # Fit model\n",
    "\n",
    "    # Check Metrics\n",
    "    print('Accuracy Score   :', round(accuracy_score(y_test, model.predict(X_test))*100 , 3)  )\n",
    "    print('Precision score: :', round(precision_score(y_test, model.predict(X_test))*100 , 3)  )\n",
    "    print('Recall score     :', round(recall_score(y_test, model.predict(X_test))*100 , 3)  )\n",
    "    print('\\033[1m' + 'F1 score         :', round(f1_score(y_test, model.predict(X_test))*100 , 3)   , '\\033[0m')\n",
    "    \n",
    "    return"
   ]
  },
  {
   "cell_type": "markdown",
   "metadata": {},
   "source": [
    "---"
   ]
  },
  {
   "cell_type": "markdown",
   "metadata": {},
   "source": [
    "### Fit Model and Predict"
   ]
  },
  {
   "cell_type": "markdown",
   "metadata": {},
   "source": [
    "#### Logistic Regression"
   ]
  },
  {
   "cell_type": "code",
   "execution_count": 138,
   "metadata": {},
   "outputs": [
    {
     "name": "stdout",
     "output_type": "stream",
     "text": [
      "Accuracy Score   : 83.051\n",
      "Precision score: : 80.0\n",
      "Recall score     : 82.051\n",
      "\u001b[1mF1 score         : 81.013 \u001b[0m\n"
     ]
    }
   ],
   "source": [
    "from sklearn.linear_model import LogisticRegression\n",
    "\n",
    "modeler (LogisticRegression(solver='lbfgs', max_iter=500))"
   ]
  },
  {
   "cell_type": "markdown",
   "metadata": {},
   "source": [
    "#### Decision Trees"
   ]
  },
  {
   "cell_type": "code",
   "execution_count": 114,
   "metadata": {},
   "outputs": [
    {
     "name": "stdout",
     "output_type": "stream",
     "text": [
      "Accuracy Score   : 71.751\n",
      "Precision score: : 67.073\n",
      "Recall score     : 70.513\n",
      "\u001b[1mF1 score         : 68.75 \u001b[0m\n"
     ]
    }
   ],
   "source": [
    "from sklearn.tree import DecisionTreeClassifier\n",
    "\n",
    "modeler (DecisionTreeClassifier())"
   ]
  },
  {
   "cell_type": "markdown",
   "metadata": {},
   "source": [
    "#### Support Vector Machine"
   ]
  },
  {
   "cell_type": "code",
   "execution_count": 140,
   "metadata": {},
   "outputs": [
    {
     "name": "stdout",
     "output_type": "stream",
     "text": [
      "Accuracy Score   : 65.537\n",
      "Precision score: : 81.481\n",
      "Recall score     : 28.205\n",
      "\u001b[1mF1 score         : 41.905 \u001b[0m\n"
     ]
    }
   ],
   "source": [
    "from sklearn.svm import SVC\n",
    "\n",
    "modeler (SVC(gamma='auto'))"
   ]
  },
  {
   "cell_type": "markdown",
   "metadata": {},
   "source": [
    "#### Naive Bayes"
   ]
  },
  {
   "cell_type": "code",
   "execution_count": 116,
   "metadata": {},
   "outputs": [
    {
     "name": "stdout",
     "output_type": "stream",
     "text": [
      "Accuracy Score   : 83.051\n",
      "Precision score: : 76.667\n",
      "Recall score     : 88.462\n",
      "\u001b[1mF1 score         : 82.143 \u001b[0m\n"
     ]
    }
   ],
   "source": [
    "from sklearn.naive_bayes import GaussianNB\n",
    "\n",
    "modeler (GaussianNB())"
   ]
  },
  {
   "cell_type": "markdown",
   "metadata": {},
   "source": [
    "#### Random Forest"
   ]
  },
  {
   "cell_type": "code",
   "execution_count": 117,
   "metadata": {},
   "outputs": [
    {
     "name": "stdout",
     "output_type": "stream",
     "text": [
      "Accuracy Score   : 84.181\n",
      "Precision score: : 85.714\n",
      "Recall score     : 76.923\n",
      "\u001b[1mF1 score         : 81.081 \u001b[0m\n"
     ]
    }
   ],
   "source": [
    "from sklearn.ensemble import RandomForestClassifier\n",
    "\n",
    "modeler (RandomForestClassifier(n_estimators=200))"
   ]
  },
  {
   "cell_type": "markdown",
   "metadata": {},
   "source": [
    "#### Adaptive Boosting"
   ]
  },
  {
   "cell_type": "code",
   "execution_count": 118,
   "metadata": {},
   "outputs": [
    {
     "name": "stdout",
     "output_type": "stream",
     "text": [
      "Accuracy Score   : 84.181\n",
      "Precision score: : 82.895\n",
      "Recall score     : 80.769\n",
      "\u001b[1mF1 score         : 81.818 \u001b[0m\n"
     ]
    }
   ],
   "source": [
    "from sklearn.ensemble import AdaBoostClassifier\n",
    "\n",
    "modeler (AdaBoostClassifier())"
   ]
  },
  {
   "cell_type": "markdown",
   "metadata": {},
   "source": [
    "#### Gradient Boosting"
   ]
  },
  {
   "cell_type": "code",
   "execution_count": 119,
   "metadata": {},
   "outputs": [
    {
     "name": "stdout",
     "output_type": "stream",
     "text": [
      "Accuracy Score   : 85.311\n",
      "Precision score: : 86.111\n",
      "Recall score     : 79.487\n",
      "\u001b[1mF1 score         : 82.667 \u001b[0m\n"
     ]
    }
   ],
   "source": [
    "from sklearn.ensemble import GradientBoostingClassifier\n",
    "\n",
    "modeler (GradientBoostingClassifier())"
   ]
  },
  {
   "cell_type": "markdown",
   "metadata": {},
   "source": [
    "#### Bagging"
   ]
  },
  {
   "cell_type": "code",
   "execution_count": 120,
   "metadata": {},
   "outputs": [
    {
     "name": "stdout",
     "output_type": "stream",
     "text": [
      "Accuracy Score   : 80.226\n",
      "Precision score: : 81.159\n",
      "Recall score     : 71.795\n",
      "\u001b[1mF1 score         : 76.19 \u001b[0m\n"
     ]
    }
   ],
   "source": [
    "from sklearn.ensemble import BaggingClassifier\n",
    "\n",
    "modeler (BaggingClassifier())"
   ]
  },
  {
   "cell_type": "markdown",
   "metadata": {},
   "source": [
    "#### Xtreme Gradient Boosting"
   ]
  },
  {
   "cell_type": "code",
   "execution_count": 121,
   "metadata": {
    "colab": {},
    "colab_type": "code",
    "id": "K_83ahasdm7z",
    "outputId": "6c82c074-58eb-4920-a003-e8195728792a"
   },
   "outputs": [
    {
     "name": "stdout",
     "output_type": "stream",
     "text": [
      "Accuracy Score   : 87.006\n",
      "Precision score: : 88.732\n",
      "Recall score     : 80.769\n",
      "\u001b[1mF1 score         : 84.564 \u001b[0m\n"
     ]
    }
   ],
   "source": [
    "from xgboost import XGBClassifier\n",
    "\n",
    "modeler (XGBClassifier())"
   ]
  },
  {
   "cell_type": "markdown",
   "metadata": {},
   "source": [
    "---"
   ]
  },
  {
   "cell_type": "markdown",
   "metadata": {},
   "source": [
    "#### Feature Importance"
   ]
  },
  {
   "cell_type": "code",
   "execution_count": 122,
   "metadata": {},
   "outputs": [
    {
     "name": "stderr",
     "output_type": "stream",
     "text": [
      "C:\\Anaconda3\\lib\\site-packages\\sklearn\\ensemble\\forest.py:245: FutureWarning: The default value of n_estimators will change from 10 in version 0.20 to 100 in 0.22.\n",
      "  \"10 in version 0.20 to 100 in 0.22.\", FutureWarning)\n"
     ]
    },
    {
     "data": {
      "text/html": [
       "<div>\n",
       "<style scoped>\n",
       "    .dataframe tbody tr th:only-of-type {\n",
       "        vertical-align: middle;\n",
       "    }\n",
       "\n",
       "    .dataframe tbody tr th {\n",
       "        vertical-align: top;\n",
       "    }\n",
       "\n",
       "    .dataframe thead th {\n",
       "        text-align: right;\n",
       "    }\n",
       "</style>\n",
       "<table border=\"1\" class=\"dataframe\">\n",
       "  <thead>\n",
       "    <tr style=\"text-align: right;\">\n",
       "      <th></th>\n",
       "      <th>variable</th>\n",
       "      <th>DTi</th>\n",
       "      <th>RFi</th>\n",
       "      <th>GBi</th>\n",
       "      <th>ABi</th>\n",
       "      <th>XGi</th>\n",
       "    </tr>\n",
       "  </thead>\n",
       "  <tbody>\n",
       "    <tr>\n",
       "      <td>4</td>\n",
       "      <td>Title_Flag</td>\n",
       "      <td>0.312735</td>\n",
       "      <td>0.179736</td>\n",
       "      <td>0.464795</td>\n",
       "      <td>0.08</td>\n",
       "      <td>0.540576</td>\n",
       "    </tr>\n",
       "    <tr>\n",
       "      <td>0</td>\n",
       "      <td>Pclass</td>\n",
       "      <td>0.102177</td>\n",
       "      <td>0.080299</td>\n",
       "      <td>0.148472</td>\n",
       "      <td>0.06</td>\n",
       "      <td>0.259300</td>\n",
       "    </tr>\n",
       "    <tr>\n",
       "      <td>3</td>\n",
       "      <td>Fare</td>\n",
       "      <td>0.210535</td>\n",
       "      <td>0.208902</td>\n",
       "      <td>0.176660</td>\n",
       "      <td>0.34</td>\n",
       "      <td>0.059633</td>\n",
       "    </tr>\n",
       "    <tr>\n",
       "      <td>6</td>\n",
       "      <td>Cabin_Flag</td>\n",
       "      <td>0.019426</td>\n",
       "      <td>0.041784</td>\n",
       "      <td>0.020264</td>\n",
       "      <td>0.06</td>\n",
       "      <td>0.044191</td>\n",
       "    </tr>\n",
       "    <tr>\n",
       "      <td>2</td>\n",
       "      <td>Age</td>\n",
       "      <td>0.204317</td>\n",
       "      <td>0.200900</td>\n",
       "      <td>0.111461</td>\n",
       "      <td>0.34</td>\n",
       "      <td>0.038459</td>\n",
       "    </tr>\n",
       "    <tr>\n",
       "      <td>5</td>\n",
       "      <td>NameLen</td>\n",
       "      <td>0.141316</td>\n",
       "      <td>0.176285</td>\n",
       "      <td>0.072643</td>\n",
       "      <td>0.12</td>\n",
       "      <td>0.036411</td>\n",
       "    </tr>\n",
       "    <tr>\n",
       "      <td>1</td>\n",
       "      <td>Sex</td>\n",
       "      <td>0.009493</td>\n",
       "      <td>0.112094</td>\n",
       "      <td>0.005705</td>\n",
       "      <td>0.00</td>\n",
       "      <td>0.021429</td>\n",
       "    </tr>\n",
       "  </tbody>\n",
       "</table>\n",
       "</div>"
      ],
      "text/plain": [
       "     variable       DTi       RFi       GBi   ABi       XGi\n",
       "4  Title_Flag  0.312735  0.179736  0.464795  0.08  0.540576\n",
       "0      Pclass  0.102177  0.080299  0.148472  0.06  0.259300\n",
       "3        Fare  0.210535  0.208902  0.176660  0.34  0.059633\n",
       "6  Cabin_Flag  0.019426  0.041784  0.020264  0.06  0.044191\n",
       "2         Age  0.204317  0.200900  0.111461  0.34  0.038459\n",
       "5     NameLen  0.141316  0.176285  0.072643  0.12  0.036411\n",
       "1         Sex  0.009493  0.112094  0.005705  0.00  0.021429"
      ]
     },
     "execution_count": 122,
     "metadata": {},
     "output_type": "execute_result"
    }
   ],
   "source": [
    "importance_df = pd.concat(\n",
    "    (   pd.DataFrame(df_train_final.drop(['Survived'], axis=1).columns, columns = ['variable']), \n",
    "        pd.DataFrame(DecisionTreeClassifier().fit(X_train , y_train).feature_importances_, columns = ['DTi']),\n",
    "        pd.DataFrame(RandomForestClassifier().fit(X_train , y_train).feature_importances_, columns = ['RFi']),\n",
    "        pd.DataFrame(GradientBoostingClassifier().fit(X_train , y_train).feature_importances_, columns = ['GBi']), \n",
    "        pd.DataFrame(AdaBoostClassifier().fit(X_train , y_train).feature_importances_, columns = ['ABi']),\n",
    "        pd.DataFrame(XGBClassifier().fit(X_train , y_train).feature_importances_, columns = ['XGi'])\n",
    "                )\n",
    "                , axis = 1).sort_values(by='XGi', ascending = False)\n",
    "importance_df"
   ]
  },
  {
   "cell_type": "code",
   "execution_count": 123,
   "metadata": {},
   "outputs": [
    {
     "data": {
      "image/png": "[encoded data removed]",
      "text/plain": [
       "<Figure size 432x288 with 1 Axes>"
      ]
     },
     "metadata": {
      "needs_background": "light"
     },
     "output_type": "display_data"
    }
   ],
   "source": [
    "importance_df.plot('variable', kind='bar');"
   ]
  },
  {
   "cell_type": "code",
   "execution_count": 124,
   "metadata": {},
   "outputs": [
    {
     "name": "stderr",
     "output_type": "stream",
     "text": [
      "C:\\Anaconda3\\lib\\site-packages\\seaborn\\categorical.py:3666: UserWarning: The `factorplot` function has been renamed to `catplot`. The original name will be removed in a future release. Please update your code. Note that the default `kind` in `factorplot` (`'point'`) has changed `'strip'` in `catplot`.\n",
      "  warnings.warn(msg)\n"
     ]
    },
    {
     "data": {
      "image/png": "[encoded data removed]",
      "text/plain": [
       "<Figure size 360x360 with 1 Axes>"
      ]
     },
     "metadata": {
      "needs_background": "light"
     },
     "output_type": "display_data"
    }
   ],
   "source": [
    "sns.factorplot(col='variable', data = importance_df[importance_df.variable=='Sex'], kind='bar');"
   ]
  },
  {
   "cell_type": "code",
   "execution_count": 125,
   "metadata": {
    "scrolled": true
   },
   "outputs": [
    {
     "data": {
      "image/png": "[encoded data removed]",
      "text/plain": [
       "<Figure size 432x288 with 1 Axes>"
      ]
     },
     "metadata": {
      "needs_background": "light"
     },
     "output_type": "display_data"
    }
   ],
   "source": [
    "# Individual Importances\n",
    "sns.barplot(x='XGi', y='variable', data=importance_df);"
   ]
  },
  {
   "cell_type": "markdown",
   "metadata": {},
   "source": [
    "---"
   ]
  },
  {
   "cell_type": "markdown",
   "metadata": {},
   "source": [
    "### Final Model Selection and Hyperparameter Tuning using Grid Search"
   ]
  },
  {
   "cell_type": "code",
   "execution_count": 126,
   "metadata": {},
   "outputs": [],
   "source": [
    "# Define the Best Classifier Chosen from the above options\n",
    "\n",
    "clf = XGBClassifier()"
   ]
  },
  {
   "cell_type": "code",
   "execution_count": 129,
   "metadata": {
    "scrolled": false
   },
   "outputs": [
    {
     "name": "stderr",
     "output_type": "stream",
     "text": [
      "C:\\Anaconda3\\lib\\site-packages\\sklearn\\model_selection\\_split.py:1978: FutureWarning: The default value of cv will change from 3 to 5 in version 0.22. Specify it explicitly to silence this warning.\n",
      "  warnings.warn(CV_WARNING, FutureWarning)\n"
     ]
    },
    {
     "name": "stdout",
     "output_type": "stream",
     "text": [
      "Unoptimized model\n",
      "------\n",
      "Accuracy score on testing data: 0.8701\n",
      "F-score on testing data: 0.8702\n",
      "\n",
      "Optimized Model\n",
      "------\n",
      "Final accuracy score on the testing data: 0.8701\n",
      "Final F-score on the testing data: 0.8702\n"
     ]
    }
   ],
   "source": [
    "# Define the parameters for Grid Search\n",
    "parameters = {\n",
    "        'n_estimators'     : [5,8,10,12,50],\n",
    "#        'max_depth'        : [3,5,7,9],\n",
    "#        'min_child_weight' : [1, 5, 10],\n",
    "#       'gamma'            : [i/10.0 for i in range(0,5)],\n",
    "#       'subsample'        : [i/10.0 for i in range(6,10)],\n",
    "#       'colsample_bytree' : [i/10.0 for i in range(6,10)],\n",
    "        'reg_alpha'        : [0, 0.001, 0.005, 0.01, 0.05, 0.1, 1],\n",
    "        }\n",
    "\n",
    "\n",
    "# Make an fbeta_score scoring object using make_scorer()\n",
    "scorer = make_scorer(fbeta_score,beta=0.5)\n",
    "\n",
    "# Perform grid search on the classifier using 'scorer' as the scoring method using GridSearchCV()\n",
    "grid_obj = GridSearchCV(clf, parameters, scorer)\n",
    "\n",
    "# Fit the grid search object to the training data and find the optimal parameters using fit()\n",
    "grid_fit = grid_obj.fit(X_train, y_train)\n",
    "\n",
    "# Get the estimator\n",
    "best_clf = grid_fit.best_estimator_\n",
    "\n",
    "# Make predictions using the unoptimized and model\n",
    "predictions = (clf.fit(X_train, y_train)).predict(X_test)\n",
    "best_predictions = best_clf.predict(X_test)\n",
    "\n",
    "# Report the before-and-afterscores\n",
    "print(\"Unoptimized model\\n------\")\n",
    "print(\"Accuracy score on testing data: {:.4f}\".format(accuracy_score(y_test, predictions)))\n",
    "print(\"F-score on testing data: {:.4f}\".format(fbeta_score(y_test, predictions, beta = 0.5)))\n",
    "print(\"\\nOptimized Model\\n------\")\n",
    "print(\"Final accuracy score on the testing data: {:.4f}\".format(accuracy_score(y_test, best_predictions)))\n",
    "print(\"Final F-score on the testing data: {:.4f}\".format(fbeta_score(y_test, best_predictions, beta = 0.5)))"
   ]
  },
  {
   "cell_type": "code",
   "execution_count": 130,
   "metadata": {},
   "outputs": [
    {
     "name": "stdout",
     "output_type": "stream",
     "text": [
      "Best CLF = XGBClassifier(base_score=0.5, booster='gbtree', colsample_bylevel=1,\n",
      "              colsample_bynode=1, colsample_bytree=1, gamma=0,\n",
      "              learning_rate=0.1, max_delta_step=0, max_depth=3,\n",
      "              min_child_weight=1, missing=None, n_estimators=50, n_jobs=1,\n",
      "              nthread=None, objective='binary:logistic', random_state=0,\n",
      "              reg_alpha=0.001, reg_lambda=1, scale_pos_weight=1, seed=None,\n",
      "              silent=None, subsample=1, verbosity=1)\n",
      "CLF = XGBClassifier(base_score=0.5, booster='gbtree', colsample_bylevel=1,\n",
      "              colsample_bynode=1, colsample_bytree=1, gamma=0,\n",
      "              learning_rate=0.1, max_delta_step=0, max_depth=3,\n",
      "              min_child_weight=1, missing=None, n_estimators=100, n_jobs=1,\n",
      "              nthread=None, objective='binary:logistic', random_state=0,\n",
      "              reg_alpha=0, reg_lambda=1, scale_pos_weight=1, seed=None,\n",
      "              silent=None, subsample=1, verbosity=1)\n"
     ]
    }
   ],
   "source": [
    "print(\"Best CLF =\", best_clf)\n",
    "print(\"CLF =\", clf)"
   ]
  },
  {
   "cell_type": "markdown",
   "metadata": {},
   "source": [
    "---"
   ]
  },
  {
   "cell_type": "markdown",
   "metadata": {},
   "source": [
    "### Export the final output"
   ]
  },
  {
   "cell_type": "code",
   "execution_count": 131,
   "metadata": {
    "colab": {},
    "colab_type": "code",
    "id": "Ht7Fpq7Hdm71",
    "outputId": "4756a2c4-4b76-449f-aa78-84634f464936"
   },
   "outputs": [],
   "source": [
    "# Predict on the Final Test Dataset (not the Train/Test split data)\n",
    "\n",
    "# best_clf = GaussianNB().fit(X_train, y_train)  # USE WHEN TEMPORARILY PREDICTING DIRECTLY USING A CLASSIFIER WITHOUT GRID SEARCH\n",
    "\n",
    "if 'Survived' in df_test_final:\n",
    "    del df_test_final['Survived']\n",
    "    df_test_final['Survived'] = best_clf.predict(df_test_final).astype(int)\n",
    "else:\n",
    "    df_test_final['Survived'] = best_clf.predict(df_test_final).astype(int)"
   ]
  },
  {
   "cell_type": "code",
   "execution_count": 132,
   "metadata": {},
   "outputs": [],
   "source": [
    "# Send to File\n",
    "df_test_final[['Survived']].to_csv('Jupyter.csv')"
   ]
  },
  {
   "cell_type": "markdown",
   "metadata": {
    "colab": {},
    "colab_type": "code",
    "id": "5LU6bCkFdm74"
   },
   "source": [
    "## Results and Final Thoughts\n",
    "\n",
    "Using the XGBoost algorithm yields better results, however, there are theories that simple models yield good results as well. This all depends on the features(variables) selected and tuning the hyperparameters.\n",
    "I have had better models with Deciscion Tree and Logistic Regression as well in initial cases. Feel free to use your own algorithm and explore. Thats the key in building better models: Exploration !\n",
    "Happy Coding :)"
   ]
  }
 ],
 "metadata": {
  "colab": {
   "collapsed_sections": [],
   "name": "Pytanic.ipynb",
   "provenance": []
  },
  "kernelspec": {
   "display_name": "Python 3",
   "language": "python",
   "name": "python3"
  },
  "language_info": {
   "codemirror_mode": {
    "name": "ipython",
    "version": 3
   },
   "file_extension": ".py",
   "mimetype": "text/x-python",
   "name": "python",
   "nbconvert_exporter": "python",
   "pygments_lexer": "ipython3",
   "version": "3.7.4"
  }
 },
 "nbformat": 4,
 "nbformat_minor": 1
}
